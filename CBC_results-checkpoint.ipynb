{
 "cells": [
  {
   "cell_type": "code",
   "execution_count": 227,
   "metadata": {},
   "outputs": [
    {
     "data": {
      "text/html": [
       "<script type=\"text/javascript\">window.PlotlyConfig = {MathJaxConfig: 'local'};</script><script type=\"text/javascript\">if (window.MathJax) {MathJax.Hub.Config({SVG: {font: \"STIX-Web\"}});}</script><script>requirejs.config({paths: { 'plotly': ['https://cdn.plot.ly/plotly-latest.min']},});if(!window._Plotly) {require(['plotly'],function(plotly) {window._Plotly=plotly;});}</script>"
      ],
      "text/vnd.plotly.v1+html": [
       "<script type=\"text/javascript\">window.PlotlyConfig = {MathJaxConfig: 'local'};</script><script type=\"text/javascript\">if (window.MathJax) {MathJax.Hub.Config({SVG: {font: \"STIX-Web\"}});}</script><script>requirejs.config({paths: { 'plotly': ['https://cdn.plot.ly/plotly-latest.min']},});if(!window._Plotly) {require(['plotly'],function(plotly) {window._Plotly=plotly;});}</script>"
      ]
     },
     "metadata": {},
     "output_type": "display_data"
    }
   ],
   "source": [
    "import pandas as pd\n",
    "#import numpy as np\n",
    "\n",
    "#importing plotly and cufflinks in offline mode\n",
    "import plotly.plotly as py\n",
    "#import plotly.graph_objs as go\n",
    "#import cufflinks\n",
    "import plotly.offline as pyo\n",
    "#from plotly.offline import plot, iplot, init_notebook_mode\n",
    "pyo.init_notebook_mode(connected=True)\n",
    "#cufflinks.go_offline(connected=True)\n",
    "#cufflinks.set_config_file(world_readable=True, theme='white')"
   ]
  },
  {
   "cell_type": "code",
   "execution_count": 228,
   "metadata": {},
   "outputs": [],
   "source": [
    "#Read CBC output file\n",
    "df = pd.read_csv(r'C:\\Users\\abhis\\Downloads\\vietnam_clews_19-03_v1\\res\\cbcoutput.txt', sep='\\t')"
   ]
  },
  {
   "cell_type": "code",
   "execution_count": 229,
   "metadata": {},
   "outputs": [],
   "source": [
    "df.columns = ['temp']\n",
    "df[['temp','value']] = df['temp'].str.split(')', expand=True)\n",
    "df = df.applymap(lambda x: x.strip() if isinstance(x,str) else x)\n",
    "df[['temp','parameter']] = df['temp'].str.split(' ', expand=True)\n",
    "df[['parameter','id']] = df['parameter'].str.split('(', expand=True)\n",
    "df['value'] = df['value'].str.replace(' 0','')\n",
    "df = df.drop('temp', axis=1)\n",
    "df = df[~df['value'].str.contains('e-')]"
   ]
  },
  {
   "cell_type": "code",
   "execution_count": 230,
   "metadata": {},
   "outputs": [],
   "source": [
    "params = df.parameter.unique()\n",
    "all_params = {}\n",
    "cols = {'NewCapacity':['r','t','y'],\n",
    "            'AccumulatedNewCapacity':['r','t','y'], \n",
    "            'TotalCapacityAnnual':['r','t','y'],\n",
    "            'CapitalInvestment':['r','t','y'],\n",
    "            'AnnualVariableOperatingCost':['r','t','y'],\n",
    "            'AnnualFixedOperatingCost':['r','t','y'],\n",
    "            'SalvageValue':['r','t','y'],\n",
    "            'DiscountedSalvageValue':['r','t','y'],\n",
    "            'TotalTechnologyAnnualActivity':['r','t','y'],\n",
    "            'RateOfActivity':['r','l','t','m','y'],\n",
    "            'RateOfTotalActivity':['r','t','l','y'],\n",
    "            'Demand':['r','l','f','y'],\n",
    "            'TotalAnnualTechnologyActivityByMode':['r','t','m','y'],\n",
    "            'TotalTechnologyModelPeriodActivity':['r','t'],\n",
    "            'ProductionByTechnologyAnnual':['r','t','f','y'],\n",
    "            'AnnualTechnologyEmissionByMode':['r','t','e','m','y'],\n",
    "            'AnnualTechnologyEmission':['r','t','e','y'],\n",
    "            'AnnualEmissions':['r','e','y']}\n",
    "\n",
    "for each in params:\n",
    "    df_p = df[df.parameter == each]\n",
    "    df_p[cols[each]] = df_p['id'].str.split(',',expand=True)\n",
    "    cols[each].append('value')\n",
    "    df_p = df_p[cols[each]] # Reorder dataframe to include 'value' as last column\n",
    "    all_params[each] = pd.DataFrame(df_p) # Create a dataframe for each parameter\n",
    "    df_p = df_p.rename(columns={'value':each})\n",
    "    df_p.to_csv(str(each) + '.csv', index=None) # Print data for each paramter to a CSV file"
   ]
  },
  {
   "cell_type": "code",
   "execution_count": 231,
   "metadata": {},
   "outputs": [],
   "source": [
    "# List of columns for detailed energy tables and figures\n",
    "years = pd.Series(range(2015,2041))\n",
    "\n",
    "det_col = {'BIO':'Biomass',\n",
    "           'COA':'Coal',\n",
    "           'CRU':'Crude oil',\n",
    "           'DSL':'Diesel',\n",
    "           'ELC':'Electricity',\n",
    "           'GEO':'Geothermal',\n",
    "           'GSL':'Gasoline',\n",
    "           'HFO':'HFO',\n",
    "           'HYD':'Hydro',\n",
    "           'JFL':'Jet fuel',\n",
    "           'LNG':'LNG',\n",
    "           'LPG':'LPG',\n",
    "           'PCK':'Petroleum coke',\n",
    "           'NGS':'Natural gas',\n",
    "           'OHC':'Other hydrocarbons',\n",
    "           'PET':'Petroleum products',\n",
    "           'SOL':'Solar',\n",
    "           'URN':'Nuclear',\n",
    "           'WAS':'MSW',\n",
    "           'WAT':'Water',\n",
    "           'LND':'Land',\n",
    "           'WND':'Wind',\n",
    "           'CP1':'Coffee',\n",
    "           'CP2':'Cotton',\n",
    "           'CP3':'Peanuts',\n",
    "           'CP4':'Maize',\n",
    "           'CP5':'Rice',\n",
    "           'CP6':'Soybean',\n",
    "           'CP7':'Sugarcane',\n",
    "           'CP8':'Tea',\n",
    "           'AGR':'Agriculture',\n",
    "           'BAR':'Barren land',\n",
    "           'FOR': 'Forests',\n",
    "           'GRS': 'Grassland & woodland',\n",
    "           'SET':'Built-up land',\n",
    "           'OTH':'Other agricultural land'}\n",
    "\n",
    "# List of columns for aggregated energy tables and figures\n",
    "agg_col = {'Coal':['Coal'],\n",
    "           'Oil': ['Diesel','HFO','JFL','Crude oil','Petroleum coke'],\n",
    "           'Gas': ['Natural gas','LNG','LPG'],\n",
    "           'Hydro': ['Hydro'],\n",
    "           'Nuclear': ['Nuclear'],\n",
    "           'Other renewables': ['Biomass','Geothermal','Solar','MSW','Wind']}\n",
    "\n",
    "color_dict = {'Biomass':'forestgreen',\n",
    "              'Coal':'black',\n",
    "              'Crude oil':'red',\n",
    "              'Diesel':'firebrick',\n",
    "              'Electricity':'grey',\n",
    "              'Geothermal':'purple',\n",
    "              'Gasoline':'orange',\n",
    "              'HFO':'brown',\n",
    "              'Hydro':'blue',\n",
    "              'Jet fuel':'firebrick',\n",
    "              'LNG':'purple',\n",
    "              'LPG':'gold',\n",
    "              'Natural gas':'orange',\n",
    "              'Other hydrocarbons':'grey',\n",
    "              'Petroleum products':'red',\n",
    "              'Petroleum coke':'red',\n",
    "              'Solar':'gold',\n",
    "              'Nuclear':'grey',\n",
    "              'MSW':'green',\n",
    "              'Wind':'violet',\n",
    "              'Oil':'firebrick',\n",
    "              'Gas':'orange',\n",
    "              'Other renewables':'green',\n",
    "              'Coffee':'brown',\n",
    "              'Cotton':'grey',\n",
    "              'Peanuts':'orange',\n",
    "              'Maize':'gold',\n",
    "              'Rice':'green',\n",
    "              'Soybean':'firebrick',\n",
    "              'Sugarcane':'purple',\n",
    "              'Tea':'pink',\n",
    "              'Agriculture':'brown',\n",
    "              'Barren land':'grey',\n",
    "              'Forests':'forestgreen',\n",
    "              'Grassland & woodland':'darkgreen',\n",
    "              'Built-up land':'black',\n",
    "              'Other agricultural land':'gold',\n",
    "              'Water':'blue'}"
   ]
  },
  {
   "cell_type": "code",
   "execution_count": 232,
   "metadata": {},
   "outputs": [],
   "source": [
    "def df_filter(df,lb,ub,t_exclude):\n",
    "    df['t'] = df['t'].str[lb:ub]\n",
    "    df['value'] = df['value'].astype('float64')\n",
    "    df = df[~df['t'].isin(t_exclude)].pivot_table(index='y', \n",
    "                                          columns='t',\n",
    "                                          values='value', \n",
    "                                          aggfunc='sum').reset_index().fillna(0)\n",
    "    df = df.reindex(sorted(df.columns), axis=1).set_index('y').reset_index().rename(columns=det_col)\n",
    "    df['y'] = years\n",
    "    return df\n",
    "\n",
    "def df_plot(df,y_title,p_title):\n",
    "    return df.iplot(x='y',\n",
    "             kind='bar', \n",
    "             barmode='stack',\n",
    "             xTitle='Year',\n",
    "             yTitle=y_title,\n",
    "             color=[color_dict[x] for x in df.columns if x != 'y'],\n",
    "             title=p_title)"
   ]
  },
  {
   "cell_type": "code",
   "execution_count": 233,
   "metadata": {},
   "outputs": [
    {
     "data": {
      "application/vnd.plotly.v1+json": {
       "config": {
        "linkText": "Export to plot.ly",
        "plotlyServerURL": "https://plot.ly",
        "showLink": true
       },
       "data": [
        {
         "marker": {
          "color": "rgba(34, 139, 34, 0.6)",
          "line": {
           "color": "rgba(34, 139, 34, 1.0)",
           "width": 1
          }
         },
         "name": "Biomass",
         "orientation": "v",
         "text": "",
         "type": "bar",
         "uid": "247c3d05-fad4-4718-b686-1b3891e5096e",
         "x": [
          2015,
          2016,
          2017,
          2018,
          2019,
          2020,
          2021,
          2022,
          2023,
          2024,
          2025,
          2026,
          2027,
          2028,
          2029,
          2030,
          2031,
          2032,
          2033,
          2034,
          2035,
          2036,
          2037,
          2038,
          2039,
          2040
         ],
         "y": [
          0.024,
          0.054,
          0.10900000000000001,
          0.194,
          0.194,
          0.194,
          0.194,
          0.194,
          0.194,
          0.194,
          0.194,
          0.194,
          0.194,
          0.17,
          0.17,
          0.17,
          0.17,
          0.17,
          0.17,
          0.17,
          0.17,
          0.17,
          0.17,
          0.17,
          0.17,
          0.17
         ]
        },
        {
         "marker": {
          "color": "rgba(0, 0, 0, 0.6)",
          "line": {
           "color": "rgba(0, 0, 0, 1.0)",
           "width": 1
          }
         },
         "name": "Coal",
         "orientation": "v",
         "text": "",
         "type": "bar",
         "uid": "c0143d90-ea09-4d90-a9f3-5b4ac8544e55",
         "x": [
          2015,
          2016,
          2017,
          2018,
          2019,
          2020,
          2021,
          2022,
          2023,
          2024,
          2025,
          2026,
          2027,
          2028,
          2029,
          2030,
          2031,
          2032,
          2033,
          2034,
          2035,
          2036,
          2037,
          2038,
          2039,
          2040
         ],
         "y": [
          15.915129,
          17.025128999999996,
          18.460129,
          21.310128999999996,
          26.120129,
          28.210129,
          34.670128999999996,
          42.65012899999999,
          46.630129,
          46.630129,
          46.630129,
          46.630129,
          46.630129,
          46.630129,
          46.630129,
          46.630129,
          46.630129,
          46.030128999999995,
          46.030128999999995,
          46.030128999999995,
          46.030128999999995,
          45.920128999999996,
          45.805128999999994,
          45.805128999999994,
          45.805128999999994,
          46.676286999999995
         ]
        },
        {
         "marker": {
          "color": "rgba(178, 34, 34, 0.6)",
          "line": {
           "color": "rgba(178, 34, 34, 1.0)",
           "width": 1
          }
         },
         "name": "Diesel",
         "orientation": "v",
         "text": "",
         "type": "bar",
         "uid": "0b985d9a-1840-4efd-9b86-7de886d8af06",
         "x": [
          2015,
          2016,
          2017,
          2018,
          2019,
          2020,
          2021,
          2022,
          2023,
          2024,
          2025,
          2026,
          2027,
          2028,
          2029,
          2030,
          2031,
          2032,
          2033,
          2034,
          2035,
          2036,
          2037,
          2038,
          2039,
          2040
         ],
         "y": [
          0.66,
          0.66,
          0.66,
          0.66,
          0.66,
          0.66,
          0.66,
          0.66,
          0.66,
          0.66,
          0.66,
          0.66,
          0.66,
          0.66,
          0.66,
          0.66,
          0.66,
          0.66,
          0.66,
          0.66,
          0.66,
          0.66,
          0.66,
          0.66,
          0.66,
          0
         ]
        },
        {
         "marker": {
          "color": "rgba(165, 42, 42, 0.6)",
          "line": {
           "color": "rgba(165, 42, 42, 1.0)",
           "width": 1
          }
         },
         "name": "HFO",
         "orientation": "v",
         "text": "",
         "type": "bar",
         "uid": "427f67c4-1e22-48a2-9c12-229330eedfe8",
         "x": [
          2015,
          2016,
          2017,
          2018,
          2019,
          2020,
          2021,
          2022,
          2023,
          2024,
          2025,
          2026,
          2027,
          2028,
          2029,
          2030,
          2031,
          2032,
          2033,
          2034,
          2035,
          2036,
          2037,
          2038,
          2039,
          2040
         ],
         "y": [
          0.517,
          0.517,
          0.517,
          0.517,
          0.517,
          0.33,
          0.33,
          0.33,
          0.33,
          0.33,
          0.33,
          0.33,
          0.33,
          0.33,
          0.33,
          0.33,
          0.33,
          0.33,
          0.33,
          0.33,
          0.33,
          0.33,
          0.33,
          0.33,
          0.33,
          0
         ]
        },
        {
         "marker": {
          "color": "rgba(55, 128, 191, 0.6)",
          "line": {
           "color": "rgba(55, 128, 191, 1.0)",
           "width": 1
          }
         },
         "name": "Hydro",
         "orientation": "v",
         "text": "",
         "type": "bar",
         "uid": "d0763d72-d56e-4926-89e1-7784f14daed0",
         "x": [
          2015,
          2016,
          2017,
          2018,
          2019,
          2020,
          2021,
          2022,
          2023,
          2024,
          2025,
          2026,
          2027,
          2028,
          2029,
          2030,
          2031,
          2032,
          2033,
          2034,
          2035,
          2036,
          2037,
          2038,
          2039,
          2040
         ],
         "y": [
          17.087500000000002,
          19.2555,
          19.6815,
          20.177500000000002,
          20.6485,
          21.1925,
          21.6825,
          22.0425,
          22.7475,
          22.7475,
          22.7475,
          22.6275,
          22.6275,
          22.6275,
          22.6275,
          22.6275,
          22.6275,
          22.6275,
          22.6275,
          22.6275,
          22.6275,
          22.6275,
          22.6275,
          22.6275,
          22.6275,
          22.6275
         ]
        },
        {
         "marker": {
          "color": "rgba(255, 153, 51, 0.6)",
          "line": {
           "color": "rgba(255, 153, 51, 1.0)",
           "width": 1
          }
         },
         "name": "Natural gas",
         "orientation": "v",
         "text": "",
         "type": "bar",
         "uid": "6d3dec9b-15f7-41ec-9291-fc4d62cae4f1",
         "x": [
          2015,
          2016,
          2017,
          2018,
          2019,
          2020,
          2021,
          2022,
          2023,
          2024,
          2025,
          2026,
          2027,
          2028,
          2029,
          2030,
          2031,
          2032,
          2033,
          2034,
          2035,
          2036,
          2037,
          2038,
          2039,
          2040
         ],
         "y": [
          11.078000000000001,
          11.278,
          11.278,
          11.278,
          11.278,
          12.228,
          13.728,
          14.478,
          15.55,
          15.55,
          15.55,
          15.55,
          15.55,
          14.601,
          14.226,
          14.226,
          14.226,
          13.065,
          13.065,
          12.325,
          11.585,
          11.117,
          11.117,
          11.117,
          9.11,
          7.109999999999999
         ]
        },
        {
         "marker": {
          "color": "rgba(255, 215, 0, 0.6)",
          "line": {
           "color": "rgba(255, 215, 0, 1.0)",
           "width": 1
          }
         },
         "name": "Solar",
         "orientation": "v",
         "text": "",
         "type": "bar",
         "uid": "3a5c9510-c6ff-44ac-a6ae-ffdb5988bfa5",
         "x": [
          2015,
          2016,
          2017,
          2018,
          2019,
          2020,
          2021,
          2022,
          2023,
          2024,
          2025,
          2026,
          2027,
          2028,
          2029,
          2030,
          2031,
          2032,
          2033,
          2034,
          2035,
          2036,
          2037,
          2038,
          2039,
          2040
         ],
         "y": [
          0,
          0,
          0,
          0,
          0.3,
          0.7,
          1,
          1,
          1,
          1,
          1,
          1,
          1,
          1,
          1,
          1,
          1,
          1,
          1,
          1,
          1,
          1,
          1,
          1,
          0.7,
          0.3
         ]
        },
        {
         "marker": {
          "color": "rgba(238, 130, 238, 0.6)",
          "line": {
           "color": "rgba(238, 130, 238, 1.0)",
           "width": 1
          }
         },
         "name": "Wind",
         "orientation": "v",
         "text": "",
         "type": "bar",
         "uid": "64c51a53-0ac3-4a23-9c7a-d58579832f40",
         "x": [
          2015,
          2016,
          2017,
          2018,
          2019,
          2020,
          2021,
          2022,
          2023,
          2024,
          2025,
          2026,
          2027,
          2028,
          2029,
          2030,
          2031,
          2032,
          2033,
          2034,
          2035,
          2036,
          2037,
          2038,
          2039,
          2040
         ],
         "y": [
          0.09,
          0.09,
          0.09,
          0.45699999999999996,
          0.646,
          0.7629999999999999,
          0.7629999999999999,
          0.7629999999999999,
          0.7629999999999999,
          0.7629999999999999,
          0.7629999999999999,
          0.7629999999999999,
          0.7629999999999999,
          0.7629999999999999,
          0.7629999999999999,
          0.7629999999999999,
          0.7629999999999999,
          0.7629999999999999,
          0.7629999999999999,
          0.7629999999999999,
          0.7629999999999999,
          0.7629999999999999,
          0.7629999999999999,
          0.306,
          0.117,
          0
         ]
        }
       ],
       "layout": {
        "barmode": "stack",
        "legend": {
         "bgcolor": "#FFFFFF",
         "font": {
          "color": "#4D5663"
         },
         "traceorder": "normal"
        },
        "paper_bgcolor": "#FFFFFF",
        "plot_bgcolor": "#FFFFFF",
        "title": {
         "font": {
          "color": "#4D5663"
         },
         "text": "Power Generation Capacity (Detail)"
        },
        "xaxis": {
         "gridcolor": "#E1E5ED",
         "showgrid": true,
         "tickfont": {
          "color": "#4D5663"
         },
         "title": {
          "font": {
           "color": "#4D5663"
          },
          "text": "Year"
         },
         "zerolinecolor": "#E1E5ED"
        },
        "yaxis": {
         "gridcolor": "#E1E5ED",
         "showgrid": true,
         "tickfont": {
          "color": "#4D5663"
         },
         "title": {
          "font": {
           "color": "#4D5663"
          },
          "text": "Gigawatts (GW)"
         },
         "zerolinecolor": "#E1E5ED"
        }
       }
      },
      "text/html": [
       "<div id=\"6f1cdd10-e466-4f9c-b911-879777b3caf3\" style=\"height: 525px; width: 100%;\" class=\"plotly-graph-div\"></div><script type=\"text/javascript\">require([\"plotly\"], function(Plotly) { window.PLOTLYENV=window.PLOTLYENV || {};window.PLOTLYENV.BASE_URL=\"https://plot.ly\";\n",
       "if (document.getElementById(\"6f1cdd10-e466-4f9c-b911-879777b3caf3\")) {\n",
       "    Plotly.newPlot(\"6f1cdd10-e466-4f9c-b911-879777b3caf3\", [{\"marker\": {\"color\": \"rgba(34, 139, 34, 0.6)\", \"line\": {\"color\": \"rgba(34, 139, 34, 1.0)\", \"width\": 1}}, \"name\": \"Biomass\", \"orientation\": \"v\", \"text\": \"\", \"x\": [2015, 2016, 2017, 2018, 2019, 2020, 2021, 2022, 2023, 2024, 2025, 2026, 2027, 2028, 2029, 2030, 2031, 2032, 2033, 2034, 2035, 2036, 2037, 2038, 2039, 2040], \"y\": [0.024, 0.054, 0.10900000000000001, 0.194, 0.194, 0.194, 0.194, 0.194, 0.194, 0.194, 0.194, 0.194, 0.194, 0.17, 0.17, 0.17, 0.17, 0.17, 0.17, 0.17, 0.17, 0.17, 0.17, 0.17, 0.17, 0.17], \"type\": \"bar\", \"uid\": \"457a4dda-7386-4093-8a3c-82633dee9a49\"}, {\"marker\": {\"color\": \"rgba(0, 0, 0, 0.6)\", \"line\": {\"color\": \"rgba(0, 0, 0, 1.0)\", \"width\": 1}}, \"name\": \"Coal\", \"orientation\": \"v\", \"text\": \"\", \"x\": [2015, 2016, 2017, 2018, 2019, 2020, 2021, 2022, 2023, 2024, 2025, 2026, 2027, 2028, 2029, 2030, 2031, 2032, 2033, 2034, 2035, 2036, 2037, 2038, 2039, 2040], \"y\": [15.915129, 17.025128999999996, 18.460129, 21.310128999999996, 26.120129, 28.210129, 34.670128999999996, 42.65012899999999, 46.630129, 46.630129, 46.630129, 46.630129, 46.630129, 46.630129, 46.630129, 46.630129, 46.630129, 46.030128999999995, 46.030128999999995, 46.030128999999995, 46.030128999999995, 45.920128999999996, 45.805128999999994, 45.805128999999994, 45.805128999999994, 46.676286999999995], \"type\": \"bar\", \"uid\": \"9c979f07-d3f3-4ba6-98ff-a8b3b7ceb093\"}, {\"marker\": {\"color\": \"rgba(178, 34, 34, 0.6)\", \"line\": {\"color\": \"rgba(178, 34, 34, 1.0)\", \"width\": 1}}, \"name\": \"Diesel\", \"orientation\": \"v\", \"text\": \"\", \"x\": [2015, 2016, 2017, 2018, 2019, 2020, 2021, 2022, 2023, 2024, 2025, 2026, 2027, 2028, 2029, 2030, 2031, 2032, 2033, 2034, 2035, 2036, 2037, 2038, 2039, 2040], \"y\": [0.66, 0.66, 0.66, 0.66, 0.66, 0.66, 0.66, 0.66, 0.66, 0.66, 0.66, 0.66, 0.66, 0.66, 0.66, 0.66, 0.66, 0.66, 0.66, 0.66, 0.66, 0.66, 0.66, 0.66, 0.66, 0.0], \"type\": \"bar\", \"uid\": \"cb394988-f58a-42dd-83c6-ce2684359bb6\"}, {\"marker\": {\"color\": \"rgba(165, 42, 42, 0.6)\", \"line\": {\"color\": \"rgba(165, 42, 42, 1.0)\", \"width\": 1}}, \"name\": \"HFO\", \"orientation\": \"v\", \"text\": \"\", \"x\": [2015, 2016, 2017, 2018, 2019, 2020, 2021, 2022, 2023, 2024, 2025, 2026, 2027, 2028, 2029, 2030, 2031, 2032, 2033, 2034, 2035, 2036, 2037, 2038, 2039, 2040], \"y\": [0.517, 0.517, 0.517, 0.517, 0.517, 0.33, 0.33, 0.33, 0.33, 0.33, 0.33, 0.33, 0.33, 0.33, 0.33, 0.33, 0.33, 0.33, 0.33, 0.33, 0.33, 0.33, 0.33, 0.33, 0.33, 0.0], \"type\": \"bar\", \"uid\": \"1d58f36d-ba88-4d9e-8d81-2a2a938e0b02\"}, {\"marker\": {\"color\": \"rgba(55, 128, 191, 0.6)\", \"line\": {\"color\": \"rgba(55, 128, 191, 1.0)\", \"width\": 1}}, \"name\": \"Hydro\", \"orientation\": \"v\", \"text\": \"\", \"x\": [2015, 2016, 2017, 2018, 2019, 2020, 2021, 2022, 2023, 2024, 2025, 2026, 2027, 2028, 2029, 2030, 2031, 2032, 2033, 2034, 2035, 2036, 2037, 2038, 2039, 2040], \"y\": [17.087500000000002, 19.2555, 19.6815, 20.177500000000002, 20.6485, 21.1925, 21.6825, 22.0425, 22.7475, 22.7475, 22.7475, 22.6275, 22.6275, 22.6275, 22.6275, 22.6275, 22.6275, 22.6275, 22.6275, 22.6275, 22.6275, 22.6275, 22.6275, 22.6275, 22.6275, 22.6275], \"type\": \"bar\", \"uid\": \"494b6e01-7aa4-43df-a029-b1d052fb96be\"}, {\"marker\": {\"color\": \"rgba(255, 153, 51, 0.6)\", \"line\": {\"color\": \"rgba(255, 153, 51, 1.0)\", \"width\": 1}}, \"name\": \"Natural gas\", \"orientation\": \"v\", \"text\": \"\", \"x\": [2015, 2016, 2017, 2018, 2019, 2020, 2021, 2022, 2023, 2024, 2025, 2026, 2027, 2028, 2029, 2030, 2031, 2032, 2033, 2034, 2035, 2036, 2037, 2038, 2039, 2040], \"y\": [11.078000000000001, 11.278, 11.278, 11.278, 11.278, 12.228, 13.728, 14.478, 15.55, 15.55, 15.55, 15.55, 15.55, 14.601, 14.226, 14.226, 14.226, 13.065, 13.065, 12.325, 11.585, 11.117, 11.117, 11.117, 9.11, 7.109999999999999], \"type\": \"bar\", \"uid\": \"51112377-267a-4646-b119-54164d463122\"}, {\"marker\": {\"color\": \"rgba(255, 215, 0, 0.6)\", \"line\": {\"color\": \"rgba(255, 215, 0, 1.0)\", \"width\": 1}}, \"name\": \"Solar\", \"orientation\": \"v\", \"text\": \"\", \"x\": [2015, 2016, 2017, 2018, 2019, 2020, 2021, 2022, 2023, 2024, 2025, 2026, 2027, 2028, 2029, 2030, 2031, 2032, 2033, 2034, 2035, 2036, 2037, 2038, 2039, 2040], \"y\": [0.0, 0.0, 0.0, 0.0, 0.3, 0.7, 1.0, 1.0, 1.0, 1.0, 1.0, 1.0, 1.0, 1.0, 1.0, 1.0, 1.0, 1.0, 1.0, 1.0, 1.0, 1.0, 1.0, 1.0, 0.7, 0.3], \"type\": \"bar\", \"uid\": \"6b0b36d6-0e3c-4ce2-a2dd-df3c5ac84252\"}, {\"marker\": {\"color\": \"rgba(238, 130, 238, 0.6)\", \"line\": {\"color\": \"rgba(238, 130, 238, 1.0)\", \"width\": 1}}, \"name\": \"Wind\", \"orientation\": \"v\", \"text\": \"\", \"x\": [2015, 2016, 2017, 2018, 2019, 2020, 2021, 2022, 2023, 2024, 2025, 2026, 2027, 2028, 2029, 2030, 2031, 2032, 2033, 2034, 2035, 2036, 2037, 2038, 2039, 2040], \"y\": [0.09, 0.09, 0.09, 0.45699999999999996, 0.646, 0.7629999999999999, 0.7629999999999999, 0.7629999999999999, 0.7629999999999999, 0.7629999999999999, 0.7629999999999999, 0.7629999999999999, 0.7629999999999999, 0.7629999999999999, 0.7629999999999999, 0.7629999999999999, 0.7629999999999999, 0.7629999999999999, 0.7629999999999999, 0.7629999999999999, 0.7629999999999999, 0.7629999999999999, 0.7629999999999999, 0.306, 0.117, 0.0], \"type\": \"bar\", \"uid\": \"7badfe3a-b073-483c-a0be-502b67cb526a\"}], {\"barmode\": \"stack\", \"legend\": {\"bgcolor\": \"#FFFFFF\", \"font\": {\"color\": \"#4D5663\"}, \"traceorder\": \"normal\"}, \"paper_bgcolor\": \"#FFFFFF\", \"plot_bgcolor\": \"#FFFFFF\", \"title\": {\"text\": \"Power Generation Capacity (Detail)\", \"font\": {\"color\": \"#4D5663\"}}, \"xaxis\": {\"gridcolor\": \"#E1E5ED\", \"showgrid\": true, \"tickfont\": {\"color\": \"#4D5663\"}, \"title\": {\"text\": \"Year\", \"font\": {\"color\": \"#4D5663\"}}, \"zerolinecolor\": \"#E1E5ED\"}, \"yaxis\": {\"gridcolor\": \"#E1E5ED\", \"showgrid\": true, \"tickfont\": {\"color\": \"#4D5663\"}, \"title\": {\"text\": \"Gigawatts (GW)\", \"font\": {\"color\": \"#4D5663\"}}, \"zerolinecolor\": \"#E1E5ED\"}}, {\"showLink\": true, \"linkText\": \"Export to plot.ly\", \"plotlyServerURL\": \"https://plot.ly\"}); \n",
       "}\n",
       "});</script><script type=\"text/javascript\">window.addEventListener(\"resize\", function(){if (document.getElementById(\"6f1cdd10-e466-4f9c-b911-879777b3caf3\")) {window._Plotly.Plots.resize(document.getElementById(\"6f1cdd10-e466-4f9c-b911-879777b3caf3\"));};})</script>"
      ],
      "text/vnd.plotly.v1+html": [
       "<div id=\"6f1cdd10-e466-4f9c-b911-879777b3caf3\" style=\"height: 525px; width: 100%;\" class=\"plotly-graph-div\"></div><script type=\"text/javascript\">require([\"plotly\"], function(Plotly) { window.PLOTLYENV=window.PLOTLYENV || {};window.PLOTLYENV.BASE_URL=\"https://plot.ly\";\n",
       "if (document.getElementById(\"6f1cdd10-e466-4f9c-b911-879777b3caf3\")) {\n",
       "    Plotly.newPlot(\"6f1cdd10-e466-4f9c-b911-879777b3caf3\", [{\"marker\": {\"color\": \"rgba(34, 139, 34, 0.6)\", \"line\": {\"color\": \"rgba(34, 139, 34, 1.0)\", \"width\": 1}}, \"name\": \"Biomass\", \"orientation\": \"v\", \"text\": \"\", \"x\": [2015, 2016, 2017, 2018, 2019, 2020, 2021, 2022, 2023, 2024, 2025, 2026, 2027, 2028, 2029, 2030, 2031, 2032, 2033, 2034, 2035, 2036, 2037, 2038, 2039, 2040], \"y\": [0.024, 0.054, 0.10900000000000001, 0.194, 0.194, 0.194, 0.194, 0.194, 0.194, 0.194, 0.194, 0.194, 0.194, 0.17, 0.17, 0.17, 0.17, 0.17, 0.17, 0.17, 0.17, 0.17, 0.17, 0.17, 0.17, 0.17], \"type\": \"bar\", \"uid\": \"457a4dda-7386-4093-8a3c-82633dee9a49\"}, {\"marker\": {\"color\": \"rgba(0, 0, 0, 0.6)\", \"line\": {\"color\": \"rgba(0, 0, 0, 1.0)\", \"width\": 1}}, \"name\": \"Coal\", \"orientation\": \"v\", \"text\": \"\", \"x\": [2015, 2016, 2017, 2018, 2019, 2020, 2021, 2022, 2023, 2024, 2025, 2026, 2027, 2028, 2029, 2030, 2031, 2032, 2033, 2034, 2035, 2036, 2037, 2038, 2039, 2040], \"y\": [15.915129, 17.025128999999996, 18.460129, 21.310128999999996, 26.120129, 28.210129, 34.670128999999996, 42.65012899999999, 46.630129, 46.630129, 46.630129, 46.630129, 46.630129, 46.630129, 46.630129, 46.630129, 46.630129, 46.030128999999995, 46.030128999999995, 46.030128999999995, 46.030128999999995, 45.920128999999996, 45.805128999999994, 45.805128999999994, 45.805128999999994, 46.676286999999995], \"type\": \"bar\", \"uid\": \"9c979f07-d3f3-4ba6-98ff-a8b3b7ceb093\"}, {\"marker\": {\"color\": \"rgba(178, 34, 34, 0.6)\", \"line\": {\"color\": \"rgba(178, 34, 34, 1.0)\", \"width\": 1}}, \"name\": \"Diesel\", \"orientation\": \"v\", \"text\": \"\", \"x\": [2015, 2016, 2017, 2018, 2019, 2020, 2021, 2022, 2023, 2024, 2025, 2026, 2027, 2028, 2029, 2030, 2031, 2032, 2033, 2034, 2035, 2036, 2037, 2038, 2039, 2040], \"y\": [0.66, 0.66, 0.66, 0.66, 0.66, 0.66, 0.66, 0.66, 0.66, 0.66, 0.66, 0.66, 0.66, 0.66, 0.66, 0.66, 0.66, 0.66, 0.66, 0.66, 0.66, 0.66, 0.66, 0.66, 0.66, 0.0], \"type\": \"bar\", \"uid\": \"cb394988-f58a-42dd-83c6-ce2684359bb6\"}, {\"marker\": {\"color\": \"rgba(165, 42, 42, 0.6)\", \"line\": {\"color\": \"rgba(165, 42, 42, 1.0)\", \"width\": 1}}, \"name\": \"HFO\", \"orientation\": \"v\", \"text\": \"\", \"x\": [2015, 2016, 2017, 2018, 2019, 2020, 2021, 2022, 2023, 2024, 2025, 2026, 2027, 2028, 2029, 2030, 2031, 2032, 2033, 2034, 2035, 2036, 2037, 2038, 2039, 2040], \"y\": [0.517, 0.517, 0.517, 0.517, 0.517, 0.33, 0.33, 0.33, 0.33, 0.33, 0.33, 0.33, 0.33, 0.33, 0.33, 0.33, 0.33, 0.33, 0.33, 0.33, 0.33, 0.33, 0.33, 0.33, 0.33, 0.0], \"type\": \"bar\", \"uid\": \"1d58f36d-ba88-4d9e-8d81-2a2a938e0b02\"}, {\"marker\": {\"color\": \"rgba(55, 128, 191, 0.6)\", \"line\": {\"color\": \"rgba(55, 128, 191, 1.0)\", \"width\": 1}}, \"name\": \"Hydro\", \"orientation\": \"v\", \"text\": \"\", \"x\": [2015, 2016, 2017, 2018, 2019, 2020, 2021, 2022, 2023, 2024, 2025, 2026, 2027, 2028, 2029, 2030, 2031, 2032, 2033, 2034, 2035, 2036, 2037, 2038, 2039, 2040], \"y\": [17.087500000000002, 19.2555, 19.6815, 20.177500000000002, 20.6485, 21.1925, 21.6825, 22.0425, 22.7475, 22.7475, 22.7475, 22.6275, 22.6275, 22.6275, 22.6275, 22.6275, 22.6275, 22.6275, 22.6275, 22.6275, 22.6275, 22.6275, 22.6275, 22.6275, 22.6275, 22.6275], \"type\": \"bar\", \"uid\": \"494b6e01-7aa4-43df-a029-b1d052fb96be\"}, {\"marker\": {\"color\": \"rgba(255, 153, 51, 0.6)\", \"line\": {\"color\": \"rgba(255, 153, 51, 1.0)\", \"width\": 1}}, \"name\": \"Natural gas\", \"orientation\": \"v\", \"text\": \"\", \"x\": [2015, 2016, 2017, 2018, 2019, 2020, 2021, 2022, 2023, 2024, 2025, 2026, 2027, 2028, 2029, 2030, 2031, 2032, 2033, 2034, 2035, 2036, 2037, 2038, 2039, 2040], \"y\": [11.078000000000001, 11.278, 11.278, 11.278, 11.278, 12.228, 13.728, 14.478, 15.55, 15.55, 15.55, 15.55, 15.55, 14.601, 14.226, 14.226, 14.226, 13.065, 13.065, 12.325, 11.585, 11.117, 11.117, 11.117, 9.11, 7.109999999999999], \"type\": \"bar\", \"uid\": \"51112377-267a-4646-b119-54164d463122\"}, {\"marker\": {\"color\": \"rgba(255, 215, 0, 0.6)\", \"line\": {\"color\": \"rgba(255, 215, 0, 1.0)\", \"width\": 1}}, \"name\": \"Solar\", \"orientation\": \"v\", \"text\": \"\", \"x\": [2015, 2016, 2017, 2018, 2019, 2020, 2021, 2022, 2023, 2024, 2025, 2026, 2027, 2028, 2029, 2030, 2031, 2032, 2033, 2034, 2035, 2036, 2037, 2038, 2039, 2040], \"y\": [0.0, 0.0, 0.0, 0.0, 0.3, 0.7, 1.0, 1.0, 1.0, 1.0, 1.0, 1.0, 1.0, 1.0, 1.0, 1.0, 1.0, 1.0, 1.0, 1.0, 1.0, 1.0, 1.0, 1.0, 0.7, 0.3], \"type\": \"bar\", \"uid\": \"6b0b36d6-0e3c-4ce2-a2dd-df3c5ac84252\"}, {\"marker\": {\"color\": \"rgba(238, 130, 238, 0.6)\", \"line\": {\"color\": \"rgba(238, 130, 238, 1.0)\", \"width\": 1}}, \"name\": \"Wind\", \"orientation\": \"v\", \"text\": \"\", \"x\": [2015, 2016, 2017, 2018, 2019, 2020, 2021, 2022, 2023, 2024, 2025, 2026, 2027, 2028, 2029, 2030, 2031, 2032, 2033, 2034, 2035, 2036, 2037, 2038, 2039, 2040], \"y\": [0.09, 0.09, 0.09, 0.45699999999999996, 0.646, 0.7629999999999999, 0.7629999999999999, 0.7629999999999999, 0.7629999999999999, 0.7629999999999999, 0.7629999999999999, 0.7629999999999999, 0.7629999999999999, 0.7629999999999999, 0.7629999999999999, 0.7629999999999999, 0.7629999999999999, 0.7629999999999999, 0.7629999999999999, 0.7629999999999999, 0.7629999999999999, 0.7629999999999999, 0.7629999999999999, 0.306, 0.117, 0.0], \"type\": \"bar\", \"uid\": \"7badfe3a-b073-483c-a0be-502b67cb526a\"}], {\"barmode\": \"stack\", \"legend\": {\"bgcolor\": \"#FFFFFF\", \"font\": {\"color\": \"#4D5663\"}, \"traceorder\": \"normal\"}, \"paper_bgcolor\": \"#FFFFFF\", \"plot_bgcolor\": \"#FFFFFF\", \"title\": {\"text\": \"Power Generation Capacity (Detail)\", \"font\": {\"color\": \"#4D5663\"}}, \"xaxis\": {\"gridcolor\": \"#E1E5ED\", \"showgrid\": true, \"tickfont\": {\"color\": \"#4D5663\"}, \"title\": {\"text\": \"Year\", \"font\": {\"color\": \"#4D5663\"}}, \"zerolinecolor\": \"#E1E5ED\"}, \"yaxis\": {\"gridcolor\": \"#E1E5ED\", \"showgrid\": true, \"tickfont\": {\"color\": \"#4D5663\"}, \"title\": {\"text\": \"Gigawatts (GW)\", \"font\": {\"color\": \"#4D5663\"}}, \"zerolinecolor\": \"#E1E5ED\"}}, {\"showLink\": true, \"linkText\": \"Export to plot.ly\", \"plotlyServerURL\": \"https://plot.ly\"}); \n",
       "}\n",
       "});</script><script type=\"text/javascript\">window.addEventListener(\"resize\", function(){if (document.getElementById(\"6f1cdd10-e466-4f9c-b911-879777b3caf3\")) {window._Plotly.Plots.resize(document.getElementById(\"6f1cdd10-e466-4f9c-b911-879777b3caf3\"));};})</script>"
      ]
     },
     "metadata": {},
     "output_type": "display_data"
    }
   ],
   "source": [
    "# Power generation capacity (detailed)\n",
    "cap_df = all_params['TotalCapacityAnnual'][all_params['TotalCapacityAnnual'].t.str.startswith('PWR')].drop('r', axis=1)\n",
    "cap_df = df_filter(cap_df,3,6,['TRN'])\n",
    "df_plot(cap_df,'Gigawatts (GW)','Power Generation Capacity (Detail)')"
   ]
  },
  {
   "cell_type": "code",
   "execution_count": 234,
   "metadata": {},
   "outputs": [
    {
     "data": {
      "application/vnd.plotly.v1+json": {
       "config": {
        "linkText": "Export to plot.ly",
        "plotlyServerURL": "https://plot.ly",
        "showLink": true
       },
       "data": [
        {
         "marker": {
          "color": "rgba(0, 0, 0, 0.6)",
          "line": {
           "color": "rgba(0, 0, 0, 1.0)",
           "width": 1
          }
         },
         "name": "Coal",
         "orientation": "v",
         "text": "",
         "type": "bar",
         "uid": "9babd623-a311-41e1-9143-feee5b848513",
         "x": [
          2015,
          2016,
          2017,
          2018,
          2019,
          2020,
          2021,
          2022,
          2023,
          2024,
          2025,
          2026,
          2027,
          2028,
          2029,
          2030,
          2031,
          2032,
          2033,
          2034,
          2035,
          2036,
          2037,
          2038,
          2039,
          2040
         ],
         "y": [
          15.92,
          17.03,
          18.46,
          21.31,
          26.12,
          28.21,
          34.67,
          42.65,
          46.63,
          46.63,
          46.63,
          46.63,
          46.63,
          46.63,
          46.63,
          46.63,
          46.63,
          46.03,
          46.03,
          46.03,
          46.03,
          45.92,
          45.81,
          45.81,
          45.81,
          46.68
         ]
        },
        {
         "marker": {
          "color": "rgba(178, 34, 34, 0.6)",
          "line": {
           "color": "rgba(178, 34, 34, 1.0)",
           "width": 1
          }
         },
         "name": "Oil",
         "orientation": "v",
         "text": "",
         "type": "bar",
         "uid": "4feafcf4-37e8-4c25-81ef-71649c68b03b",
         "x": [
          2015,
          2016,
          2017,
          2018,
          2019,
          2020,
          2021,
          2022,
          2023,
          2024,
          2025,
          2026,
          2027,
          2028,
          2029,
          2030,
          2031,
          2032,
          2033,
          2034,
          2035,
          2036,
          2037,
          2038,
          2039,
          2040
         ],
         "y": [
          1.18,
          1.18,
          1.18,
          1.18,
          1.18,
          0.99,
          0.99,
          0.99,
          0.99,
          0.99,
          0.99,
          0.99,
          0.99,
          0.99,
          0.99,
          0.99,
          0.99,
          0.99,
          0.99,
          0.99,
          0.99,
          0.99,
          0.99,
          0.99,
          0.99,
          0
         ]
        },
        {
         "marker": {
          "color": "rgba(255, 153, 51, 0.6)",
          "line": {
           "color": "rgba(255, 153, 51, 1.0)",
           "width": 1
          }
         },
         "name": "Gas",
         "orientation": "v",
         "text": "",
         "type": "bar",
         "uid": "5b479a38-2f0f-48ed-9bf0-a0d7e9cef404",
         "x": [
          2015,
          2016,
          2017,
          2018,
          2019,
          2020,
          2021,
          2022,
          2023,
          2024,
          2025,
          2026,
          2027,
          2028,
          2029,
          2030,
          2031,
          2032,
          2033,
          2034,
          2035,
          2036,
          2037,
          2038,
          2039,
          2040
         ],
         "y": [
          11.08,
          11.28,
          11.28,
          11.28,
          11.28,
          12.23,
          13.73,
          14.48,
          15.55,
          15.55,
          15.55,
          15.55,
          15.55,
          14.6,
          14.23,
          14.23,
          14.23,
          13.06,
          13.06,
          12.32,
          11.58,
          11.12,
          11.12,
          11.12,
          9.11,
          7.11
         ]
        },
        {
         "marker": {
          "color": "rgba(55, 128, 191, 0.6)",
          "line": {
           "color": "rgba(55, 128, 191, 1.0)",
           "width": 1
          }
         },
         "name": "Hydro",
         "orientation": "v",
         "text": "",
         "type": "bar",
         "uid": "69f0fb3a-ffe2-45bb-acb8-4e4c124c5cf1",
         "x": [
          2015,
          2016,
          2017,
          2018,
          2019,
          2020,
          2021,
          2022,
          2023,
          2024,
          2025,
          2026,
          2027,
          2028,
          2029,
          2030,
          2031,
          2032,
          2033,
          2034,
          2035,
          2036,
          2037,
          2038,
          2039,
          2040
         ],
         "y": [
          17.09,
          19.26,
          19.68,
          20.18,
          20.65,
          21.19,
          21.68,
          22.04,
          22.75,
          22.75,
          22.75,
          22.63,
          22.63,
          22.63,
          22.63,
          22.63,
          22.63,
          22.63,
          22.63,
          22.63,
          22.63,
          22.63,
          22.63,
          22.63,
          22.63,
          22.63
         ]
        },
        {
         "marker": {
          "color": "rgba(128, 128, 128, 0.6)",
          "line": {
           "color": "rgba(128, 128, 128, 1.0)",
           "width": 1
          }
         },
         "name": "Nuclear",
         "orientation": "v",
         "text": "",
         "type": "bar",
         "uid": "7dfb5c2d-44c9-476d-9701-577ec3a379cf",
         "x": [
          2015,
          2016,
          2017,
          2018,
          2019,
          2020,
          2021,
          2022,
          2023,
          2024,
          2025,
          2026,
          2027,
          2028,
          2029,
          2030,
          2031,
          2032,
          2033,
          2034,
          2035,
          2036,
          2037,
          2038,
          2039,
          2040
         ],
         "y": [
          0,
          0,
          0,
          0,
          0,
          0,
          0,
          0,
          0,
          0,
          0,
          0,
          0,
          0,
          0,
          0,
          0,
          0,
          0,
          0,
          0,
          0,
          0,
          0,
          0,
          0
         ]
        },
        {
         "marker": {
          "color": "rgba(0, 128, 0, 0.6)",
          "line": {
           "color": "rgba(0, 128, 0, 1.0)",
           "width": 1
          }
         },
         "name": "Other renewables",
         "orientation": "v",
         "text": "",
         "type": "bar",
         "uid": "ad11f3ac-c792-4bdc-ada8-83b10ccdb1e7",
         "x": [
          2015,
          2016,
          2017,
          2018,
          2019,
          2020,
          2021,
          2022,
          2023,
          2024,
          2025,
          2026,
          2027,
          2028,
          2029,
          2030,
          2031,
          2032,
          2033,
          2034,
          2035,
          2036,
          2037,
          2038,
          2039,
          2040
         ],
         "y": [
          0.11,
          0.14,
          0.2,
          0.65,
          1.14,
          1.65,
          1.95,
          1.95,
          1.95,
          1.95,
          1.95,
          1.95,
          1.95,
          1.93,
          1.93,
          1.93,
          1.93,
          1.93,
          1.93,
          1.93,
          1.93,
          1.93,
          1.93,
          1.48,
          0.99,
          0.47
         ]
        }
       ],
       "layout": {
        "barmode": "stack",
        "legend": {
         "bgcolor": "#FFFFFF",
         "font": {
          "color": "#4D5663"
         },
         "traceorder": "normal"
        },
        "paper_bgcolor": "#FFFFFF",
        "plot_bgcolor": "#FFFFFF",
        "title": {
         "font": {
          "color": "#4D5663"
         },
         "text": "Power Generation Capacity (Aggregate)"
        },
        "xaxis": {
         "gridcolor": "#E1E5ED",
         "showgrid": true,
         "tickfont": {
          "color": "#4D5663"
         },
         "title": {
          "font": {
           "color": "#4D5663"
          },
          "text": "Year"
         },
         "zerolinecolor": "#E1E5ED"
        },
        "yaxis": {
         "gridcolor": "#E1E5ED",
         "showgrid": true,
         "tickfont": {
          "color": "#4D5663"
         },
         "title": {
          "font": {
           "color": "#4D5663"
          },
          "text": "Gigawatts (GW)"
         },
         "zerolinecolor": "#E1E5ED"
        }
       }
      },
      "text/html": [
       "<div id=\"28a2e63f-d8da-4ed2-a6ab-bdffb9c70f70\" style=\"height: 525px; width: 100%;\" class=\"plotly-graph-div\"></div><script type=\"text/javascript\">require([\"plotly\"], function(Plotly) { window.PLOTLYENV=window.PLOTLYENV || {};window.PLOTLYENV.BASE_URL=\"https://plot.ly\";\n",
       "if (document.getElementById(\"28a2e63f-d8da-4ed2-a6ab-bdffb9c70f70\")) {\n",
       "    Plotly.newPlot(\"28a2e63f-d8da-4ed2-a6ab-bdffb9c70f70\", [{\"marker\": {\"color\": \"rgba(0, 0, 0, 0.6)\", \"line\": {\"color\": \"rgba(0, 0, 0, 1.0)\", \"width\": 1}}, \"name\": \"Coal\", \"orientation\": \"v\", \"text\": \"\", \"x\": [2015, 2016, 2017, 2018, 2019, 2020, 2021, 2022, 2023, 2024, 2025, 2026, 2027, 2028, 2029, 2030, 2031, 2032, 2033, 2034, 2035, 2036, 2037, 2038, 2039, 2040], \"y\": [15.92, 17.03, 18.46, 21.31, 26.12, 28.21, 34.67, 42.65, 46.63, 46.63, 46.63, 46.63, 46.63, 46.63, 46.63, 46.63, 46.63, 46.03, 46.03, 46.03, 46.03, 45.92, 45.81, 45.81, 45.81, 46.68], \"type\": \"bar\", \"uid\": \"c5d1b957-11c2-4077-b481-252b1832570f\"}, {\"marker\": {\"color\": \"rgba(178, 34, 34, 0.6)\", \"line\": {\"color\": \"rgba(178, 34, 34, 1.0)\", \"width\": 1}}, \"name\": \"Oil\", \"orientation\": \"v\", \"text\": \"\", \"x\": [2015, 2016, 2017, 2018, 2019, 2020, 2021, 2022, 2023, 2024, 2025, 2026, 2027, 2028, 2029, 2030, 2031, 2032, 2033, 2034, 2035, 2036, 2037, 2038, 2039, 2040], \"y\": [1.18, 1.18, 1.18, 1.18, 1.18, 0.99, 0.99, 0.99, 0.99, 0.99, 0.99, 0.99, 0.99, 0.99, 0.99, 0.99, 0.99, 0.99, 0.99, 0.99, 0.99, 0.99, 0.99, 0.99, 0.99, 0.0], \"type\": \"bar\", \"uid\": \"c49cc627-915f-4b22-b713-a9efa596bb20\"}, {\"marker\": {\"color\": \"rgba(255, 153, 51, 0.6)\", \"line\": {\"color\": \"rgba(255, 153, 51, 1.0)\", \"width\": 1}}, \"name\": \"Gas\", \"orientation\": \"v\", \"text\": \"\", \"x\": [2015, 2016, 2017, 2018, 2019, 2020, 2021, 2022, 2023, 2024, 2025, 2026, 2027, 2028, 2029, 2030, 2031, 2032, 2033, 2034, 2035, 2036, 2037, 2038, 2039, 2040], \"y\": [11.08, 11.28, 11.28, 11.28, 11.28, 12.23, 13.73, 14.48, 15.55, 15.55, 15.55, 15.55, 15.55, 14.6, 14.23, 14.23, 14.23, 13.06, 13.06, 12.32, 11.58, 11.12, 11.12, 11.12, 9.11, 7.11], \"type\": \"bar\", \"uid\": \"078a328c-8fdb-444b-bd92-04570842b17d\"}, {\"marker\": {\"color\": \"rgba(55, 128, 191, 0.6)\", \"line\": {\"color\": \"rgba(55, 128, 191, 1.0)\", \"width\": 1}}, \"name\": \"Hydro\", \"orientation\": \"v\", \"text\": \"\", \"x\": [2015, 2016, 2017, 2018, 2019, 2020, 2021, 2022, 2023, 2024, 2025, 2026, 2027, 2028, 2029, 2030, 2031, 2032, 2033, 2034, 2035, 2036, 2037, 2038, 2039, 2040], \"y\": [17.09, 19.26, 19.68, 20.18, 20.65, 21.19, 21.68, 22.04, 22.75, 22.75, 22.75, 22.63, 22.63, 22.63, 22.63, 22.63, 22.63, 22.63, 22.63, 22.63, 22.63, 22.63, 22.63, 22.63, 22.63, 22.63], \"type\": \"bar\", \"uid\": \"c25469c0-5fa6-47fe-81a4-a3f86e4621a1\"}, {\"marker\": {\"color\": \"rgba(128, 128, 128, 0.6)\", \"line\": {\"color\": \"rgba(128, 128, 128, 1.0)\", \"width\": 1}}, \"name\": \"Nuclear\", \"orientation\": \"v\", \"text\": \"\", \"x\": [2015, 2016, 2017, 2018, 2019, 2020, 2021, 2022, 2023, 2024, 2025, 2026, 2027, 2028, 2029, 2030, 2031, 2032, 2033, 2034, 2035, 2036, 2037, 2038, 2039, 2040], \"y\": [0.0, 0.0, 0.0, 0.0, 0.0, 0.0, 0.0, 0.0, 0.0, 0.0, 0.0, 0.0, 0.0, 0.0, 0.0, 0.0, 0.0, 0.0, 0.0, 0.0, 0.0, 0.0, 0.0, 0.0, 0.0, 0.0], \"type\": \"bar\", \"uid\": \"e0dde43b-a5b3-4c63-a63a-0d45cc15d632\"}, {\"marker\": {\"color\": \"rgba(0, 128, 0, 0.6)\", \"line\": {\"color\": \"rgba(0, 128, 0, 1.0)\", \"width\": 1}}, \"name\": \"Other renewables\", \"orientation\": \"v\", \"text\": \"\", \"x\": [2015, 2016, 2017, 2018, 2019, 2020, 2021, 2022, 2023, 2024, 2025, 2026, 2027, 2028, 2029, 2030, 2031, 2032, 2033, 2034, 2035, 2036, 2037, 2038, 2039, 2040], \"y\": [0.11, 0.14, 0.2, 0.65, 1.14, 1.65, 1.95, 1.95, 1.95, 1.95, 1.95, 1.95, 1.95, 1.93, 1.93, 1.93, 1.93, 1.93, 1.93, 1.93, 1.93, 1.93, 1.93, 1.48, 0.99, 0.47], \"type\": \"bar\", \"uid\": \"efbb8203-8316-4a1d-9150-cc654d5ad417\"}], {\"barmode\": \"stack\", \"legend\": {\"bgcolor\": \"#FFFFFF\", \"font\": {\"color\": \"#4D5663\"}, \"traceorder\": \"normal\"}, \"paper_bgcolor\": \"#FFFFFF\", \"plot_bgcolor\": \"#FFFFFF\", \"title\": {\"text\": \"Power Generation Capacity (Aggregate)\", \"font\": {\"color\": \"#4D5663\"}}, \"xaxis\": {\"gridcolor\": \"#E1E5ED\", \"showgrid\": true, \"tickfont\": {\"color\": \"#4D5663\"}, \"title\": {\"text\": \"Year\", \"font\": {\"color\": \"#4D5663\"}}, \"zerolinecolor\": \"#E1E5ED\"}, \"yaxis\": {\"gridcolor\": \"#E1E5ED\", \"showgrid\": true, \"tickfont\": {\"color\": \"#4D5663\"}, \"title\": {\"text\": \"Gigawatts (GW)\", \"font\": {\"color\": \"#4D5663\"}}, \"zerolinecolor\": \"#E1E5ED\"}}, {\"showLink\": true, \"linkText\": \"Export to plot.ly\", \"plotlyServerURL\": \"https://plot.ly\"}); \n",
       "}\n",
       "});</script><script type=\"text/javascript\">window.addEventListener(\"resize\", function(){if (document.getElementById(\"28a2e63f-d8da-4ed2-a6ab-bdffb9c70f70\")) {window._Plotly.Plots.resize(document.getElementById(\"28a2e63f-d8da-4ed2-a6ab-bdffb9c70f70\"));};})</script>"
      ],
      "text/vnd.plotly.v1+html": [
       "<div id=\"28a2e63f-d8da-4ed2-a6ab-bdffb9c70f70\" style=\"height: 525px; width: 100%;\" class=\"plotly-graph-div\"></div><script type=\"text/javascript\">require([\"plotly\"], function(Plotly) { window.PLOTLYENV=window.PLOTLYENV || {};window.PLOTLYENV.BASE_URL=\"https://plot.ly\";\n",
       "if (document.getElementById(\"28a2e63f-d8da-4ed2-a6ab-bdffb9c70f70\")) {\n",
       "    Plotly.newPlot(\"28a2e63f-d8da-4ed2-a6ab-bdffb9c70f70\", [{\"marker\": {\"color\": \"rgba(0, 0, 0, 0.6)\", \"line\": {\"color\": \"rgba(0, 0, 0, 1.0)\", \"width\": 1}}, \"name\": \"Coal\", \"orientation\": \"v\", \"text\": \"\", \"x\": [2015, 2016, 2017, 2018, 2019, 2020, 2021, 2022, 2023, 2024, 2025, 2026, 2027, 2028, 2029, 2030, 2031, 2032, 2033, 2034, 2035, 2036, 2037, 2038, 2039, 2040], \"y\": [15.92, 17.03, 18.46, 21.31, 26.12, 28.21, 34.67, 42.65, 46.63, 46.63, 46.63, 46.63, 46.63, 46.63, 46.63, 46.63, 46.63, 46.03, 46.03, 46.03, 46.03, 45.92, 45.81, 45.81, 45.81, 46.68], \"type\": \"bar\", \"uid\": \"c5d1b957-11c2-4077-b481-252b1832570f\"}, {\"marker\": {\"color\": \"rgba(178, 34, 34, 0.6)\", \"line\": {\"color\": \"rgba(178, 34, 34, 1.0)\", \"width\": 1}}, \"name\": \"Oil\", \"orientation\": \"v\", \"text\": \"\", \"x\": [2015, 2016, 2017, 2018, 2019, 2020, 2021, 2022, 2023, 2024, 2025, 2026, 2027, 2028, 2029, 2030, 2031, 2032, 2033, 2034, 2035, 2036, 2037, 2038, 2039, 2040], \"y\": [1.18, 1.18, 1.18, 1.18, 1.18, 0.99, 0.99, 0.99, 0.99, 0.99, 0.99, 0.99, 0.99, 0.99, 0.99, 0.99, 0.99, 0.99, 0.99, 0.99, 0.99, 0.99, 0.99, 0.99, 0.99, 0.0], \"type\": \"bar\", \"uid\": \"c49cc627-915f-4b22-b713-a9efa596bb20\"}, {\"marker\": {\"color\": \"rgba(255, 153, 51, 0.6)\", \"line\": {\"color\": \"rgba(255, 153, 51, 1.0)\", \"width\": 1}}, \"name\": \"Gas\", \"orientation\": \"v\", \"text\": \"\", \"x\": [2015, 2016, 2017, 2018, 2019, 2020, 2021, 2022, 2023, 2024, 2025, 2026, 2027, 2028, 2029, 2030, 2031, 2032, 2033, 2034, 2035, 2036, 2037, 2038, 2039, 2040], \"y\": [11.08, 11.28, 11.28, 11.28, 11.28, 12.23, 13.73, 14.48, 15.55, 15.55, 15.55, 15.55, 15.55, 14.6, 14.23, 14.23, 14.23, 13.06, 13.06, 12.32, 11.58, 11.12, 11.12, 11.12, 9.11, 7.11], \"type\": \"bar\", \"uid\": \"078a328c-8fdb-444b-bd92-04570842b17d\"}, {\"marker\": {\"color\": \"rgba(55, 128, 191, 0.6)\", \"line\": {\"color\": \"rgba(55, 128, 191, 1.0)\", \"width\": 1}}, \"name\": \"Hydro\", \"orientation\": \"v\", \"text\": \"\", \"x\": [2015, 2016, 2017, 2018, 2019, 2020, 2021, 2022, 2023, 2024, 2025, 2026, 2027, 2028, 2029, 2030, 2031, 2032, 2033, 2034, 2035, 2036, 2037, 2038, 2039, 2040], \"y\": [17.09, 19.26, 19.68, 20.18, 20.65, 21.19, 21.68, 22.04, 22.75, 22.75, 22.75, 22.63, 22.63, 22.63, 22.63, 22.63, 22.63, 22.63, 22.63, 22.63, 22.63, 22.63, 22.63, 22.63, 22.63, 22.63], \"type\": \"bar\", \"uid\": \"c25469c0-5fa6-47fe-81a4-a3f86e4621a1\"}, {\"marker\": {\"color\": \"rgba(128, 128, 128, 0.6)\", \"line\": {\"color\": \"rgba(128, 128, 128, 1.0)\", \"width\": 1}}, \"name\": \"Nuclear\", \"orientation\": \"v\", \"text\": \"\", \"x\": [2015, 2016, 2017, 2018, 2019, 2020, 2021, 2022, 2023, 2024, 2025, 2026, 2027, 2028, 2029, 2030, 2031, 2032, 2033, 2034, 2035, 2036, 2037, 2038, 2039, 2040], \"y\": [0.0, 0.0, 0.0, 0.0, 0.0, 0.0, 0.0, 0.0, 0.0, 0.0, 0.0, 0.0, 0.0, 0.0, 0.0, 0.0, 0.0, 0.0, 0.0, 0.0, 0.0, 0.0, 0.0, 0.0, 0.0, 0.0], \"type\": \"bar\", \"uid\": \"e0dde43b-a5b3-4c63-a63a-0d45cc15d632\"}, {\"marker\": {\"color\": \"rgba(0, 128, 0, 0.6)\", \"line\": {\"color\": \"rgba(0, 128, 0, 1.0)\", \"width\": 1}}, \"name\": \"Other renewables\", \"orientation\": \"v\", \"text\": \"\", \"x\": [2015, 2016, 2017, 2018, 2019, 2020, 2021, 2022, 2023, 2024, 2025, 2026, 2027, 2028, 2029, 2030, 2031, 2032, 2033, 2034, 2035, 2036, 2037, 2038, 2039, 2040], \"y\": [0.11, 0.14, 0.2, 0.65, 1.14, 1.65, 1.95, 1.95, 1.95, 1.95, 1.95, 1.95, 1.95, 1.93, 1.93, 1.93, 1.93, 1.93, 1.93, 1.93, 1.93, 1.93, 1.93, 1.48, 0.99, 0.47], \"type\": \"bar\", \"uid\": \"efbb8203-8316-4a1d-9150-cc654d5ad417\"}], {\"barmode\": \"stack\", \"legend\": {\"bgcolor\": \"#FFFFFF\", \"font\": {\"color\": \"#4D5663\"}, \"traceorder\": \"normal\"}, \"paper_bgcolor\": \"#FFFFFF\", \"plot_bgcolor\": \"#FFFFFF\", \"title\": {\"text\": \"Power Generation Capacity (Aggregate)\", \"font\": {\"color\": \"#4D5663\"}}, \"xaxis\": {\"gridcolor\": \"#E1E5ED\", \"showgrid\": true, \"tickfont\": {\"color\": \"#4D5663\"}, \"title\": {\"text\": \"Year\", \"font\": {\"color\": \"#4D5663\"}}, \"zerolinecolor\": \"#E1E5ED\"}, \"yaxis\": {\"gridcolor\": \"#E1E5ED\", \"showgrid\": true, \"tickfont\": {\"color\": \"#4D5663\"}, \"title\": {\"text\": \"Gigawatts (GW)\", \"font\": {\"color\": \"#4D5663\"}}, \"zerolinecolor\": \"#E1E5ED\"}}, {\"showLink\": true, \"linkText\": \"Export to plot.ly\", \"plotlyServerURL\": \"https://plot.ly\"}); \n",
       "}\n",
       "});</script><script type=\"text/javascript\">window.addEventListener(\"resize\", function(){if (document.getElementById(\"28a2e63f-d8da-4ed2-a6ab-bdffb9c70f70\")) {window._Plotly.Plots.resize(document.getElementById(\"28a2e63f-d8da-4ed2-a6ab-bdffb9c70f70\"));};})</script>"
      ]
     },
     "metadata": {},
     "output_type": "display_data"
    }
   ],
   "source": [
    "# Power generation capacity (Aggregated)\n",
    "cap_agg_df = pd.DataFrame(columns=agg_col)\n",
    "cap_agg_df.insert(0,'y',cap_df['y'])\n",
    "cap_agg_df  = cap_agg_df.fillna(0.00)\n",
    "\n",
    "for each in agg_col:\n",
    "    for tech_exists in agg_col[each]:\n",
    "        if tech_exists in cap_df.columns:\n",
    "            cap_agg_df[each] = cap_agg_df[each] + cap_df[tech_exists]\n",
    "            cap_agg_df[each] = cap_agg_df[each].round(2)\n",
    "\n",
    "df_plot(cap_agg_df,'Gigawatts (GW)','Power Generation Capacity (Aggregate)')"
   ]
  },
  {
   "cell_type": "code",
   "execution_count": 235,
   "metadata": {},
   "outputs": [
    {
     "data": {
      "application/vnd.plotly.v1+json": {
       "config": {
        "linkText": "Export to plot.ly",
        "plotlyServerURL": "https://plot.ly",
        "showLink": true
       },
       "data": [
        {
         "marker": {
          "color": "rgba(34, 139, 34, 0.6)",
          "line": {
           "color": "rgba(34, 139, 34, 1.0)",
           "width": 1
          }
         },
         "name": "Biomass",
         "orientation": "v",
         "text": "",
         "type": "bar",
         "uid": "9e35235b-e09c-4450-9ec4-57e576afbfe0",
         "x": [
          2015,
          2016,
          2017,
          2018,
          2019,
          2020,
          2021,
          2022,
          2023,
          2024,
          2025,
          2026,
          2027,
          2028,
          2029,
          2030,
          2031,
          2032,
          2033,
          2034,
          2035,
          2036,
          2037,
          2038,
          2039,
          2040
         ],
         "y": [
          0,
          0.23652,
          0.67014,
          1.34028,
          1.34028,
          1.4191073859999999,
          1.4191073859999999,
          1.4191073859999999,
          1.4191073859999999,
          1.529496,
          1.529496,
          1.529496,
          1.529496,
          1.34028,
          1.34028,
          1.34028,
          1.34028,
          1.34028,
          1.34028,
          1.34028,
          1.34028,
          1.34028,
          1.34028,
          1.34028,
          1.34028,
          1.34028
         ]
        },
        {
         "marker": {
          "color": "rgba(0, 0, 0, 0.6)",
          "line": {
           "color": "rgba(0, 0, 0, 1.0)",
           "width": 1
          }
         },
         "name": "Coal",
         "orientation": "v",
         "text": "",
         "type": "bar",
         "uid": "ba33ba5f-861b-4ec8-8b44-40060699162a",
         "x": [
          2015,
          2016,
          2017,
          2018,
          2019,
          2020,
          2021,
          2022,
          2023,
          2024,
          2025,
          2026,
          2027,
          2028,
          2029,
          2030,
          2031,
          2032,
          2033,
          2034,
          2035,
          2036,
          2037,
          2038,
          2039,
          2040
         ],
         "y": [
          30.010598,
          21.1428833,
          26.211425,
          29.294995,
          80.64136500000001,
          87.71901124,
          104.18105161,
          122.11397731,
          138.37691281,
          164.7432566,
          192.3617355,
          221.2950925,
          249.8496346,
          278.9649356,
          308.52008259999997,
          338.1307246,
          364.60352029999996,
          391.3549286,
          418.37165559999994,
          445.6297406,
          473.1478006,
          494.11095059999997,
          514.5496585999999,
          536.5510606,
          552.8239206,
          572.951957
         ]
        },
        {
         "marker": {
          "color": "rgba(55, 128, 191, 0.6)",
          "line": {
           "color": "rgba(55, 128, 191, 1.0)",
           "width": 1
          }
         },
         "name": "Hydro",
         "orientation": "v",
         "text": "",
         "type": "bar",
         "uid": "44d14c3d-b355-4f4a-907e-78ff9661bf87",
         "x": [
          2015,
          2016,
          2017,
          2018,
          2019,
          2020,
          2021,
          2022,
          2023,
          2024,
          2025,
          2026,
          2027,
          2028,
          2029,
          2030,
          2031,
          2032,
          2033,
          2034,
          2035,
          2036,
          2037,
          2038,
          2039,
          2040
         ],
         "y": [
          68.475855,
          80.75327419999999,
          89.84038650000001,
          99.4505606,
          108.39263450000001,
          117.015736,
          125.570712,
          134.0968885,
          144.70142600000003,
          145.266446,
          145.266446,
          144.50011600000002,
          144.50011600000002,
          144.50011600000002,
          144.50011600000002,
          144.50011600000002,
          144.50011600000002,
          144.50011600000002,
          144.50011600000002,
          144.50011600000002,
          144.50011600000002,
          144.50011600000002,
          144.50011600000002,
          144.50011600000002,
          144.50011600000002,
          144.50011600000002
         ]
        },
        {
         "marker": {
          "color": "rgba(255, 153, 51, 0.6)",
          "line": {
           "color": "rgba(255, 153, 51, 1.0)",
           "width": 1
          }
         },
         "name": "Natural gas",
         "orientation": "v",
         "text": "",
         "type": "bar",
         "uid": "fe05b00a-4d00-4b82-85bc-16d3ee1a9542",
         "x": [
          2015,
          2016,
          2017,
          2018,
          2019,
          2020,
          2021,
          2022,
          2023,
          2024,
          2025,
          2026,
          2027,
          2028,
          2029,
          2030,
          2031,
          2032,
          2033,
          2034,
          2035,
          2036,
          2037,
          2038,
          2039,
          2040
         ],
         "y": [
          38.657340000000005,
          49.59036,
          49.59036,
          49.59036,
          2.5329538,
          0.13794792,
          0.13794792,
          0.13794792,
          0.13794792,
          0.13794792,
          0.2814588,
          0.2814588,
          0.2814588,
          0.2814588,
          0,
          0,
          0,
          0,
          0,
          0,
          0,
          6.7832261,
          14.3188572,
          22.586529,
          36.491453,
          46.7052256
         ]
        },
        {
         "marker": {
          "color": "rgba(255, 215, 0, 0.6)",
          "line": {
           "color": "rgba(255, 215, 0, 1.0)",
           "width": 1
          }
         },
         "name": "Solar",
         "orientation": "v",
         "text": "",
         "type": "bar",
         "uid": "9aefee54-08d9-428c-9c75-e8c09d8c2a3c",
         "x": [
          2015,
          2016,
          2017,
          2018,
          2019,
          2020,
          2021,
          2022,
          2023,
          2024,
          2025,
          2026,
          2027,
          2028,
          2029,
          2030,
          2031,
          2032,
          2033,
          2034,
          2035,
          2036,
          2037,
          2038,
          2039,
          2040
         ],
         "y": [
          0,
          0,
          0,
          0,
          0.89442375,
          2.0869887,
          2.9814125,
          2.9814125,
          2.9814125,
          2.9814125,
          2.9814125,
          2.9814125,
          2.9814125,
          2.9814125,
          2.9814125,
          2.9814125,
          2.9814125,
          2.9814125,
          2.9814125,
          2.9814125,
          2.9814125,
          2.9814125,
          2.9814125,
          2.9814125,
          2.0869887,
          0.89442375
         ]
        },
        {
         "marker": {
          "color": "rgba(238, 130, 238, 0.6)",
          "line": {
           "color": "rgba(238, 130, 238, 1.0)",
           "width": 1
          }
         },
         "name": "Wind",
         "orientation": "v",
         "text": "",
         "type": "bar",
         "uid": "a6119132-739e-4853-b53c-c21b4623cb36",
         "x": [
          2015,
          2016,
          2017,
          2018,
          2019,
          2020,
          2021,
          2022,
          2023,
          2024,
          2025,
          2026,
          2027,
          2028,
          2029,
          2030,
          2031,
          2032,
          2033,
          2034,
          2035,
          2036,
          2037,
          2038,
          2039,
          2040
         ],
         "y": [
          0.19208263,
          0.096087423,
          0.17290203,
          1.699143023,
          2.65969207,
          3.3436500000000002,
          3.2668354,
          3.1707479700000003,
          3.1707479700000003,
          3.43973743,
          3.43973743,
          3.43973743,
          3.43973743,
          3.43973743,
          3.43973743,
          3.43973743,
          3.43973743,
          3.43973743,
          3.43973743,
          3.43973743,
          3.43973743,
          3.43973743,
          3.43973743,
          1.37560978,
          0.51105586,
          0
         ]
        }
       ],
       "layout": {
        "barmode": "stack",
        "legend": {
         "bgcolor": "#FFFFFF",
         "font": {
          "color": "#4D5663"
         },
         "traceorder": "normal"
        },
        "paper_bgcolor": "#FFFFFF",
        "plot_bgcolor": "#FFFFFF",
        "title": {
         "font": {
          "color": "#4D5663"
         },
         "text": "Power Generation (Detail)"
        },
        "xaxis": {
         "gridcolor": "#E1E5ED",
         "showgrid": true,
         "tickfont": {
          "color": "#4D5663"
         },
         "title": {
          "font": {
           "color": "#4D5663"
          },
          "text": "Year"
         },
         "zerolinecolor": "#E1E5ED"
        },
        "yaxis": {
         "gridcolor": "#E1E5ED",
         "showgrid": true,
         "tickfont": {
          "color": "#4D5663"
         },
         "title": {
          "font": {
           "color": "#4D5663"
          },
          "text": "Petajoules (PJ)"
         },
         "zerolinecolor": "#E1E5ED"
        }
       }
      },
      "text/html": [
       "<div id=\"a10f3094-f597-47c8-9ba8-b04803cbc449\" style=\"height: 525px; width: 100%;\" class=\"plotly-graph-div\"></div><script type=\"text/javascript\">require([\"plotly\"], function(Plotly) { window.PLOTLYENV=window.PLOTLYENV || {};window.PLOTLYENV.BASE_URL=\"https://plot.ly\";\n",
       "if (document.getElementById(\"a10f3094-f597-47c8-9ba8-b04803cbc449\")) {\n",
       "    Plotly.newPlot(\"a10f3094-f597-47c8-9ba8-b04803cbc449\", [{\"marker\": {\"color\": \"rgba(34, 139, 34, 0.6)\", \"line\": {\"color\": \"rgba(34, 139, 34, 1.0)\", \"width\": 1}}, \"name\": \"Biomass\", \"orientation\": \"v\", \"text\": \"\", \"x\": [2015, 2016, 2017, 2018, 2019, 2020, 2021, 2022, 2023, 2024, 2025, 2026, 2027, 2028, 2029, 2030, 2031, 2032, 2033, 2034, 2035, 2036, 2037, 2038, 2039, 2040], \"y\": [0.0, 0.23652, 0.67014, 1.34028, 1.34028, 1.4191073859999999, 1.4191073859999999, 1.4191073859999999, 1.4191073859999999, 1.529496, 1.529496, 1.529496, 1.529496, 1.34028, 1.34028, 1.34028, 1.34028, 1.34028, 1.34028, 1.34028, 1.34028, 1.34028, 1.34028, 1.34028, 1.34028, 1.34028], \"type\": \"bar\", \"uid\": \"f1b2db59-9bdb-4c4a-8781-2fddd89e082b\"}, {\"marker\": {\"color\": \"rgba(0, 0, 0, 0.6)\", \"line\": {\"color\": \"rgba(0, 0, 0, 1.0)\", \"width\": 1}}, \"name\": \"Coal\", \"orientation\": \"v\", \"text\": \"\", \"x\": [2015, 2016, 2017, 2018, 2019, 2020, 2021, 2022, 2023, 2024, 2025, 2026, 2027, 2028, 2029, 2030, 2031, 2032, 2033, 2034, 2035, 2036, 2037, 2038, 2039, 2040], \"y\": [30.010598, 21.1428833, 26.211425, 29.294995, 80.64136500000001, 87.71901124, 104.18105161, 122.11397731, 138.37691281, 164.7432566, 192.3617355, 221.2950925, 249.8496346, 278.9649356, 308.52008259999997, 338.1307246, 364.60352029999996, 391.3549286, 418.37165559999994, 445.6297406, 473.1478006, 494.11095059999997, 514.5496585999999, 536.5510606, 552.8239206, 572.951957], \"type\": \"bar\", \"uid\": \"d1425503-0c8d-4741-a5d7-eb81e2e83ca7\"}, {\"marker\": {\"color\": \"rgba(55, 128, 191, 0.6)\", \"line\": {\"color\": \"rgba(55, 128, 191, 1.0)\", \"width\": 1}}, \"name\": \"Hydro\", \"orientation\": \"v\", \"text\": \"\", \"x\": [2015, 2016, 2017, 2018, 2019, 2020, 2021, 2022, 2023, 2024, 2025, 2026, 2027, 2028, 2029, 2030, 2031, 2032, 2033, 2034, 2035, 2036, 2037, 2038, 2039, 2040], \"y\": [68.475855, 80.75327419999999, 89.84038650000001, 99.4505606, 108.39263450000001, 117.015736, 125.570712, 134.0968885, 144.70142600000003, 145.266446, 145.266446, 144.50011600000002, 144.50011600000002, 144.50011600000002, 144.50011600000002, 144.50011600000002, 144.50011600000002, 144.50011600000002, 144.50011600000002, 144.50011600000002, 144.50011600000002, 144.50011600000002, 144.50011600000002, 144.50011600000002, 144.50011600000002, 144.50011600000002], \"type\": \"bar\", \"uid\": \"31c10cbf-baae-479f-9411-131461d0dc18\"}, {\"marker\": {\"color\": \"rgba(255, 153, 51, 0.6)\", \"line\": {\"color\": \"rgba(255, 153, 51, 1.0)\", \"width\": 1}}, \"name\": \"Natural gas\", \"orientation\": \"v\", \"text\": \"\", \"x\": [2015, 2016, 2017, 2018, 2019, 2020, 2021, 2022, 2023, 2024, 2025, 2026, 2027, 2028, 2029, 2030, 2031, 2032, 2033, 2034, 2035, 2036, 2037, 2038, 2039, 2040], \"y\": [38.657340000000005, 49.59036, 49.59036, 49.59036, 2.5329538, 0.13794792, 0.13794792, 0.13794792, 0.13794792, 0.13794792, 0.2814588, 0.2814588, 0.2814588, 0.2814588, 0.0, 0.0, 0.0, 0.0, 0.0, 0.0, 0.0, 6.7832261, 14.3188572, 22.586529, 36.491453, 46.7052256], \"type\": \"bar\", \"uid\": \"1b2b6a26-55c4-461d-9dfe-4884e7dc227b\"}, {\"marker\": {\"color\": \"rgba(255, 215, 0, 0.6)\", \"line\": {\"color\": \"rgba(255, 215, 0, 1.0)\", \"width\": 1}}, \"name\": \"Solar\", \"orientation\": \"v\", \"text\": \"\", \"x\": [2015, 2016, 2017, 2018, 2019, 2020, 2021, 2022, 2023, 2024, 2025, 2026, 2027, 2028, 2029, 2030, 2031, 2032, 2033, 2034, 2035, 2036, 2037, 2038, 2039, 2040], \"y\": [0.0, 0.0, 0.0, 0.0, 0.89442375, 2.0869887, 2.9814125, 2.9814125, 2.9814125, 2.9814125, 2.9814125, 2.9814125, 2.9814125, 2.9814125, 2.9814125, 2.9814125, 2.9814125, 2.9814125, 2.9814125, 2.9814125, 2.9814125, 2.9814125, 2.9814125, 2.9814125, 2.0869887, 0.89442375], \"type\": \"bar\", \"uid\": \"74797d2a-878c-4b11-8b04-c67760997f63\"}, {\"marker\": {\"color\": \"rgba(238, 130, 238, 0.6)\", \"line\": {\"color\": \"rgba(238, 130, 238, 1.0)\", \"width\": 1}}, \"name\": \"Wind\", \"orientation\": \"v\", \"text\": \"\", \"x\": [2015, 2016, 2017, 2018, 2019, 2020, 2021, 2022, 2023, 2024, 2025, 2026, 2027, 2028, 2029, 2030, 2031, 2032, 2033, 2034, 2035, 2036, 2037, 2038, 2039, 2040], \"y\": [0.19208263, 0.096087423, 0.17290203, 1.699143023, 2.65969207, 3.3436500000000002, 3.2668354, 3.1707479700000003, 3.1707479700000003, 3.43973743, 3.43973743, 3.43973743, 3.43973743, 3.43973743, 3.43973743, 3.43973743, 3.43973743, 3.43973743, 3.43973743, 3.43973743, 3.43973743, 3.43973743, 3.43973743, 1.37560978, 0.51105586, 0.0], \"type\": \"bar\", \"uid\": \"fa0c8cf2-8ce9-4d42-ab41-5d3e282235d6\"}], {\"barmode\": \"stack\", \"legend\": {\"bgcolor\": \"#FFFFFF\", \"font\": {\"color\": \"#4D5663\"}, \"traceorder\": \"normal\"}, \"paper_bgcolor\": \"#FFFFFF\", \"plot_bgcolor\": \"#FFFFFF\", \"title\": {\"text\": \"Power Generation (Detail)\", \"font\": {\"color\": \"#4D5663\"}}, \"xaxis\": {\"gridcolor\": \"#E1E5ED\", \"showgrid\": true, \"tickfont\": {\"color\": \"#4D5663\"}, \"title\": {\"text\": \"Year\", \"font\": {\"color\": \"#4D5663\"}}, \"zerolinecolor\": \"#E1E5ED\"}, \"yaxis\": {\"gridcolor\": \"#E1E5ED\", \"showgrid\": true, \"tickfont\": {\"color\": \"#4D5663\"}, \"title\": {\"text\": \"Petajoules (PJ)\", \"font\": {\"color\": \"#4D5663\"}}, \"zerolinecolor\": \"#E1E5ED\"}}, {\"showLink\": true, \"linkText\": \"Export to plot.ly\", \"plotlyServerURL\": \"https://plot.ly\"}); \n",
       "}\n",
       "});</script><script type=\"text/javascript\">window.addEventListener(\"resize\", function(){if (document.getElementById(\"a10f3094-f597-47c8-9ba8-b04803cbc449\")) {window._Plotly.Plots.resize(document.getElementById(\"a10f3094-f597-47c8-9ba8-b04803cbc449\"));};})</script>"
      ],
      "text/vnd.plotly.v1+html": [
       "<div id=\"a10f3094-f597-47c8-9ba8-b04803cbc449\" style=\"height: 525px; width: 100%;\" class=\"plotly-graph-div\"></div><script type=\"text/javascript\">require([\"plotly\"], function(Plotly) { window.PLOTLYENV=window.PLOTLYENV || {};window.PLOTLYENV.BASE_URL=\"https://plot.ly\";\n",
       "if (document.getElementById(\"a10f3094-f597-47c8-9ba8-b04803cbc449\")) {\n",
       "    Plotly.newPlot(\"a10f3094-f597-47c8-9ba8-b04803cbc449\", [{\"marker\": {\"color\": \"rgba(34, 139, 34, 0.6)\", \"line\": {\"color\": \"rgba(34, 139, 34, 1.0)\", \"width\": 1}}, \"name\": \"Biomass\", \"orientation\": \"v\", \"text\": \"\", \"x\": [2015, 2016, 2017, 2018, 2019, 2020, 2021, 2022, 2023, 2024, 2025, 2026, 2027, 2028, 2029, 2030, 2031, 2032, 2033, 2034, 2035, 2036, 2037, 2038, 2039, 2040], \"y\": [0.0, 0.23652, 0.67014, 1.34028, 1.34028, 1.4191073859999999, 1.4191073859999999, 1.4191073859999999, 1.4191073859999999, 1.529496, 1.529496, 1.529496, 1.529496, 1.34028, 1.34028, 1.34028, 1.34028, 1.34028, 1.34028, 1.34028, 1.34028, 1.34028, 1.34028, 1.34028, 1.34028, 1.34028], \"type\": \"bar\", \"uid\": \"f1b2db59-9bdb-4c4a-8781-2fddd89e082b\"}, {\"marker\": {\"color\": \"rgba(0, 0, 0, 0.6)\", \"line\": {\"color\": \"rgba(0, 0, 0, 1.0)\", \"width\": 1}}, \"name\": \"Coal\", \"orientation\": \"v\", \"text\": \"\", \"x\": [2015, 2016, 2017, 2018, 2019, 2020, 2021, 2022, 2023, 2024, 2025, 2026, 2027, 2028, 2029, 2030, 2031, 2032, 2033, 2034, 2035, 2036, 2037, 2038, 2039, 2040], \"y\": [30.010598, 21.1428833, 26.211425, 29.294995, 80.64136500000001, 87.71901124, 104.18105161, 122.11397731, 138.37691281, 164.7432566, 192.3617355, 221.2950925, 249.8496346, 278.9649356, 308.52008259999997, 338.1307246, 364.60352029999996, 391.3549286, 418.37165559999994, 445.6297406, 473.1478006, 494.11095059999997, 514.5496585999999, 536.5510606, 552.8239206, 572.951957], \"type\": \"bar\", \"uid\": \"d1425503-0c8d-4741-a5d7-eb81e2e83ca7\"}, {\"marker\": {\"color\": \"rgba(55, 128, 191, 0.6)\", \"line\": {\"color\": \"rgba(55, 128, 191, 1.0)\", \"width\": 1}}, \"name\": \"Hydro\", \"orientation\": \"v\", \"text\": \"\", \"x\": [2015, 2016, 2017, 2018, 2019, 2020, 2021, 2022, 2023, 2024, 2025, 2026, 2027, 2028, 2029, 2030, 2031, 2032, 2033, 2034, 2035, 2036, 2037, 2038, 2039, 2040], \"y\": [68.475855, 80.75327419999999, 89.84038650000001, 99.4505606, 108.39263450000001, 117.015736, 125.570712, 134.0968885, 144.70142600000003, 145.266446, 145.266446, 144.50011600000002, 144.50011600000002, 144.50011600000002, 144.50011600000002, 144.50011600000002, 144.50011600000002, 144.50011600000002, 144.50011600000002, 144.50011600000002, 144.50011600000002, 144.50011600000002, 144.50011600000002, 144.50011600000002, 144.50011600000002, 144.50011600000002], \"type\": \"bar\", \"uid\": \"31c10cbf-baae-479f-9411-131461d0dc18\"}, {\"marker\": {\"color\": \"rgba(255, 153, 51, 0.6)\", \"line\": {\"color\": \"rgba(255, 153, 51, 1.0)\", \"width\": 1}}, \"name\": \"Natural gas\", \"orientation\": \"v\", \"text\": \"\", \"x\": [2015, 2016, 2017, 2018, 2019, 2020, 2021, 2022, 2023, 2024, 2025, 2026, 2027, 2028, 2029, 2030, 2031, 2032, 2033, 2034, 2035, 2036, 2037, 2038, 2039, 2040], \"y\": [38.657340000000005, 49.59036, 49.59036, 49.59036, 2.5329538, 0.13794792, 0.13794792, 0.13794792, 0.13794792, 0.13794792, 0.2814588, 0.2814588, 0.2814588, 0.2814588, 0.0, 0.0, 0.0, 0.0, 0.0, 0.0, 0.0, 6.7832261, 14.3188572, 22.586529, 36.491453, 46.7052256], \"type\": \"bar\", \"uid\": \"1b2b6a26-55c4-461d-9dfe-4884e7dc227b\"}, {\"marker\": {\"color\": \"rgba(255, 215, 0, 0.6)\", \"line\": {\"color\": \"rgba(255, 215, 0, 1.0)\", \"width\": 1}}, \"name\": \"Solar\", \"orientation\": \"v\", \"text\": \"\", \"x\": [2015, 2016, 2017, 2018, 2019, 2020, 2021, 2022, 2023, 2024, 2025, 2026, 2027, 2028, 2029, 2030, 2031, 2032, 2033, 2034, 2035, 2036, 2037, 2038, 2039, 2040], \"y\": [0.0, 0.0, 0.0, 0.0, 0.89442375, 2.0869887, 2.9814125, 2.9814125, 2.9814125, 2.9814125, 2.9814125, 2.9814125, 2.9814125, 2.9814125, 2.9814125, 2.9814125, 2.9814125, 2.9814125, 2.9814125, 2.9814125, 2.9814125, 2.9814125, 2.9814125, 2.9814125, 2.0869887, 0.89442375], \"type\": \"bar\", \"uid\": \"74797d2a-878c-4b11-8b04-c67760997f63\"}, {\"marker\": {\"color\": \"rgba(238, 130, 238, 0.6)\", \"line\": {\"color\": \"rgba(238, 130, 238, 1.0)\", \"width\": 1}}, \"name\": \"Wind\", \"orientation\": \"v\", \"text\": \"\", \"x\": [2015, 2016, 2017, 2018, 2019, 2020, 2021, 2022, 2023, 2024, 2025, 2026, 2027, 2028, 2029, 2030, 2031, 2032, 2033, 2034, 2035, 2036, 2037, 2038, 2039, 2040], \"y\": [0.19208263, 0.096087423, 0.17290203, 1.699143023, 2.65969207, 3.3436500000000002, 3.2668354, 3.1707479700000003, 3.1707479700000003, 3.43973743, 3.43973743, 3.43973743, 3.43973743, 3.43973743, 3.43973743, 3.43973743, 3.43973743, 3.43973743, 3.43973743, 3.43973743, 3.43973743, 3.43973743, 3.43973743, 1.37560978, 0.51105586, 0.0], \"type\": \"bar\", \"uid\": \"fa0c8cf2-8ce9-4d42-ab41-5d3e282235d6\"}], {\"barmode\": \"stack\", \"legend\": {\"bgcolor\": \"#FFFFFF\", \"font\": {\"color\": \"#4D5663\"}, \"traceorder\": \"normal\"}, \"paper_bgcolor\": \"#FFFFFF\", \"plot_bgcolor\": \"#FFFFFF\", \"title\": {\"text\": \"Power Generation (Detail)\", \"font\": {\"color\": \"#4D5663\"}}, \"xaxis\": {\"gridcolor\": \"#E1E5ED\", \"showgrid\": true, \"tickfont\": {\"color\": \"#4D5663\"}, \"title\": {\"text\": \"Year\", \"font\": {\"color\": \"#4D5663\"}}, \"zerolinecolor\": \"#E1E5ED\"}, \"yaxis\": {\"gridcolor\": \"#E1E5ED\", \"showgrid\": true, \"tickfont\": {\"color\": \"#4D5663\"}, \"title\": {\"text\": \"Petajoules (PJ)\", \"font\": {\"color\": \"#4D5663\"}}, \"zerolinecolor\": \"#E1E5ED\"}}, {\"showLink\": true, \"linkText\": \"Export to plot.ly\", \"plotlyServerURL\": \"https://plot.ly\"}); \n",
       "}\n",
       "});</script><script type=\"text/javascript\">window.addEventListener(\"resize\", function(){if (document.getElementById(\"a10f3094-f597-47c8-9ba8-b04803cbc449\")) {window._Plotly.Plots.resize(document.getElementById(\"a10f3094-f597-47c8-9ba8-b04803cbc449\"));};})</script>"
      ]
     },
     "metadata": {},
     "output_type": "display_data"
    }
   ],
   "source": [
    "#Power generation (Detailed)\n",
    "gen_df = all_params['ProductionByTechnologyAnnual'][all_params['ProductionByTechnologyAnnual'].t.str.startswith('PWR') & \n",
    "                                                   all_params['ProductionByTechnologyAnnual'].f.str.startswith('ELC001')].drop('r', axis=1)\n",
    "gen_df = df_filter(gen_df,3,6,['TRN'])\n",
    "df_plot(gen_df,'Petajoules (PJ)','Power Generation (Detail)')"
   ]
  },
  {
   "cell_type": "code",
   "execution_count": 236,
   "metadata": {},
   "outputs": [
    {
     "data": {
      "application/vnd.plotly.v1+json": {
       "config": {
        "linkText": "Export to plot.ly",
        "plotlyServerURL": "https://plot.ly",
        "showLink": true
       },
       "data": [
        {
         "marker": {
          "color": "rgba(0, 0, 0, 0.6)",
          "line": {
           "color": "rgba(0, 0, 0, 1.0)",
           "width": 1
          }
         },
         "name": "Coal",
         "orientation": "v",
         "text": "",
         "type": "bar",
         "uid": "c088e4c9-3e69-464e-a256-7053309b2b51",
         "x": [
          2015,
          2016,
          2017,
          2018,
          2019,
          2020,
          2021,
          2022,
          2023,
          2024,
          2025,
          2026,
          2027,
          2028,
          2029,
          2030,
          2031,
          2032,
          2033,
          2034,
          2035,
          2036,
          2037,
          2038,
          2039,
          2040
         ],
         "y": [
          30.01,
          21.14,
          26.21,
          29.29,
          80.64,
          87.72,
          104.18,
          122.11,
          138.38,
          164.74,
          192.36,
          221.3,
          249.85,
          278.96,
          308.52,
          338.13,
          364.6,
          391.35,
          418.37,
          445.63,
          473.15,
          494.11,
          514.55,
          536.55,
          552.82,
          572.95
         ]
        },
        {
         "marker": {
          "color": "rgba(178, 34, 34, 0.6)",
          "line": {
           "color": "rgba(178, 34, 34, 1.0)",
           "width": 1
          }
         },
         "name": "Oil",
         "orientation": "v",
         "text": "",
         "type": "bar",
         "uid": "c912b875-f2ea-4270-8e3d-16f2d2b1d00d",
         "x": [
          2015,
          2016,
          2017,
          2018,
          2019,
          2020,
          2021,
          2022,
          2023,
          2024,
          2025,
          2026,
          2027,
          2028,
          2029,
          2030,
          2031,
          2032,
          2033,
          2034,
          2035,
          2036,
          2037,
          2038,
          2039,
          2040
         ],
         "y": [
          0,
          0,
          0,
          0,
          0,
          0,
          0,
          0,
          0,
          0,
          0,
          0,
          0,
          0,
          0,
          0,
          0,
          0,
          0,
          0,
          0,
          0,
          0,
          0,
          0,
          0
         ]
        },
        {
         "marker": {
          "color": "rgba(255, 153, 51, 0.6)",
          "line": {
           "color": "rgba(255, 153, 51, 1.0)",
           "width": 1
          }
         },
         "name": "Gas",
         "orientation": "v",
         "text": "",
         "type": "bar",
         "uid": "bfcc936f-d062-4771-861e-c95d52ed37e9",
         "x": [
          2015,
          2016,
          2017,
          2018,
          2019,
          2020,
          2021,
          2022,
          2023,
          2024,
          2025,
          2026,
          2027,
          2028,
          2029,
          2030,
          2031,
          2032,
          2033,
          2034,
          2035,
          2036,
          2037,
          2038,
          2039,
          2040
         ],
         "y": [
          38.66,
          49.59,
          49.59,
          49.59,
          2.53,
          0.14,
          0.14,
          0.14,
          0.14,
          0.14,
          0.28,
          0.28,
          0.28,
          0.28,
          0,
          0,
          0,
          0,
          0,
          0,
          0,
          6.78,
          14.32,
          22.59,
          36.49,
          46.71
         ]
        },
        {
         "marker": {
          "color": "rgba(55, 128, 191, 0.6)",
          "line": {
           "color": "rgba(55, 128, 191, 1.0)",
           "width": 1
          }
         },
         "name": "Hydro",
         "orientation": "v",
         "text": "",
         "type": "bar",
         "uid": "0eb264c8-f9d3-41a0-ad3a-11f1b54da195",
         "x": [
          2015,
          2016,
          2017,
          2018,
          2019,
          2020,
          2021,
          2022,
          2023,
          2024,
          2025,
          2026,
          2027,
          2028,
          2029,
          2030,
          2031,
          2032,
          2033,
          2034,
          2035,
          2036,
          2037,
          2038,
          2039,
          2040
         ],
         "y": [
          68.48,
          80.75,
          89.84,
          99.45,
          108.39,
          117.02,
          125.57,
          134.1,
          144.7,
          145.27,
          145.27,
          144.5,
          144.5,
          144.5,
          144.5,
          144.5,
          144.5,
          144.5,
          144.5,
          144.5,
          144.5,
          144.5,
          144.5,
          144.5,
          144.5,
          144.5
         ]
        },
        {
         "marker": {
          "color": "rgba(128, 128, 128, 0.6)",
          "line": {
           "color": "rgba(128, 128, 128, 1.0)",
           "width": 1
          }
         },
         "name": "Nuclear",
         "orientation": "v",
         "text": "",
         "type": "bar",
         "uid": "e05e174d-032b-499e-9f02-eb140833812d",
         "x": [
          2015,
          2016,
          2017,
          2018,
          2019,
          2020,
          2021,
          2022,
          2023,
          2024,
          2025,
          2026,
          2027,
          2028,
          2029,
          2030,
          2031,
          2032,
          2033,
          2034,
          2035,
          2036,
          2037,
          2038,
          2039,
          2040
         ],
         "y": [
          0,
          0,
          0,
          0,
          0,
          0,
          0,
          0,
          0,
          0,
          0,
          0,
          0,
          0,
          0,
          0,
          0,
          0,
          0,
          0,
          0,
          0,
          0,
          0,
          0,
          0
         ]
        },
        {
         "marker": {
          "color": "rgba(0, 128, 0, 0.6)",
          "line": {
           "color": "rgba(0, 128, 0, 1.0)",
           "width": 1
          }
         },
         "name": "Other renewables",
         "orientation": "v",
         "text": "",
         "type": "bar",
         "uid": "8ba6cfa0-0644-48b0-bf75-67ebdfce97e8",
         "x": [
          2015,
          2016,
          2017,
          2018,
          2019,
          2020,
          2021,
          2022,
          2023,
          2024,
          2025,
          2026,
          2027,
          2028,
          2029,
          2030,
          2031,
          2032,
          2033,
          2034,
          2035,
          2036,
          2037,
          2038,
          2039,
          2040
         ],
         "y": [
          0.19,
          0.34,
          0.84,
          3.04,
          4.89,
          6.85,
          7.67,
          7.57,
          7.57,
          7.95,
          7.95,
          7.95,
          7.95,
          7.76,
          7.76,
          7.76,
          7.76,
          7.76,
          7.76,
          7.76,
          7.76,
          7.76,
          7.76,
          5.7,
          3.94,
          2.23
         ]
        }
       ],
       "layout": {
        "barmode": "stack",
        "legend": {
         "bgcolor": "#FFFFFF",
         "font": {
          "color": "#4D5663"
         },
         "traceorder": "normal"
        },
        "paper_bgcolor": "#FFFFFF",
        "plot_bgcolor": "#FFFFFF",
        "title": {
         "font": {
          "color": "#4D5663"
         },
         "text": "Power Generation (Aggregate)"
        },
        "xaxis": {
         "gridcolor": "#E1E5ED",
         "showgrid": true,
         "tickfont": {
          "color": "#4D5663"
         },
         "title": {
          "font": {
           "color": "#4D5663"
          },
          "text": "Year"
         },
         "zerolinecolor": "#E1E5ED"
        },
        "yaxis": {
         "gridcolor": "#E1E5ED",
         "showgrid": true,
         "tickfont": {
          "color": "#4D5663"
         },
         "title": {
          "font": {
           "color": "#4D5663"
          },
          "text": "Petajoules (PJ)"
         },
         "zerolinecolor": "#E1E5ED"
        }
       }
      },
      "text/html": [
       "<div id=\"36dfba78-d8ea-4095-a4ba-df531464676d\" style=\"height: 525px; width: 100%;\" class=\"plotly-graph-div\"></div><script type=\"text/javascript\">require([\"plotly\"], function(Plotly) { window.PLOTLYENV=window.PLOTLYENV || {};window.PLOTLYENV.BASE_URL=\"https://plot.ly\";\n",
       "if (document.getElementById(\"36dfba78-d8ea-4095-a4ba-df531464676d\")) {\n",
       "    Plotly.newPlot(\"36dfba78-d8ea-4095-a4ba-df531464676d\", [{\"marker\": {\"color\": \"rgba(0, 0, 0, 0.6)\", \"line\": {\"color\": \"rgba(0, 0, 0, 1.0)\", \"width\": 1}}, \"name\": \"Coal\", \"orientation\": \"v\", \"text\": \"\", \"x\": [2015, 2016, 2017, 2018, 2019, 2020, 2021, 2022, 2023, 2024, 2025, 2026, 2027, 2028, 2029, 2030, 2031, 2032, 2033, 2034, 2035, 2036, 2037, 2038, 2039, 2040], \"y\": [30.01, 21.14, 26.21, 29.29, 80.64, 87.72, 104.18, 122.11, 138.38, 164.74, 192.36, 221.3, 249.85, 278.96, 308.52, 338.13, 364.6, 391.35, 418.37, 445.63, 473.15, 494.11, 514.55, 536.55, 552.82, 572.95], \"type\": \"bar\", \"uid\": \"9833c844-ef3d-4cfa-bbe9-96730f011998\"}, {\"marker\": {\"color\": \"rgba(178, 34, 34, 0.6)\", \"line\": {\"color\": \"rgba(178, 34, 34, 1.0)\", \"width\": 1}}, \"name\": \"Oil\", \"orientation\": \"v\", \"text\": \"\", \"x\": [2015, 2016, 2017, 2018, 2019, 2020, 2021, 2022, 2023, 2024, 2025, 2026, 2027, 2028, 2029, 2030, 2031, 2032, 2033, 2034, 2035, 2036, 2037, 2038, 2039, 2040], \"y\": [0.0, 0.0, 0.0, 0.0, 0.0, 0.0, 0.0, 0.0, 0.0, 0.0, 0.0, 0.0, 0.0, 0.0, 0.0, 0.0, 0.0, 0.0, 0.0, 0.0, 0.0, 0.0, 0.0, 0.0, 0.0, 0.0], \"type\": \"bar\", \"uid\": \"e90c6bf2-f41c-4ba2-a276-37ed7cad1ed3\"}, {\"marker\": {\"color\": \"rgba(255, 153, 51, 0.6)\", \"line\": {\"color\": \"rgba(255, 153, 51, 1.0)\", \"width\": 1}}, \"name\": \"Gas\", \"orientation\": \"v\", \"text\": \"\", \"x\": [2015, 2016, 2017, 2018, 2019, 2020, 2021, 2022, 2023, 2024, 2025, 2026, 2027, 2028, 2029, 2030, 2031, 2032, 2033, 2034, 2035, 2036, 2037, 2038, 2039, 2040], \"y\": [38.66, 49.59, 49.59, 49.59, 2.53, 0.14, 0.14, 0.14, 0.14, 0.14, 0.28, 0.28, 0.28, 0.28, 0.0, 0.0, 0.0, 0.0, 0.0, 0.0, 0.0, 6.78, 14.32, 22.59, 36.49, 46.71], \"type\": \"bar\", \"uid\": \"bcfebac2-1ff9-4a2c-93e0-95bf93b95fc5\"}, {\"marker\": {\"color\": \"rgba(55, 128, 191, 0.6)\", \"line\": {\"color\": \"rgba(55, 128, 191, 1.0)\", \"width\": 1}}, \"name\": \"Hydro\", \"orientation\": \"v\", \"text\": \"\", \"x\": [2015, 2016, 2017, 2018, 2019, 2020, 2021, 2022, 2023, 2024, 2025, 2026, 2027, 2028, 2029, 2030, 2031, 2032, 2033, 2034, 2035, 2036, 2037, 2038, 2039, 2040], \"y\": [68.48, 80.75, 89.84, 99.45, 108.39, 117.02, 125.57, 134.1, 144.7, 145.27, 145.27, 144.5, 144.5, 144.5, 144.5, 144.5, 144.5, 144.5, 144.5, 144.5, 144.5, 144.5, 144.5, 144.5, 144.5, 144.5], \"type\": \"bar\", \"uid\": \"0b506946-891d-4260-81d1-da5359a524e5\"}, {\"marker\": {\"color\": \"rgba(128, 128, 128, 0.6)\", \"line\": {\"color\": \"rgba(128, 128, 128, 1.0)\", \"width\": 1}}, \"name\": \"Nuclear\", \"orientation\": \"v\", \"text\": \"\", \"x\": [2015, 2016, 2017, 2018, 2019, 2020, 2021, 2022, 2023, 2024, 2025, 2026, 2027, 2028, 2029, 2030, 2031, 2032, 2033, 2034, 2035, 2036, 2037, 2038, 2039, 2040], \"y\": [0.0, 0.0, 0.0, 0.0, 0.0, 0.0, 0.0, 0.0, 0.0, 0.0, 0.0, 0.0, 0.0, 0.0, 0.0, 0.0, 0.0, 0.0, 0.0, 0.0, 0.0, 0.0, 0.0, 0.0, 0.0, 0.0], \"type\": \"bar\", \"uid\": \"6bb39211-be3c-444c-8fc1-44537bb3594a\"}, {\"marker\": {\"color\": \"rgba(0, 128, 0, 0.6)\", \"line\": {\"color\": \"rgba(0, 128, 0, 1.0)\", \"width\": 1}}, \"name\": \"Other renewables\", \"orientation\": \"v\", \"text\": \"\", \"x\": [2015, 2016, 2017, 2018, 2019, 2020, 2021, 2022, 2023, 2024, 2025, 2026, 2027, 2028, 2029, 2030, 2031, 2032, 2033, 2034, 2035, 2036, 2037, 2038, 2039, 2040], \"y\": [0.19, 0.34, 0.84, 3.04, 4.89, 6.85, 7.67, 7.57, 7.57, 7.95, 7.95, 7.95, 7.95, 7.76, 7.76, 7.76, 7.76, 7.76, 7.76, 7.76, 7.76, 7.76, 7.76, 5.7, 3.94, 2.23], \"type\": \"bar\", \"uid\": \"83708515-9888-4c74-af6e-ed5c7e495ccd\"}], {\"barmode\": \"stack\", \"legend\": {\"bgcolor\": \"#FFFFFF\", \"font\": {\"color\": \"#4D5663\"}, \"traceorder\": \"normal\"}, \"paper_bgcolor\": \"#FFFFFF\", \"plot_bgcolor\": \"#FFFFFF\", \"title\": {\"text\": \"Power Generation (Aggregate)\", \"font\": {\"color\": \"#4D5663\"}}, \"xaxis\": {\"gridcolor\": \"#E1E5ED\", \"showgrid\": true, \"tickfont\": {\"color\": \"#4D5663\"}, \"title\": {\"text\": \"Year\", \"font\": {\"color\": \"#4D5663\"}}, \"zerolinecolor\": \"#E1E5ED\"}, \"yaxis\": {\"gridcolor\": \"#E1E5ED\", \"showgrid\": true, \"tickfont\": {\"color\": \"#4D5663\"}, \"title\": {\"text\": \"Petajoules (PJ)\", \"font\": {\"color\": \"#4D5663\"}}, \"zerolinecolor\": \"#E1E5ED\"}}, {\"showLink\": true, \"linkText\": \"Export to plot.ly\", \"plotlyServerURL\": \"https://plot.ly\"}); \n",
       "}\n",
       "});</script><script type=\"text/javascript\">window.addEventListener(\"resize\", function(){if (document.getElementById(\"36dfba78-d8ea-4095-a4ba-df531464676d\")) {window._Plotly.Plots.resize(document.getElementById(\"36dfba78-d8ea-4095-a4ba-df531464676d\"));};})</script>"
      ],
      "text/vnd.plotly.v1+html": [
       "<div id=\"36dfba78-d8ea-4095-a4ba-df531464676d\" style=\"height: 525px; width: 100%;\" class=\"plotly-graph-div\"></div><script type=\"text/javascript\">require([\"plotly\"], function(Plotly) { window.PLOTLYENV=window.PLOTLYENV || {};window.PLOTLYENV.BASE_URL=\"https://plot.ly\";\n",
       "if (document.getElementById(\"36dfba78-d8ea-4095-a4ba-df531464676d\")) {\n",
       "    Plotly.newPlot(\"36dfba78-d8ea-4095-a4ba-df531464676d\", [{\"marker\": {\"color\": \"rgba(0, 0, 0, 0.6)\", \"line\": {\"color\": \"rgba(0, 0, 0, 1.0)\", \"width\": 1}}, \"name\": \"Coal\", \"orientation\": \"v\", \"text\": \"\", \"x\": [2015, 2016, 2017, 2018, 2019, 2020, 2021, 2022, 2023, 2024, 2025, 2026, 2027, 2028, 2029, 2030, 2031, 2032, 2033, 2034, 2035, 2036, 2037, 2038, 2039, 2040], \"y\": [30.01, 21.14, 26.21, 29.29, 80.64, 87.72, 104.18, 122.11, 138.38, 164.74, 192.36, 221.3, 249.85, 278.96, 308.52, 338.13, 364.6, 391.35, 418.37, 445.63, 473.15, 494.11, 514.55, 536.55, 552.82, 572.95], \"type\": \"bar\", \"uid\": \"9833c844-ef3d-4cfa-bbe9-96730f011998\"}, {\"marker\": {\"color\": \"rgba(178, 34, 34, 0.6)\", \"line\": {\"color\": \"rgba(178, 34, 34, 1.0)\", \"width\": 1}}, \"name\": \"Oil\", \"orientation\": \"v\", \"text\": \"\", \"x\": [2015, 2016, 2017, 2018, 2019, 2020, 2021, 2022, 2023, 2024, 2025, 2026, 2027, 2028, 2029, 2030, 2031, 2032, 2033, 2034, 2035, 2036, 2037, 2038, 2039, 2040], \"y\": [0.0, 0.0, 0.0, 0.0, 0.0, 0.0, 0.0, 0.0, 0.0, 0.0, 0.0, 0.0, 0.0, 0.0, 0.0, 0.0, 0.0, 0.0, 0.0, 0.0, 0.0, 0.0, 0.0, 0.0, 0.0, 0.0], \"type\": \"bar\", \"uid\": \"e90c6bf2-f41c-4ba2-a276-37ed7cad1ed3\"}, {\"marker\": {\"color\": \"rgba(255, 153, 51, 0.6)\", \"line\": {\"color\": \"rgba(255, 153, 51, 1.0)\", \"width\": 1}}, \"name\": \"Gas\", \"orientation\": \"v\", \"text\": \"\", \"x\": [2015, 2016, 2017, 2018, 2019, 2020, 2021, 2022, 2023, 2024, 2025, 2026, 2027, 2028, 2029, 2030, 2031, 2032, 2033, 2034, 2035, 2036, 2037, 2038, 2039, 2040], \"y\": [38.66, 49.59, 49.59, 49.59, 2.53, 0.14, 0.14, 0.14, 0.14, 0.14, 0.28, 0.28, 0.28, 0.28, 0.0, 0.0, 0.0, 0.0, 0.0, 0.0, 0.0, 6.78, 14.32, 22.59, 36.49, 46.71], \"type\": \"bar\", \"uid\": \"bcfebac2-1ff9-4a2c-93e0-95bf93b95fc5\"}, {\"marker\": {\"color\": \"rgba(55, 128, 191, 0.6)\", \"line\": {\"color\": \"rgba(55, 128, 191, 1.0)\", \"width\": 1}}, \"name\": \"Hydro\", \"orientation\": \"v\", \"text\": \"\", \"x\": [2015, 2016, 2017, 2018, 2019, 2020, 2021, 2022, 2023, 2024, 2025, 2026, 2027, 2028, 2029, 2030, 2031, 2032, 2033, 2034, 2035, 2036, 2037, 2038, 2039, 2040], \"y\": [68.48, 80.75, 89.84, 99.45, 108.39, 117.02, 125.57, 134.1, 144.7, 145.27, 145.27, 144.5, 144.5, 144.5, 144.5, 144.5, 144.5, 144.5, 144.5, 144.5, 144.5, 144.5, 144.5, 144.5, 144.5, 144.5], \"type\": \"bar\", \"uid\": \"0b506946-891d-4260-81d1-da5359a524e5\"}, {\"marker\": {\"color\": \"rgba(128, 128, 128, 0.6)\", \"line\": {\"color\": \"rgba(128, 128, 128, 1.0)\", \"width\": 1}}, \"name\": \"Nuclear\", \"orientation\": \"v\", \"text\": \"\", \"x\": [2015, 2016, 2017, 2018, 2019, 2020, 2021, 2022, 2023, 2024, 2025, 2026, 2027, 2028, 2029, 2030, 2031, 2032, 2033, 2034, 2035, 2036, 2037, 2038, 2039, 2040], \"y\": [0.0, 0.0, 0.0, 0.0, 0.0, 0.0, 0.0, 0.0, 0.0, 0.0, 0.0, 0.0, 0.0, 0.0, 0.0, 0.0, 0.0, 0.0, 0.0, 0.0, 0.0, 0.0, 0.0, 0.0, 0.0, 0.0], \"type\": \"bar\", \"uid\": \"6bb39211-be3c-444c-8fc1-44537bb3594a\"}, {\"marker\": {\"color\": \"rgba(0, 128, 0, 0.6)\", \"line\": {\"color\": \"rgba(0, 128, 0, 1.0)\", \"width\": 1}}, \"name\": \"Other renewables\", \"orientation\": \"v\", \"text\": \"\", \"x\": [2015, 2016, 2017, 2018, 2019, 2020, 2021, 2022, 2023, 2024, 2025, 2026, 2027, 2028, 2029, 2030, 2031, 2032, 2033, 2034, 2035, 2036, 2037, 2038, 2039, 2040], \"y\": [0.19, 0.34, 0.84, 3.04, 4.89, 6.85, 7.67, 7.57, 7.57, 7.95, 7.95, 7.95, 7.95, 7.76, 7.76, 7.76, 7.76, 7.76, 7.76, 7.76, 7.76, 7.76, 7.76, 5.7, 3.94, 2.23], \"type\": \"bar\", \"uid\": \"83708515-9888-4c74-af6e-ed5c7e495ccd\"}], {\"barmode\": \"stack\", \"legend\": {\"bgcolor\": \"#FFFFFF\", \"font\": {\"color\": \"#4D5663\"}, \"traceorder\": \"normal\"}, \"paper_bgcolor\": \"#FFFFFF\", \"plot_bgcolor\": \"#FFFFFF\", \"title\": {\"text\": \"Power Generation (Aggregate)\", \"font\": {\"color\": \"#4D5663\"}}, \"xaxis\": {\"gridcolor\": \"#E1E5ED\", \"showgrid\": true, \"tickfont\": {\"color\": \"#4D5663\"}, \"title\": {\"text\": \"Year\", \"font\": {\"color\": \"#4D5663\"}}, \"zerolinecolor\": \"#E1E5ED\"}, \"yaxis\": {\"gridcolor\": \"#E1E5ED\", \"showgrid\": true, \"tickfont\": {\"color\": \"#4D5663\"}, \"title\": {\"text\": \"Petajoules (PJ)\", \"font\": {\"color\": \"#4D5663\"}}, \"zerolinecolor\": \"#E1E5ED\"}}, {\"showLink\": true, \"linkText\": \"Export to plot.ly\", \"plotlyServerURL\": \"https://plot.ly\"}); \n",
       "}\n",
       "});</script><script type=\"text/javascript\">window.addEventListener(\"resize\", function(){if (document.getElementById(\"36dfba78-d8ea-4095-a4ba-df531464676d\")) {window._Plotly.Plots.resize(document.getElementById(\"36dfba78-d8ea-4095-a4ba-df531464676d\"));};})</script>"
      ]
     },
     "metadata": {},
     "output_type": "display_data"
    }
   ],
   "source": [
    "# Power generation (Aggregated)\n",
    "gen_agg_df = pd.DataFrame(columns=agg_col)\n",
    "gen_agg_df.insert(0,'y',gen_df['y'])\n",
    "gen_agg_df  = gen_agg_df.fillna(0.00)\n",
    "\n",
    "for each in agg_col:\n",
    "    for tech_exists in agg_col[each]:\n",
    "        if tech_exists in gen_df.columns:\n",
    "            gen_agg_df[each] = gen_agg_df[each] + gen_df[tech_exists]\n",
    "            gen_agg_df[each] = gen_agg_df[each].round(2)\n",
    "\n",
    "df_plot(gen_agg_df,'Petajoules (PJ)','Power Generation (Aggregate)')"
   ]
  },
  {
   "cell_type": "code",
   "execution_count": 237,
   "metadata": {},
   "outputs": [
    {
     "data": {
      "application/vnd.plotly.v1+json": {
       "config": {
        "linkText": "Export to plot.ly",
        "plotlyServerURL": "https://plot.ly",
        "showLink": true
       },
       "data": [
        {
         "marker": {
          "color": "rgba(34, 139, 34, 0.6)",
          "line": {
           "color": "rgba(34, 139, 34, 1.0)",
           "width": 1
          }
         },
         "name": "Biomass",
         "orientation": "v",
         "text": "",
         "type": "bar",
         "uid": "93dcdfc6-a400-4f46-a794-17c4a9d9dca4",
         "x": [
          2015,
          2016,
          2017,
          2018,
          2019,
          2020,
          2021,
          2022,
          2023,
          2024,
          2025,
          2026,
          2027,
          2028,
          2029,
          2030,
          2031,
          2032,
          2033,
          2034,
          2035,
          2036,
          2037,
          2038,
          2039,
          2040
         ],
         "y": [
          0,
          0.6764472,
          1.9166004,
          3.8332008,
          3.8332008,
          3.945924,
          3.945924,
          3.945924,
          3.945924,
          4.1037797,
          4.1037797,
          4.1037797,
          4.1037797,
          3.8332008,
          3.8332008,
          3.8332008,
          3.8332008,
          3.8332008,
          3.8332008,
          3.8332008,
          3.8332008,
          3.8332008,
          3.8332008,
          3.8332008,
          3.8332008,
          3.8332008
         ]
        },
        {
         "marker": {
          "color": "rgba(0, 0, 0, 0.6)",
          "line": {
           "color": "rgba(0, 0, 0, 1.0)",
           "width": 1
          }
         },
         "name": "Coal",
         "orientation": "v",
         "text": "",
         "type": "bar",
         "uid": "7463d77e-18aa-4ce4-b2b5-9a5f9689ee29",
         "x": [
          2015,
          2016,
          2017,
          2018,
          2019,
          2020,
          2021,
          2022,
          2023,
          2024,
          2025,
          2026,
          2027,
          2028,
          2029,
          2030,
          2031,
          2032,
          2033,
          2034,
          2035,
          2036,
          2037,
          2038,
          2039,
          2040
         ],
         "y": [
          81.028614,
          57.085784,
          70.770846,
          79.096486,
          217.73168,
          236.02218,
          278.69734,
          326.38792,
          370.29785,
          439.44337,
          512.60318,
          590.72325,
          667.82051,
          746.43182,
          826.23071,
          906.17945,
          977.65598,
          1049.8848,
          1122.83,
          1196.4268,
          1270.7256,
          1327.7094,
          1383.2946,
          1442.6984,
          1486.6351,
          1524.7474
         ]
        },
        {
         "marker": {
          "color": "rgba(55, 128, 191, 0.6)",
          "line": {
           "color": "rgba(55, 128, 191, 1.0)",
           "width": 1
          }
         },
         "name": "Hydro",
         "orientation": "v",
         "text": "",
         "type": "bar",
         "uid": "ce6be3ea-7ded-45ce-9639-58ee96569f3a",
         "x": [
          2015,
          2016,
          2017,
          2018,
          2019,
          2020,
          2021,
          2022,
          2023,
          2024,
          2025,
          2026,
          2027,
          2028,
          2029,
          2030,
          2031,
          2032,
          2033,
          2034,
          2035,
          2036,
          2037,
          2038,
          2039,
          2040
         ],
         "y": [
          68.475855,
          80.753274,
          89.840386,
          99.450561,
          108.39263,
          117.01574,
          125.57071,
          134.09689,
          144.70143,
          145.26644,
          145.26644,
          144.50012,
          144.50012,
          144.50012,
          144.50012,
          144.50012,
          144.50012,
          144.50012,
          144.50012,
          144.50012,
          144.50012,
          144.50012,
          144.50012,
          144.50012,
          144.50012,
          144.50012
         ]
        },
        {
         "marker": {
          "color": "rgba(255, 153, 51, 0.6)",
          "line": {
           "color": "rgba(255, 153, 51, 1.0)",
           "width": 1
          }
         },
         "name": "Natural gas",
         "orientation": "v",
         "text": "",
         "type": "bar",
         "uid": "6b2a1a7a-e158-482b-aac5-d4cbe808b5b9",
         "x": [
          2015,
          2016,
          2017,
          2018,
          2019,
          2020,
          2021,
          2022,
          2023,
          2024,
          2025,
          2026,
          2027,
          2028,
          2029,
          2030,
          2031,
          2032,
          2033,
          2034,
          2035,
          2036,
          2037,
          2038,
          2039,
          2040
         ],
         "y": [
          68.423492,
          87.774937,
          87.774937,
          87.774937,
          4.4833282,
          0.17381439,
          0.17381439,
          0.17381439,
          0.17381439,
          0.17381439,
          0.35463809,
          0.35463809,
          0.35463809,
          0.35463809,
          0,
          0,
          0,
          0,
          0,
          0,
          0,
          12.00631,
          25.344377,
          39.978156,
          64.589871,
          82.66825
         ]
        },
        {
         "marker": {
          "color": "rgba(255, 215, 0, 0.6)",
          "line": {
           "color": "rgba(255, 215, 0, 1.0)",
           "width": 1
          }
         },
         "name": "Solar",
         "orientation": "v",
         "text": "",
         "type": "bar",
         "uid": "65cbb423-3400-4716-a58d-b2fdd3b5a047",
         "x": [
          2015,
          2016,
          2017,
          2018,
          2019,
          2020,
          2021,
          2022,
          2023,
          2024,
          2025,
          2026,
          2027,
          2028,
          2029,
          2030,
          2031,
          2032,
          2033,
          2034,
          2035,
          2036,
          2037,
          2038,
          2039,
          2040
         ],
         "y": [
          0,
          0,
          0,
          0,
          0.89442375,
          2.0869887,
          2.9814125,
          2.9814125,
          2.9814125,
          2.9814125,
          2.9814125,
          2.9814125,
          2.9814125,
          2.9814125,
          2.9814125,
          2.9814125,
          2.9814125,
          2.9814125,
          2.9814125,
          2.9814125,
          2.9814125,
          2.9814125,
          2.9814125,
          2.9814125,
          2.0869887,
          0.89442375
         ]
        },
        {
         "marker": {
          "color": "rgba(238, 130, 238, 0.6)",
          "line": {
           "color": "rgba(238, 130, 238, 1.0)",
           "width": 1
          }
         },
         "name": "Wind",
         "orientation": "v",
         "text": "",
         "type": "bar",
         "uid": "4205897d-c5dd-4b06-a1bd-3f290f7400d2",
         "x": [
          2015,
          2016,
          2017,
          2018,
          2019,
          2020,
          2021,
          2022,
          2023,
          2024,
          2025,
          2026,
          2027,
          2028,
          2029,
          2030,
          2031,
          2032,
          2033,
          2034,
          2035,
          2036,
          2037,
          2038,
          2039,
          2040
         ],
         "y": [
          0.19208263,
          0.096087423,
          0.17290203,
          1.699143,
          2.6596921,
          3.34365,
          3.2668354,
          3.170748,
          3.170748,
          3.4397374,
          3.4397374,
          3.4397374,
          3.4397374,
          3.4397374,
          3.4397374,
          3.4397374,
          3.4397374,
          3.4397374,
          3.4397374,
          3.4397374,
          3.4397374,
          3.4397374,
          3.4397374,
          1.3756098,
          0.51105586,
          0
         ]
        }
       ],
       "layout": {
        "barmode": "stack",
        "legend": {
         "bgcolor": "#FFFFFF",
         "font": {
          "color": "#4D5663"
         },
         "traceorder": "normal"
        },
        "paper_bgcolor": "#FFFFFF",
        "plot_bgcolor": "#FFFFFF",
        "title": {
         "font": {
          "color": "#4D5663"
         },
         "text": "Power Generation (Fuel use)"
        },
        "xaxis": {
         "gridcolor": "#E1E5ED",
         "showgrid": true,
         "tickfont": {
          "color": "#4D5663"
         },
         "title": {
          "font": {
           "color": "#4D5663"
          },
          "text": "Year"
         },
         "zerolinecolor": "#E1E5ED"
        },
        "yaxis": {
         "gridcolor": "#E1E5ED",
         "showgrid": true,
         "tickfont": {
          "color": "#4D5663"
         },
         "title": {
          "font": {
           "color": "#4D5663"
          },
          "text": "Petajoules (PJ)"
         },
         "zerolinecolor": "#E1E5ED"
        }
       }
      },
      "text/html": [
       "<div id=\"45aefbf8-d4a0-46f5-ad9d-b9a67dbec8ad\" style=\"height: 525px; width: 100%;\" class=\"plotly-graph-div\"></div><script type=\"text/javascript\">require([\"plotly\"], function(Plotly) { window.PLOTLYENV=window.PLOTLYENV || {};window.PLOTLYENV.BASE_URL=\"https://plot.ly\";\n",
       "if (document.getElementById(\"45aefbf8-d4a0-46f5-ad9d-b9a67dbec8ad\")) {\n",
       "    Plotly.newPlot(\"45aefbf8-d4a0-46f5-ad9d-b9a67dbec8ad\", [{\"marker\": {\"color\": \"rgba(34, 139, 34, 0.6)\", \"line\": {\"color\": \"rgba(34, 139, 34, 1.0)\", \"width\": 1}}, \"name\": \"Biomass\", \"orientation\": \"v\", \"text\": \"\", \"x\": [2015, 2016, 2017, 2018, 2019, 2020, 2021, 2022, 2023, 2024, 2025, 2026, 2027, 2028, 2029, 2030, 2031, 2032, 2033, 2034, 2035, 2036, 2037, 2038, 2039, 2040], \"y\": [0.0, 0.6764472, 1.9166004, 3.8332008, 3.8332008, 3.945924, 3.945924, 3.945924, 3.945924, 4.1037797, 4.1037797, 4.1037797, 4.1037797, 3.8332008, 3.8332008, 3.8332008, 3.8332008, 3.8332008, 3.8332008, 3.8332008, 3.8332008, 3.8332008, 3.8332008, 3.8332008, 3.8332008, 3.8332008], \"type\": \"bar\", \"uid\": \"ecdd5ebc-8d49-4bf9-969a-639025db590a\"}, {\"marker\": {\"color\": \"rgba(0, 0, 0, 0.6)\", \"line\": {\"color\": \"rgba(0, 0, 0, 1.0)\", \"width\": 1}}, \"name\": \"Coal\", \"orientation\": \"v\", \"text\": \"\", \"x\": [2015, 2016, 2017, 2018, 2019, 2020, 2021, 2022, 2023, 2024, 2025, 2026, 2027, 2028, 2029, 2030, 2031, 2032, 2033, 2034, 2035, 2036, 2037, 2038, 2039, 2040], \"y\": [81.028614, 57.085784, 70.770846, 79.096486, 217.73168, 236.02218, 278.69734, 326.38792, 370.29785, 439.44337, 512.60318, 590.72325, 667.82051, 746.43182, 826.23071, 906.17945, 977.65598, 1049.8848, 1122.83, 1196.4268, 1270.7256, 1327.7094, 1383.2946, 1442.6984, 1486.6351, 1524.7474], \"type\": \"bar\", \"uid\": \"1ef1ea39-8724-41c4-9bc9-6d0c0055799e\"}, {\"marker\": {\"color\": \"rgba(55, 128, 191, 0.6)\", \"line\": {\"color\": \"rgba(55, 128, 191, 1.0)\", \"width\": 1}}, \"name\": \"Hydro\", \"orientation\": \"v\", \"text\": \"\", \"x\": [2015, 2016, 2017, 2018, 2019, 2020, 2021, 2022, 2023, 2024, 2025, 2026, 2027, 2028, 2029, 2030, 2031, 2032, 2033, 2034, 2035, 2036, 2037, 2038, 2039, 2040], \"y\": [68.475855, 80.753274, 89.840386, 99.450561, 108.39263, 117.01574, 125.57071, 134.09689, 144.70143, 145.26644, 145.26644, 144.50012, 144.50012, 144.50012, 144.50012, 144.50012, 144.50012, 144.50012, 144.50012, 144.50012, 144.50012, 144.50012, 144.50012, 144.50012, 144.50012, 144.50012], \"type\": \"bar\", \"uid\": \"74f012fd-818e-4a21-be98-573065c64cb8\"}, {\"marker\": {\"color\": \"rgba(255, 153, 51, 0.6)\", \"line\": {\"color\": \"rgba(255, 153, 51, 1.0)\", \"width\": 1}}, \"name\": \"Natural gas\", \"orientation\": \"v\", \"text\": \"\", \"x\": [2015, 2016, 2017, 2018, 2019, 2020, 2021, 2022, 2023, 2024, 2025, 2026, 2027, 2028, 2029, 2030, 2031, 2032, 2033, 2034, 2035, 2036, 2037, 2038, 2039, 2040], \"y\": [68.423492, 87.774937, 87.774937, 87.774937, 4.4833282, 0.17381439, 0.17381439, 0.17381439, 0.17381439, 0.17381439, 0.35463809, 0.35463809, 0.35463809, 0.35463809, 0.0, 0.0, 0.0, 0.0, 0.0, 0.0, 0.0, 12.00631, 25.344377, 39.978156, 64.589871, 82.66825], \"type\": \"bar\", \"uid\": \"eac107f7-22ce-4701-b781-afdc82072314\"}, {\"marker\": {\"color\": \"rgba(255, 215, 0, 0.6)\", \"line\": {\"color\": \"rgba(255, 215, 0, 1.0)\", \"width\": 1}}, \"name\": \"Solar\", \"orientation\": \"v\", \"text\": \"\", \"x\": [2015, 2016, 2017, 2018, 2019, 2020, 2021, 2022, 2023, 2024, 2025, 2026, 2027, 2028, 2029, 2030, 2031, 2032, 2033, 2034, 2035, 2036, 2037, 2038, 2039, 2040], \"y\": [0.0, 0.0, 0.0, 0.0, 0.89442375, 2.0869887, 2.9814125, 2.9814125, 2.9814125, 2.9814125, 2.9814125, 2.9814125, 2.9814125, 2.9814125, 2.9814125, 2.9814125, 2.9814125, 2.9814125, 2.9814125, 2.9814125, 2.9814125, 2.9814125, 2.9814125, 2.9814125, 2.0869887, 0.89442375], \"type\": \"bar\", \"uid\": \"40d210a7-6284-4a58-9916-a51fcd526e97\"}, {\"marker\": {\"color\": \"rgba(238, 130, 238, 0.6)\", \"line\": {\"color\": \"rgba(238, 130, 238, 1.0)\", \"width\": 1}}, \"name\": \"Wind\", \"orientation\": \"v\", \"text\": \"\", \"x\": [2015, 2016, 2017, 2018, 2019, 2020, 2021, 2022, 2023, 2024, 2025, 2026, 2027, 2028, 2029, 2030, 2031, 2032, 2033, 2034, 2035, 2036, 2037, 2038, 2039, 2040], \"y\": [0.19208263, 0.096087423, 0.17290203, 1.699143, 2.6596921, 3.34365, 3.2668354, 3.170748, 3.170748, 3.4397374, 3.4397374, 3.4397374, 3.4397374, 3.4397374, 3.4397374, 3.4397374, 3.4397374, 3.4397374, 3.4397374, 3.4397374, 3.4397374, 3.4397374, 3.4397374, 1.3756098, 0.51105586, 0.0], \"type\": \"bar\", \"uid\": \"23bf63d9-ec67-4623-bbdf-ced218d673c9\"}], {\"barmode\": \"stack\", \"legend\": {\"bgcolor\": \"#FFFFFF\", \"font\": {\"color\": \"#4D5663\"}, \"traceorder\": \"normal\"}, \"paper_bgcolor\": \"#FFFFFF\", \"plot_bgcolor\": \"#FFFFFF\", \"title\": {\"text\": \"Power Generation (Fuel use)\", \"font\": {\"color\": \"#4D5663\"}}, \"xaxis\": {\"gridcolor\": \"#E1E5ED\", \"showgrid\": true, \"tickfont\": {\"color\": \"#4D5663\"}, \"title\": {\"text\": \"Year\", \"font\": {\"color\": \"#4D5663\"}}, \"zerolinecolor\": \"#E1E5ED\"}, \"yaxis\": {\"gridcolor\": \"#E1E5ED\", \"showgrid\": true, \"tickfont\": {\"color\": \"#4D5663\"}, \"title\": {\"text\": \"Petajoules (PJ)\", \"font\": {\"color\": \"#4D5663\"}}, \"zerolinecolor\": \"#E1E5ED\"}}, {\"showLink\": true, \"linkText\": \"Export to plot.ly\", \"plotlyServerURL\": \"https://plot.ly\"}); \n",
       "}\n",
       "});</script><script type=\"text/javascript\">window.addEventListener(\"resize\", function(){if (document.getElementById(\"45aefbf8-d4a0-46f5-ad9d-b9a67dbec8ad\")) {window._Plotly.Plots.resize(document.getElementById(\"45aefbf8-d4a0-46f5-ad9d-b9a67dbec8ad\"));};})</script>"
      ],
      "text/vnd.plotly.v1+html": [
       "<div id=\"45aefbf8-d4a0-46f5-ad9d-b9a67dbec8ad\" style=\"height: 525px; width: 100%;\" class=\"plotly-graph-div\"></div><script type=\"text/javascript\">require([\"plotly\"], function(Plotly) { window.PLOTLYENV=window.PLOTLYENV || {};window.PLOTLYENV.BASE_URL=\"https://plot.ly\";\n",
       "if (document.getElementById(\"45aefbf8-d4a0-46f5-ad9d-b9a67dbec8ad\")) {\n",
       "    Plotly.newPlot(\"45aefbf8-d4a0-46f5-ad9d-b9a67dbec8ad\", [{\"marker\": {\"color\": \"rgba(34, 139, 34, 0.6)\", \"line\": {\"color\": \"rgba(34, 139, 34, 1.0)\", \"width\": 1}}, \"name\": \"Biomass\", \"orientation\": \"v\", \"text\": \"\", \"x\": [2015, 2016, 2017, 2018, 2019, 2020, 2021, 2022, 2023, 2024, 2025, 2026, 2027, 2028, 2029, 2030, 2031, 2032, 2033, 2034, 2035, 2036, 2037, 2038, 2039, 2040], \"y\": [0.0, 0.6764472, 1.9166004, 3.8332008, 3.8332008, 3.945924, 3.945924, 3.945924, 3.945924, 4.1037797, 4.1037797, 4.1037797, 4.1037797, 3.8332008, 3.8332008, 3.8332008, 3.8332008, 3.8332008, 3.8332008, 3.8332008, 3.8332008, 3.8332008, 3.8332008, 3.8332008, 3.8332008, 3.8332008], \"type\": \"bar\", \"uid\": \"ecdd5ebc-8d49-4bf9-969a-639025db590a\"}, {\"marker\": {\"color\": \"rgba(0, 0, 0, 0.6)\", \"line\": {\"color\": \"rgba(0, 0, 0, 1.0)\", \"width\": 1}}, \"name\": \"Coal\", \"orientation\": \"v\", \"text\": \"\", \"x\": [2015, 2016, 2017, 2018, 2019, 2020, 2021, 2022, 2023, 2024, 2025, 2026, 2027, 2028, 2029, 2030, 2031, 2032, 2033, 2034, 2035, 2036, 2037, 2038, 2039, 2040], \"y\": [81.028614, 57.085784, 70.770846, 79.096486, 217.73168, 236.02218, 278.69734, 326.38792, 370.29785, 439.44337, 512.60318, 590.72325, 667.82051, 746.43182, 826.23071, 906.17945, 977.65598, 1049.8848, 1122.83, 1196.4268, 1270.7256, 1327.7094, 1383.2946, 1442.6984, 1486.6351, 1524.7474], \"type\": \"bar\", \"uid\": \"1ef1ea39-8724-41c4-9bc9-6d0c0055799e\"}, {\"marker\": {\"color\": \"rgba(55, 128, 191, 0.6)\", \"line\": {\"color\": \"rgba(55, 128, 191, 1.0)\", \"width\": 1}}, \"name\": \"Hydro\", \"orientation\": \"v\", \"text\": \"\", \"x\": [2015, 2016, 2017, 2018, 2019, 2020, 2021, 2022, 2023, 2024, 2025, 2026, 2027, 2028, 2029, 2030, 2031, 2032, 2033, 2034, 2035, 2036, 2037, 2038, 2039, 2040], \"y\": [68.475855, 80.753274, 89.840386, 99.450561, 108.39263, 117.01574, 125.57071, 134.09689, 144.70143, 145.26644, 145.26644, 144.50012, 144.50012, 144.50012, 144.50012, 144.50012, 144.50012, 144.50012, 144.50012, 144.50012, 144.50012, 144.50012, 144.50012, 144.50012, 144.50012, 144.50012], \"type\": \"bar\", \"uid\": \"74f012fd-818e-4a21-be98-573065c64cb8\"}, {\"marker\": {\"color\": \"rgba(255, 153, 51, 0.6)\", \"line\": {\"color\": \"rgba(255, 153, 51, 1.0)\", \"width\": 1}}, \"name\": \"Natural gas\", \"orientation\": \"v\", \"text\": \"\", \"x\": [2015, 2016, 2017, 2018, 2019, 2020, 2021, 2022, 2023, 2024, 2025, 2026, 2027, 2028, 2029, 2030, 2031, 2032, 2033, 2034, 2035, 2036, 2037, 2038, 2039, 2040], \"y\": [68.423492, 87.774937, 87.774937, 87.774937, 4.4833282, 0.17381439, 0.17381439, 0.17381439, 0.17381439, 0.17381439, 0.35463809, 0.35463809, 0.35463809, 0.35463809, 0.0, 0.0, 0.0, 0.0, 0.0, 0.0, 0.0, 12.00631, 25.344377, 39.978156, 64.589871, 82.66825], \"type\": \"bar\", \"uid\": \"eac107f7-22ce-4701-b781-afdc82072314\"}, {\"marker\": {\"color\": \"rgba(255, 215, 0, 0.6)\", \"line\": {\"color\": \"rgba(255, 215, 0, 1.0)\", \"width\": 1}}, \"name\": \"Solar\", \"orientation\": \"v\", \"text\": \"\", \"x\": [2015, 2016, 2017, 2018, 2019, 2020, 2021, 2022, 2023, 2024, 2025, 2026, 2027, 2028, 2029, 2030, 2031, 2032, 2033, 2034, 2035, 2036, 2037, 2038, 2039, 2040], \"y\": [0.0, 0.0, 0.0, 0.0, 0.89442375, 2.0869887, 2.9814125, 2.9814125, 2.9814125, 2.9814125, 2.9814125, 2.9814125, 2.9814125, 2.9814125, 2.9814125, 2.9814125, 2.9814125, 2.9814125, 2.9814125, 2.9814125, 2.9814125, 2.9814125, 2.9814125, 2.9814125, 2.0869887, 0.89442375], \"type\": \"bar\", \"uid\": \"40d210a7-6284-4a58-9916-a51fcd526e97\"}, {\"marker\": {\"color\": \"rgba(238, 130, 238, 0.6)\", \"line\": {\"color\": \"rgba(238, 130, 238, 1.0)\", \"width\": 1}}, \"name\": \"Wind\", \"orientation\": \"v\", \"text\": \"\", \"x\": [2015, 2016, 2017, 2018, 2019, 2020, 2021, 2022, 2023, 2024, 2025, 2026, 2027, 2028, 2029, 2030, 2031, 2032, 2033, 2034, 2035, 2036, 2037, 2038, 2039, 2040], \"y\": [0.19208263, 0.096087423, 0.17290203, 1.699143, 2.6596921, 3.34365, 3.2668354, 3.170748, 3.170748, 3.4397374, 3.4397374, 3.4397374, 3.4397374, 3.4397374, 3.4397374, 3.4397374, 3.4397374, 3.4397374, 3.4397374, 3.4397374, 3.4397374, 3.4397374, 3.4397374, 1.3756098, 0.51105586, 0.0], \"type\": \"bar\", \"uid\": \"23bf63d9-ec67-4623-bbdf-ced218d673c9\"}], {\"barmode\": \"stack\", \"legend\": {\"bgcolor\": \"#FFFFFF\", \"font\": {\"color\": \"#4D5663\"}, \"traceorder\": \"normal\"}, \"paper_bgcolor\": \"#FFFFFF\", \"plot_bgcolor\": \"#FFFFFF\", \"title\": {\"text\": \"Power Generation (Fuel use)\", \"font\": {\"color\": \"#4D5663\"}}, \"xaxis\": {\"gridcolor\": \"#E1E5ED\", \"showgrid\": true, \"tickfont\": {\"color\": \"#4D5663\"}, \"title\": {\"text\": \"Year\", \"font\": {\"color\": \"#4D5663\"}}, \"zerolinecolor\": \"#E1E5ED\"}, \"yaxis\": {\"gridcolor\": \"#E1E5ED\", \"showgrid\": true, \"tickfont\": {\"color\": \"#4D5663\"}, \"title\": {\"text\": \"Petajoules (PJ)\", \"font\": {\"color\": \"#4D5663\"}}, \"zerolinecolor\": \"#E1E5ED\"}}, {\"showLink\": true, \"linkText\": \"Export to plot.ly\", \"plotlyServerURL\": \"https://plot.ly\"}); \n",
       "}\n",
       "});</script><script type=\"text/javascript\">window.addEventListener(\"resize\", function(){if (document.getElementById(\"45aefbf8-d4a0-46f5-ad9d-b9a67dbec8ad\")) {window._Plotly.Plots.resize(document.getElementById(\"45aefbf8-d4a0-46f5-ad9d-b9a67dbec8ad\"));};})</script>"
      ]
     },
     "metadata": {},
     "output_type": "display_data"
    }
   ],
   "source": [
    "# Fuel use for power generation\n",
    "gen_use_df = all_params['ProductionByTechnologyAnnual'][all_params['ProductionByTechnologyAnnual'].t.str.startswith('DEMPWR')].drop('r', axis=1)\n",
    "gen_use_df = df_filter(gen_use_df,6,9,[])\n",
    "df_plot(gen_use_df,'Petajoules (PJ)','Power Generation (Fuel use)')"
   ]
  },
  {
   "cell_type": "code",
   "execution_count": 238,
   "metadata": {},
   "outputs": [
    {
     "data": {
      "application/vnd.plotly.v1+json": {
       "config": {
        "linkText": "Export to plot.ly",
        "plotlyServerURL": "https://plot.ly",
        "showLink": true
       },
       "data": [
        {
         "marker": {
          "color": "rgba(34, 139, 34, 0.6)",
          "line": {
           "color": "rgba(34, 139, 34, 1.0)",
           "width": 1
          }
         },
         "name": "Biomass",
         "orientation": "v",
         "text": "",
         "type": "bar",
         "uid": "ce0cfc4c-1889-4024-8bf4-86ee96bbf139",
         "x": [
          2015,
          2016,
          2017,
          2018,
          2019,
          2020,
          2021,
          2022,
          2023,
          2024,
          2025,
          2026,
          2027,
          2028,
          2029,
          2030,
          2031,
          2032,
          2033,
          2034,
          2035,
          2036,
          2037,
          2038,
          2039,
          2040
         ],
         "y": [
          610.4,
          675.24645,
          741.6766,
          809.7432,
          876.7632,
          944.71592,
          1059.5259,
          1176.6859,
          1296.0559,
          1417.6438,
          1541.0038,
          1666.1838,
          1793.1038,
          1921.3732,
          2051.4832,
          2183.0932,
          2300.8032,
          2419.7232,
          2539.7932,
          2661.0032,
          2783.2732,
          2906.6332,
          3031.0032,
          3156.3832,
          3282.7332,
          3410.0632
         ]
        },
        {
         "marker": {
          "color": "rgba(0, 0, 0, 0.6)",
          "line": {
           "color": "rgba(0, 0, 0, 1.0)",
           "width": 1
          }
         },
         "name": "Coal",
         "orientation": "v",
         "text": "",
         "type": "bar",
         "uid": "f1017119-6ba0-4128-9ede-4eb40ee6ade9",
         "x": [
          2015,
          2016,
          2017,
          2018,
          2019,
          2020,
          2021,
          2022,
          2023,
          2024,
          2025,
          2026,
          2027,
          2028,
          2029,
          2030,
          2031,
          2032,
          2033,
          2034,
          2035,
          2036,
          2037,
          2038,
          2039,
          2040
         ],
         "y": [
          557.65861,
          583.82578,
          648.41085,
          708.38649,
          899.36168,
          970.63218,
          1102.9373,
          1242.1279,
          1379.2379,
          1543.2034,
          1712.6932,
          1888.5532,
          2064.7605,
          2243.7518,
          2425.1407,
          2607.8494,
          2771.246,
          2936.3348,
          3103.04,
          3271.2668,
          3441.0556,
          3594.3494,
          3747.0546,
          3904.3684,
          4046.9651,
          4184.4974
         ]
        },
        {
         "marker": {
          "color": "rgba(255, 153, 51, 0.6)",
          "line": {
           "color": "rgba(255, 153, 51, 1.0)",
           "width": 1
          }
         },
         "name": "Natural gas",
         "orientation": "v",
         "text": "",
         "type": "bar",
         "uid": "0c46001e-7562-4017-a68e-f090b0d8d4c2",
         "x": [
          2015,
          2016,
          2017,
          2018,
          2019,
          2020,
          2021,
          2022,
          2023,
          2024,
          2025,
          2026,
          2027,
          2028,
          2029,
          2030,
          2031,
          2032,
          2033,
          2034,
          2035,
          2036,
          2037,
          2038,
          2039,
          2040
         ],
         "y": [
          130.85349,
          156.76494,
          163.43494,
          170.19494,
          93.753328,
          96.383814,
          108.12381,
          120.11381,
          132.31381,
          144.73381,
          157.53464,
          170.33464,
          183.31464,
          196.46464,
          209.41,
          222.87,
          234.91,
          247.07,
          259.35,
          271.75,
          284.25,
          308.87631,
          334.93438,
          362.38816,
          399.92987,
          431.02825
         ]
        }
       ],
       "layout": {
        "barmode": "stack",
        "legend": {
         "bgcolor": "#FFFFFF",
         "font": {
          "color": "#4D5663"
         },
         "traceorder": "normal"
        },
        "paper_bgcolor": "#FFFFFF",
        "plot_bgcolor": "#FFFFFF",
        "title": {
         "font": {
          "color": "#4D5663"
         },
         "text": "Domestic energy production"
        },
        "xaxis": {
         "gridcolor": "#E1E5ED",
         "showgrid": true,
         "tickfont": {
          "color": "#4D5663"
         },
         "title": {
          "font": {
           "color": "#4D5663"
          },
          "text": "Year"
         },
         "zerolinecolor": "#E1E5ED"
        },
        "yaxis": {
         "gridcolor": "#E1E5ED",
         "showgrid": true,
         "tickfont": {
          "color": "#4D5663"
         },
         "title": {
          "font": {
           "color": "#4D5663"
          },
          "text": "Petajoules (PJ)"
         },
         "zerolinecolor": "#E1E5ED"
        }
       }
      },
      "text/html": [
       "<div id=\"eb78026a-eb83-435a-acfd-056fbda0218c\" style=\"height: 525px; width: 100%;\" class=\"plotly-graph-div\"></div><script type=\"text/javascript\">require([\"plotly\"], function(Plotly) { window.PLOTLYENV=window.PLOTLYENV || {};window.PLOTLYENV.BASE_URL=\"https://plot.ly\";\n",
       "if (document.getElementById(\"eb78026a-eb83-435a-acfd-056fbda0218c\")) {\n",
       "    Plotly.newPlot(\"eb78026a-eb83-435a-acfd-056fbda0218c\", [{\"marker\": {\"color\": \"rgba(34, 139, 34, 0.6)\", \"line\": {\"color\": \"rgba(34, 139, 34, 1.0)\", \"width\": 1}}, \"name\": \"Biomass\", \"orientation\": \"v\", \"text\": \"\", \"x\": [2015, 2016, 2017, 2018, 2019, 2020, 2021, 2022, 2023, 2024, 2025, 2026, 2027, 2028, 2029, 2030, 2031, 2032, 2033, 2034, 2035, 2036, 2037, 2038, 2039, 2040], \"y\": [610.4, 675.24645, 741.6766, 809.7432, 876.7632, 944.71592, 1059.5259, 1176.6859, 1296.0559, 1417.6438, 1541.0038, 1666.1838, 1793.1038, 1921.3732, 2051.4832, 2183.0932, 2300.8032, 2419.7232, 2539.7932, 2661.0032, 2783.2732, 2906.6332, 3031.0032, 3156.3832, 3282.7332, 3410.0632], \"type\": \"bar\", \"uid\": \"9dec122b-b7ca-4f80-8c1a-c4721c8d72b9\"}, {\"marker\": {\"color\": \"rgba(0, 0, 0, 0.6)\", \"line\": {\"color\": \"rgba(0, 0, 0, 1.0)\", \"width\": 1}}, \"name\": \"Coal\", \"orientation\": \"v\", \"text\": \"\", \"x\": [2015, 2016, 2017, 2018, 2019, 2020, 2021, 2022, 2023, 2024, 2025, 2026, 2027, 2028, 2029, 2030, 2031, 2032, 2033, 2034, 2035, 2036, 2037, 2038, 2039, 2040], \"y\": [557.65861, 583.82578, 648.41085, 708.38649, 899.36168, 970.63218, 1102.9373, 1242.1279, 1379.2379, 1543.2034, 1712.6932, 1888.5532, 2064.7605, 2243.7518, 2425.1407, 2607.8494, 2771.246, 2936.3348, 3103.04, 3271.2668, 3441.0556, 3594.3494, 3747.0546, 3904.3684, 4046.9651, 4184.4974], \"type\": \"bar\", \"uid\": \"25db6f4d-02a1-4773-977a-69d2b8aa5b83\"}, {\"marker\": {\"color\": \"rgba(255, 153, 51, 0.6)\", \"line\": {\"color\": \"rgba(255, 153, 51, 1.0)\", \"width\": 1}}, \"name\": \"Natural gas\", \"orientation\": \"v\", \"text\": \"\", \"x\": [2015, 2016, 2017, 2018, 2019, 2020, 2021, 2022, 2023, 2024, 2025, 2026, 2027, 2028, 2029, 2030, 2031, 2032, 2033, 2034, 2035, 2036, 2037, 2038, 2039, 2040], \"y\": [130.85349, 156.76494, 163.43494, 170.19494, 93.753328, 96.383814, 108.12381, 120.11381, 132.31381, 144.73381, 157.53464, 170.33464, 183.31464, 196.46464, 209.41, 222.87, 234.91, 247.07, 259.35, 271.75, 284.25, 308.87631, 334.93438, 362.38816, 399.92987, 431.02825], \"type\": \"bar\", \"uid\": \"5b7cf312-5e7c-42ef-aa17-070c5d9848d6\"}], {\"barmode\": \"stack\", \"legend\": {\"bgcolor\": \"#FFFFFF\", \"font\": {\"color\": \"#4D5663\"}, \"traceorder\": \"normal\"}, \"paper_bgcolor\": \"#FFFFFF\", \"plot_bgcolor\": \"#FFFFFF\", \"title\": {\"text\": \"Domestic energy production\", \"font\": {\"color\": \"#4D5663\"}}, \"xaxis\": {\"gridcolor\": \"#E1E5ED\", \"showgrid\": true, \"tickfont\": {\"color\": \"#4D5663\"}, \"title\": {\"text\": \"Year\", \"font\": {\"color\": \"#4D5663\"}}, \"zerolinecolor\": \"#E1E5ED\"}, \"yaxis\": {\"gridcolor\": \"#E1E5ED\", \"showgrid\": true, \"tickfont\": {\"color\": \"#4D5663\"}, \"title\": {\"text\": \"Petajoules (PJ)\", \"font\": {\"color\": \"#4D5663\"}}, \"zerolinecolor\": \"#E1E5ED\"}}, {\"showLink\": true, \"linkText\": \"Export to plot.ly\", \"plotlyServerURL\": \"https://plot.ly\"}); \n",
       "}\n",
       "});</script><script type=\"text/javascript\">window.addEventListener(\"resize\", function(){if (document.getElementById(\"eb78026a-eb83-435a-acfd-056fbda0218c\")) {window._Plotly.Plots.resize(document.getElementById(\"eb78026a-eb83-435a-acfd-056fbda0218c\"));};})</script>"
      ],
      "text/vnd.plotly.v1+html": [
       "<div id=\"eb78026a-eb83-435a-acfd-056fbda0218c\" style=\"height: 525px; width: 100%;\" class=\"plotly-graph-div\"></div><script type=\"text/javascript\">require([\"plotly\"], function(Plotly) { window.PLOTLYENV=window.PLOTLYENV || {};window.PLOTLYENV.BASE_URL=\"https://plot.ly\";\n",
       "if (document.getElementById(\"eb78026a-eb83-435a-acfd-056fbda0218c\")) {\n",
       "    Plotly.newPlot(\"eb78026a-eb83-435a-acfd-056fbda0218c\", [{\"marker\": {\"color\": \"rgba(34, 139, 34, 0.6)\", \"line\": {\"color\": \"rgba(34, 139, 34, 1.0)\", \"width\": 1}}, \"name\": \"Biomass\", \"orientation\": \"v\", \"text\": \"\", \"x\": [2015, 2016, 2017, 2018, 2019, 2020, 2021, 2022, 2023, 2024, 2025, 2026, 2027, 2028, 2029, 2030, 2031, 2032, 2033, 2034, 2035, 2036, 2037, 2038, 2039, 2040], \"y\": [610.4, 675.24645, 741.6766, 809.7432, 876.7632, 944.71592, 1059.5259, 1176.6859, 1296.0559, 1417.6438, 1541.0038, 1666.1838, 1793.1038, 1921.3732, 2051.4832, 2183.0932, 2300.8032, 2419.7232, 2539.7932, 2661.0032, 2783.2732, 2906.6332, 3031.0032, 3156.3832, 3282.7332, 3410.0632], \"type\": \"bar\", \"uid\": \"9dec122b-b7ca-4f80-8c1a-c4721c8d72b9\"}, {\"marker\": {\"color\": \"rgba(0, 0, 0, 0.6)\", \"line\": {\"color\": \"rgba(0, 0, 0, 1.0)\", \"width\": 1}}, \"name\": \"Coal\", \"orientation\": \"v\", \"text\": \"\", \"x\": [2015, 2016, 2017, 2018, 2019, 2020, 2021, 2022, 2023, 2024, 2025, 2026, 2027, 2028, 2029, 2030, 2031, 2032, 2033, 2034, 2035, 2036, 2037, 2038, 2039, 2040], \"y\": [557.65861, 583.82578, 648.41085, 708.38649, 899.36168, 970.63218, 1102.9373, 1242.1279, 1379.2379, 1543.2034, 1712.6932, 1888.5532, 2064.7605, 2243.7518, 2425.1407, 2607.8494, 2771.246, 2936.3348, 3103.04, 3271.2668, 3441.0556, 3594.3494, 3747.0546, 3904.3684, 4046.9651, 4184.4974], \"type\": \"bar\", \"uid\": \"25db6f4d-02a1-4773-977a-69d2b8aa5b83\"}, {\"marker\": {\"color\": \"rgba(255, 153, 51, 0.6)\", \"line\": {\"color\": \"rgba(255, 153, 51, 1.0)\", \"width\": 1}}, \"name\": \"Natural gas\", \"orientation\": \"v\", \"text\": \"\", \"x\": [2015, 2016, 2017, 2018, 2019, 2020, 2021, 2022, 2023, 2024, 2025, 2026, 2027, 2028, 2029, 2030, 2031, 2032, 2033, 2034, 2035, 2036, 2037, 2038, 2039, 2040], \"y\": [130.85349, 156.76494, 163.43494, 170.19494, 93.753328, 96.383814, 108.12381, 120.11381, 132.31381, 144.73381, 157.53464, 170.33464, 183.31464, 196.46464, 209.41, 222.87, 234.91, 247.07, 259.35, 271.75, 284.25, 308.87631, 334.93438, 362.38816, 399.92987, 431.02825], \"type\": \"bar\", \"uid\": \"5b7cf312-5e7c-42ef-aa17-070c5d9848d6\"}], {\"barmode\": \"stack\", \"legend\": {\"bgcolor\": \"#FFFFFF\", \"font\": {\"color\": \"#4D5663\"}, \"traceorder\": \"normal\"}, \"paper_bgcolor\": \"#FFFFFF\", \"plot_bgcolor\": \"#FFFFFF\", \"title\": {\"text\": \"Domestic energy production\", \"font\": {\"color\": \"#4D5663\"}}, \"xaxis\": {\"gridcolor\": \"#E1E5ED\", \"showgrid\": true, \"tickfont\": {\"color\": \"#4D5663\"}, \"title\": {\"text\": \"Year\", \"font\": {\"color\": \"#4D5663\"}}, \"zerolinecolor\": \"#E1E5ED\"}, \"yaxis\": {\"gridcolor\": \"#E1E5ED\", \"showgrid\": true, \"tickfont\": {\"color\": \"#4D5663\"}, \"title\": {\"text\": \"Petajoules (PJ)\", \"font\": {\"color\": \"#4D5663\"}}, \"zerolinecolor\": \"#E1E5ED\"}}, {\"showLink\": true, \"linkText\": \"Export to plot.ly\", \"plotlyServerURL\": \"https://plot.ly\"}); \n",
       "}\n",
       "});</script><script type=\"text/javascript\">window.addEventListener(\"resize\", function(){if (document.getElementById(\"eb78026a-eb83-435a-acfd-056fbda0218c\")) {window._Plotly.Plots.resize(document.getElementById(\"eb78026a-eb83-435a-acfd-056fbda0218c\"));};})</script>"
      ]
     },
     "metadata": {},
     "output_type": "display_data"
    }
   ],
   "source": [
    "#Domestic fuel production\n",
    "fuels = ['OHC', 'GSL','DSL','LPG', 'JFL','HFO','NGS']\n",
    "\n",
    "dom_prd_df = all_params['ProductionByTechnologyAnnual'][all_params['ProductionByTechnologyAnnual'].t.str.startswith('MIN')|\n",
    "                                                       all_params['ProductionByTechnologyAnnual'].t.str.startswith('RNW')].drop('r', axis=1)\n",
    "dom_prd_df = df_filter(dom_prd_df,3,6,[])\n",
    "\n",
    "for each in dom_prd_df.columns:\n",
    "    if each in ['Land','Water','Geothermal','Hydro','Solar','Wind']:\n",
    "        dom_prd_df = dom_prd_df.drop(each, axis=1)\n",
    "df_plot(dom_prd_df,'Petajoules (PJ)','Domestic energy production')"
   ]
  },
  {
   "cell_type": "code",
   "execution_count": 239,
   "metadata": {},
   "outputs": [],
   "source": [
    "#Energy imports\n",
    "ene_imp_df = all_params['ProductionByTechnologyAnnual'][all_params['ProductionByTechnologyAnnual'].t.str.startswith('IMP')].drop('r', axis=1)\n",
    "ene_imp_df = df_filter(ene_imp_df,3,6,[])\n",
    "#if len(ene_imp_df.columns) > 1:\n",
    "#    df_plot(ene_imp_df,'Petajoules (PJ)','Energy imports')"
   ]
  },
  {
   "cell_type": "code",
   "execution_count": 240,
   "metadata": {},
   "outputs": [],
   "source": [
    "#Energy exports\n",
    "ene_exp_df = all_params['TotalTechnologyAnnualActivity'][all_params['TotalTechnologyAnnualActivity'].t.str.startswith('EXP')].drop('r', axis=1)\n",
    "ene_exp_df = df_filter(ene_exp_df,3,6,[])\n",
    "if len(ene_exp_df.columns) > 1:\n",
    "    df_plot(ene_exp_df,'Petajoules (PJ)','Energy exports')"
   ]
  },
  {
   "cell_type": "code",
   "execution_count": 241,
   "metadata": {},
   "outputs": [
    {
     "data": {
      "application/vnd.plotly.v1+json": {
       "config": {
        "linkText": "Export to plot.ly",
        "plotlyServerURL": "https://plot.ly",
        "showLink": true
       },
       "data": [
        {
         "marker": {
          "color": "rgba(34, 139, 34, 0.6)",
          "line": {
           "color": "rgba(34, 139, 34, 1.0)",
           "width": 1
          }
         },
         "name": "Biomass",
         "orientation": "v",
         "text": "",
         "type": "bar",
         "uid": "dece3083-8fde-41b9-aa77-08dcff74f9d1",
         "x": [
          2015,
          2016,
          2017,
          2018,
          2019,
          2020,
          2021,
          2022,
          2023,
          2024
         ],
         "y": [
          0,
          58.62,
          107.47,
          166.09,
          0,
          0,
          0,
          0,
          0,
          0
         ]
        },
        {
         "marker": {
          "color": "rgba(0, 0, 0, 0.6)",
          "line": {
           "color": "rgba(0, 0, 0, 1.0)",
           "width": 1
          }
         },
         "name": "Coal",
         "orientation": "v",
         "text": "",
         "type": "bar",
         "uid": "d444d5e3-7dd9-4dd8-8378-14f4d1de59ca",
         "x": [
          2015,
          2016,
          2017,
          2018,
          2019,
          2020,
          2021,
          2022,
          2023,
          2024
         ],
         "y": [
          3935.5129000000006,
          938.8799999999999,
          1503.4499999999998,
          2395.2,
          4157.7300000000005,
          1586.31,
          5314.88,
          6475.700000000001,
          3177.9,
          3150.7286599999998
         ]
        },
        {
         "marker": {
          "color": "rgba(165, 42, 42, 0.6)",
          "line": {
           "color": "rgba(165, 42, 42, 1.0)",
           "width": 1
          }
         },
         "name": "HFO",
         "orientation": "v",
         "text": "",
         "type": "bar",
         "uid": "52328304-befa-494b-af27-bd3cf26ecfbf",
         "x": [
          2015,
          2016,
          2017,
          2018,
          2019,
          2020,
          2021,
          2022,
          2023,
          2024
         ],
         "y": [
          366.63,
          0,
          0,
          0,
          0,
          0,
          0,
          0,
          0,
          0
         ]
        },
        {
         "marker": {
          "color": "rgba(55, 128, 191, 0.6)",
          "line": {
           "color": "rgba(55, 128, 191, 1.0)",
           "width": 1
          }
         },
         "name": "Hydro",
         "orientation": "v",
         "text": "",
         "type": "bar",
         "uid": "affe509a-e34f-4822-b053-33a59123f234",
         "x": [
          2015,
          2016,
          2017,
          2018,
          2019,
          2020,
          2021,
          2022,
          2023,
          2024
         ],
         "y": [
          2795.478,
          4626.512000000001,
          914.622,
          1071.856,
          1023.954,
          1189.728,
          1075.06,
          792,
          1555.935,
          0
         ]
        },
        {
         "marker": {
          "color": "rgba(255, 153, 51, 0.6)",
          "line": {
           "color": "rgba(255, 153, 51, 1.0)",
           "width": 1
          }
         },
         "name": "Natural gas",
         "orientation": "v",
         "text": "",
         "type": "bar",
         "uid": "ec814679-68cc-45bd-932b-24e1b2e252d9",
         "x": [
          2015,
          2016,
          2017,
          2018,
          2019,
          2020,
          2021,
          2022,
          2023,
          2024
         ],
         "y": [
          2184,
          124.8,
          0,
          0,
          0,
          592.8,
          936,
          468,
          911.04,
          0
         ]
        },
        {
         "marker": {
          "color": "rgba(255, 215, 0, 0.6)",
          "line": {
           "color": "rgba(255, 215, 0, 1.0)",
           "width": 1
          }
         },
         "name": "Solar",
         "orientation": "v",
         "text": "",
         "type": "bar",
         "uid": "0f21e539-4ff9-40a1-a112-47315cca8ee7",
         "x": [
          2015,
          2016,
          2017,
          2018,
          2019,
          2020,
          2021,
          2022,
          2023,
          2024
         ],
         "y": [
          0,
          0,
          0,
          0,
          335.7,
          447.6,
          335.7,
          0,
          0,
          0
         ]
        },
        {
         "marker": {
          "color": "rgba(238, 130, 238, 0.6)",
          "line": {
           "color": "rgba(238, 130, 238, 1.0)",
           "width": 1
          }
         },
         "name": "Wind",
         "orientation": "v",
         "text": "",
         "type": "bar",
         "uid": "a77da7ed-c75d-4cb2-851d-294cafadabaf",
         "x": [
          2015,
          2016,
          2017,
          2018,
          2019,
          2020,
          2021,
          2022,
          2023,
          2024
         ],
         "y": [
          0,
          0,
          0,
          723.357,
          372.519,
          230.607,
          0,
          0,
          0,
          0
         ]
        }
       ],
       "layout": {
        "barmode": "stack",
        "legend": {
         "bgcolor": "#FFFFFF",
         "font": {
          "color": "#4D5663"
         },
         "traceorder": "normal"
        },
        "paper_bgcolor": "#FFFFFF",
        "plot_bgcolor": "#FFFFFF",
        "title": {
         "font": {
          "color": "#4D5663"
         },
         "text": "Capital Investment"
        },
        "xaxis": {
         "gridcolor": "#E1E5ED",
         "showgrid": true,
         "tickfont": {
          "color": "#4D5663"
         },
         "title": {
          "font": {
           "color": "#4D5663"
          },
          "text": "Year"
         },
         "zerolinecolor": "#E1E5ED"
        },
        "yaxis": {
         "gridcolor": "#E1E5ED",
         "showgrid": true,
         "tickfont": {
          "color": "#4D5663"
         },
         "title": {
          "font": {
           "color": "#4D5663"
          },
          "text": "Million $"
         },
         "zerolinecolor": "#E1E5ED"
        }
       }
      },
      "text/html": [
       "<div id=\"ad77fd36-0ed6-4417-b02a-72cc040f7a54\" style=\"height: 525px; width: 100%;\" class=\"plotly-graph-div\"></div><script type=\"text/javascript\">require([\"plotly\"], function(Plotly) { window.PLOTLYENV=window.PLOTLYENV || {};window.PLOTLYENV.BASE_URL=\"https://plot.ly\";\n",
       "if (document.getElementById(\"ad77fd36-0ed6-4417-b02a-72cc040f7a54\")) {\n",
       "    Plotly.newPlot(\"ad77fd36-0ed6-4417-b02a-72cc040f7a54\", [{\"marker\": {\"color\": \"rgba(34, 139, 34, 0.6)\", \"line\": {\"color\": \"rgba(34, 139, 34, 1.0)\", \"width\": 1}}, \"name\": \"Biomass\", \"orientation\": \"v\", \"text\": \"\", \"x\": [2015, 2016, 2017, 2018, 2019, 2020, 2021, 2022, 2023, 2024], \"y\": [0.0, 58.62, 107.47, 166.09, 0.0, 0.0, 0.0, 0.0, 0.0, 0.0], \"type\": \"bar\", \"uid\": \"0021d732-5f72-4ba8-8eff-72b728c1050d\"}, {\"marker\": {\"color\": \"rgba(0, 0, 0, 0.6)\", \"line\": {\"color\": \"rgba(0, 0, 0, 1.0)\", \"width\": 1}}, \"name\": \"Coal\", \"orientation\": \"v\", \"text\": \"\", \"x\": [2015, 2016, 2017, 2018, 2019, 2020, 2021, 2022, 2023, 2024], \"y\": [3935.5129000000006, 938.8799999999999, 1503.4499999999998, 2395.2, 4157.7300000000005, 1586.31, 5314.88, 6475.700000000001, 3177.9, 3150.7286599999998], \"type\": \"bar\", \"uid\": \"fe3e32f5-a0e7-45ca-8be3-713878bf2757\"}, {\"marker\": {\"color\": \"rgba(165, 42, 42, 0.6)\", \"line\": {\"color\": \"rgba(165, 42, 42, 1.0)\", \"width\": 1}}, \"name\": \"HFO\", \"orientation\": \"v\", \"text\": \"\", \"x\": [2015, 2016, 2017, 2018, 2019, 2020, 2021, 2022, 2023, 2024], \"y\": [366.63, 0.0, 0.0, 0.0, 0.0, 0.0, 0.0, 0.0, 0.0, 0.0], \"type\": \"bar\", \"uid\": \"59da0a57-9bfd-484e-89e6-61bb3d43a166\"}, {\"marker\": {\"color\": \"rgba(55, 128, 191, 0.6)\", \"line\": {\"color\": \"rgba(55, 128, 191, 1.0)\", \"width\": 1}}, \"name\": \"Hydro\", \"orientation\": \"v\", \"text\": \"\", \"x\": [2015, 2016, 2017, 2018, 2019, 2020, 2021, 2022, 2023, 2024], \"y\": [2795.478, 4626.512000000001, 914.622, 1071.856, 1023.954, 1189.728, 1075.06, 792.0, 1555.935, 0.0], \"type\": \"bar\", \"uid\": \"c36cc275-5b4d-4d42-a4bd-cef28644b30f\"}, {\"marker\": {\"color\": \"rgba(255, 153, 51, 0.6)\", \"line\": {\"color\": \"rgba(255, 153, 51, 1.0)\", \"width\": 1}}, \"name\": \"Natural gas\", \"orientation\": \"v\", \"text\": \"\", \"x\": [2015, 2016, 2017, 2018, 2019, 2020, 2021, 2022, 2023, 2024], \"y\": [2184.0, 124.8, 0.0, 0.0, 0.0, 592.8, 936.0, 468.0, 911.04, 0.0], \"type\": \"bar\", \"uid\": \"5f0f93f0-71aa-4ae1-bf5a-71f8f00da816\"}, {\"marker\": {\"color\": \"rgba(255, 215, 0, 0.6)\", \"line\": {\"color\": \"rgba(255, 215, 0, 1.0)\", \"width\": 1}}, \"name\": \"Solar\", \"orientation\": \"v\", \"text\": \"\", \"x\": [2015, 2016, 2017, 2018, 2019, 2020, 2021, 2022, 2023, 2024], \"y\": [0.0, 0.0, 0.0, 0.0, 335.7, 447.6, 335.7, 0.0, 0.0, 0.0], \"type\": \"bar\", \"uid\": \"1e506485-7806-4b46-a704-9cf6596b30ea\"}, {\"marker\": {\"color\": \"rgba(238, 130, 238, 0.6)\", \"line\": {\"color\": \"rgba(238, 130, 238, 1.0)\", \"width\": 1}}, \"name\": \"Wind\", \"orientation\": \"v\", \"text\": \"\", \"x\": [2015, 2016, 2017, 2018, 2019, 2020, 2021, 2022, 2023, 2024], \"y\": [0.0, 0.0, 0.0, 723.357, 372.519, 230.607, 0.0, 0.0, 0.0, 0.0], \"type\": \"bar\", \"uid\": \"56757638-bfbf-4ace-9c8d-a22aa0b47339\"}], {\"barmode\": \"stack\", \"legend\": {\"bgcolor\": \"#FFFFFF\", \"font\": {\"color\": \"#4D5663\"}, \"traceorder\": \"normal\"}, \"paper_bgcolor\": \"#FFFFFF\", \"plot_bgcolor\": \"#FFFFFF\", \"title\": {\"text\": \"Capital Investment\", \"font\": {\"color\": \"#4D5663\"}}, \"xaxis\": {\"gridcolor\": \"#E1E5ED\", \"showgrid\": true, \"tickfont\": {\"color\": \"#4D5663\"}, \"title\": {\"text\": \"Year\", \"font\": {\"color\": \"#4D5663\"}}, \"zerolinecolor\": \"#E1E5ED\"}, \"yaxis\": {\"gridcolor\": \"#E1E5ED\", \"showgrid\": true, \"tickfont\": {\"color\": \"#4D5663\"}, \"title\": {\"text\": \"Million $\", \"font\": {\"color\": \"#4D5663\"}}, \"zerolinecolor\": \"#E1E5ED\"}}, {\"showLink\": true, \"linkText\": \"Export to plot.ly\", \"plotlyServerURL\": \"https://plot.ly\"}); \n",
       "}\n",
       "});</script><script type=\"text/javascript\">window.addEventListener(\"resize\", function(){if (document.getElementById(\"ad77fd36-0ed6-4417-b02a-72cc040f7a54\")) {window._Plotly.Plots.resize(document.getElementById(\"ad77fd36-0ed6-4417-b02a-72cc040f7a54\"));};})</script>"
      ],
      "text/vnd.plotly.v1+html": [
       "<div id=\"ad77fd36-0ed6-4417-b02a-72cc040f7a54\" style=\"height: 525px; width: 100%;\" class=\"plotly-graph-div\"></div><script type=\"text/javascript\">require([\"plotly\"], function(Plotly) { window.PLOTLYENV=window.PLOTLYENV || {};window.PLOTLYENV.BASE_URL=\"https://plot.ly\";\n",
       "if (document.getElementById(\"ad77fd36-0ed6-4417-b02a-72cc040f7a54\")) {\n",
       "    Plotly.newPlot(\"ad77fd36-0ed6-4417-b02a-72cc040f7a54\", [{\"marker\": {\"color\": \"rgba(34, 139, 34, 0.6)\", \"line\": {\"color\": \"rgba(34, 139, 34, 1.0)\", \"width\": 1}}, \"name\": \"Biomass\", \"orientation\": \"v\", \"text\": \"\", \"x\": [2015, 2016, 2017, 2018, 2019, 2020, 2021, 2022, 2023, 2024], \"y\": [0.0, 58.62, 107.47, 166.09, 0.0, 0.0, 0.0, 0.0, 0.0, 0.0], \"type\": \"bar\", \"uid\": \"0021d732-5f72-4ba8-8eff-72b728c1050d\"}, {\"marker\": {\"color\": \"rgba(0, 0, 0, 0.6)\", \"line\": {\"color\": \"rgba(0, 0, 0, 1.0)\", \"width\": 1}}, \"name\": \"Coal\", \"orientation\": \"v\", \"text\": \"\", \"x\": [2015, 2016, 2017, 2018, 2019, 2020, 2021, 2022, 2023, 2024], \"y\": [3935.5129000000006, 938.8799999999999, 1503.4499999999998, 2395.2, 4157.7300000000005, 1586.31, 5314.88, 6475.700000000001, 3177.9, 3150.7286599999998], \"type\": \"bar\", \"uid\": \"fe3e32f5-a0e7-45ca-8be3-713878bf2757\"}, {\"marker\": {\"color\": \"rgba(165, 42, 42, 0.6)\", \"line\": {\"color\": \"rgba(165, 42, 42, 1.0)\", \"width\": 1}}, \"name\": \"HFO\", \"orientation\": \"v\", \"text\": \"\", \"x\": [2015, 2016, 2017, 2018, 2019, 2020, 2021, 2022, 2023, 2024], \"y\": [366.63, 0.0, 0.0, 0.0, 0.0, 0.0, 0.0, 0.0, 0.0, 0.0], \"type\": \"bar\", \"uid\": \"59da0a57-9bfd-484e-89e6-61bb3d43a166\"}, {\"marker\": {\"color\": \"rgba(55, 128, 191, 0.6)\", \"line\": {\"color\": \"rgba(55, 128, 191, 1.0)\", \"width\": 1}}, \"name\": \"Hydro\", \"orientation\": \"v\", \"text\": \"\", \"x\": [2015, 2016, 2017, 2018, 2019, 2020, 2021, 2022, 2023, 2024], \"y\": [2795.478, 4626.512000000001, 914.622, 1071.856, 1023.954, 1189.728, 1075.06, 792.0, 1555.935, 0.0], \"type\": \"bar\", \"uid\": \"c36cc275-5b4d-4d42-a4bd-cef28644b30f\"}, {\"marker\": {\"color\": \"rgba(255, 153, 51, 0.6)\", \"line\": {\"color\": \"rgba(255, 153, 51, 1.0)\", \"width\": 1}}, \"name\": \"Natural gas\", \"orientation\": \"v\", \"text\": \"\", \"x\": [2015, 2016, 2017, 2018, 2019, 2020, 2021, 2022, 2023, 2024], \"y\": [2184.0, 124.8, 0.0, 0.0, 0.0, 592.8, 936.0, 468.0, 911.04, 0.0], \"type\": \"bar\", \"uid\": \"5f0f93f0-71aa-4ae1-bf5a-71f8f00da816\"}, {\"marker\": {\"color\": \"rgba(255, 215, 0, 0.6)\", \"line\": {\"color\": \"rgba(255, 215, 0, 1.0)\", \"width\": 1}}, \"name\": \"Solar\", \"orientation\": \"v\", \"text\": \"\", \"x\": [2015, 2016, 2017, 2018, 2019, 2020, 2021, 2022, 2023, 2024], \"y\": [0.0, 0.0, 0.0, 0.0, 335.7, 447.6, 335.7, 0.0, 0.0, 0.0], \"type\": \"bar\", \"uid\": \"1e506485-7806-4b46-a704-9cf6596b30ea\"}, {\"marker\": {\"color\": \"rgba(238, 130, 238, 0.6)\", \"line\": {\"color\": \"rgba(238, 130, 238, 1.0)\", \"width\": 1}}, \"name\": \"Wind\", \"orientation\": \"v\", \"text\": \"\", \"x\": [2015, 2016, 2017, 2018, 2019, 2020, 2021, 2022, 2023, 2024], \"y\": [0.0, 0.0, 0.0, 723.357, 372.519, 230.607, 0.0, 0.0, 0.0, 0.0], \"type\": \"bar\", \"uid\": \"56757638-bfbf-4ace-9c8d-a22aa0b47339\"}], {\"barmode\": \"stack\", \"legend\": {\"bgcolor\": \"#FFFFFF\", \"font\": {\"color\": \"#4D5663\"}, \"traceorder\": \"normal\"}, \"paper_bgcolor\": \"#FFFFFF\", \"plot_bgcolor\": \"#FFFFFF\", \"title\": {\"text\": \"Capital Investment\", \"font\": {\"color\": \"#4D5663\"}}, \"xaxis\": {\"gridcolor\": \"#E1E5ED\", \"showgrid\": true, \"tickfont\": {\"color\": \"#4D5663\"}, \"title\": {\"text\": \"Year\", \"font\": {\"color\": \"#4D5663\"}}, \"zerolinecolor\": \"#E1E5ED\"}, \"yaxis\": {\"gridcolor\": \"#E1E5ED\", \"showgrid\": true, \"tickfont\": {\"color\": \"#4D5663\"}, \"title\": {\"text\": \"Million $\", \"font\": {\"color\": \"#4D5663\"}}, \"zerolinecolor\": \"#E1E5ED\"}}, {\"showLink\": true, \"linkText\": \"Export to plot.ly\", \"plotlyServerURL\": \"https://plot.ly\"}); \n",
       "}\n",
       "});</script><script type=\"text/javascript\">window.addEventListener(\"resize\", function(){if (document.getElementById(\"ad77fd36-0ed6-4417-b02a-72cc040f7a54\")) {window._Plotly.Plots.resize(document.getElementById(\"ad77fd36-0ed6-4417-b02a-72cc040f7a54\"));};})</script>"
      ]
     },
     "metadata": {},
     "output_type": "display_data"
    }
   ],
   "source": [
    "cap_cos_df = all_params['CapitalInvestment'][all_params['CapitalInvestment'].t.str.startswith('PWR')].drop('r', axis=1)\n",
    "cap_cos_df = df_filter(cap_cos_df,3,6,['TRN'])\n",
    "df_plot(cap_cos_df,'Million $','Capital Investment')"
   ]
  },
  {
   "cell_type": "code",
   "execution_count": 242,
   "metadata": {},
   "outputs": [],
   "source": [
    "ele_cos_df = pd.DataFrame(columns=['Total capital investment', 'Capital costs'])\n",
    "ele_cos_df.insert(0,'y',years)\n",
    "ele_cos_df['Total capital investment'] = cap_cos_df.iloc[:,1:].sum(axis=1)\n",
    "ele_cos_df['Capital costs'] = 0\n",
    "ele_cos_df = ele_cos_df.fillna(0)\n",
    "\n",
    "R = 0.1 # Discount rate\n",
    "n = 20 # Amortization period\n",
    "\n",
    "for i in ele_cos_df['y']:\n",
    "    for j in ele_cos_df['y']:\n",
    "        if i < j + n and i >= j:\n",
    "            ele_cos_df.loc[ele_cos_df['y']==i,'Capital costs'] = ele_cos_df.loc[ele_cos_df['y']==i,'Capital costs'] + (((ele_cos_df.loc[ele_cos_df['y']==j,'Total capital investment'].iloc[0])*R)/(1-(1+R)**(-n)))\n",
    "\n",
    "ele_cos_df.drop('Total capital investment', axis=1, inplace=True)"
   ]
  },
  {
   "cell_type": "code",
   "execution_count": 243,
   "metadata": {},
   "outputs": [],
   "source": [
    "fix_cos_df = all_params['AnnualFixedOperatingCost'][all_params['AnnualFixedOperatingCost'].t.str.startswith('PWR')].drop('r', axis=1)\n",
    "fix_cos_df = df_filter(fix_cos_df,3,6,['TRN'])\n",
    "\n",
    "var_cos_df = all_params['AnnualVariableOperatingCost'][all_params['AnnualVariableOperatingCost'].t.str.startswith('PWR')].drop('r', axis=1)\n",
    "var_cos_df = df_filter(var_cos_df,3,6,['TRN'])\n",
    "\n",
    "dis_cos_df = all_params['AnnualVariableOperatingCost'][all_params['AnnualVariableOperatingCost'].t.str.startswith('DEMPWR')].drop('r', axis=1)\n",
    "dis_cos_df = df_filter(dis_cos_df,6,9,[])\n",
    "\n",
    "dom_val_df = all_params['AnnualVariableOperatingCost'][all_params['AnnualVariableOperatingCost'].t.str.startswith('MIN')|\n",
    "                                                       all_params['AnnualVariableOperatingCost'].t.str.startswith('RNW')].drop('r', axis=1)\n",
    "dom_val_df = df_filter(dom_val_df,3,6,[])\n",
    "for each in dom_val_df.columns:\n",
    "    if each in ['Land','Water','Geothermal','Hydro','Solar','Wind']:\n",
    "        dom_val_df = dom_val_df.drop(each, axis=1)\n",
    "        \n",
    "imp_val_df = all_params['AnnualVariableOperatingCost'][all_params['AnnualVariableOperatingCost'].t.str.startswith('IMP')].drop('r', axis=1)\n",
    "imp_val_df = df_filter(imp_val_df,3,6,[])\n",
    "\n",
    "exp_val_df = all_params['AnnualVariableOperatingCost'][all_params['AnnualVariableOperatingCost'].t.str.startswith('EXP')].drop('r', axis=1)\n",
    "exp_val_df = df_filter(exp_val_df,3,6,[])"
   ]
  },
  {
   "cell_type": "code",
   "execution_count": 244,
   "metadata": {},
   "outputs": [],
   "source": [
    "temp_col_list = []\n",
    "temp_col_list = dom_val_df.columns\n",
    "\n",
    "if len(imp_val_df.columns) > 1:\n",
    "    temp_col_list = temp_col_list.append(imp_val_df.columns)\n",
    "\n",
    "if len(exp_val_df.columns) > 1:\n",
    "    temp_col_list = temp_col_list.append(exp_val_df.columns)\n",
    "\n",
    "fue_val_df = pd.DataFrame(columns=list(set(temp_col_list)))\n",
    "fue_val_df['y'] = years\n",
    "fue_val_df = fue_val_df.reindex(sorted(fue_val_df.columns),axis=1).set_index('y').reset_index()\n",
    "\n",
    "for each in dom_prd_df.columns:\n",
    "    if each != 'y':\n",
    "        fue_val_df[each] = dom_val_df[each]\n",
    "        fue_val_df = fue_val_df.fillna(0)\n",
    "for each in imp_val_df.columns :\n",
    "    if each != 'y' and len(imp_val_df.columns) > 1:\n",
    "        fue_val_df[each] = fue_val_df[each] + imp_val_df[each]\n",
    "        fue_val_df = fue_val_df.fillna(0)\n",
    "for each in exp_val_df.columns:\n",
    "    if each != 'y' and len(ene_exp_df.columns) > 1:\n",
    "        fue_val_df[each] = fue_val_df[each] - exp_val_df[each]"
   ]
  },
  {
   "cell_type": "code",
   "execution_count": 245,
   "metadata": {},
   "outputs": [],
   "source": [
    "temp_col_list = []\n",
    "temp_col_list = dom_prd_df.columns\n",
    "if len(ene_imp_df.columns) > 1:\n",
    "    temp_col_list = temp_col_list.append(ene_imp_df.columns)\n",
    "if len(ene_exp_df.columns) > 1:\n",
    "    temp_col_list = temp_col_list.append(ene_exp_df.columns)\n",
    "\n",
    "fue_prd_df = pd.DataFrame(columns=list(set(temp_col_list)))\n",
    "fue_prd_df['y'] = years\n",
    "fue_prd_df = fue_prd_df.reindex(sorted(fue_prd_df.columns),axis=1).set_index('y').reset_index()\n",
    "\n",
    "for each in dom_prd_df.columns:\n",
    "    if each != 'y':\n",
    "        fue_prd_df[each] = dom_prd_df[each]\n",
    "        fue_prd_df = fue_prd_df.fillna(0)\n",
    "for each in ene_imp_df.columns:\n",
    "    if each != 'y' and len(ene_imp_df.columns) > 1:\n",
    "        fue_prd_df[each] = fue_prd_df[each] + ene_imp_df[each]\n",
    "        fue_prd_df = fue_prd_df.fillna(0)\n",
    "for each in ene_exp_df.columns:\n",
    "    if each != 'y' and len(ene_exp_df.columns) > 1:\n",
    "        fue_prd_df[each] = fue_prd_df[each] - ene_exp_df[each]"
   ]
  },
  {
   "cell_type": "code",
   "execution_count": 246,
   "metadata": {},
   "outputs": [],
   "source": [
    "fue_cos_df = pd.DataFrame(columns=list(set(temp_col_list)))\n",
    "fue_cos_df['y'] = years\n",
    "\n",
    "fue_cos_df = (fue_val_df/fue_prd_df)*gen_use_df\n",
    "fue_cos_df = fue_cos_df.fillna(0)\n",
    "fue_cos_df = fue_cos_df.reindex(sorted(fue_cos_df.columns),axis=1).set_index('y').reset_index()\n",
    "fue_cos_df['y'] = years"
   ]
  },
  {
   "cell_type": "code",
   "execution_count": 247,
   "metadata": {},
   "outputs": [],
   "source": [
    "ele_cos_df['Electricity generation'] = gen_df.iloc[:,1:].sum(axis=1)/3.6\n",
    "ele_cos_df['Capital costs'] = ele_cos_df['Capital costs']/ele_cos_df['Electricity generation']\n",
    "ele_cos_df['Fixed costs'] = fix_cos_df.iloc[:,1:].sum(axis=1)/ele_cos_df['Electricity generation']\n",
    "ele_cos_df['Variable costs'] = var_cos_df.iloc[:,1:].sum(axis=1)/ele_cos_df['Electricity generation']\n",
    "ele_cos_df['Fuel distribution costs'] = dis_cos_df.iloc[:,1:].sum(axis=1)/ele_cos_df['Electricity generation']\n",
    "ele_cos_df['Fuel costs'] = fue_cos_df.iloc[:,1:].sum(axis=1)/ele_cos_df['Electricity generation']"
   ]
  },
  {
   "cell_type": "code",
   "execution_count": 248,
   "metadata": {},
   "outputs": [],
   "source": [
    "ele_cos_df.drop('Electricity generation',axis=1,inplace=True)"
   ]
  },
  {
   "cell_type": "code",
   "execution_count": 249,
   "metadata": {},
   "outputs": [
    {
     "data": {
      "application/vnd.plotly.v1+json": {
       "config": {
        "linkText": "Export to plot.ly",
        "plotlyServerURL": "https://plot.ly",
        "showLink": true
       },
       "data": [
        {
         "marker": {
          "color": "rgba(255, 153, 51, 0.6)",
          "line": {
           "color": "rgba(255, 153, 51, 1.0)",
           "width": 1
          }
         },
         "name": "Capital costs",
         "orientation": "v",
         "text": "",
         "type": "bar",
         "uid": "e3998368-66ef-4ffd-a315-3f8b74d55050",
         "x": [
          2015,
          2016,
          2017,
          2018,
          2019,
          2020,
          2021,
          2022,
          2023,
          2024,
          2025,
          2026,
          2027,
          2028,
          2029,
          2030,
          2031,
          2032,
          2033,
          2034,
          2035,
          2036,
          2037,
          2038,
          2039,
          2040
         ],
         "y": [
          28.577940989548175,
          41.86355595313852,
          44.59029994297438,
          51.08629004053334,
          59.84060515989709,
          63.610062949906805,
          70.33020795318686,
          75.69910747045219,
          76.91345762451155,
          74.49828177027007,
          68.51835108878552,
          63.35841175588842,
          58.864492291014244,
          54.91851784106657,
          51.42951683029635,
          48.32412324517922,
          45.849058231824294,
          43.592822568638326,
          41.528912891916825,
          39.635594385578855,
          31.61609285147522,
          26.55123041527481,
          23.8928683765146,
          20.345793178336905,
          16.18617249888536,
          13.348389169824673
         ]
        },
        {
         "marker": {
          "color": "rgba(55, 128, 191, 0.6)",
          "line": {
           "color": "rgba(55, 128, 191, 1.0)",
           "width": 1
          }
         },
         "name": "Fixed costs",
         "orientation": "v",
         "text": "",
         "type": "bar",
         "uid": "d11d9a4e-c4f8-4c21-a6dd-02bf841c4974",
         "x": [
          2015,
          2016,
          2017,
          2018,
          2019,
          2020,
          2021,
          2022,
          2023,
          2024,
          2025,
          2026,
          2027,
          2028,
          2029,
          2030,
          2031,
          2032,
          2033,
          2034,
          2035,
          2036,
          2037,
          2038,
          2039,
          2040
         ],
         "y": [
          33.242271645754386,
          32.787756397124916,
          30.95387497263464,
          30.240423455807516,
          30.16619091208651,
          29.438944155938675,
          28.980190809193463,
          28.66340856876004,
          27.61505092414506,
          25.244124906095525,
          23.203360800618864,
          21.409776037066447,
          19.891211941074445,
          18.380438148912056,
          17.1541235991039,
          16.106857066616005,
          15.28189603838531,
          14.295244114370819,
          13.618433324881545,
          12.908450719849627,
          12.25528567893307,
          11.664896967175487,
          11.1675796376981,
          10.661137888290062,
          10.02129358886187,
          9.426873722385993
         ]
        },
        {
         "marker": {
          "color": "rgba(50, 171, 96, 0.6)",
          "line": {
           "color": "rgba(50, 171, 96, 1.0)",
           "width": 1
          }
         },
         "name": "Variable costs",
         "orientation": "v",
         "text": "",
         "type": "bar",
         "uid": "772bb89e-c560-4309-9562-d1a30b2a370c",
         "x": [
          2015,
          2016,
          2017,
          2018,
          2019,
          2020,
          2021,
          2022,
          2023,
          2024,
          2025,
          2026,
          2027,
          2028,
          2029,
          2030,
          2031,
          2032,
          2033,
          2034,
          2035,
          2036,
          2037,
          2038,
          2039,
          2040
         ],
         "y": [
          0,
          0,
          0,
          0,
          0,
          0,
          0,
          0,
          0,
          0,
          0,
          0,
          0,
          0,
          0,
          0,
          0,
          0,
          0,
          0,
          0,
          0,
          0,
          0,
          0,
          0
         ]
        },
        {
         "marker": {
          "color": "rgba(128, 0, 128, 0.6)",
          "line": {
           "color": "rgba(128, 0, 128, 1.0)",
           "width": 1
          }
         },
         "name": "Fuel distribution costs",
         "orientation": "v",
         "text": "",
         "type": "bar",
         "uid": "9915d290-b6e1-4811-9213-7e71c248323e",
         "x": [
          2015,
          2016,
          2017,
          2018,
          2019,
          2020,
          2021,
          2022,
          2023,
          2024,
          2025,
          2026,
          2027,
          2028,
          2029,
          2030,
          2031,
          2032,
          2033,
          2034,
          2035,
          2036,
          2037,
          2038,
          2039,
          2040
         ],
         "y": [
          0,
          0,
          0,
          0,
          0,
          0,
          0,
          0,
          0,
          0,
          0,
          0,
          0,
          0,
          0,
          0,
          0,
          0,
          0,
          0,
          0,
          0,
          0,
          0,
          0,
          0
         ]
        },
        {
         "marker": {
          "color": "rgba(219, 64, 82, 0.6)",
          "line": {
           "color": "rgba(219, 64, 82, 1.0)",
           "width": 1
          }
         },
         "name": "Fuel costs",
         "orientation": "v",
         "text": "",
         "type": "bar",
         "uid": "97e63e06-3ddb-479c-9650-4555e8a7e9b2",
         "x": [
          2015,
          2016,
          2017,
          2018,
          2019,
          2020,
          2021,
          2022,
          2023,
          2024,
          2025,
          2026,
          2027,
          2028,
          2029,
          2030,
          2031,
          2032,
          2033,
          2034,
          2035,
          2036,
          2037,
          2038,
          2039,
          2040
         ],
         "y": [
          17.795803678498256,
          13.645874234762172,
          16.559699879845503,
          14.598724631077562,
          13.041668352610214,
          11.4260841659815,
          11.874246703716933,
          12.407752007833249,
          12.670013731496178,
          13.580897876322828,
          14.404656083526639,
          15.221436114152217,
          15.79667646283632,
          16.333696921748604,
          16.778824699501147,
          17.086217566258238,
          17.48556261919355,
          17.849601387440373,
          18.18260866643439,
          18.488090850395924,
          18.769476439213452,
          19.148745460319095,
          19.51128397894684,
          19.925401379364207,
          20.382864605556104,
          20.557613653071435
         ]
        }
       ],
       "layout": {
        "barmode": "stack",
        "legend": {
         "bgcolor": "#FFFFFF",
         "font": {
          "color": "#4D5663"
         },
         "traceorder": "normal"
        },
        "paper_bgcolor": "#FFFFFF",
        "plot_bgcolor": "#FFFFFF",
        "title": {
         "font": {
          "color": "#4D5663"
         },
         "text": "Cost of electricity generation ($/MWh)"
        },
        "xaxis": {
         "gridcolor": "#E1E5ED",
         "showgrid": true,
         "tickfont": {
          "color": "#4D5663"
         },
         "title": {
          "font": {
           "color": "#4D5663"
          },
          "text": ""
         },
         "zerolinecolor": "#E1E5ED"
        },
        "yaxis": {
         "gridcolor": "#E1E5ED",
         "showgrid": true,
         "tickfont": {
          "color": "#4D5663"
         },
         "title": {
          "font": {
           "color": "#4D5663"
          },
          "text": ""
         },
         "zerolinecolor": "#E1E5ED"
        }
       }
      },
      "text/html": [
       "<div id=\"5e72d222-9a33-47cf-91fa-2d0662bb52b9\" style=\"height: 525px; width: 100%;\" class=\"plotly-graph-div\"></div><script type=\"text/javascript\">require([\"plotly\"], function(Plotly) { window.PLOTLYENV=window.PLOTLYENV || {};window.PLOTLYENV.BASE_URL=\"https://plot.ly\";\n",
       "if (document.getElementById(\"5e72d222-9a33-47cf-91fa-2d0662bb52b9\")) {\n",
       "    Plotly.newPlot(\"5e72d222-9a33-47cf-91fa-2d0662bb52b9\", [{\"marker\": {\"color\": \"rgba(255, 153, 51, 0.6)\", \"line\": {\"color\": \"rgba(255, 153, 51, 1.0)\", \"width\": 1}}, \"name\": \"Capital costs\", \"orientation\": \"v\", \"text\": \"\", \"x\": [2015, 2016, 2017, 2018, 2019, 2020, 2021, 2022, 2023, 2024, 2025, 2026, 2027, 2028, 2029, 2030, 2031, 2032, 2033, 2034, 2035, 2036, 2037, 2038, 2039, 2040], \"y\": [28.577940989548175, 41.86355595313852, 44.59029994297438, 51.08629004053334, 59.84060515989709, 63.610062949906805, 70.33020795318686, 75.69910747045219, 76.91345762451155, 74.49828177027007, 68.51835108878552, 63.35841175588842, 58.864492291014244, 54.91851784106657, 51.42951683029635, 48.32412324517922, 45.849058231824294, 43.592822568638326, 41.528912891916825, 39.635594385578855, 31.61609285147522, 26.55123041527481, 23.8928683765146, 20.345793178336905, 16.18617249888536, 13.348389169824673], \"type\": \"bar\", \"uid\": \"55c3d27f-0aef-4aab-8644-89c6afc246ca\"}, {\"marker\": {\"color\": \"rgba(55, 128, 191, 0.6)\", \"line\": {\"color\": \"rgba(55, 128, 191, 1.0)\", \"width\": 1}}, \"name\": \"Fixed costs\", \"orientation\": \"v\", \"text\": \"\", \"x\": [2015, 2016, 2017, 2018, 2019, 2020, 2021, 2022, 2023, 2024, 2025, 2026, 2027, 2028, 2029, 2030, 2031, 2032, 2033, 2034, 2035, 2036, 2037, 2038, 2039, 2040], \"y\": [33.242271645754386, 32.787756397124916, 30.95387497263464, 30.240423455807516, 30.16619091208651, 29.438944155938675, 28.980190809193463, 28.66340856876004, 27.61505092414506, 25.244124906095525, 23.203360800618864, 21.409776037066447, 19.891211941074445, 18.380438148912056, 17.1541235991039, 16.106857066616005, 15.28189603838531, 14.295244114370819, 13.618433324881545, 12.908450719849627, 12.25528567893307, 11.664896967175487, 11.1675796376981, 10.661137888290062, 10.02129358886187, 9.426873722385993], \"type\": \"bar\", \"uid\": \"85e86562-4c48-46b8-b015-338224320e20\"}, {\"marker\": {\"color\": \"rgba(50, 171, 96, 0.6)\", \"line\": {\"color\": \"rgba(50, 171, 96, 1.0)\", \"width\": 1}}, \"name\": \"Variable costs\", \"orientation\": \"v\", \"text\": \"\", \"x\": [2015, 2016, 2017, 2018, 2019, 2020, 2021, 2022, 2023, 2024, 2025, 2026, 2027, 2028, 2029, 2030, 2031, 2032, 2033, 2034, 2035, 2036, 2037, 2038, 2039, 2040], \"y\": [0.0, 0.0, 0.0, 0.0, 0.0, 0.0, 0.0, 0.0, 0.0, 0.0, 0.0, 0.0, 0.0, 0.0, 0.0, 0.0, 0.0, 0.0, 0.0, 0.0, 0.0, 0.0, 0.0, 0.0, 0.0, 0.0], \"type\": \"bar\", \"uid\": \"7faaaf4c-2d3c-4e06-82b6-270cd8bc2af4\"}, {\"marker\": {\"color\": \"rgba(128, 0, 128, 0.6)\", \"line\": {\"color\": \"rgba(128, 0, 128, 1.0)\", \"width\": 1}}, \"name\": \"Fuel distribution costs\", \"orientation\": \"v\", \"text\": \"\", \"x\": [2015, 2016, 2017, 2018, 2019, 2020, 2021, 2022, 2023, 2024, 2025, 2026, 2027, 2028, 2029, 2030, 2031, 2032, 2033, 2034, 2035, 2036, 2037, 2038, 2039, 2040], \"y\": [0.0, 0.0, 0.0, 0.0, 0.0, 0.0, 0.0, 0.0, 0.0, 0.0, 0.0, 0.0, 0.0, 0.0, 0.0, 0.0, 0.0, 0.0, 0.0, 0.0, 0.0, 0.0, 0.0, 0.0, 0.0, 0.0], \"type\": \"bar\", \"uid\": \"3ec209a8-04fa-4724-9abc-c55616e5fc5b\"}, {\"marker\": {\"color\": \"rgba(219, 64, 82, 0.6)\", \"line\": {\"color\": \"rgba(219, 64, 82, 1.0)\", \"width\": 1}}, \"name\": \"Fuel costs\", \"orientation\": \"v\", \"text\": \"\", \"x\": [2015, 2016, 2017, 2018, 2019, 2020, 2021, 2022, 2023, 2024, 2025, 2026, 2027, 2028, 2029, 2030, 2031, 2032, 2033, 2034, 2035, 2036, 2037, 2038, 2039, 2040], \"y\": [17.795803678498256, 13.645874234762172, 16.559699879845503, 14.598724631077562, 13.041668352610214, 11.4260841659815, 11.874246703716933, 12.407752007833249, 12.670013731496178, 13.580897876322828, 14.404656083526639, 15.221436114152217, 15.79667646283632, 16.333696921748604, 16.778824699501147, 17.086217566258238, 17.48556261919355, 17.849601387440373, 18.18260866643439, 18.488090850395924, 18.769476439213452, 19.148745460319095, 19.51128397894684, 19.925401379364207, 20.382864605556104, 20.557613653071435], \"type\": \"bar\", \"uid\": \"0c68ded3-6a0c-468a-8bd4-8ff22c93290b\"}], {\"barmode\": \"stack\", \"legend\": {\"bgcolor\": \"#FFFFFF\", \"font\": {\"color\": \"#4D5663\"}, \"traceorder\": \"normal\"}, \"paper_bgcolor\": \"#FFFFFF\", \"plot_bgcolor\": \"#FFFFFF\", \"title\": {\"text\": \"Cost of electricity generation ($/MWh)\", \"font\": {\"color\": \"#4D5663\"}}, \"xaxis\": {\"gridcolor\": \"#E1E5ED\", \"showgrid\": true, \"tickfont\": {\"color\": \"#4D5663\"}, \"title\": {\"text\": \"\", \"font\": {\"color\": \"#4D5663\"}}, \"zerolinecolor\": \"#E1E5ED\"}, \"yaxis\": {\"gridcolor\": \"#E1E5ED\", \"showgrid\": true, \"tickfont\": {\"color\": \"#4D5663\"}, \"title\": {\"text\": \"\", \"font\": {\"color\": \"#4D5663\"}}, \"zerolinecolor\": \"#E1E5ED\"}}, {\"showLink\": true, \"linkText\": \"Export to plot.ly\", \"plotlyServerURL\": \"https://plot.ly\"}); \n",
       "}\n",
       "});</script><script type=\"text/javascript\">window.addEventListener(\"resize\", function(){if (document.getElementById(\"5e72d222-9a33-47cf-91fa-2d0662bb52b9\")) {window._Plotly.Plots.resize(document.getElementById(\"5e72d222-9a33-47cf-91fa-2d0662bb52b9\"));};})</script>"
      ],
      "text/vnd.plotly.v1+html": [
       "<div id=\"5e72d222-9a33-47cf-91fa-2d0662bb52b9\" style=\"height: 525px; width: 100%;\" class=\"plotly-graph-div\"></div><script type=\"text/javascript\">require([\"plotly\"], function(Plotly) { window.PLOTLYENV=window.PLOTLYENV || {};window.PLOTLYENV.BASE_URL=\"https://plot.ly\";\n",
       "if (document.getElementById(\"5e72d222-9a33-47cf-91fa-2d0662bb52b9\")) {\n",
       "    Plotly.newPlot(\"5e72d222-9a33-47cf-91fa-2d0662bb52b9\", [{\"marker\": {\"color\": \"rgba(255, 153, 51, 0.6)\", \"line\": {\"color\": \"rgba(255, 153, 51, 1.0)\", \"width\": 1}}, \"name\": \"Capital costs\", \"orientation\": \"v\", \"text\": \"\", \"x\": [2015, 2016, 2017, 2018, 2019, 2020, 2021, 2022, 2023, 2024, 2025, 2026, 2027, 2028, 2029, 2030, 2031, 2032, 2033, 2034, 2035, 2036, 2037, 2038, 2039, 2040], \"y\": [28.577940989548175, 41.86355595313852, 44.59029994297438, 51.08629004053334, 59.84060515989709, 63.610062949906805, 70.33020795318686, 75.69910747045219, 76.91345762451155, 74.49828177027007, 68.51835108878552, 63.35841175588842, 58.864492291014244, 54.91851784106657, 51.42951683029635, 48.32412324517922, 45.849058231824294, 43.592822568638326, 41.528912891916825, 39.635594385578855, 31.61609285147522, 26.55123041527481, 23.8928683765146, 20.345793178336905, 16.18617249888536, 13.348389169824673], \"type\": \"bar\", \"uid\": \"55c3d27f-0aef-4aab-8644-89c6afc246ca\"}, {\"marker\": {\"color\": \"rgba(55, 128, 191, 0.6)\", \"line\": {\"color\": \"rgba(55, 128, 191, 1.0)\", \"width\": 1}}, \"name\": \"Fixed costs\", \"orientation\": \"v\", \"text\": \"\", \"x\": [2015, 2016, 2017, 2018, 2019, 2020, 2021, 2022, 2023, 2024, 2025, 2026, 2027, 2028, 2029, 2030, 2031, 2032, 2033, 2034, 2035, 2036, 2037, 2038, 2039, 2040], \"y\": [33.242271645754386, 32.787756397124916, 30.95387497263464, 30.240423455807516, 30.16619091208651, 29.438944155938675, 28.980190809193463, 28.66340856876004, 27.61505092414506, 25.244124906095525, 23.203360800618864, 21.409776037066447, 19.891211941074445, 18.380438148912056, 17.1541235991039, 16.106857066616005, 15.28189603838531, 14.295244114370819, 13.618433324881545, 12.908450719849627, 12.25528567893307, 11.664896967175487, 11.1675796376981, 10.661137888290062, 10.02129358886187, 9.426873722385993], \"type\": \"bar\", \"uid\": \"85e86562-4c48-46b8-b015-338224320e20\"}, {\"marker\": {\"color\": \"rgba(50, 171, 96, 0.6)\", \"line\": {\"color\": \"rgba(50, 171, 96, 1.0)\", \"width\": 1}}, \"name\": \"Variable costs\", \"orientation\": \"v\", \"text\": \"\", \"x\": [2015, 2016, 2017, 2018, 2019, 2020, 2021, 2022, 2023, 2024, 2025, 2026, 2027, 2028, 2029, 2030, 2031, 2032, 2033, 2034, 2035, 2036, 2037, 2038, 2039, 2040], \"y\": [0.0, 0.0, 0.0, 0.0, 0.0, 0.0, 0.0, 0.0, 0.0, 0.0, 0.0, 0.0, 0.0, 0.0, 0.0, 0.0, 0.0, 0.0, 0.0, 0.0, 0.0, 0.0, 0.0, 0.0, 0.0, 0.0], \"type\": \"bar\", \"uid\": \"7faaaf4c-2d3c-4e06-82b6-270cd8bc2af4\"}, {\"marker\": {\"color\": \"rgba(128, 0, 128, 0.6)\", \"line\": {\"color\": \"rgba(128, 0, 128, 1.0)\", \"width\": 1}}, \"name\": \"Fuel distribution costs\", \"orientation\": \"v\", \"text\": \"\", \"x\": [2015, 2016, 2017, 2018, 2019, 2020, 2021, 2022, 2023, 2024, 2025, 2026, 2027, 2028, 2029, 2030, 2031, 2032, 2033, 2034, 2035, 2036, 2037, 2038, 2039, 2040], \"y\": [0.0, 0.0, 0.0, 0.0, 0.0, 0.0, 0.0, 0.0, 0.0, 0.0, 0.0, 0.0, 0.0, 0.0, 0.0, 0.0, 0.0, 0.0, 0.0, 0.0, 0.0, 0.0, 0.0, 0.0, 0.0, 0.0], \"type\": \"bar\", \"uid\": \"3ec209a8-04fa-4724-9abc-c55616e5fc5b\"}, {\"marker\": {\"color\": \"rgba(219, 64, 82, 0.6)\", \"line\": {\"color\": \"rgba(219, 64, 82, 1.0)\", \"width\": 1}}, \"name\": \"Fuel costs\", \"orientation\": \"v\", \"text\": \"\", \"x\": [2015, 2016, 2017, 2018, 2019, 2020, 2021, 2022, 2023, 2024, 2025, 2026, 2027, 2028, 2029, 2030, 2031, 2032, 2033, 2034, 2035, 2036, 2037, 2038, 2039, 2040], \"y\": [17.795803678498256, 13.645874234762172, 16.559699879845503, 14.598724631077562, 13.041668352610214, 11.4260841659815, 11.874246703716933, 12.407752007833249, 12.670013731496178, 13.580897876322828, 14.404656083526639, 15.221436114152217, 15.79667646283632, 16.333696921748604, 16.778824699501147, 17.086217566258238, 17.48556261919355, 17.849601387440373, 18.18260866643439, 18.488090850395924, 18.769476439213452, 19.148745460319095, 19.51128397894684, 19.925401379364207, 20.382864605556104, 20.557613653071435], \"type\": \"bar\", \"uid\": \"0c68ded3-6a0c-468a-8bd4-8ff22c93290b\"}], {\"barmode\": \"stack\", \"legend\": {\"bgcolor\": \"#FFFFFF\", \"font\": {\"color\": \"#4D5663\"}, \"traceorder\": \"normal\"}, \"paper_bgcolor\": \"#FFFFFF\", \"plot_bgcolor\": \"#FFFFFF\", \"title\": {\"text\": \"Cost of electricity generation ($/MWh)\", \"font\": {\"color\": \"#4D5663\"}}, \"xaxis\": {\"gridcolor\": \"#E1E5ED\", \"showgrid\": true, \"tickfont\": {\"color\": \"#4D5663\"}, \"title\": {\"text\": \"\", \"font\": {\"color\": \"#4D5663\"}}, \"zerolinecolor\": \"#E1E5ED\"}, \"yaxis\": {\"gridcolor\": \"#E1E5ED\", \"showgrid\": true, \"tickfont\": {\"color\": \"#4D5663\"}, \"title\": {\"text\": \"\", \"font\": {\"color\": \"#4D5663\"}}, \"zerolinecolor\": \"#E1E5ED\"}}, {\"showLink\": true, \"linkText\": \"Export to plot.ly\", \"plotlyServerURL\": \"https://plot.ly\"}); \n",
       "}\n",
       "});</script><script type=\"text/javascript\">window.addEventListener(\"resize\", function(){if (document.getElementById(\"5e72d222-9a33-47cf-91fa-2d0662bb52b9\")) {window._Plotly.Plots.resize(document.getElementById(\"5e72d222-9a33-47cf-91fa-2d0662bb52b9\"));};})</script>"
      ]
     },
     "metadata": {},
     "output_type": "display_data"
    }
   ],
   "source": [
    "ele_cos_df.iplot(kind='bar',barmode='stack',x='y',title='Cost of electricity generation ($/MWh)')"
   ]
  },
  {
   "cell_type": "code",
   "execution_count": 250,
   "metadata": {},
   "outputs": [],
   "source": [
    "# Land use\n",
    "\n",
    "regions = {'C':'Center',\n",
    "           'N':'North',\n",
    "           'S':'South'}\n",
    "\n",
    "crops = {'CP1':'Coffee',\n",
    "         'CP2':'Cotton',\n",
    "         'CP3':'Peanuts',\n",
    "         'CP4':'Maize',\n",
    "         'CP5':'Rice',\n",
    "         'CP6':'Soybean',\n",
    "         'CP7':'Sugarcane',\n",
    "         'CP8':'Tea'}\n",
    "\n",
    "water_supply = {'I':'Irrigated',\n",
    "                'R':'Rain-fed'}\n",
    "\n",
    "input_level = {'L':'Low',\n",
    "               'I':'Intermediate',\n",
    "               'H':'High'}"
   ]
  },
  {
   "cell_type": "code",
   "execution_count": 251,
   "metadata": {},
   "outputs": [
    {
     "data": {
      "application/vnd.plotly.v1+json": {
       "config": {
        "linkText": "Export to plot.ly",
        "plotlyServerURL": "https://plot.ly",
        "showLink": true
       },
       "data": [
        {
         "marker": {
          "color": "rgba(165, 42, 42, 0.6)",
          "line": {
           "color": "rgba(165, 42, 42, 1.0)",
           "width": 1
          }
         },
         "name": "Coffee",
         "orientation": "v",
         "text": "",
         "type": "bar",
         "uid": "45d02877-0d67-4c3c-91a1-fac9d163f3f9",
         "x": [
          2015,
          2016,
          2017,
          2018,
          2019,
          2020,
          2021,
          2022,
          2023,
          2024,
          2025,
          2026,
          2027,
          2028,
          2029,
          2030,
          2031,
          2032,
          2033,
          2034,
          2035,
          2036,
          2037,
          2038,
          2039,
          2040
         ],
         "y": [
          6.45542101,
          6.5644407,
          6.6533351000000005,
          6.7429417,
          6.8337748000000005,
          6.9246928,
          6.9731504,
          7.0186788,
          7.064555599999999,
          7.109202800000001,
          7.1559071,
          7.190783000000001,
          7.224529500000001,
          7.2501177,
          7.280764799999999,
          7.3061471,
          7.305000000000001,
          7.3035589000000005,
          7.3024118,
          7.298588299999999,
          7.297441200000001,
          7.296,
          7.288920668110001,
          7.293764699999999,
          7.290588199999999,
          7.2823530000000005
         ]
        },
        {
         "marker": {
          "color": "rgba(128, 128, 128, 0.6)",
          "line": {
           "color": "rgba(128, 128, 128, 1.0)",
           "width": 1
          }
         },
         "name": "Cotton",
         "orientation": "v",
         "text": "",
         "type": "bar",
         "uid": "234e4d80-1152-49a3-9c07-a0938354d4d9",
         "x": [
          2015,
          2016,
          2017,
          2018,
          2019,
          2020,
          2021,
          2022,
          2023,
          2024,
          2025,
          2026,
          2027,
          2028,
          2029,
          2030,
          2031,
          2032,
          2033,
          2034,
          2035,
          2036,
          2037,
          2038,
          2039,
          2040
         ],
         "y": [
          0.27340000000000003,
          0.31880367000000004,
          0.33987179,
          0.33987179,
          0.33987179,
          0.33987179,
          0.33987179,
          0.33833333000000004,
          0.33679487,
          0.36243590000000003,
          0.36243590000000003,
          0.36025641,
          0.36025641,
          0.36025641,
          0.36025641,
          0.36051282,
          0.36051282,
          0.36051282,
          0.36051282,
          0.36051282,
          0.35897436,
          0.35897436,
          0.35897436,
          0.35897436,
          0.35897436,
          0.35897436
         ]
        },
        {
         "marker": {
          "color": "rgba(255, 153, 51, 0.6)",
          "line": {
           "color": "rgba(255, 153, 51, 1.0)",
           "width": 1
          }
         },
         "name": "Peanuts",
         "orientation": "v",
         "text": "",
         "type": "bar",
         "uid": "2c959149-4155-4cba-9326-1ff930eaf771",
         "x": [
          2015,
          2016,
          2017,
          2018,
          2019,
          2020,
          2021,
          2022,
          2023,
          2024,
          2025,
          2026,
          2027,
          2028,
          2029,
          2030,
          2031,
          2032,
          2033,
          2034,
          2035,
          2036,
          2037,
          2038,
          2039,
          2040
         ],
         "y": [
          2.1936733,
          2.1962897,
          2.2091494,
          2.2327021000000005,
          2.2550227,
          2.284922,
          2.2867584,
          2.2921685,
          2.3091172,
          2.3278865,
          2.3250313,
          2.3247336,
          2.3346548,
          2.3439753,
          2.3488261,
          2.3587772,
          2.3590772,
          2.3536174,
          2.3500218999999998,
          2.3484944,
          2.3437856000000004,
          2.3441307,
          2.3430589000000004,
          2.3355249,
          2.3348089999999995,
          2.3314313
         ]
        },
        {
         "marker": {
          "color": "rgba(255, 215, 0, 0.6)",
          "line": {
           "color": "rgba(255, 215, 0, 1.0)",
           "width": 1
          }
         },
         "name": "Maize",
         "orientation": "v",
         "text": "",
         "type": "bar",
         "uid": "6eddd1e1-ae5d-4fdf-8b24-3589c263458f",
         "x": [
          2015,
          2016,
          2017,
          2018,
          2019,
          2020,
          2021,
          2022,
          2023,
          2024,
          2025,
          2026,
          2027,
          2028,
          2029,
          2030,
          2031,
          2032,
          2033,
          2034,
          2035,
          2036,
          2037,
          2038,
          2039,
          2040
         ],
         "y": [
          6.1882349,
          6.2499037,
          6.312009,
          6.375211800000001,
          6.4381643,
          6.5002696,
          6.522252900000001,
          6.5442426000000005,
          6.5717073,
          6.5924134,
          6.627511600000001,
          6.664300400000001,
          6.6840051,
          6.707856199999999,
          6.7263864,
          6.750872899999999,
          6.7414698,
          6.7352438999999995,
          6.731880599999999,
          6.7224775,
          6.7149678999999995,
          6.7080359000000005,
          6.694923,
          6.6913735999999995,
          6.687894699999999,
          6.6803594
         ]
        },
        {
         "marker": {
          "color": "rgba(0, 128, 0, 0.6)",
          "line": {
           "color": "rgba(0, 128, 0, 1.0)",
           "width": 1
          }
         },
         "name": "Rice",
         "orientation": "v",
         "text": "",
         "type": "bar",
         "uid": "5734aeba-2ac7-46b4-ae05-a0dfff45df33",
         "x": [
          2015,
          2016,
          2017,
          2018,
          2019,
          2020,
          2021,
          2022,
          2023,
          2024,
          2025,
          2026,
          2027,
          2028,
          2029,
          2030,
          2031,
          2032,
          2033,
          2034,
          2035,
          2036,
          2037,
          2038,
          2039,
          2040
         ],
         "y": [
          62.8362938,
          63.6074491,
          64.3955101,
          65.20574114,
          66.01869382,
          66.83114722,
          67.14771065000001,
          67.46956723000001,
          67.7829411,
          68.09434841,
          68.41527504999999,
          68.74887219,
          69.09577435,
          69.44687404999999,
          69.79805145,
          70.21677731,
          70.19511761999999,
          70.1707036,
          70.1146798,
          70.0685791,
          70.01752730000001,
          69.9703344,
          69.9257351,
          69.8866812,
          69.8366807,
          69.7881489
         ]
        },
        {
         "marker": {
          "color": "rgba(178, 34, 34, 0.6)",
          "line": {
           "color": "rgba(178, 34, 34, 1.0)",
           "width": 1
          }
         },
         "name": "Soybean",
         "orientation": "v",
         "text": "",
         "type": "bar",
         "uid": "fa8a7b06-d026-473d-9b1b-6e810c18c854",
         "x": [
          2015,
          2016,
          2017,
          2018,
          2019,
          2020,
          2021,
          2022,
          2023,
          2024,
          2025,
          2026,
          2027,
          2028,
          2029,
          2030,
          2031,
          2032,
          2033,
          2034,
          2035,
          2036,
          2037,
          2038,
          2039,
          2040
         ],
         "y": [
          0.93383234,
          0.94164671,
          0.9524550900000001,
          0.96026946,
          0.9697006,
          0.98050898,
          0.9823353300000001,
          0.98598802,
          0.9905988,
          0.99242515,
          0.99607784,
          1.0008982,
          1.00251497,
          1.0073353299999999,
          1.0109880199999999,
          1.0128143699999999,
          1.01443114,
          1.00882395,
          1.00419162,
          1.00377246,
          1.0057185599999998,
          1.0052994,
          1.0048802399999999,
          1.00446108,
          1.0064072,
          1.005988
         ]
        },
        {
         "marker": {
          "color": "rgba(128, 0, 128, 0.6)",
          "line": {
           "color": "rgba(128, 0, 128, 1.0)",
           "width": 1
          }
         },
         "name": "Sugarcane",
         "orientation": "v",
         "text": "",
         "type": "bar",
         "uid": "eff4050b-46de-4e62-830e-4a97bfef166e",
         "x": [
          2015,
          2016,
          2017,
          2018,
          2019,
          2020,
          2021,
          2022,
          2023,
          2024,
          2025,
          2026,
          2027,
          2028,
          2029,
          2030,
          2031,
          2032,
          2033,
          2034,
          2035,
          2036,
          2037,
          2038,
          2039,
          2040
         ],
         "y": [
          17.1987208,
          17.4014105,
          17.6078602,
          17.809966,
          18.0133175,
          18.2173978,
          18.3144818,
          18.4040056,
          18.4945165,
          18.5857693,
          18.678549399999998,
          18.7823973,
          18.899642800000002,
          19.016338700000006,
          19.134644599999998,
          19.228591299999998,
          19.225728800000002,
          19.2147123,
          19.1919806,
          19.1857689,
          19.177483000000002,
          19.169754700000002,
          19.166241600000003,
          19.1771423,
          19.1875838,
          19.1971943
         ]
        },
        {
         "marker": {
          "color": "rgba(255, 0, 136, 0.6)",
          "line": {
           "color": "rgba(255, 0, 136, 1.0)",
           "width": 1
          }
         },
         "name": "Tea",
         "orientation": "v",
         "text": "",
         "type": "bar",
         "uid": "3ef83ef4-bdc7-4133-8d9d-74653035aceb",
         "x": [
          2015,
          2016,
          2017,
          2018,
          2019,
          2020,
          2021,
          2022,
          2023,
          2024,
          2025,
          2026,
          2027,
          2028,
          2029,
          2030,
          2031,
          2032,
          2033,
          2034,
          2035,
          2036,
          2037,
          2038,
          2039,
          2040
         ],
         "y": [
          8.717634399999998,
          8.811372000000002,
          8.901621,
          8.9999408,
          9.0861877,
          9.1848267,
          9.2040461,
          9.244153299999997,
          9.2814504,
          9.326036299999998,
          9.370534300000003,
          9.407865200000002,
          9.452484100000001,
          9.495282000000001,
          9.530020899999998,
          9.568796374999998,
          9.561873899999998,
          9.558171400000003,
          9.544484399999998,
          9.5495692,
          9.557286999999999,
          9.55239,
          9.555769200000002,
          9.565246100000001,
          9.554286000000001,
          9.563779700000001
         ]
        }
       ],
       "layout": {
        "barmode": "stack",
        "legend": {
         "bgcolor": "#FFFFFF",
         "font": {
          "color": "#4D5663"
         },
         "traceorder": "normal"
        },
        "paper_bgcolor": "#FFFFFF",
        "plot_bgcolor": "#FFFFFF",
        "title": {
         "font": {
          "color": "#4D5663"
         },
         "text": "Planted area by crop"
        },
        "xaxis": {
         "gridcolor": "#E1E5ED",
         "showgrid": true,
         "tickfont": {
          "color": "#4D5663"
         },
         "title": {
          "font": {
           "color": "#4D5663"
          },
          "text": "Year"
         },
         "zerolinecolor": "#E1E5ED"
        },
        "yaxis": {
         "gridcolor": "#E1E5ED",
         "showgrid": true,
         "tickfont": {
          "color": "#4D5663"
         },
         "title": {
          "font": {
           "color": "#4D5663"
          },
          "text": "Land area (1000 sq.km.)"
         },
         "zerolinecolor": "#E1E5ED"
        }
       }
      },
      "text/html": [
       "<div id=\"1fab4582-dcc5-440e-b237-415007ab9006\" style=\"height: 525px; width: 100%;\" class=\"plotly-graph-div\"></div><script type=\"text/javascript\">require([\"plotly\"], function(Plotly) { window.PLOTLYENV=window.PLOTLYENV || {};window.PLOTLYENV.BASE_URL=\"https://plot.ly\";\n",
       "if (document.getElementById(\"1fab4582-dcc5-440e-b237-415007ab9006\")) {\n",
       "    Plotly.newPlot(\"1fab4582-dcc5-440e-b237-415007ab9006\", [{\"marker\": {\"color\": \"rgba(165, 42, 42, 0.6)\", \"line\": {\"color\": \"rgba(165, 42, 42, 1.0)\", \"width\": 1}}, \"name\": \"Coffee\", \"orientation\": \"v\", \"text\": \"\", \"x\": [2015, 2016, 2017, 2018, 2019, 2020, 2021, 2022, 2023, 2024, 2025, 2026, 2027, 2028, 2029, 2030, 2031, 2032, 2033, 2034, 2035, 2036, 2037, 2038, 2039, 2040], \"y\": [6.45542101, 6.5644407, 6.6533351000000005, 6.7429417, 6.8337748000000005, 6.9246928, 6.9731504, 7.0186788, 7.064555599999999, 7.109202800000001, 7.1559071, 7.190783000000001, 7.224529500000001, 7.2501177, 7.280764799999999, 7.3061471, 7.305000000000001, 7.3035589000000005, 7.3024118, 7.298588299999999, 7.297441200000001, 7.296, 7.288920668110001, 7.293764699999999, 7.290588199999999, 7.2823530000000005], \"type\": \"bar\", \"uid\": \"5671470c-6f1e-4c90-9ed8-f0e906c6c968\"}, {\"marker\": {\"color\": \"rgba(128, 128, 128, 0.6)\", \"line\": {\"color\": \"rgba(128, 128, 128, 1.0)\", \"width\": 1}}, \"name\": \"Cotton\", \"orientation\": \"v\", \"text\": \"\", \"x\": [2015, 2016, 2017, 2018, 2019, 2020, 2021, 2022, 2023, 2024, 2025, 2026, 2027, 2028, 2029, 2030, 2031, 2032, 2033, 2034, 2035, 2036, 2037, 2038, 2039, 2040], \"y\": [0.27340000000000003, 0.31880367000000004, 0.33987179, 0.33987179, 0.33987179, 0.33987179, 0.33987179, 0.33833333000000004, 0.33679487, 0.36243590000000003, 0.36243590000000003, 0.36025641, 0.36025641, 0.36025641, 0.36025641, 0.36051282, 0.36051282, 0.36051282, 0.36051282, 0.36051282, 0.35897436, 0.35897436, 0.35897436, 0.35897436, 0.35897436, 0.35897436], \"type\": \"bar\", \"uid\": \"6158c5a2-56f8-428b-b25c-99a086537476\"}, {\"marker\": {\"color\": \"rgba(255, 153, 51, 0.6)\", \"line\": {\"color\": \"rgba(255, 153, 51, 1.0)\", \"width\": 1}}, \"name\": \"Peanuts\", \"orientation\": \"v\", \"text\": \"\", \"x\": [2015, 2016, 2017, 2018, 2019, 2020, 2021, 2022, 2023, 2024, 2025, 2026, 2027, 2028, 2029, 2030, 2031, 2032, 2033, 2034, 2035, 2036, 2037, 2038, 2039, 2040], \"y\": [2.1936733, 2.1962897, 2.2091494, 2.2327021000000005, 2.2550227, 2.284922, 2.2867584, 2.2921685, 2.3091172, 2.3278865, 2.3250313, 2.3247336, 2.3346548, 2.3439753, 2.3488261, 2.3587772, 2.3590772, 2.3536174, 2.3500218999999998, 2.3484944, 2.3437856000000004, 2.3441307, 2.3430589000000004, 2.3355249, 2.3348089999999995, 2.3314313], \"type\": \"bar\", \"uid\": \"1c2f3a98-7a7e-4df4-8c44-28e6aa587a59\"}, {\"marker\": {\"color\": \"rgba(255, 215, 0, 0.6)\", \"line\": {\"color\": \"rgba(255, 215, 0, 1.0)\", \"width\": 1}}, \"name\": \"Maize\", \"orientation\": \"v\", \"text\": \"\", \"x\": [2015, 2016, 2017, 2018, 2019, 2020, 2021, 2022, 2023, 2024, 2025, 2026, 2027, 2028, 2029, 2030, 2031, 2032, 2033, 2034, 2035, 2036, 2037, 2038, 2039, 2040], \"y\": [6.1882349, 6.2499037, 6.312009, 6.375211800000001, 6.4381643, 6.5002696, 6.522252900000001, 6.5442426000000005, 6.5717073, 6.5924134, 6.627511600000001, 6.664300400000001, 6.6840051, 6.707856199999999, 6.7263864, 6.750872899999999, 6.7414698, 6.7352438999999995, 6.731880599999999, 6.7224775, 6.7149678999999995, 6.7080359000000005, 6.694923, 6.6913735999999995, 6.687894699999999, 6.6803594], \"type\": \"bar\", \"uid\": \"a2e6e0a7-6b15-4765-a4fd-4984b08484a8\"}, {\"marker\": {\"color\": \"rgba(0, 128, 0, 0.6)\", \"line\": {\"color\": \"rgba(0, 128, 0, 1.0)\", \"width\": 1}}, \"name\": \"Rice\", \"orientation\": \"v\", \"text\": \"\", \"x\": [2015, 2016, 2017, 2018, 2019, 2020, 2021, 2022, 2023, 2024, 2025, 2026, 2027, 2028, 2029, 2030, 2031, 2032, 2033, 2034, 2035, 2036, 2037, 2038, 2039, 2040], \"y\": [62.8362938, 63.6074491, 64.3955101, 65.20574114, 66.01869382, 66.83114722, 67.14771065000001, 67.46956723000001, 67.7829411, 68.09434841, 68.41527504999999, 68.74887219, 69.09577435, 69.44687404999999, 69.79805145, 70.21677731, 70.19511761999999, 70.1707036, 70.1146798, 70.0685791, 70.01752730000001, 69.9703344, 69.9257351, 69.8866812, 69.8366807, 69.7881489], \"type\": \"bar\", \"uid\": \"1a21719e-eb7b-4781-aada-c4a47c0d3da9\"}, {\"marker\": {\"color\": \"rgba(178, 34, 34, 0.6)\", \"line\": {\"color\": \"rgba(178, 34, 34, 1.0)\", \"width\": 1}}, \"name\": \"Soybean\", \"orientation\": \"v\", \"text\": \"\", \"x\": [2015, 2016, 2017, 2018, 2019, 2020, 2021, 2022, 2023, 2024, 2025, 2026, 2027, 2028, 2029, 2030, 2031, 2032, 2033, 2034, 2035, 2036, 2037, 2038, 2039, 2040], \"y\": [0.93383234, 0.94164671, 0.9524550900000001, 0.96026946, 0.9697006, 0.98050898, 0.9823353300000001, 0.98598802, 0.9905988, 0.99242515, 0.99607784, 1.0008982, 1.00251497, 1.0073353299999999, 1.0109880199999999, 1.0128143699999999, 1.01443114, 1.00882395, 1.00419162, 1.00377246, 1.0057185599999998, 1.0052994, 1.0048802399999999, 1.00446108, 1.0064072, 1.005988], \"type\": \"bar\", \"uid\": \"544c8479-829b-4952-bf36-7790f3092cef\"}, {\"marker\": {\"color\": \"rgba(128, 0, 128, 0.6)\", \"line\": {\"color\": \"rgba(128, 0, 128, 1.0)\", \"width\": 1}}, \"name\": \"Sugarcane\", \"orientation\": \"v\", \"text\": \"\", \"x\": [2015, 2016, 2017, 2018, 2019, 2020, 2021, 2022, 2023, 2024, 2025, 2026, 2027, 2028, 2029, 2030, 2031, 2032, 2033, 2034, 2035, 2036, 2037, 2038, 2039, 2040], \"y\": [17.1987208, 17.4014105, 17.6078602, 17.809966, 18.0133175, 18.2173978, 18.3144818, 18.4040056, 18.4945165, 18.5857693, 18.678549399999998, 18.7823973, 18.899642800000002, 19.016338700000006, 19.134644599999998, 19.228591299999998, 19.225728800000002, 19.2147123, 19.1919806, 19.1857689, 19.177483000000002, 19.169754700000002, 19.166241600000003, 19.1771423, 19.1875838, 19.1971943], \"type\": \"bar\", \"uid\": \"ddeb2a10-09f3-4445-8389-c9b99f85872b\"}, {\"marker\": {\"color\": \"rgba(255, 0, 136, 0.6)\", \"line\": {\"color\": \"rgba(255, 0, 136, 1.0)\", \"width\": 1}}, \"name\": \"Tea\", \"orientation\": \"v\", \"text\": \"\", \"x\": [2015, 2016, 2017, 2018, 2019, 2020, 2021, 2022, 2023, 2024, 2025, 2026, 2027, 2028, 2029, 2030, 2031, 2032, 2033, 2034, 2035, 2036, 2037, 2038, 2039, 2040], \"y\": [8.717634399999998, 8.811372000000002, 8.901621, 8.9999408, 9.0861877, 9.1848267, 9.2040461, 9.244153299999997, 9.2814504, 9.326036299999998, 9.370534300000003, 9.407865200000002, 9.452484100000001, 9.495282000000001, 9.530020899999998, 9.568796374999998, 9.561873899999998, 9.558171400000003, 9.544484399999998, 9.5495692, 9.557286999999999, 9.55239, 9.555769200000002, 9.565246100000001, 9.554286000000001, 9.563779700000001], \"type\": \"bar\", \"uid\": \"b311661a-b6bd-49fe-907a-d92fea17499e\"}], {\"barmode\": \"stack\", \"legend\": {\"bgcolor\": \"#FFFFFF\", \"font\": {\"color\": \"#4D5663\"}, \"traceorder\": \"normal\"}, \"paper_bgcolor\": \"#FFFFFF\", \"plot_bgcolor\": \"#FFFFFF\", \"title\": {\"text\": \"Planted area by crop\", \"font\": {\"color\": \"#4D5663\"}}, \"xaxis\": {\"gridcolor\": \"#E1E5ED\", \"showgrid\": true, \"tickfont\": {\"color\": \"#4D5663\"}, \"title\": {\"text\": \"Year\", \"font\": {\"color\": \"#4D5663\"}}, \"zerolinecolor\": \"#E1E5ED\"}, \"yaxis\": {\"gridcolor\": \"#E1E5ED\", \"showgrid\": true, \"tickfont\": {\"color\": \"#4D5663\"}, \"title\": {\"text\": \"Land area (1000 sq.km.)\", \"font\": {\"color\": \"#4D5663\"}}, \"zerolinecolor\": \"#E1E5ED\"}}, {\"showLink\": true, \"linkText\": \"Export to plot.ly\", \"plotlyServerURL\": \"https://plot.ly\"}); \n",
       "}\n",
       "});</script><script type=\"text/javascript\">window.addEventListener(\"resize\", function(){if (document.getElementById(\"1fab4582-dcc5-440e-b237-415007ab9006\")) {window._Plotly.Plots.resize(document.getElementById(\"1fab4582-dcc5-440e-b237-415007ab9006\"));};})</script>"
      ],
      "text/vnd.plotly.v1+html": [
       "<div id=\"1fab4582-dcc5-440e-b237-415007ab9006\" style=\"height: 525px; width: 100%;\" class=\"plotly-graph-div\"></div><script type=\"text/javascript\">require([\"plotly\"], function(Plotly) { window.PLOTLYENV=window.PLOTLYENV || {};window.PLOTLYENV.BASE_URL=\"https://plot.ly\";\n",
       "if (document.getElementById(\"1fab4582-dcc5-440e-b237-415007ab9006\")) {\n",
       "    Plotly.newPlot(\"1fab4582-dcc5-440e-b237-415007ab9006\", [{\"marker\": {\"color\": \"rgba(165, 42, 42, 0.6)\", \"line\": {\"color\": \"rgba(165, 42, 42, 1.0)\", \"width\": 1}}, \"name\": \"Coffee\", \"orientation\": \"v\", \"text\": \"\", \"x\": [2015, 2016, 2017, 2018, 2019, 2020, 2021, 2022, 2023, 2024, 2025, 2026, 2027, 2028, 2029, 2030, 2031, 2032, 2033, 2034, 2035, 2036, 2037, 2038, 2039, 2040], \"y\": [6.45542101, 6.5644407, 6.6533351000000005, 6.7429417, 6.8337748000000005, 6.9246928, 6.9731504, 7.0186788, 7.064555599999999, 7.109202800000001, 7.1559071, 7.190783000000001, 7.224529500000001, 7.2501177, 7.280764799999999, 7.3061471, 7.305000000000001, 7.3035589000000005, 7.3024118, 7.298588299999999, 7.297441200000001, 7.296, 7.288920668110001, 7.293764699999999, 7.290588199999999, 7.2823530000000005], \"type\": \"bar\", \"uid\": \"5671470c-6f1e-4c90-9ed8-f0e906c6c968\"}, {\"marker\": {\"color\": \"rgba(128, 128, 128, 0.6)\", \"line\": {\"color\": \"rgba(128, 128, 128, 1.0)\", \"width\": 1}}, \"name\": \"Cotton\", \"orientation\": \"v\", \"text\": \"\", \"x\": [2015, 2016, 2017, 2018, 2019, 2020, 2021, 2022, 2023, 2024, 2025, 2026, 2027, 2028, 2029, 2030, 2031, 2032, 2033, 2034, 2035, 2036, 2037, 2038, 2039, 2040], \"y\": [0.27340000000000003, 0.31880367000000004, 0.33987179, 0.33987179, 0.33987179, 0.33987179, 0.33987179, 0.33833333000000004, 0.33679487, 0.36243590000000003, 0.36243590000000003, 0.36025641, 0.36025641, 0.36025641, 0.36025641, 0.36051282, 0.36051282, 0.36051282, 0.36051282, 0.36051282, 0.35897436, 0.35897436, 0.35897436, 0.35897436, 0.35897436, 0.35897436], \"type\": \"bar\", \"uid\": \"6158c5a2-56f8-428b-b25c-99a086537476\"}, {\"marker\": {\"color\": \"rgba(255, 153, 51, 0.6)\", \"line\": {\"color\": \"rgba(255, 153, 51, 1.0)\", \"width\": 1}}, \"name\": \"Peanuts\", \"orientation\": \"v\", \"text\": \"\", \"x\": [2015, 2016, 2017, 2018, 2019, 2020, 2021, 2022, 2023, 2024, 2025, 2026, 2027, 2028, 2029, 2030, 2031, 2032, 2033, 2034, 2035, 2036, 2037, 2038, 2039, 2040], \"y\": [2.1936733, 2.1962897, 2.2091494, 2.2327021000000005, 2.2550227, 2.284922, 2.2867584, 2.2921685, 2.3091172, 2.3278865, 2.3250313, 2.3247336, 2.3346548, 2.3439753, 2.3488261, 2.3587772, 2.3590772, 2.3536174, 2.3500218999999998, 2.3484944, 2.3437856000000004, 2.3441307, 2.3430589000000004, 2.3355249, 2.3348089999999995, 2.3314313], \"type\": \"bar\", \"uid\": \"1c2f3a98-7a7e-4df4-8c44-28e6aa587a59\"}, {\"marker\": {\"color\": \"rgba(255, 215, 0, 0.6)\", \"line\": {\"color\": \"rgba(255, 215, 0, 1.0)\", \"width\": 1}}, \"name\": \"Maize\", \"orientation\": \"v\", \"text\": \"\", \"x\": [2015, 2016, 2017, 2018, 2019, 2020, 2021, 2022, 2023, 2024, 2025, 2026, 2027, 2028, 2029, 2030, 2031, 2032, 2033, 2034, 2035, 2036, 2037, 2038, 2039, 2040], \"y\": [6.1882349, 6.2499037, 6.312009, 6.375211800000001, 6.4381643, 6.5002696, 6.522252900000001, 6.5442426000000005, 6.5717073, 6.5924134, 6.627511600000001, 6.664300400000001, 6.6840051, 6.707856199999999, 6.7263864, 6.750872899999999, 6.7414698, 6.7352438999999995, 6.731880599999999, 6.7224775, 6.7149678999999995, 6.7080359000000005, 6.694923, 6.6913735999999995, 6.687894699999999, 6.6803594], \"type\": \"bar\", \"uid\": \"a2e6e0a7-6b15-4765-a4fd-4984b08484a8\"}, {\"marker\": {\"color\": \"rgba(0, 128, 0, 0.6)\", \"line\": {\"color\": \"rgba(0, 128, 0, 1.0)\", \"width\": 1}}, \"name\": \"Rice\", \"orientation\": \"v\", \"text\": \"\", \"x\": [2015, 2016, 2017, 2018, 2019, 2020, 2021, 2022, 2023, 2024, 2025, 2026, 2027, 2028, 2029, 2030, 2031, 2032, 2033, 2034, 2035, 2036, 2037, 2038, 2039, 2040], \"y\": [62.8362938, 63.6074491, 64.3955101, 65.20574114, 66.01869382, 66.83114722, 67.14771065000001, 67.46956723000001, 67.7829411, 68.09434841, 68.41527504999999, 68.74887219, 69.09577435, 69.44687404999999, 69.79805145, 70.21677731, 70.19511761999999, 70.1707036, 70.1146798, 70.0685791, 70.01752730000001, 69.9703344, 69.9257351, 69.8866812, 69.8366807, 69.7881489], \"type\": \"bar\", \"uid\": \"1a21719e-eb7b-4781-aada-c4a47c0d3da9\"}, {\"marker\": {\"color\": \"rgba(178, 34, 34, 0.6)\", \"line\": {\"color\": \"rgba(178, 34, 34, 1.0)\", \"width\": 1}}, \"name\": \"Soybean\", \"orientation\": \"v\", \"text\": \"\", \"x\": [2015, 2016, 2017, 2018, 2019, 2020, 2021, 2022, 2023, 2024, 2025, 2026, 2027, 2028, 2029, 2030, 2031, 2032, 2033, 2034, 2035, 2036, 2037, 2038, 2039, 2040], \"y\": [0.93383234, 0.94164671, 0.9524550900000001, 0.96026946, 0.9697006, 0.98050898, 0.9823353300000001, 0.98598802, 0.9905988, 0.99242515, 0.99607784, 1.0008982, 1.00251497, 1.0073353299999999, 1.0109880199999999, 1.0128143699999999, 1.01443114, 1.00882395, 1.00419162, 1.00377246, 1.0057185599999998, 1.0052994, 1.0048802399999999, 1.00446108, 1.0064072, 1.005988], \"type\": \"bar\", \"uid\": \"544c8479-829b-4952-bf36-7790f3092cef\"}, {\"marker\": {\"color\": \"rgba(128, 0, 128, 0.6)\", \"line\": {\"color\": \"rgba(128, 0, 128, 1.0)\", \"width\": 1}}, \"name\": \"Sugarcane\", \"orientation\": \"v\", \"text\": \"\", \"x\": [2015, 2016, 2017, 2018, 2019, 2020, 2021, 2022, 2023, 2024, 2025, 2026, 2027, 2028, 2029, 2030, 2031, 2032, 2033, 2034, 2035, 2036, 2037, 2038, 2039, 2040], \"y\": [17.1987208, 17.4014105, 17.6078602, 17.809966, 18.0133175, 18.2173978, 18.3144818, 18.4040056, 18.4945165, 18.5857693, 18.678549399999998, 18.7823973, 18.899642800000002, 19.016338700000006, 19.134644599999998, 19.228591299999998, 19.225728800000002, 19.2147123, 19.1919806, 19.1857689, 19.177483000000002, 19.169754700000002, 19.166241600000003, 19.1771423, 19.1875838, 19.1971943], \"type\": \"bar\", \"uid\": \"ddeb2a10-09f3-4445-8389-c9b99f85872b\"}, {\"marker\": {\"color\": \"rgba(255, 0, 136, 0.6)\", \"line\": {\"color\": \"rgba(255, 0, 136, 1.0)\", \"width\": 1}}, \"name\": \"Tea\", \"orientation\": \"v\", \"text\": \"\", \"x\": [2015, 2016, 2017, 2018, 2019, 2020, 2021, 2022, 2023, 2024, 2025, 2026, 2027, 2028, 2029, 2030, 2031, 2032, 2033, 2034, 2035, 2036, 2037, 2038, 2039, 2040], \"y\": [8.717634399999998, 8.811372000000002, 8.901621, 8.9999408, 9.0861877, 9.1848267, 9.2040461, 9.244153299999997, 9.2814504, 9.326036299999998, 9.370534300000003, 9.407865200000002, 9.452484100000001, 9.495282000000001, 9.530020899999998, 9.568796374999998, 9.561873899999998, 9.558171400000003, 9.544484399999998, 9.5495692, 9.557286999999999, 9.55239, 9.555769200000002, 9.565246100000001, 9.554286000000001, 9.563779700000001], \"type\": \"bar\", \"uid\": \"b311661a-b6bd-49fe-907a-d92fea17499e\"}], {\"barmode\": \"stack\", \"legend\": {\"bgcolor\": \"#FFFFFF\", \"font\": {\"color\": \"#4D5663\"}, \"traceorder\": \"normal\"}, \"paper_bgcolor\": \"#FFFFFF\", \"plot_bgcolor\": \"#FFFFFF\", \"title\": {\"text\": \"Planted area by crop\", \"font\": {\"color\": \"#4D5663\"}}, \"xaxis\": {\"gridcolor\": \"#E1E5ED\", \"showgrid\": true, \"tickfont\": {\"color\": \"#4D5663\"}, \"title\": {\"text\": \"Year\", \"font\": {\"color\": \"#4D5663\"}}, \"zerolinecolor\": \"#E1E5ED\"}, \"yaxis\": {\"gridcolor\": \"#E1E5ED\", \"showgrid\": true, \"tickfont\": {\"color\": \"#4D5663\"}, \"title\": {\"text\": \"Land area (1000 sq.km.)\", \"font\": {\"color\": \"#4D5663\"}}, \"zerolinecolor\": \"#E1E5ED\"}}, {\"showLink\": true, \"linkText\": \"Export to plot.ly\", \"plotlyServerURL\": \"https://plot.ly\"}); \n",
       "}\n",
       "});</script><script type=\"text/javascript\">window.addEventListener(\"resize\", function(){if (document.getElementById(\"1fab4582-dcc5-440e-b237-415007ab9006\")) {window._Plotly.Plots.resize(document.getElementById(\"1fab4582-dcc5-440e-b237-415007ab9006\"));};})</script>"
      ]
     },
     "metadata": {},
     "output_type": "display_data"
    }
   ],
   "source": [
    "crops_total_df = all_params['TotalTechnologyAnnualActivity'][all_params['TotalTechnologyAnnualActivity'].t.str.startswith('LNDCP')].drop('r', axis=1)\n",
    "crops_total_df = df_filter(crops_total_df,3,6,[])\n",
    "df_plot(crops_total_df,'Land area (1000 sq.km.)','Planted area by crop')"
   ]
  },
  {
   "cell_type": "code",
   "execution_count": 252,
   "metadata": {},
   "outputs": [
    {
     "data": {
      "application/vnd.plotly.v1+json": {
       "config": {
        "linkText": "Export to plot.ly",
        "plotlyServerURL": "https://plot.ly",
        "showLink": true
       },
       "data": [
        {
         "marker": {
          "color": "rgba(128, 128, 128, 0.6)",
          "line": {
           "color": "rgba(128, 128, 128, 1.0)",
           "width": 1
          }
         },
         "name": "Barren land",
         "orientation": "v",
         "text": "",
         "type": "bar",
         "uid": "70a18a25-b31d-435f-97ec-f7796400c17d",
         "x": [
          2015,
          2016,
          2017,
          2018,
          2019,
          2020,
          2021,
          2022,
          2023,
          2024,
          2025,
          2026,
          2027,
          2028,
          2029,
          2030,
          2031,
          2032,
          2033,
          2034,
          2035,
          2036,
          2037,
          2038,
          2039,
          2040
         ],
         "y": [
          0.09,
          0.09,
          0.09,
          0.09,
          0.09,
          0.09,
          0.09,
          0.09,
          0.09,
          0.09,
          0.09,
          0.09,
          0.09,
          0.09,
          0.09,
          0.09,
          0.09,
          0.09,
          0.09,
          0.09,
          0.09,
          0.09,
          0.09,
          0.09,
          0.09,
          0.09
         ]
        },
        {
         "marker": {
          "color": "rgba(34, 139, 34, 0.6)",
          "line": {
           "color": "rgba(34, 139, 34, 1.0)",
           "width": 1
          }
         },
         "name": "Forests",
         "orientation": "v",
         "text": "",
         "type": "bar",
         "uid": "c892fc80-cc4e-4f36-a4f4-81c010e208b5",
         "x": [
          2015,
          2016,
          2017,
          2018,
          2019,
          2020,
          2021,
          2022,
          2023,
          2024,
          2025,
          2026,
          2027,
          2028,
          2029,
          2030,
          2031,
          2032,
          2033,
          2034,
          2035,
          2036,
          2037,
          2038,
          2039,
          2040
         ],
         "y": [
          117.26,
          114.91480000000001,
          112.61650399999999,
          110.364174,
          108.15689,
          105.993753,
          103.873878,
          101.7964,
          99.76047200000001,
          97.765262,
          95.809957,
          93.893758,
          92.01588300000002,
          90.17556599999999,
          88.372053,
          86.604612,
          86.604612,
          86.604612,
          86.604612,
          86.604612,
          86.604612,
          86.604612,
          86.604612,
          86.604612,
          86.604612,
          86.604612
         ]
        },
        {
         "marker": {
          "color": "rgba(0, 100, 0, 0.6)",
          "line": {
           "color": "rgba(0, 100, 0, 1.0)",
           "width": 1
          }
         },
         "name": "Grassland & woodland",
         "orientation": "v",
         "text": "",
         "type": "bar",
         "uid": "9da008a4-7146-4017-9825-ab0b16e967f6",
         "x": [
          2015,
          2016,
          2017,
          2018,
          2019,
          2020,
          2021,
          2022,
          2023,
          2024,
          2025,
          2026,
          2027,
          2028,
          2029,
          2030,
          2031,
          2032,
          2033,
          2034,
          2035,
          2036,
          2037,
          2038,
          2039,
          2040
         ],
         "y": [
          64.88279,
          65.933884,
          66.95168509,
          67.90918066,
          68.82837729999999,
          69.68261042,
          71.29551679,
          72.8464624,
          74.34784619999999,
          75.7842199,
          77.1987195,
          78.56613700000001,
          79.8702546,
          81.1363992,
          82.3780087,
          83.5320975,
          83.57217549999999,
          83.6300439,
          83.7352237,
          83.79762489999999,
          83.86220139999999,
          83.93046749999999,
          83.9968845,
          84.02221870000001,
          84.0781623,
          84.1271578
         ]
        },
        {
         "marker": {
          "color": "rgba(255, 215, 0, 0.6)",
          "line": {
           "color": "rgba(255, 215, 0, 1.0)",
           "width": 1
          }
         },
         "name": "Other agricultural land",
         "orientation": "v",
         "text": "",
         "type": "bar",
         "uid": "6ce982de-b794-4efb-ba09-7c6cf1739224",
         "x": [
          2015,
          2016,
          2017,
          2018,
          2019,
          2020,
          2021,
          2022,
          2023,
          2024,
          2025,
          2026,
          2027,
          2028,
          2029,
          2030,
          2031,
          2032,
          2033,
          2034,
          2035,
          2036,
          2037,
          2038,
          2039,
          2040
         ],
         "y": [
          25.43,
          25.43,
          25.43,
          25.43,
          25.43,
          25.43,
          25.43,
          25.43,
          25.43,
          25.43,
          25.43,
          25.43,
          25.43,
          25.43,
          25.43,
          25.43,
          25.43,
          25.43,
          25.43,
          25.43,
          25.43,
          25.43,
          25.43,
          25.43,
          25.43,
          25.43
         ]
        },
        {
         "marker": {
          "color": "rgba(0, 0, 0, 0.6)",
          "line": {
           "color": "rgba(0, 0, 0, 1.0)",
           "width": 1
          }
         },
         "name": "Built-up land",
         "orientation": "v",
         "text": "",
         "type": "bar",
         "uid": "2bd7e746-1fb5-4281-8ec9-c3b30e921e45",
         "x": [
          2015,
          2016,
          2017,
          2018,
          2019,
          2020,
          2021,
          2022,
          2023,
          2024,
          2025,
          2026,
          2027,
          2028,
          2029,
          2030,
          2031,
          2032,
          2033,
          2034,
          2035,
          2036,
          2037,
          2038,
          2039,
          2040
         ],
         "y": [
          16.27,
          16.27,
          16.27,
          16.27,
          16.27,
          16.27,
          16.27,
          16.27,
          16.27,
          16.27,
          16.27,
          16.27,
          16.27,
          16.27,
          16.27,
          16.27,
          16.27,
          16.27,
          16.27,
          16.27,
          16.27,
          16.27,
          16.27,
          16.27,
          16.27,
          16.27
         ]
        },
        {
         "marker": {
          "color": "rgba(55, 128, 191, 0.6)",
          "line": {
           "color": "rgba(55, 128, 191, 1.0)",
           "width": 1
          }
         },
         "name": "Water",
         "orientation": "v",
         "text": "",
         "type": "bar",
         "uid": "e80ac18b-5f29-4b66-97af-11eed04734f3",
         "x": [
          2015,
          2016,
          2017,
          2018,
          2019,
          2020,
          2021,
          2022,
          2023,
          2024,
          2025,
          2026,
          2027,
          2028,
          2029,
          2030,
          2031,
          2032,
          2033,
          2034,
          2035,
          2036,
          2037,
          2038,
          2039,
          2040
         ],
         "y": [
          3.2,
          3.2,
          3.2,
          3.2,
          3.2,
          3.2,
          3.2,
          3.2,
          3.2,
          3.2,
          3.2,
          3.2,
          3.2,
          3.2,
          3.2,
          3.2,
          3.2,
          3.2,
          3.2,
          3.2,
          3.2,
          3.2,
          3.2,
          3.2,
          3.2,
          3.2
         ]
        },
        {
         "marker": {
          "color": "rgba(165, 42, 42, 0.6)",
          "line": {
           "color": "rgba(165, 42, 42, 1.0)",
           "width": 1
          }
         },
         "name": "Agriculture",
         "orientation": "v",
         "text": "",
         "type": "bar",
         "uid": "d348297d-7710-4c8c-b0d7-d2e5d91c9b35",
         "x": [
          2015,
          2016,
          2017,
          2018,
          2019,
          2020,
          2021,
          2022,
          2023,
          2024,
          2025,
          2026,
          2027,
          2028,
          2029,
          2030,
          2031,
          2032,
          2033,
          2034,
          2035,
          2036,
          2037,
          2038,
          2039,
          2040
         ],
         "y": [
          104.79721054999999,
          106.09131608,
          107.37181168000001,
          108.66664479000002,
          109.95473320999999,
          111.26363689,
          111.77060737,
          112.29713738,
          112.83168177,
          113.39051776,
          113.93132248999999,
          114.4801063,
          115.05386203000002,
          115.62803569,
          116.18993868,
          116.80328937499999,
          116.76321128,
          116.70534427,
          116.60016354,
          116.53776267999999,
          116.47318492000002,
          116.40491946,
          116.33850306811001,
          116.31316824,
          116.25722396,
          116.20822895999999
         ]
        }
       ],
       "layout": {
        "barmode": "stack",
        "legend": {
         "bgcolor": "#FFFFFF",
         "font": {
          "color": "#4D5663"
         },
         "traceorder": "normal"
        },
        "paper_bgcolor": "#FFFFFF",
        "plot_bgcolor": "#FFFFFF",
        "title": {
         "font": {
          "color": "#4D5663"
         },
         "text": "Area by land cover type"
        },
        "xaxis": {
         "gridcolor": "#E1E5ED",
         "showgrid": true,
         "tickfont": {
          "color": "#4D5663"
         },
         "title": {
          "font": {
           "color": "#4D5663"
          },
          "text": "Year"
         },
         "zerolinecolor": "#E1E5ED"
        },
        "yaxis": {
         "gridcolor": "#E1E5ED",
         "showgrid": true,
         "tickfont": {
          "color": "#4D5663"
         },
         "title": {
          "font": {
           "color": "#4D5663"
          },
          "text": "Land area (1000 sq.km.)"
         },
         "zerolinecolor": "#E1E5ED"
        }
       }
      },
      "text/html": [
       "<div id=\"9480207c-69d1-442f-9e90-410227641e70\" style=\"height: 525px; width: 100%;\" class=\"plotly-graph-div\"></div><script type=\"text/javascript\">require([\"plotly\"], function(Plotly) { window.PLOTLYENV=window.PLOTLYENV || {};window.PLOTLYENV.BASE_URL=\"https://plot.ly\";\n",
       "if (document.getElementById(\"9480207c-69d1-442f-9e90-410227641e70\")) {\n",
       "    Plotly.newPlot(\"9480207c-69d1-442f-9e90-410227641e70\", [{\"marker\": {\"color\": \"rgba(128, 128, 128, 0.6)\", \"line\": {\"color\": \"rgba(128, 128, 128, 1.0)\", \"width\": 1}}, \"name\": \"Barren land\", \"orientation\": \"v\", \"text\": \"\", \"x\": [2015, 2016, 2017, 2018, 2019, 2020, 2021, 2022, 2023, 2024, 2025, 2026, 2027, 2028, 2029, 2030, 2031, 2032, 2033, 2034, 2035, 2036, 2037, 2038, 2039, 2040], \"y\": [0.09, 0.09, 0.09, 0.09, 0.09, 0.09, 0.09, 0.09, 0.09, 0.09, 0.09, 0.09, 0.09, 0.09, 0.09, 0.09, 0.09, 0.09, 0.09, 0.09, 0.09, 0.09, 0.09, 0.09, 0.09, 0.09], \"type\": \"bar\", \"uid\": \"3dc4b40c-9fbd-4590-a986-213436ea6e80\"}, {\"marker\": {\"color\": \"rgba(34, 139, 34, 0.6)\", \"line\": {\"color\": \"rgba(34, 139, 34, 1.0)\", \"width\": 1}}, \"name\": \"Forests\", \"orientation\": \"v\", \"text\": \"\", \"x\": [2015, 2016, 2017, 2018, 2019, 2020, 2021, 2022, 2023, 2024, 2025, 2026, 2027, 2028, 2029, 2030, 2031, 2032, 2033, 2034, 2035, 2036, 2037, 2038, 2039, 2040], \"y\": [117.26, 114.91480000000001, 112.61650399999999, 110.364174, 108.15689, 105.993753, 103.873878, 101.7964, 99.76047200000001, 97.765262, 95.809957, 93.893758, 92.01588300000002, 90.17556599999999, 88.372053, 86.604612, 86.604612, 86.604612, 86.604612, 86.604612, 86.604612, 86.604612, 86.604612, 86.604612, 86.604612, 86.604612], \"type\": \"bar\", \"uid\": \"d7f498e8-37cc-4c64-b1e8-456f62a39987\"}, {\"marker\": {\"color\": \"rgba(0, 100, 0, 0.6)\", \"line\": {\"color\": \"rgba(0, 100, 0, 1.0)\", \"width\": 1}}, \"name\": \"Grassland & woodland\", \"orientation\": \"v\", \"text\": \"\", \"x\": [2015, 2016, 2017, 2018, 2019, 2020, 2021, 2022, 2023, 2024, 2025, 2026, 2027, 2028, 2029, 2030, 2031, 2032, 2033, 2034, 2035, 2036, 2037, 2038, 2039, 2040], \"y\": [64.88279, 65.933884, 66.95168509, 67.90918066, 68.82837729999999, 69.68261042, 71.29551679, 72.8464624, 74.34784619999999, 75.7842199, 77.1987195, 78.56613700000001, 79.8702546, 81.1363992, 82.3780087, 83.5320975, 83.57217549999999, 83.6300439, 83.7352237, 83.79762489999999, 83.86220139999999, 83.93046749999999, 83.9968845, 84.02221870000001, 84.0781623, 84.1271578], \"type\": \"bar\", \"uid\": \"733e62fb-9c4b-4be6-bb8f-13fc254540e4\"}, {\"marker\": {\"color\": \"rgba(255, 215, 0, 0.6)\", \"line\": {\"color\": \"rgba(255, 215, 0, 1.0)\", \"width\": 1}}, \"name\": \"Other agricultural land\", \"orientation\": \"v\", \"text\": \"\", \"x\": [2015, 2016, 2017, 2018, 2019, 2020, 2021, 2022, 2023, 2024, 2025, 2026, 2027, 2028, 2029, 2030, 2031, 2032, 2033, 2034, 2035, 2036, 2037, 2038, 2039, 2040], \"y\": [25.43, 25.43, 25.43, 25.43, 25.43, 25.43, 25.43, 25.43, 25.43, 25.43, 25.43, 25.43, 25.43, 25.43, 25.43, 25.43, 25.43, 25.43, 25.43, 25.43, 25.43, 25.43, 25.43, 25.43, 25.43, 25.43], \"type\": \"bar\", \"uid\": \"c11571ae-1da0-4bc0-a2b3-6cd9d9becd38\"}, {\"marker\": {\"color\": \"rgba(0, 0, 0, 0.6)\", \"line\": {\"color\": \"rgba(0, 0, 0, 1.0)\", \"width\": 1}}, \"name\": \"Built-up land\", \"orientation\": \"v\", \"text\": \"\", \"x\": [2015, 2016, 2017, 2018, 2019, 2020, 2021, 2022, 2023, 2024, 2025, 2026, 2027, 2028, 2029, 2030, 2031, 2032, 2033, 2034, 2035, 2036, 2037, 2038, 2039, 2040], \"y\": [16.27, 16.27, 16.27, 16.27, 16.27, 16.27, 16.27, 16.27, 16.27, 16.27, 16.27, 16.27, 16.27, 16.27, 16.27, 16.27, 16.27, 16.27, 16.27, 16.27, 16.27, 16.27, 16.27, 16.27, 16.27, 16.27], \"type\": \"bar\", \"uid\": \"c7aeb64d-4065-4dce-a69d-64f079b24a5c\"}, {\"marker\": {\"color\": \"rgba(55, 128, 191, 0.6)\", \"line\": {\"color\": \"rgba(55, 128, 191, 1.0)\", \"width\": 1}}, \"name\": \"Water\", \"orientation\": \"v\", \"text\": \"\", \"x\": [2015, 2016, 2017, 2018, 2019, 2020, 2021, 2022, 2023, 2024, 2025, 2026, 2027, 2028, 2029, 2030, 2031, 2032, 2033, 2034, 2035, 2036, 2037, 2038, 2039, 2040], \"y\": [3.2, 3.2, 3.2, 3.2, 3.2, 3.2, 3.2, 3.2, 3.2, 3.2, 3.2, 3.2, 3.2, 3.2, 3.2, 3.2, 3.2, 3.2, 3.2, 3.2, 3.2, 3.2, 3.2, 3.2, 3.2, 3.2], \"type\": \"bar\", \"uid\": \"608f3f1d-de25-4ff2-a1c4-a88bfbb7faa0\"}, {\"marker\": {\"color\": \"rgba(165, 42, 42, 0.6)\", \"line\": {\"color\": \"rgba(165, 42, 42, 1.0)\", \"width\": 1}}, \"name\": \"Agriculture\", \"orientation\": \"v\", \"text\": \"\", \"x\": [2015, 2016, 2017, 2018, 2019, 2020, 2021, 2022, 2023, 2024, 2025, 2026, 2027, 2028, 2029, 2030, 2031, 2032, 2033, 2034, 2035, 2036, 2037, 2038, 2039, 2040], \"y\": [104.79721054999999, 106.09131608, 107.37181168000001, 108.66664479000002, 109.95473320999999, 111.26363689, 111.77060737, 112.29713738, 112.83168177, 113.39051776, 113.93132248999999, 114.4801063, 115.05386203000002, 115.62803569, 116.18993868, 116.80328937499999, 116.76321128, 116.70534427, 116.60016354, 116.53776267999999, 116.47318492000002, 116.40491946, 116.33850306811001, 116.31316824, 116.25722396, 116.20822895999999], \"type\": \"bar\", \"uid\": \"4199164c-4f48-4bfc-9480-2ee3806aa07a\"}], {\"barmode\": \"stack\", \"legend\": {\"bgcolor\": \"#FFFFFF\", \"font\": {\"color\": \"#4D5663\"}, \"traceorder\": \"normal\"}, \"paper_bgcolor\": \"#FFFFFF\", \"plot_bgcolor\": \"#FFFFFF\", \"title\": {\"text\": \"Area by land cover type\", \"font\": {\"color\": \"#4D5663\"}}, \"xaxis\": {\"gridcolor\": \"#E1E5ED\", \"showgrid\": true, \"tickfont\": {\"color\": \"#4D5663\"}, \"title\": {\"text\": \"Year\", \"font\": {\"color\": \"#4D5663\"}}, \"zerolinecolor\": \"#E1E5ED\"}, \"yaxis\": {\"gridcolor\": \"#E1E5ED\", \"showgrid\": true, \"tickfont\": {\"color\": \"#4D5663\"}, \"title\": {\"text\": \"Land area (1000 sq.km.)\", \"font\": {\"color\": \"#4D5663\"}}, \"zerolinecolor\": \"#E1E5ED\"}}, {\"showLink\": true, \"linkText\": \"Export to plot.ly\", \"plotlyServerURL\": \"https://plot.ly\"}); \n",
       "}\n",
       "});</script><script type=\"text/javascript\">window.addEventListener(\"resize\", function(){if (document.getElementById(\"9480207c-69d1-442f-9e90-410227641e70\")) {window._Plotly.Plots.resize(document.getElementById(\"9480207c-69d1-442f-9e90-410227641e70\"));};})</script>"
      ],
      "text/vnd.plotly.v1+html": [
       "<div id=\"9480207c-69d1-442f-9e90-410227641e70\" style=\"height: 525px; width: 100%;\" class=\"plotly-graph-div\"></div><script type=\"text/javascript\">require([\"plotly\"], function(Plotly) { window.PLOTLYENV=window.PLOTLYENV || {};window.PLOTLYENV.BASE_URL=\"https://plot.ly\";\n",
       "if (document.getElementById(\"9480207c-69d1-442f-9e90-410227641e70\")) {\n",
       "    Plotly.newPlot(\"9480207c-69d1-442f-9e90-410227641e70\", [{\"marker\": {\"color\": \"rgba(128, 128, 128, 0.6)\", \"line\": {\"color\": \"rgba(128, 128, 128, 1.0)\", \"width\": 1}}, \"name\": \"Barren land\", \"orientation\": \"v\", \"text\": \"\", \"x\": [2015, 2016, 2017, 2018, 2019, 2020, 2021, 2022, 2023, 2024, 2025, 2026, 2027, 2028, 2029, 2030, 2031, 2032, 2033, 2034, 2035, 2036, 2037, 2038, 2039, 2040], \"y\": [0.09, 0.09, 0.09, 0.09, 0.09, 0.09, 0.09, 0.09, 0.09, 0.09, 0.09, 0.09, 0.09, 0.09, 0.09, 0.09, 0.09, 0.09, 0.09, 0.09, 0.09, 0.09, 0.09, 0.09, 0.09, 0.09], \"type\": \"bar\", \"uid\": \"3dc4b40c-9fbd-4590-a986-213436ea6e80\"}, {\"marker\": {\"color\": \"rgba(34, 139, 34, 0.6)\", \"line\": {\"color\": \"rgba(34, 139, 34, 1.0)\", \"width\": 1}}, \"name\": \"Forests\", \"orientation\": \"v\", \"text\": \"\", \"x\": [2015, 2016, 2017, 2018, 2019, 2020, 2021, 2022, 2023, 2024, 2025, 2026, 2027, 2028, 2029, 2030, 2031, 2032, 2033, 2034, 2035, 2036, 2037, 2038, 2039, 2040], \"y\": [117.26, 114.91480000000001, 112.61650399999999, 110.364174, 108.15689, 105.993753, 103.873878, 101.7964, 99.76047200000001, 97.765262, 95.809957, 93.893758, 92.01588300000002, 90.17556599999999, 88.372053, 86.604612, 86.604612, 86.604612, 86.604612, 86.604612, 86.604612, 86.604612, 86.604612, 86.604612, 86.604612, 86.604612], \"type\": \"bar\", \"uid\": \"d7f498e8-37cc-4c64-b1e8-456f62a39987\"}, {\"marker\": {\"color\": \"rgba(0, 100, 0, 0.6)\", \"line\": {\"color\": \"rgba(0, 100, 0, 1.0)\", \"width\": 1}}, \"name\": \"Grassland & woodland\", \"orientation\": \"v\", \"text\": \"\", \"x\": [2015, 2016, 2017, 2018, 2019, 2020, 2021, 2022, 2023, 2024, 2025, 2026, 2027, 2028, 2029, 2030, 2031, 2032, 2033, 2034, 2035, 2036, 2037, 2038, 2039, 2040], \"y\": [64.88279, 65.933884, 66.95168509, 67.90918066, 68.82837729999999, 69.68261042, 71.29551679, 72.8464624, 74.34784619999999, 75.7842199, 77.1987195, 78.56613700000001, 79.8702546, 81.1363992, 82.3780087, 83.5320975, 83.57217549999999, 83.6300439, 83.7352237, 83.79762489999999, 83.86220139999999, 83.93046749999999, 83.9968845, 84.02221870000001, 84.0781623, 84.1271578], \"type\": \"bar\", \"uid\": \"733e62fb-9c4b-4be6-bb8f-13fc254540e4\"}, {\"marker\": {\"color\": \"rgba(255, 215, 0, 0.6)\", \"line\": {\"color\": \"rgba(255, 215, 0, 1.0)\", \"width\": 1}}, \"name\": \"Other agricultural land\", \"orientation\": \"v\", \"text\": \"\", \"x\": [2015, 2016, 2017, 2018, 2019, 2020, 2021, 2022, 2023, 2024, 2025, 2026, 2027, 2028, 2029, 2030, 2031, 2032, 2033, 2034, 2035, 2036, 2037, 2038, 2039, 2040], \"y\": [25.43, 25.43, 25.43, 25.43, 25.43, 25.43, 25.43, 25.43, 25.43, 25.43, 25.43, 25.43, 25.43, 25.43, 25.43, 25.43, 25.43, 25.43, 25.43, 25.43, 25.43, 25.43, 25.43, 25.43, 25.43, 25.43], \"type\": \"bar\", \"uid\": \"c11571ae-1da0-4bc0-a2b3-6cd9d9becd38\"}, {\"marker\": {\"color\": \"rgba(0, 0, 0, 0.6)\", \"line\": {\"color\": \"rgba(0, 0, 0, 1.0)\", \"width\": 1}}, \"name\": \"Built-up land\", \"orientation\": \"v\", \"text\": \"\", \"x\": [2015, 2016, 2017, 2018, 2019, 2020, 2021, 2022, 2023, 2024, 2025, 2026, 2027, 2028, 2029, 2030, 2031, 2032, 2033, 2034, 2035, 2036, 2037, 2038, 2039, 2040], \"y\": [16.27, 16.27, 16.27, 16.27, 16.27, 16.27, 16.27, 16.27, 16.27, 16.27, 16.27, 16.27, 16.27, 16.27, 16.27, 16.27, 16.27, 16.27, 16.27, 16.27, 16.27, 16.27, 16.27, 16.27, 16.27, 16.27], \"type\": \"bar\", \"uid\": \"c7aeb64d-4065-4dce-a69d-64f079b24a5c\"}, {\"marker\": {\"color\": \"rgba(55, 128, 191, 0.6)\", \"line\": {\"color\": \"rgba(55, 128, 191, 1.0)\", \"width\": 1}}, \"name\": \"Water\", \"orientation\": \"v\", \"text\": \"\", \"x\": [2015, 2016, 2017, 2018, 2019, 2020, 2021, 2022, 2023, 2024, 2025, 2026, 2027, 2028, 2029, 2030, 2031, 2032, 2033, 2034, 2035, 2036, 2037, 2038, 2039, 2040], \"y\": [3.2, 3.2, 3.2, 3.2, 3.2, 3.2, 3.2, 3.2, 3.2, 3.2, 3.2, 3.2, 3.2, 3.2, 3.2, 3.2, 3.2, 3.2, 3.2, 3.2, 3.2, 3.2, 3.2, 3.2, 3.2, 3.2], \"type\": \"bar\", \"uid\": \"608f3f1d-de25-4ff2-a1c4-a88bfbb7faa0\"}, {\"marker\": {\"color\": \"rgba(165, 42, 42, 0.6)\", \"line\": {\"color\": \"rgba(165, 42, 42, 1.0)\", \"width\": 1}}, \"name\": \"Agriculture\", \"orientation\": \"v\", \"text\": \"\", \"x\": [2015, 2016, 2017, 2018, 2019, 2020, 2021, 2022, 2023, 2024, 2025, 2026, 2027, 2028, 2029, 2030, 2031, 2032, 2033, 2034, 2035, 2036, 2037, 2038, 2039, 2040], \"y\": [104.79721054999999, 106.09131608, 107.37181168000001, 108.66664479000002, 109.95473320999999, 111.26363689, 111.77060737, 112.29713738, 112.83168177, 113.39051776, 113.93132248999999, 114.4801063, 115.05386203000002, 115.62803569, 116.18993868, 116.80328937499999, 116.76321128, 116.70534427, 116.60016354, 116.53776267999999, 116.47318492000002, 116.40491946, 116.33850306811001, 116.31316824, 116.25722396, 116.20822895999999], \"type\": \"bar\", \"uid\": \"4199164c-4f48-4bfc-9480-2ee3806aa07a\"}], {\"barmode\": \"stack\", \"legend\": {\"bgcolor\": \"#FFFFFF\", \"font\": {\"color\": \"#4D5663\"}, \"traceorder\": \"normal\"}, \"paper_bgcolor\": \"#FFFFFF\", \"plot_bgcolor\": \"#FFFFFF\", \"title\": {\"text\": \"Area by land cover type\", \"font\": {\"color\": \"#4D5663\"}}, \"xaxis\": {\"gridcolor\": \"#E1E5ED\", \"showgrid\": true, \"tickfont\": {\"color\": \"#4D5663\"}, \"title\": {\"text\": \"Year\", \"font\": {\"color\": \"#4D5663\"}}, \"zerolinecolor\": \"#E1E5ED\"}, \"yaxis\": {\"gridcolor\": \"#E1E5ED\", \"showgrid\": true, \"tickfont\": {\"color\": \"#4D5663\"}, \"title\": {\"text\": \"Land area (1000 sq.km.)\", \"font\": {\"color\": \"#4D5663\"}}, \"zerolinecolor\": \"#E1E5ED\"}}, {\"showLink\": true, \"linkText\": \"Export to plot.ly\", \"plotlyServerURL\": \"https://plot.ly\"}); \n",
       "}\n",
       "});</script><script type=\"text/javascript\">window.addEventListener(\"resize\", function(){if (document.getElementById(\"9480207c-69d1-442f-9e90-410227641e70\")) {window._Plotly.Plots.resize(document.getElementById(\"9480207c-69d1-442f-9e90-410227641e70\"));};})</script>"
      ]
     },
     "metadata": {},
     "output_type": "display_data"
    }
   ],
   "source": [
    "land_total_df = all_params['TotalTechnologyAnnualActivity'][all_params['TotalTechnologyAnnualActivity'].t.str.startswith('LND')].drop('r', axis=1)\n",
    "land_total_df = df_filter(land_total_df,3,6,['AGR'])\n",
    "land_total_df['Agriculture'] = 0\n",
    "for each in ['Coffee','Cotton','Peanuts','Maize','Rice','Soybean','Sugarcane','Tea']:\n",
    "    if each in land_total_df:\n",
    "        land_total_df['Agriculture'] = land_total_df['Agriculture'] + land_total_df[each]\n",
    "        land_total_df = land_total_df.drop(each,axis=1)\n",
    "df_plot(land_total_df,'Land area (1000 sq.km.)','Area by land cover type')"
   ]
  },
  {
   "cell_type": "code",
   "execution_count": 253,
   "metadata": {},
   "outputs": [
    {
     "data": {
      "application/vnd.plotly.v1+json": {
       "config": {
        "linkText": "Export to plot.ly",
        "plotlyServerURL": "https://plot.ly",
        "showLink": true
       },
       "data": [
        {
         "marker": {
          "color": "rgba(165, 42, 42, 0.6)",
          "line": {
           "color": "rgba(165, 42, 42, 1.0)",
           "width": 1
          }
         },
         "name": "Coffee",
         "orientation": "v",
         "text": "",
         "type": "bar",
         "uid": "c3fee96b-269c-414e-837f-d1906af21e4a",
         "x": [
          2015,
          2016,
          2017,
          2018,
          2019,
          2020,
          2021,
          2022,
          2023,
          2024,
          2025,
          2026,
          2027,
          2028,
          2029,
          2030,
          2031,
          2032,
          2033,
          2034,
          2035,
          2036,
          2037,
          2038,
          2039,
          2040
         ],
         "y": [
          4.225421,
          4.215421,
          4.1954210000000005,
          4.175421,
          4.165421,
          4.145421,
          4.125421,
          4.115421,
          4.095421,
          4.075421,
          4.055421,
          4.1202969000000005,
          4.159428800000001,
          4.215017,
          4.2656640999999995,
          4.1686986,
          4.1486986,
          4.138698600000001,
          4.118698599999999,
          4.0986986,
          4.0786986,
          4.195715,
          4.175715,
          4.155715,
          4.145715,
          4.264184
         ]
        },
        {
         "marker": {
          "color": "rgba(128, 128, 128, 0.6)",
          "line": {
           "color": "rgba(128, 128, 128, 1.0)",
           "width": 1
          }
         },
         "name": "Cotton",
         "orientation": "v",
         "text": "",
         "type": "bar",
         "uid": "a99cd3ea-9abd-4b20-bf9b-db2839fa6353",
         "x": [
          2015,
          2016,
          2017,
          2018,
          2019,
          2020,
          2021,
          2022,
          2023,
          2024,
          2025,
          2026,
          2027,
          2028,
          2029,
          2030,
          2031,
          2032,
          2033,
          2034,
          2035,
          2036,
          2037,
          2038,
          2039,
          2040
         ],
         "y": [
          0.015,
          0.015,
          0.015,
          0.015,
          0.015,
          0.015,
          0.015,
          0.01,
          0.005,
          0.005,
          0.005,
          0.005,
          0.005,
          0.005,
          0.005,
          0.005,
          0.005,
          0.005,
          0.005,
          0.005,
          0,
          0,
          0,
          0,
          0,
          0
         ]
        },
        {
         "marker": {
          "color": "rgba(255, 153, 51, 0.6)",
          "line": {
           "color": "rgba(255, 153, 51, 1.0)",
           "width": 1
          }
         },
         "name": "Peanuts",
         "orientation": "v",
         "text": "",
         "type": "bar",
         "uid": "41e12824-7742-4970-a35c-78bd9ac873a0",
         "x": [
          2015,
          2016,
          2017,
          2018,
          2019,
          2020,
          2021,
          2022,
          2023,
          2024,
          2025,
          2026,
          2027,
          2028,
          2029,
          2030,
          2031,
          2032,
          2033,
          2034,
          2035,
          2036,
          2037,
          2038,
          2039,
          2040
         ],
         "y": [
          0.185,
          0.17500000000000002,
          0.17,
          0.165,
          0.155,
          0.15000000000000002,
          0.14,
          0.135,
          0.125,
          0.115,
          0.11,
          0.1,
          0.095,
          0.09000000000000001,
          0.08,
          0.07500000000000001,
          0.07,
          0.06,
          0.055,
          0.045,
          0.035,
          0.03,
          0.02,
          0.015,
          0.005,
          0
         ]
        },
        {
         "marker": {
          "color": "rgba(255, 215, 0, 0.6)",
          "line": {
           "color": "rgba(255, 215, 0, 1.0)",
           "width": 1
          }
         },
         "name": "Maize",
         "orientation": "v",
         "text": "",
         "type": "bar",
         "uid": "f65b268c-e255-4c06-aa3f-312d70e2794a",
         "x": [
          2015,
          2016,
          2017,
          2018,
          2019,
          2020,
          2021,
          2022,
          2023,
          2024,
          2025,
          2026,
          2027,
          2028,
          2029,
          2030,
          2031,
          2032,
          2033,
          2034,
          2035,
          2036,
          2037,
          2038,
          2039,
          2040
         ],
         "y": [
          0.31,
          0.295,
          0.285,
          0.275,
          0.26,
          0.25,
          0.23500000000000001,
          0.22,
          0.215,
          0.19999999999999998,
          0.185,
          0.175,
          0.16,
          0.15,
          0.135,
          0.125,
          0.11,
          0.095,
          0.09,
          0.075,
          0.06,
          0.05,
          0.035,
          0.025,
          0.015,
          0
         ]
        },
        {
         "marker": {
          "color": "rgba(0, 128, 0, 0.6)",
          "line": {
           "color": "rgba(0, 128, 0, 1.0)",
           "width": 1
          }
         },
         "name": "Rice",
         "orientation": "v",
         "text": "",
         "type": "bar",
         "uid": "33730fff-0ac7-4e78-bd27-af3a826cc648",
         "x": [
          2015,
          2016,
          2017,
          2018,
          2019,
          2020,
          2021,
          2022,
          2023,
          2024,
          2025,
          2026,
          2027,
          2028,
          2029,
          2030,
          2031,
          2032,
          2033,
          2034,
          2035,
          2036,
          2037,
          2038,
          2039,
          2040
         ],
         "y": [
          18.285747,
          18.524732,
          18.766288,
          18.967583,
          19.154395,
          19.343449,
          19.683252,
          19.977128999999998,
          20.266620000000003,
          20.565860999999998,
          20.839602,
          20.995964,
          21.067514,
          21.154439,
          21.219680999999998,
          20.347753,
          20.586863,
          20.788883,
          20.945404,
          21.116283,
          21.289744,
          21.448243,
          21.593211,
          21.739537,
          21.862177,
          21.991588
         ]
        },
        {
         "marker": {
          "color": "rgba(178, 34, 34, 0.6)",
          "line": {
           "color": "rgba(178, 34, 34, 1.0)",
           "width": 1
          }
         },
         "name": "Soybean",
         "orientation": "v",
         "text": "",
         "type": "bar",
         "uid": "64eee857-0678-4166-adda-d66b1ad48a3a",
         "x": [
          2015,
          2016,
          2017,
          2018,
          2019,
          2020,
          2021,
          2022,
          2023,
          2024,
          2025,
          2026,
          2027,
          2028,
          2029,
          2030,
          2031,
          2032,
          2033,
          2034,
          2035,
          2036,
          2037,
          2038,
          2039,
          2040
         ],
         "y": [
          0.74383234,
          0.75664671,
          0.77245509,
          0.78526946,
          0.8097006,
          0.82550898,
          0.83233533,
          0.84598802,
          0.8605988,
          0.86742515,
          0.88107784,
          0.8908982,
          0.90251497,
          0.91233533,
          0.92598802,
          0.93281437,
          0.94443114,
          0.94882395,
          0.94919162,
          0.95377246,
          0.97071856,
          0.9752994,
          0.97988024,
          0.98446108,
          1.0014072,
          1.005988
         ]
        },
        {
         "marker": {
          "color": "rgba(128, 0, 128, 0.6)",
          "line": {
           "color": "rgba(128, 0, 128, 1.0)",
           "width": 1
          }
         },
         "name": "Sugarcane",
         "orientation": "v",
         "text": "",
         "type": "bar",
         "uid": "a236fe32-7799-4d12-a9d8-3a647fd403fa",
         "x": [
          2015,
          2016,
          2017,
          2018,
          2019,
          2020,
          2021,
          2022,
          2023,
          2024,
          2025,
          2026,
          2027,
          2028,
          2029,
          2030,
          2031,
          2032,
          2033,
          2034,
          2035,
          2036,
          2037,
          2038,
          2039,
          2040
         ],
         "y": [
          12.765,
          12.9292,
          13.077924000000001,
          13.252111,
          13.428756,
          13.606864,
          13.673695,
          13.738671,
          13.805325,
          13.868398000000001,
          13.938661999999999,
          14.015644,
          14.116661,
          14.207753,
          14.306066999999999,
          15.253571,
          15.236394,
          15.231654999999998,
          15.191723,
          15.163401,
          15.138546999999999,
          15.109782000000001,
          15.095753,
          15.081648000000001,
          15.082584,
          15.073179
         ]
        },
        {
         "marker": {
          "color": "rgba(255, 0, 136, 0.6)",
          "line": {
           "color": "rgba(255, 0, 136, 1.0)",
           "width": 1
          }
         },
         "name": "Tea",
         "orientation": "v",
         "text": "",
         "type": "bar",
         "uid": "f63a3637-a3d2-408f-a2ed-563c3d8c51f6",
         "x": [
          2015,
          2016,
          2017,
          2018,
          2019,
          2020,
          2021,
          2022,
          2023,
          2024,
          2025,
          2026,
          2027,
          2028,
          2029,
          2030,
          2031,
          2032,
          2033,
          2034,
          2035,
          2036,
          2037,
          2038,
          2039,
          2040
         ],
         "y": [
          3.6499999999999995,
          3.7531999999999996,
          3.8466282,
          3.9449479999999997,
          4.0511949,
          4.1498339,
          4.2190533,
          4.2691605,
          4.311457600000001,
          4.3560435,
          4.410541500000001,
          4.4528724,
          4.497491300000001,
          4.555289200000001,
          4.590028099999999,
          5.052592599999999,
          5.066781499999999,
          5.0798996999999995,
          5.091212699999999,
          5.0962974999999995,
          5.109015299999999,
          5.1141182999999995,
          5.1224975,
          5.1319744,
          5.1360143,
          5.145508
         ]
        }
       ],
       "layout": {
        "barmode": "stack",
        "legend": {
         "bgcolor": "#FFFFFF",
         "font": {
          "color": "#4D5663"
         },
         "traceorder": "normal"
        },
        "paper_bgcolor": "#FFFFFF",
        "plot_bgcolor": "#FFFFFF",
        "title": {
         "font": {
          "color": "#4D5663"
         },
         "text": "Area by crop (Center region)"
        },
        "xaxis": {
         "gridcolor": "#E1E5ED",
         "showgrid": true,
         "tickfont": {
          "color": "#4D5663"
         },
         "title": {
          "font": {
           "color": "#4D5663"
          },
          "text": "Year"
         },
         "zerolinecolor": "#E1E5ED"
        },
        "yaxis": {
         "gridcolor": "#E1E5ED",
         "showgrid": true,
         "tickfont": {
          "color": "#4D5663"
         },
         "title": {
          "font": {
           "color": "#4D5663"
          },
          "text": "Land area (1000 sq.km.)"
         },
         "zerolinecolor": "#E1E5ED"
        }
       }
      },
      "text/html": [
       "<div id=\"d93f1324-b7b3-47ca-a0b0-a036753cc9ad\" style=\"height: 525px; width: 100%;\" class=\"plotly-graph-div\"></div><script type=\"text/javascript\">require([\"plotly\"], function(Plotly) { window.PLOTLYENV=window.PLOTLYENV || {};window.PLOTLYENV.BASE_URL=\"https://plot.ly\";\n",
       "if (document.getElementById(\"d93f1324-b7b3-47ca-a0b0-a036753cc9ad\")) {\n",
       "    Plotly.newPlot(\"d93f1324-b7b3-47ca-a0b0-a036753cc9ad\", [{\"marker\": {\"color\": \"rgba(165, 42, 42, 0.6)\", \"line\": {\"color\": \"rgba(165, 42, 42, 1.0)\", \"width\": 1}}, \"name\": \"Coffee\", \"orientation\": \"v\", \"text\": \"\", \"x\": [2015, 2016, 2017, 2018, 2019, 2020, 2021, 2022, 2023, 2024, 2025, 2026, 2027, 2028, 2029, 2030, 2031, 2032, 2033, 2034, 2035, 2036, 2037, 2038, 2039, 2040], \"y\": [4.225421, 4.215421, 4.1954210000000005, 4.175421, 4.165421, 4.145421, 4.125421, 4.115421, 4.095421, 4.075421, 4.055421, 4.1202969000000005, 4.159428800000001, 4.215017, 4.2656640999999995, 4.1686986, 4.1486986, 4.138698600000001, 4.118698599999999, 4.0986986, 4.0786986, 4.195715, 4.175715, 4.155715, 4.145715, 4.264184], \"type\": \"bar\", \"uid\": \"9448d84b-e730-40e1-8d83-8d7fbf9fbc64\"}, {\"marker\": {\"color\": \"rgba(128, 128, 128, 0.6)\", \"line\": {\"color\": \"rgba(128, 128, 128, 1.0)\", \"width\": 1}}, \"name\": \"Cotton\", \"orientation\": \"v\", \"text\": \"\", \"x\": [2015, 2016, 2017, 2018, 2019, 2020, 2021, 2022, 2023, 2024, 2025, 2026, 2027, 2028, 2029, 2030, 2031, 2032, 2033, 2034, 2035, 2036, 2037, 2038, 2039, 2040], \"y\": [0.015, 0.015, 0.015, 0.015, 0.015, 0.015, 0.015, 0.01, 0.005, 0.005, 0.005, 0.005, 0.005, 0.005, 0.005, 0.005, 0.005, 0.005, 0.005, 0.005, 0.0, 0.0, 0.0, 0.0, 0.0, 0.0], \"type\": \"bar\", \"uid\": \"9cf837a7-b8ea-42c4-86c8-326de94193d4\"}, {\"marker\": {\"color\": \"rgba(255, 153, 51, 0.6)\", \"line\": {\"color\": \"rgba(255, 153, 51, 1.0)\", \"width\": 1}}, \"name\": \"Peanuts\", \"orientation\": \"v\", \"text\": \"\", \"x\": [2015, 2016, 2017, 2018, 2019, 2020, 2021, 2022, 2023, 2024, 2025, 2026, 2027, 2028, 2029, 2030, 2031, 2032, 2033, 2034, 2035, 2036, 2037, 2038, 2039, 2040], \"y\": [0.185, 0.17500000000000002, 0.17, 0.165, 0.155, 0.15000000000000002, 0.14, 0.135, 0.125, 0.115, 0.11, 0.1, 0.095, 0.09000000000000001, 0.08, 0.07500000000000001, 0.07, 0.06, 0.055, 0.045, 0.035, 0.03, 0.02, 0.015, 0.005, 0.0], \"type\": \"bar\", \"uid\": \"712de337-38f8-4f44-a08e-673bb7979f05\"}, {\"marker\": {\"color\": \"rgba(255, 215, 0, 0.6)\", \"line\": {\"color\": \"rgba(255, 215, 0, 1.0)\", \"width\": 1}}, \"name\": \"Maize\", \"orientation\": \"v\", \"text\": \"\", \"x\": [2015, 2016, 2017, 2018, 2019, 2020, 2021, 2022, 2023, 2024, 2025, 2026, 2027, 2028, 2029, 2030, 2031, 2032, 2033, 2034, 2035, 2036, 2037, 2038, 2039, 2040], \"y\": [0.31, 0.295, 0.285, 0.275, 0.26, 0.25, 0.23500000000000001, 0.22, 0.215, 0.19999999999999998, 0.185, 0.175, 0.16, 0.15, 0.135, 0.125, 0.11, 0.095, 0.09, 0.075, 0.06, 0.05, 0.035, 0.025, 0.015, 0.0], \"type\": \"bar\", \"uid\": \"1b25efac-1f3b-486c-8021-25cd6f27f169\"}, {\"marker\": {\"color\": \"rgba(0, 128, 0, 0.6)\", \"line\": {\"color\": \"rgba(0, 128, 0, 1.0)\", \"width\": 1}}, \"name\": \"Rice\", \"orientation\": \"v\", \"text\": \"\", \"x\": [2015, 2016, 2017, 2018, 2019, 2020, 2021, 2022, 2023, 2024, 2025, 2026, 2027, 2028, 2029, 2030, 2031, 2032, 2033, 2034, 2035, 2036, 2037, 2038, 2039, 2040], \"y\": [18.285747, 18.524732, 18.766288, 18.967583, 19.154395, 19.343449, 19.683252, 19.977128999999998, 20.266620000000003, 20.565860999999998, 20.839602, 20.995964, 21.067514, 21.154439, 21.219680999999998, 20.347753, 20.586863, 20.788883, 20.945404, 21.116283, 21.289744, 21.448243, 21.593211, 21.739537, 21.862177, 21.991588], \"type\": \"bar\", \"uid\": \"53a027a5-0751-42c1-96b8-a5a4ab11bae1\"}, {\"marker\": {\"color\": \"rgba(178, 34, 34, 0.6)\", \"line\": {\"color\": \"rgba(178, 34, 34, 1.0)\", \"width\": 1}}, \"name\": \"Soybean\", \"orientation\": \"v\", \"text\": \"\", \"x\": [2015, 2016, 2017, 2018, 2019, 2020, 2021, 2022, 2023, 2024, 2025, 2026, 2027, 2028, 2029, 2030, 2031, 2032, 2033, 2034, 2035, 2036, 2037, 2038, 2039, 2040], \"y\": [0.74383234, 0.75664671, 0.77245509, 0.78526946, 0.8097006, 0.82550898, 0.83233533, 0.84598802, 0.8605988, 0.86742515, 0.88107784, 0.8908982, 0.90251497, 0.91233533, 0.92598802, 0.93281437, 0.94443114, 0.94882395, 0.94919162, 0.95377246, 0.97071856, 0.9752994, 0.97988024, 0.98446108, 1.0014072, 1.005988], \"type\": \"bar\", \"uid\": \"7dc4dc3c-1181-48ee-93b3-21cd0d8073b7\"}, {\"marker\": {\"color\": \"rgba(128, 0, 128, 0.6)\", \"line\": {\"color\": \"rgba(128, 0, 128, 1.0)\", \"width\": 1}}, \"name\": \"Sugarcane\", \"orientation\": \"v\", \"text\": \"\", \"x\": [2015, 2016, 2017, 2018, 2019, 2020, 2021, 2022, 2023, 2024, 2025, 2026, 2027, 2028, 2029, 2030, 2031, 2032, 2033, 2034, 2035, 2036, 2037, 2038, 2039, 2040], \"y\": [12.765, 12.9292, 13.077924000000001, 13.252111, 13.428756, 13.606864, 13.673695, 13.738671, 13.805325, 13.868398000000001, 13.938661999999999, 14.015644, 14.116661, 14.207753, 14.306066999999999, 15.253571, 15.236394, 15.231654999999998, 15.191723, 15.163401, 15.138546999999999, 15.109782000000001, 15.095753, 15.081648000000001, 15.082584, 15.073179], \"type\": \"bar\", \"uid\": \"07b44a03-a5b2-4957-98bd-8ced11fa536f\"}, {\"marker\": {\"color\": \"rgba(255, 0, 136, 0.6)\", \"line\": {\"color\": \"rgba(255, 0, 136, 1.0)\", \"width\": 1}}, \"name\": \"Tea\", \"orientation\": \"v\", \"text\": \"\", \"x\": [2015, 2016, 2017, 2018, 2019, 2020, 2021, 2022, 2023, 2024, 2025, 2026, 2027, 2028, 2029, 2030, 2031, 2032, 2033, 2034, 2035, 2036, 2037, 2038, 2039, 2040], \"y\": [3.6499999999999995, 3.7531999999999996, 3.8466282, 3.9449479999999997, 4.0511949, 4.1498339, 4.2190533, 4.2691605, 4.311457600000001, 4.3560435, 4.410541500000001, 4.4528724, 4.497491300000001, 4.555289200000001, 4.590028099999999, 5.052592599999999, 5.066781499999999, 5.0798996999999995, 5.091212699999999, 5.0962974999999995, 5.109015299999999, 5.1141182999999995, 5.1224975, 5.1319744, 5.1360143, 5.145508], \"type\": \"bar\", \"uid\": \"1e288f80-14e7-4a50-86fa-91601904259d\"}], {\"barmode\": \"stack\", \"legend\": {\"bgcolor\": \"#FFFFFF\", \"font\": {\"color\": \"#4D5663\"}, \"traceorder\": \"normal\"}, \"paper_bgcolor\": \"#FFFFFF\", \"plot_bgcolor\": \"#FFFFFF\", \"title\": {\"text\": \"Area by crop (Center region)\", \"font\": {\"color\": \"#4D5663\"}}, \"xaxis\": {\"gridcolor\": \"#E1E5ED\", \"showgrid\": true, \"tickfont\": {\"color\": \"#4D5663\"}, \"title\": {\"text\": \"Year\", \"font\": {\"color\": \"#4D5663\"}}, \"zerolinecolor\": \"#E1E5ED\"}, \"yaxis\": {\"gridcolor\": \"#E1E5ED\", \"showgrid\": true, \"tickfont\": {\"color\": \"#4D5663\"}, \"title\": {\"text\": \"Land area (1000 sq.km.)\", \"font\": {\"color\": \"#4D5663\"}}, \"zerolinecolor\": \"#E1E5ED\"}}, {\"showLink\": true, \"linkText\": \"Export to plot.ly\", \"plotlyServerURL\": \"https://plot.ly\"}); \n",
       "}\n",
       "});</script><script type=\"text/javascript\">window.addEventListener(\"resize\", function(){if (document.getElementById(\"d93f1324-b7b3-47ca-a0b0-a036753cc9ad\")) {window._Plotly.Plots.resize(document.getElementById(\"d93f1324-b7b3-47ca-a0b0-a036753cc9ad\"));};})</script>"
      ],
      "text/vnd.plotly.v1+html": [
       "<div id=\"d93f1324-b7b3-47ca-a0b0-a036753cc9ad\" style=\"height: 525px; width: 100%;\" class=\"plotly-graph-div\"></div><script type=\"text/javascript\">require([\"plotly\"], function(Plotly) { window.PLOTLYENV=window.PLOTLYENV || {};window.PLOTLYENV.BASE_URL=\"https://plot.ly\";\n",
       "if (document.getElementById(\"d93f1324-b7b3-47ca-a0b0-a036753cc9ad\")) {\n",
       "    Plotly.newPlot(\"d93f1324-b7b3-47ca-a0b0-a036753cc9ad\", [{\"marker\": {\"color\": \"rgba(165, 42, 42, 0.6)\", \"line\": {\"color\": \"rgba(165, 42, 42, 1.0)\", \"width\": 1}}, \"name\": \"Coffee\", \"orientation\": \"v\", \"text\": \"\", \"x\": [2015, 2016, 2017, 2018, 2019, 2020, 2021, 2022, 2023, 2024, 2025, 2026, 2027, 2028, 2029, 2030, 2031, 2032, 2033, 2034, 2035, 2036, 2037, 2038, 2039, 2040], \"y\": [4.225421, 4.215421, 4.1954210000000005, 4.175421, 4.165421, 4.145421, 4.125421, 4.115421, 4.095421, 4.075421, 4.055421, 4.1202969000000005, 4.159428800000001, 4.215017, 4.2656640999999995, 4.1686986, 4.1486986, 4.138698600000001, 4.118698599999999, 4.0986986, 4.0786986, 4.195715, 4.175715, 4.155715, 4.145715, 4.264184], \"type\": \"bar\", \"uid\": \"9448d84b-e730-40e1-8d83-8d7fbf9fbc64\"}, {\"marker\": {\"color\": \"rgba(128, 128, 128, 0.6)\", \"line\": {\"color\": \"rgba(128, 128, 128, 1.0)\", \"width\": 1}}, \"name\": \"Cotton\", \"orientation\": \"v\", \"text\": \"\", \"x\": [2015, 2016, 2017, 2018, 2019, 2020, 2021, 2022, 2023, 2024, 2025, 2026, 2027, 2028, 2029, 2030, 2031, 2032, 2033, 2034, 2035, 2036, 2037, 2038, 2039, 2040], \"y\": [0.015, 0.015, 0.015, 0.015, 0.015, 0.015, 0.015, 0.01, 0.005, 0.005, 0.005, 0.005, 0.005, 0.005, 0.005, 0.005, 0.005, 0.005, 0.005, 0.005, 0.0, 0.0, 0.0, 0.0, 0.0, 0.0], \"type\": \"bar\", \"uid\": \"9cf837a7-b8ea-42c4-86c8-326de94193d4\"}, {\"marker\": {\"color\": \"rgba(255, 153, 51, 0.6)\", \"line\": {\"color\": \"rgba(255, 153, 51, 1.0)\", \"width\": 1}}, \"name\": \"Peanuts\", \"orientation\": \"v\", \"text\": \"\", \"x\": [2015, 2016, 2017, 2018, 2019, 2020, 2021, 2022, 2023, 2024, 2025, 2026, 2027, 2028, 2029, 2030, 2031, 2032, 2033, 2034, 2035, 2036, 2037, 2038, 2039, 2040], \"y\": [0.185, 0.17500000000000002, 0.17, 0.165, 0.155, 0.15000000000000002, 0.14, 0.135, 0.125, 0.115, 0.11, 0.1, 0.095, 0.09000000000000001, 0.08, 0.07500000000000001, 0.07, 0.06, 0.055, 0.045, 0.035, 0.03, 0.02, 0.015, 0.005, 0.0], \"type\": \"bar\", \"uid\": \"712de337-38f8-4f44-a08e-673bb7979f05\"}, {\"marker\": {\"color\": \"rgba(255, 215, 0, 0.6)\", \"line\": {\"color\": \"rgba(255, 215, 0, 1.0)\", \"width\": 1}}, \"name\": \"Maize\", \"orientation\": \"v\", \"text\": \"\", \"x\": [2015, 2016, 2017, 2018, 2019, 2020, 2021, 2022, 2023, 2024, 2025, 2026, 2027, 2028, 2029, 2030, 2031, 2032, 2033, 2034, 2035, 2036, 2037, 2038, 2039, 2040], \"y\": [0.31, 0.295, 0.285, 0.275, 0.26, 0.25, 0.23500000000000001, 0.22, 0.215, 0.19999999999999998, 0.185, 0.175, 0.16, 0.15, 0.135, 0.125, 0.11, 0.095, 0.09, 0.075, 0.06, 0.05, 0.035, 0.025, 0.015, 0.0], \"type\": \"bar\", \"uid\": \"1b25efac-1f3b-486c-8021-25cd6f27f169\"}, {\"marker\": {\"color\": \"rgba(0, 128, 0, 0.6)\", \"line\": {\"color\": \"rgba(0, 128, 0, 1.0)\", \"width\": 1}}, \"name\": \"Rice\", \"orientation\": \"v\", \"text\": \"\", \"x\": [2015, 2016, 2017, 2018, 2019, 2020, 2021, 2022, 2023, 2024, 2025, 2026, 2027, 2028, 2029, 2030, 2031, 2032, 2033, 2034, 2035, 2036, 2037, 2038, 2039, 2040], \"y\": [18.285747, 18.524732, 18.766288, 18.967583, 19.154395, 19.343449, 19.683252, 19.977128999999998, 20.266620000000003, 20.565860999999998, 20.839602, 20.995964, 21.067514, 21.154439, 21.219680999999998, 20.347753, 20.586863, 20.788883, 20.945404, 21.116283, 21.289744, 21.448243, 21.593211, 21.739537, 21.862177, 21.991588], \"type\": \"bar\", \"uid\": \"53a027a5-0751-42c1-96b8-a5a4ab11bae1\"}, {\"marker\": {\"color\": \"rgba(178, 34, 34, 0.6)\", \"line\": {\"color\": \"rgba(178, 34, 34, 1.0)\", \"width\": 1}}, \"name\": \"Soybean\", \"orientation\": \"v\", \"text\": \"\", \"x\": [2015, 2016, 2017, 2018, 2019, 2020, 2021, 2022, 2023, 2024, 2025, 2026, 2027, 2028, 2029, 2030, 2031, 2032, 2033, 2034, 2035, 2036, 2037, 2038, 2039, 2040], \"y\": [0.74383234, 0.75664671, 0.77245509, 0.78526946, 0.8097006, 0.82550898, 0.83233533, 0.84598802, 0.8605988, 0.86742515, 0.88107784, 0.8908982, 0.90251497, 0.91233533, 0.92598802, 0.93281437, 0.94443114, 0.94882395, 0.94919162, 0.95377246, 0.97071856, 0.9752994, 0.97988024, 0.98446108, 1.0014072, 1.005988], \"type\": \"bar\", \"uid\": \"7dc4dc3c-1181-48ee-93b3-21cd0d8073b7\"}, {\"marker\": {\"color\": \"rgba(128, 0, 128, 0.6)\", \"line\": {\"color\": \"rgba(128, 0, 128, 1.0)\", \"width\": 1}}, \"name\": \"Sugarcane\", \"orientation\": \"v\", \"text\": \"\", \"x\": [2015, 2016, 2017, 2018, 2019, 2020, 2021, 2022, 2023, 2024, 2025, 2026, 2027, 2028, 2029, 2030, 2031, 2032, 2033, 2034, 2035, 2036, 2037, 2038, 2039, 2040], \"y\": [12.765, 12.9292, 13.077924000000001, 13.252111, 13.428756, 13.606864, 13.673695, 13.738671, 13.805325, 13.868398000000001, 13.938661999999999, 14.015644, 14.116661, 14.207753, 14.306066999999999, 15.253571, 15.236394, 15.231654999999998, 15.191723, 15.163401, 15.138546999999999, 15.109782000000001, 15.095753, 15.081648000000001, 15.082584, 15.073179], \"type\": \"bar\", \"uid\": \"07b44a03-a5b2-4957-98bd-8ced11fa536f\"}, {\"marker\": {\"color\": \"rgba(255, 0, 136, 0.6)\", \"line\": {\"color\": \"rgba(255, 0, 136, 1.0)\", \"width\": 1}}, \"name\": \"Tea\", \"orientation\": \"v\", \"text\": \"\", \"x\": [2015, 2016, 2017, 2018, 2019, 2020, 2021, 2022, 2023, 2024, 2025, 2026, 2027, 2028, 2029, 2030, 2031, 2032, 2033, 2034, 2035, 2036, 2037, 2038, 2039, 2040], \"y\": [3.6499999999999995, 3.7531999999999996, 3.8466282, 3.9449479999999997, 4.0511949, 4.1498339, 4.2190533, 4.2691605, 4.311457600000001, 4.3560435, 4.410541500000001, 4.4528724, 4.497491300000001, 4.555289200000001, 4.590028099999999, 5.052592599999999, 5.066781499999999, 5.0798996999999995, 5.091212699999999, 5.0962974999999995, 5.109015299999999, 5.1141182999999995, 5.1224975, 5.1319744, 5.1360143, 5.145508], \"type\": \"bar\", \"uid\": \"1e288f80-14e7-4a50-86fa-91601904259d\"}], {\"barmode\": \"stack\", \"legend\": {\"bgcolor\": \"#FFFFFF\", \"font\": {\"color\": \"#4D5663\"}, \"traceorder\": \"normal\"}, \"paper_bgcolor\": \"#FFFFFF\", \"plot_bgcolor\": \"#FFFFFF\", \"title\": {\"text\": \"Area by crop (Center region)\", \"font\": {\"color\": \"#4D5663\"}}, \"xaxis\": {\"gridcolor\": \"#E1E5ED\", \"showgrid\": true, \"tickfont\": {\"color\": \"#4D5663\"}, \"title\": {\"text\": \"Year\", \"font\": {\"color\": \"#4D5663\"}}, \"zerolinecolor\": \"#E1E5ED\"}, \"yaxis\": {\"gridcolor\": \"#E1E5ED\", \"showgrid\": true, \"tickfont\": {\"color\": \"#4D5663\"}, \"title\": {\"text\": \"Land area (1000 sq.km.)\", \"font\": {\"color\": \"#4D5663\"}}, \"zerolinecolor\": \"#E1E5ED\"}}, {\"showLink\": true, \"linkText\": \"Export to plot.ly\", \"plotlyServerURL\": \"https://plot.ly\"}); \n",
       "}\n",
       "});</script><script type=\"text/javascript\">window.addEventListener(\"resize\", function(){if (document.getElementById(\"d93f1324-b7b3-47ca-a0b0-a036753cc9ad\")) {window._Plotly.Plots.resize(document.getElementById(\"d93f1324-b7b3-47ca-a0b0-a036753cc9ad\"));};})</script>"
      ]
     },
     "metadata": {},
     "output_type": "display_data"
    },
    {
     "data": {
      "application/vnd.plotly.v1+json": {
       "config": {
        "linkText": "Export to plot.ly",
        "plotlyServerURL": "https://plot.ly",
        "showLink": true
       },
       "data": [
        {
         "marker": {
          "color": "rgba(165, 42, 42, 0.6)",
          "line": {
           "color": "rgba(165, 42, 42, 1.0)",
           "width": 1
          }
         },
         "name": "Coffee",
         "orientation": "v",
         "text": "",
         "type": "bar",
         "uid": "2d77b87b-6d48-456b-84b8-7c586bb40bcd",
         "x": [
          2015,
          2016,
          2017,
          2018,
          2019,
          2020,
          2021,
          2022,
          2023,
          2024,
          2025,
          2026,
          2027,
          2028,
          2029,
          2030,
          2031,
          2032,
          2033,
          2034,
          2035,
          2036,
          2037,
          2038,
          2039,
          2040
         ],
         "y": [
          0.23,
          0.225,
          0.215,
          0.205,
          0.195,
          0.185,
          0.175,
          0.165,
          0.16,
          0.15,
          0.14,
          0.13,
          0.12,
          0.11,
          0.1,
          0.095,
          0.085,
          0.075,
          0.065,
          0.055,
          0.045,
          0.035,
          0.03035346811,
          0.04,
          0.02,
          0
         ]
        },
        {
         "marker": {
          "color": "rgba(128, 128, 128, 0.6)",
          "line": {
           "color": "rgba(128, 128, 128, 1.0)",
           "width": 1
          }
         },
         "name": "Cotton",
         "orientation": "v",
         "text": "",
         "type": "bar",
         "uid": "5bd364f6-abdc-47b3-8968-3046107fc262",
         "x": [
          2015,
          2016,
          2017,
          2018,
          2019,
          2020,
          2021,
          2022,
          2023,
          2024,
          2025,
          2026,
          2027,
          2028,
          2029,
          2030,
          2031,
          2032,
          2033,
          2034,
          2035,
          2036,
          2037,
          2038,
          2039,
          2040
         ],
         "y": [
          0.01,
          0.01,
          0.005,
          0.005,
          0.005,
          0.005,
          0.005,
          0.005,
          0.005,
          0.005,
          0.005,
          0,
          0,
          0,
          0,
          0,
          0,
          0,
          0,
          0,
          0,
          0,
          0,
          0,
          0,
          0
         ]
        },
        {
         "marker": {
          "color": "rgba(255, 153, 51, 0.6)",
          "line": {
           "color": "rgba(255, 153, 51, 1.0)",
           "width": 1
          }
         },
         "name": "Peanuts",
         "orientation": "v",
         "text": "",
         "type": "bar",
         "uid": "3e5e4ff3-79e4-4950-85b5-5ec1efe02f33",
         "x": [
          2015,
          2016,
          2017,
          2018,
          2019,
          2020,
          2021,
          2022,
          2023,
          2024,
          2025,
          2026,
          2027,
          2028,
          2029,
          2030,
          2031,
          2032,
          2033,
          2034,
          2035,
          2036,
          2037,
          2038,
          2039,
          2040
         ],
         "y": [
          0.12,
          0.11499999999999999,
          0.11,
          0.105,
          0.09999999999999999,
          0.095,
          0.095,
          0.09,
          0.08499999999999999,
          0.07500000000000001,
          0.07,
          0.065,
          0.06,
          0.055,
          0.055,
          0.049999999999999996,
          0.045,
          0.04,
          0.034999999999999996,
          0.030000000000000002,
          0.02,
          0.015,
          0.015,
          0.01,
          0.005,
          0
         ]
        },
        {
         "marker": {
          "color": "rgba(255, 215, 0, 0.6)",
          "line": {
           "color": "rgba(255, 215, 0, 1.0)",
           "width": 1
          }
         },
         "name": "Maize",
         "orientation": "v",
         "text": "",
         "type": "bar",
         "uid": "1e52c7a2-b1f4-447c-a15e-2ff2fe5d4729",
         "x": [
          2015,
          2016,
          2017,
          2018,
          2019,
          2020,
          2021,
          2022,
          2023,
          2024,
          2025,
          2026,
          2027,
          2028,
          2029,
          2030,
          2031,
          2032,
          2033,
          2034,
          2035,
          2036,
          2037,
          2038,
          2039,
          2040
         ],
         "y": [
          5.6382349,
          5.7199037,
          5.807009,
          5.8902118,
          5.9731643000000005,
          6.0602696,
          6.102252900000001,
          6.1492426,
          6.1917073,
          6.237413399999999,
          6.2975116,
          6.3543004000000005,
          6.3990051,
          6.4428562000000005,
          6.4863864,
          6.5258728999999995,
          6.5464698,
          6.5602439,
          6.5718806,
          6.5924775,
          6.6049679,
          6.6230359000000005,
          6.629923,
          6.6463735999999995,
          6.6628947,
          6.6803594
         ]
        },
        {
         "marker": {
          "color": "rgba(0, 128, 0, 0.6)",
          "line": {
           "color": "rgba(0, 128, 0, 1.0)",
           "width": 1
          }
         },
         "name": "Rice",
         "orientation": "v",
         "text": "",
         "type": "bar",
         "uid": "4404f65a-064e-48f8-b87d-6a072ea21c88",
         "x": [
          2015,
          2016,
          2017,
          2018,
          2019,
          2020,
          2021,
          2022,
          2023,
          2024,
          2025,
          2026,
          2027,
          2028,
          2029,
          2030,
          2031,
          2032,
          2033,
          2034,
          2035,
          2036,
          2037,
          2038,
          2039,
          2040
         ],
         "y": [
          4.1426198,
          4.5130301,
          4.9739391,
          5.597717139999999,
          6.2497408199999995,
          6.86871222,
          6.87540365,
          6.903910229999999,
          6.9240451,
          6.92716041,
          6.92540705,
          7.06797119,
          7.37843835,
          7.674023050000001,
          7.98875645,
          9.315130309999999,
          9.082214619999998,
          8.889622600000001,
          8.7094988,
          8.5236871,
          8.343808300000001,
          8.1744164,
          8.046313099999999,
          7.8974852,
          7.7597327,
          7.6105039
         ]
        },
        {
         "marker": {
          "color": "rgba(178, 34, 34, 0.6)",
          "line": {
           "color": "rgba(178, 34, 34, 1.0)",
           "width": 1
          }
         },
         "name": "Soybean",
         "orientation": "v",
         "text": "",
         "type": "bar",
         "uid": "7b314410-004b-4371-a2d6-0eefc6d95a3f",
         "x": [
          2015,
          2016,
          2017,
          2018,
          2019,
          2020,
          2021,
          2022,
          2023,
          2024,
          2025,
          2026,
          2027,
          2028,
          2029,
          2030,
          2031,
          2032,
          2033,
          2034,
          2035,
          2036,
          2037,
          2038,
          2039,
          2040
         ],
         "y": [
          0.16,
          0.155,
          0.15,
          0.145,
          0.135,
          0.13,
          0.125,
          0.115,
          0.11,
          0.105,
          0.095,
          0.09,
          0.085,
          0.08,
          0.07,
          0.065,
          0.06,
          0.05,
          0.045,
          0.04,
          0.03,
          0.025,
          0.02,
          0.015,
          0.005,
          0
         ]
        },
        {
         "marker": {
          "color": "rgba(128, 0, 128, 0.6)",
          "line": {
           "color": "rgba(128, 0, 128, 1.0)",
           "width": 1
          }
         },
         "name": "Sugarcane",
         "orientation": "v",
         "text": "",
         "type": "bar",
         "uid": "2ffd40e1-9644-478c-9146-396d8e7d40fc",
         "x": [
          2015,
          2016,
          2017,
          2018,
          2019,
          2020,
          2021,
          2022,
          2023,
          2024,
          2025,
          2026,
          2027,
          2028,
          2029,
          2030,
          2031,
          2032,
          2033,
          2034,
          2035,
          2036,
          2037,
          2038,
          2039,
          2040
         ],
         "y": [
          2.4487208000000003,
          2.4532105,
          2.4727162000000003,
          2.4681794000000004,
          2.4631794,
          2.4581793999999997,
          2.4531794,
          2.4481794,
          2.4431794,
          2.4431794,
          2.4331794,
          2.4331794,
          2.4231794,
          2.4231794,
          2.4181794,
          1.5352301,
          1.5257404,
          1.4962347,
          1.4907715,
          1.4857714999999998,
          1.4807715,
          1.4807715,
          1.4707715,
          1.4707715,
          1.4607715,
          1.4607715
         ]
        },
        {
         "marker": {
          "color": "rgba(255, 0, 136, 0.6)",
          "line": {
           "color": "rgba(255, 0, 136, 1.0)",
           "width": 1
          }
         },
         "name": "Tea",
         "orientation": "v",
         "text": "",
         "type": "bar",
         "uid": "bb9f5e63-a6f1-4585-be90-4c921786ae16",
         "x": [
          2015,
          2016,
          2017,
          2018,
          2019,
          2020,
          2021,
          2022,
          2023,
          2024,
          2025,
          2026,
          2027,
          2028,
          2029,
          2030,
          2031,
          2032,
          2033,
          2034,
          2035,
          2036,
          2037,
          2038,
          2039,
          2040
         ],
         "y": [
          4.9776343999999995,
          4.968172,
          4.9749928,
          4.9749928,
          4.9649928,
          4.9649928,
          4.9149928,
          4.9149928,
          4.9099928,
          4.9099928,
          4.9099928,
          4.9049928000000005,
          4.9049928000000005,
          4.899992800000001,
          4.899992800000001,
          4.465630099999999,
          4.465092399999999,
          4.448271699999999,
          4.4332717,
          4.4332717,
          4.4282717,
          4.4282717,
          4.4232717,
          4.4232717,
          4.4182717,
          4.4182717
         ]
        }
       ],
       "layout": {
        "barmode": "stack",
        "legend": {
         "bgcolor": "#FFFFFF",
         "font": {
          "color": "#4D5663"
         },
         "traceorder": "normal"
        },
        "paper_bgcolor": "#FFFFFF",
        "plot_bgcolor": "#FFFFFF",
        "title": {
         "font": {
          "color": "#4D5663"
         },
         "text": "Area by crop (North region)"
        },
        "xaxis": {
         "gridcolor": "#E1E5ED",
         "showgrid": true,
         "tickfont": {
          "color": "#4D5663"
         },
         "title": {
          "font": {
           "color": "#4D5663"
          },
          "text": "Year"
         },
         "zerolinecolor": "#E1E5ED"
        },
        "yaxis": {
         "gridcolor": "#E1E5ED",
         "showgrid": true,
         "tickfont": {
          "color": "#4D5663"
         },
         "title": {
          "font": {
           "color": "#4D5663"
          },
          "text": "Land area (1000 sq.km.)"
         },
         "zerolinecolor": "#E1E5ED"
        }
       }
      },
      "text/html": [
       "<div id=\"32466574-3040-4dd4-b734-b5ea64b90ff4\" style=\"height: 525px; width: 100%;\" class=\"plotly-graph-div\"></div><script type=\"text/javascript\">require([\"plotly\"], function(Plotly) { window.PLOTLYENV=window.PLOTLYENV || {};window.PLOTLYENV.BASE_URL=\"https://plot.ly\";\n",
       "if (document.getElementById(\"32466574-3040-4dd4-b734-b5ea64b90ff4\")) {\n",
       "    Plotly.newPlot(\"32466574-3040-4dd4-b734-b5ea64b90ff4\", [{\"marker\": {\"color\": \"rgba(165, 42, 42, 0.6)\", \"line\": {\"color\": \"rgba(165, 42, 42, 1.0)\", \"width\": 1}}, \"name\": \"Coffee\", \"orientation\": \"v\", \"text\": \"\", \"x\": [2015, 2016, 2017, 2018, 2019, 2020, 2021, 2022, 2023, 2024, 2025, 2026, 2027, 2028, 2029, 2030, 2031, 2032, 2033, 2034, 2035, 2036, 2037, 2038, 2039, 2040], \"y\": [0.23, 0.225, 0.215, 0.205, 0.195, 0.185, 0.175, 0.165, 0.16, 0.15, 0.14, 0.13, 0.12, 0.11, 0.1, 0.095, 0.085, 0.075, 0.065, 0.055, 0.045, 0.035, 0.03035346811, 0.04, 0.02, 0.0], \"type\": \"bar\", \"uid\": \"1fa74801-86dd-4097-ad98-a1d2281ec1c7\"}, {\"marker\": {\"color\": \"rgba(128, 128, 128, 0.6)\", \"line\": {\"color\": \"rgba(128, 128, 128, 1.0)\", \"width\": 1}}, \"name\": \"Cotton\", \"orientation\": \"v\", \"text\": \"\", \"x\": [2015, 2016, 2017, 2018, 2019, 2020, 2021, 2022, 2023, 2024, 2025, 2026, 2027, 2028, 2029, 2030, 2031, 2032, 2033, 2034, 2035, 2036, 2037, 2038, 2039, 2040], \"y\": [0.01, 0.01, 0.005, 0.005, 0.005, 0.005, 0.005, 0.005, 0.005, 0.005, 0.005, 0.0, 0.0, 0.0, 0.0, 0.0, 0.0, 0.0, 0.0, 0.0, 0.0, 0.0, 0.0, 0.0, 0.0, 0.0], \"type\": \"bar\", \"uid\": \"dc07bb96-6952-403c-a24c-efdead36ab53\"}, {\"marker\": {\"color\": \"rgba(255, 153, 51, 0.6)\", \"line\": {\"color\": \"rgba(255, 153, 51, 1.0)\", \"width\": 1}}, \"name\": \"Peanuts\", \"orientation\": \"v\", \"text\": \"\", \"x\": [2015, 2016, 2017, 2018, 2019, 2020, 2021, 2022, 2023, 2024, 2025, 2026, 2027, 2028, 2029, 2030, 2031, 2032, 2033, 2034, 2035, 2036, 2037, 2038, 2039, 2040], \"y\": [0.12, 0.11499999999999999, 0.11, 0.105, 0.09999999999999999, 0.095, 0.095, 0.09, 0.08499999999999999, 0.07500000000000001, 0.07, 0.065, 0.06, 0.055, 0.055, 0.049999999999999996, 0.045, 0.04, 0.034999999999999996, 0.030000000000000002, 0.02, 0.015, 0.015, 0.01, 0.005, 0.0], \"type\": \"bar\", \"uid\": \"0a88f606-6a41-4001-adfd-82b284985d1b\"}, {\"marker\": {\"color\": \"rgba(255, 215, 0, 0.6)\", \"line\": {\"color\": \"rgba(255, 215, 0, 1.0)\", \"width\": 1}}, \"name\": \"Maize\", \"orientation\": \"v\", \"text\": \"\", \"x\": [2015, 2016, 2017, 2018, 2019, 2020, 2021, 2022, 2023, 2024, 2025, 2026, 2027, 2028, 2029, 2030, 2031, 2032, 2033, 2034, 2035, 2036, 2037, 2038, 2039, 2040], \"y\": [5.6382349, 5.7199037, 5.807009, 5.8902118, 5.9731643000000005, 6.0602696, 6.102252900000001, 6.1492426, 6.1917073, 6.237413399999999, 6.2975116, 6.3543004000000005, 6.3990051, 6.4428562000000005, 6.4863864, 6.5258728999999995, 6.5464698, 6.5602439, 6.5718806, 6.5924775, 6.6049679, 6.6230359000000005, 6.629923, 6.6463735999999995, 6.6628947, 6.6803594], \"type\": \"bar\", \"uid\": \"70d4dddf-ea4c-4aa8-8fe8-c20b6afeedb6\"}, {\"marker\": {\"color\": \"rgba(0, 128, 0, 0.6)\", \"line\": {\"color\": \"rgba(0, 128, 0, 1.0)\", \"width\": 1}}, \"name\": \"Rice\", \"orientation\": \"v\", \"text\": \"\", \"x\": [2015, 2016, 2017, 2018, 2019, 2020, 2021, 2022, 2023, 2024, 2025, 2026, 2027, 2028, 2029, 2030, 2031, 2032, 2033, 2034, 2035, 2036, 2037, 2038, 2039, 2040], \"y\": [4.1426198, 4.5130301, 4.9739391, 5.597717139999999, 6.2497408199999995, 6.86871222, 6.87540365, 6.903910229999999, 6.9240451, 6.92716041, 6.92540705, 7.06797119, 7.37843835, 7.674023050000001, 7.98875645, 9.315130309999999, 9.082214619999998, 8.889622600000001, 8.7094988, 8.5236871, 8.343808300000001, 8.1744164, 8.046313099999999, 7.8974852, 7.7597327, 7.6105039], \"type\": \"bar\", \"uid\": \"ea0290a3-a004-43f4-ada4-b1712d964beb\"}, {\"marker\": {\"color\": \"rgba(178, 34, 34, 0.6)\", \"line\": {\"color\": \"rgba(178, 34, 34, 1.0)\", \"width\": 1}}, \"name\": \"Soybean\", \"orientation\": \"v\", \"text\": \"\", \"x\": [2015, 2016, 2017, 2018, 2019, 2020, 2021, 2022, 2023, 2024, 2025, 2026, 2027, 2028, 2029, 2030, 2031, 2032, 2033, 2034, 2035, 2036, 2037, 2038, 2039, 2040], \"y\": [0.16, 0.155, 0.15, 0.145, 0.135, 0.13, 0.125, 0.115, 0.11, 0.105, 0.095, 0.09, 0.085, 0.08, 0.07, 0.065, 0.06, 0.05, 0.045, 0.04, 0.03, 0.025, 0.02, 0.015, 0.005, 0.0], \"type\": \"bar\", \"uid\": \"b377a476-9be7-4385-9be0-103993e3a106\"}, {\"marker\": {\"color\": \"rgba(128, 0, 128, 0.6)\", \"line\": {\"color\": \"rgba(128, 0, 128, 1.0)\", \"width\": 1}}, \"name\": \"Sugarcane\", \"orientation\": \"v\", \"text\": \"\", \"x\": [2015, 2016, 2017, 2018, 2019, 2020, 2021, 2022, 2023, 2024, 2025, 2026, 2027, 2028, 2029, 2030, 2031, 2032, 2033, 2034, 2035, 2036, 2037, 2038, 2039, 2040], \"y\": [2.4487208000000003, 2.4532105, 2.4727162000000003, 2.4681794000000004, 2.4631794, 2.4581793999999997, 2.4531794, 2.4481794, 2.4431794, 2.4431794, 2.4331794, 2.4331794, 2.4231794, 2.4231794, 2.4181794, 1.5352301, 1.5257404, 1.4962347, 1.4907715, 1.4857714999999998, 1.4807715, 1.4807715, 1.4707715, 1.4707715, 1.4607715, 1.4607715], \"type\": \"bar\", \"uid\": \"5921e923-e0a3-4ca8-a38d-7fe9106fa51e\"}, {\"marker\": {\"color\": \"rgba(255, 0, 136, 0.6)\", \"line\": {\"color\": \"rgba(255, 0, 136, 1.0)\", \"width\": 1}}, \"name\": \"Tea\", \"orientation\": \"v\", \"text\": \"\", \"x\": [2015, 2016, 2017, 2018, 2019, 2020, 2021, 2022, 2023, 2024, 2025, 2026, 2027, 2028, 2029, 2030, 2031, 2032, 2033, 2034, 2035, 2036, 2037, 2038, 2039, 2040], \"y\": [4.9776343999999995, 4.968172, 4.9749928, 4.9749928, 4.9649928, 4.9649928, 4.9149928, 4.9149928, 4.9099928, 4.9099928, 4.9099928, 4.9049928000000005, 4.9049928000000005, 4.899992800000001, 4.899992800000001, 4.465630099999999, 4.465092399999999, 4.448271699999999, 4.4332717, 4.4332717, 4.4282717, 4.4282717, 4.4232717, 4.4232717, 4.4182717, 4.4182717], \"type\": \"bar\", \"uid\": \"0b9c64f3-55ea-4630-9a45-9ba2d6b9e57c\"}], {\"barmode\": \"stack\", \"legend\": {\"bgcolor\": \"#FFFFFF\", \"font\": {\"color\": \"#4D5663\"}, \"traceorder\": \"normal\"}, \"paper_bgcolor\": \"#FFFFFF\", \"plot_bgcolor\": \"#FFFFFF\", \"title\": {\"text\": \"Area by crop (North region)\", \"font\": {\"color\": \"#4D5663\"}}, \"xaxis\": {\"gridcolor\": \"#E1E5ED\", \"showgrid\": true, \"tickfont\": {\"color\": \"#4D5663\"}, \"title\": {\"text\": \"Year\", \"font\": {\"color\": \"#4D5663\"}}, \"zerolinecolor\": \"#E1E5ED\"}, \"yaxis\": {\"gridcolor\": \"#E1E5ED\", \"showgrid\": true, \"tickfont\": {\"color\": \"#4D5663\"}, \"title\": {\"text\": \"Land area (1000 sq.km.)\", \"font\": {\"color\": \"#4D5663\"}}, \"zerolinecolor\": \"#E1E5ED\"}}, {\"showLink\": true, \"linkText\": \"Export to plot.ly\", \"plotlyServerURL\": \"https://plot.ly\"}); \n",
       "}\n",
       "});</script><script type=\"text/javascript\">window.addEventListener(\"resize\", function(){if (document.getElementById(\"32466574-3040-4dd4-b734-b5ea64b90ff4\")) {window._Plotly.Plots.resize(document.getElementById(\"32466574-3040-4dd4-b734-b5ea64b90ff4\"));};})</script>"
      ],
      "text/vnd.plotly.v1+html": [
       "<div id=\"32466574-3040-4dd4-b734-b5ea64b90ff4\" style=\"height: 525px; width: 100%;\" class=\"plotly-graph-div\"></div><script type=\"text/javascript\">require([\"plotly\"], function(Plotly) { window.PLOTLYENV=window.PLOTLYENV || {};window.PLOTLYENV.BASE_URL=\"https://plot.ly\";\n",
       "if (document.getElementById(\"32466574-3040-4dd4-b734-b5ea64b90ff4\")) {\n",
       "    Plotly.newPlot(\"32466574-3040-4dd4-b734-b5ea64b90ff4\", [{\"marker\": {\"color\": \"rgba(165, 42, 42, 0.6)\", \"line\": {\"color\": \"rgba(165, 42, 42, 1.0)\", \"width\": 1}}, \"name\": \"Coffee\", \"orientation\": \"v\", \"text\": \"\", \"x\": [2015, 2016, 2017, 2018, 2019, 2020, 2021, 2022, 2023, 2024, 2025, 2026, 2027, 2028, 2029, 2030, 2031, 2032, 2033, 2034, 2035, 2036, 2037, 2038, 2039, 2040], \"y\": [0.23, 0.225, 0.215, 0.205, 0.195, 0.185, 0.175, 0.165, 0.16, 0.15, 0.14, 0.13, 0.12, 0.11, 0.1, 0.095, 0.085, 0.075, 0.065, 0.055, 0.045, 0.035, 0.03035346811, 0.04, 0.02, 0.0], \"type\": \"bar\", \"uid\": \"1fa74801-86dd-4097-ad98-a1d2281ec1c7\"}, {\"marker\": {\"color\": \"rgba(128, 128, 128, 0.6)\", \"line\": {\"color\": \"rgba(128, 128, 128, 1.0)\", \"width\": 1}}, \"name\": \"Cotton\", \"orientation\": \"v\", \"text\": \"\", \"x\": [2015, 2016, 2017, 2018, 2019, 2020, 2021, 2022, 2023, 2024, 2025, 2026, 2027, 2028, 2029, 2030, 2031, 2032, 2033, 2034, 2035, 2036, 2037, 2038, 2039, 2040], \"y\": [0.01, 0.01, 0.005, 0.005, 0.005, 0.005, 0.005, 0.005, 0.005, 0.005, 0.005, 0.0, 0.0, 0.0, 0.0, 0.0, 0.0, 0.0, 0.0, 0.0, 0.0, 0.0, 0.0, 0.0, 0.0, 0.0], \"type\": \"bar\", \"uid\": \"dc07bb96-6952-403c-a24c-efdead36ab53\"}, {\"marker\": {\"color\": \"rgba(255, 153, 51, 0.6)\", \"line\": {\"color\": \"rgba(255, 153, 51, 1.0)\", \"width\": 1}}, \"name\": \"Peanuts\", \"orientation\": \"v\", \"text\": \"\", \"x\": [2015, 2016, 2017, 2018, 2019, 2020, 2021, 2022, 2023, 2024, 2025, 2026, 2027, 2028, 2029, 2030, 2031, 2032, 2033, 2034, 2035, 2036, 2037, 2038, 2039, 2040], \"y\": [0.12, 0.11499999999999999, 0.11, 0.105, 0.09999999999999999, 0.095, 0.095, 0.09, 0.08499999999999999, 0.07500000000000001, 0.07, 0.065, 0.06, 0.055, 0.055, 0.049999999999999996, 0.045, 0.04, 0.034999999999999996, 0.030000000000000002, 0.02, 0.015, 0.015, 0.01, 0.005, 0.0], \"type\": \"bar\", \"uid\": \"0a88f606-6a41-4001-adfd-82b284985d1b\"}, {\"marker\": {\"color\": \"rgba(255, 215, 0, 0.6)\", \"line\": {\"color\": \"rgba(255, 215, 0, 1.0)\", \"width\": 1}}, \"name\": \"Maize\", \"orientation\": \"v\", \"text\": \"\", \"x\": [2015, 2016, 2017, 2018, 2019, 2020, 2021, 2022, 2023, 2024, 2025, 2026, 2027, 2028, 2029, 2030, 2031, 2032, 2033, 2034, 2035, 2036, 2037, 2038, 2039, 2040], \"y\": [5.6382349, 5.7199037, 5.807009, 5.8902118, 5.9731643000000005, 6.0602696, 6.102252900000001, 6.1492426, 6.1917073, 6.237413399999999, 6.2975116, 6.3543004000000005, 6.3990051, 6.4428562000000005, 6.4863864, 6.5258728999999995, 6.5464698, 6.5602439, 6.5718806, 6.5924775, 6.6049679, 6.6230359000000005, 6.629923, 6.6463735999999995, 6.6628947, 6.6803594], \"type\": \"bar\", \"uid\": \"70d4dddf-ea4c-4aa8-8fe8-c20b6afeedb6\"}, {\"marker\": {\"color\": \"rgba(0, 128, 0, 0.6)\", \"line\": {\"color\": \"rgba(0, 128, 0, 1.0)\", \"width\": 1}}, \"name\": \"Rice\", \"orientation\": \"v\", \"text\": \"\", \"x\": [2015, 2016, 2017, 2018, 2019, 2020, 2021, 2022, 2023, 2024, 2025, 2026, 2027, 2028, 2029, 2030, 2031, 2032, 2033, 2034, 2035, 2036, 2037, 2038, 2039, 2040], \"y\": [4.1426198, 4.5130301, 4.9739391, 5.597717139999999, 6.2497408199999995, 6.86871222, 6.87540365, 6.903910229999999, 6.9240451, 6.92716041, 6.92540705, 7.06797119, 7.37843835, 7.674023050000001, 7.98875645, 9.315130309999999, 9.082214619999998, 8.889622600000001, 8.7094988, 8.5236871, 8.343808300000001, 8.1744164, 8.046313099999999, 7.8974852, 7.7597327, 7.6105039], \"type\": \"bar\", \"uid\": \"ea0290a3-a004-43f4-ada4-b1712d964beb\"}, {\"marker\": {\"color\": \"rgba(178, 34, 34, 0.6)\", \"line\": {\"color\": \"rgba(178, 34, 34, 1.0)\", \"width\": 1}}, \"name\": \"Soybean\", \"orientation\": \"v\", \"text\": \"\", \"x\": [2015, 2016, 2017, 2018, 2019, 2020, 2021, 2022, 2023, 2024, 2025, 2026, 2027, 2028, 2029, 2030, 2031, 2032, 2033, 2034, 2035, 2036, 2037, 2038, 2039, 2040], \"y\": [0.16, 0.155, 0.15, 0.145, 0.135, 0.13, 0.125, 0.115, 0.11, 0.105, 0.095, 0.09, 0.085, 0.08, 0.07, 0.065, 0.06, 0.05, 0.045, 0.04, 0.03, 0.025, 0.02, 0.015, 0.005, 0.0], \"type\": \"bar\", \"uid\": \"b377a476-9be7-4385-9be0-103993e3a106\"}, {\"marker\": {\"color\": \"rgba(128, 0, 128, 0.6)\", \"line\": {\"color\": \"rgba(128, 0, 128, 1.0)\", \"width\": 1}}, \"name\": \"Sugarcane\", \"orientation\": \"v\", \"text\": \"\", \"x\": [2015, 2016, 2017, 2018, 2019, 2020, 2021, 2022, 2023, 2024, 2025, 2026, 2027, 2028, 2029, 2030, 2031, 2032, 2033, 2034, 2035, 2036, 2037, 2038, 2039, 2040], \"y\": [2.4487208000000003, 2.4532105, 2.4727162000000003, 2.4681794000000004, 2.4631794, 2.4581793999999997, 2.4531794, 2.4481794, 2.4431794, 2.4431794, 2.4331794, 2.4331794, 2.4231794, 2.4231794, 2.4181794, 1.5352301, 1.5257404, 1.4962347, 1.4907715, 1.4857714999999998, 1.4807715, 1.4807715, 1.4707715, 1.4707715, 1.4607715, 1.4607715], \"type\": \"bar\", \"uid\": \"5921e923-e0a3-4ca8-a38d-7fe9106fa51e\"}, {\"marker\": {\"color\": \"rgba(255, 0, 136, 0.6)\", \"line\": {\"color\": \"rgba(255, 0, 136, 1.0)\", \"width\": 1}}, \"name\": \"Tea\", \"orientation\": \"v\", \"text\": \"\", \"x\": [2015, 2016, 2017, 2018, 2019, 2020, 2021, 2022, 2023, 2024, 2025, 2026, 2027, 2028, 2029, 2030, 2031, 2032, 2033, 2034, 2035, 2036, 2037, 2038, 2039, 2040], \"y\": [4.9776343999999995, 4.968172, 4.9749928, 4.9749928, 4.9649928, 4.9649928, 4.9149928, 4.9149928, 4.9099928, 4.9099928, 4.9099928, 4.9049928000000005, 4.9049928000000005, 4.899992800000001, 4.899992800000001, 4.465630099999999, 4.465092399999999, 4.448271699999999, 4.4332717, 4.4332717, 4.4282717, 4.4282717, 4.4232717, 4.4232717, 4.4182717, 4.4182717], \"type\": \"bar\", \"uid\": \"0b9c64f3-55ea-4630-9a45-9ba2d6b9e57c\"}], {\"barmode\": \"stack\", \"legend\": {\"bgcolor\": \"#FFFFFF\", \"font\": {\"color\": \"#4D5663\"}, \"traceorder\": \"normal\"}, \"paper_bgcolor\": \"#FFFFFF\", \"plot_bgcolor\": \"#FFFFFF\", \"title\": {\"text\": \"Area by crop (North region)\", \"font\": {\"color\": \"#4D5663\"}}, \"xaxis\": {\"gridcolor\": \"#E1E5ED\", \"showgrid\": true, \"tickfont\": {\"color\": \"#4D5663\"}, \"title\": {\"text\": \"Year\", \"font\": {\"color\": \"#4D5663\"}}, \"zerolinecolor\": \"#E1E5ED\"}, \"yaxis\": {\"gridcolor\": \"#E1E5ED\", \"showgrid\": true, \"tickfont\": {\"color\": \"#4D5663\"}, \"title\": {\"text\": \"Land area (1000 sq.km.)\", \"font\": {\"color\": \"#4D5663\"}}, \"zerolinecolor\": \"#E1E5ED\"}}, {\"showLink\": true, \"linkText\": \"Export to plot.ly\", \"plotlyServerURL\": \"https://plot.ly\"}); \n",
       "}\n",
       "});</script><script type=\"text/javascript\">window.addEventListener(\"resize\", function(){if (document.getElementById(\"32466574-3040-4dd4-b734-b5ea64b90ff4\")) {window._Plotly.Plots.resize(document.getElementById(\"32466574-3040-4dd4-b734-b5ea64b90ff4\"));};})</script>"
      ]
     },
     "metadata": {},
     "output_type": "display_data"
    },
    {
     "data": {
      "application/vnd.plotly.v1+json": {
       "config": {
        "linkText": "Export to plot.ly",
        "plotlyServerURL": "https://plot.ly",
        "showLink": true
       },
       "data": [
        {
         "marker": {
          "color": "rgba(165, 42, 42, 0.6)",
          "line": {
           "color": "rgba(165, 42, 42, 1.0)",
           "width": 1
          }
         },
         "name": "Coffee",
         "orientation": "v",
         "text": "",
         "type": "bar",
         "uid": "742c63d8-61ff-4441-a764-08cb8285f65a",
         "x": [
          2015,
          2016,
          2017,
          2018,
          2019,
          2020,
          2021,
          2022,
          2023,
          2024,
          2025,
          2026,
          2027,
          2028,
          2029,
          2030,
          2031,
          2032,
          2033,
          2034,
          2035,
          2036,
          2037,
          2038,
          2039,
          2040
         ],
         "y": [
          2.00000001,
          2.1240197,
          2.2429140999999997,
          2.3625207,
          2.4733538,
          2.5942718,
          2.6727294,
          2.7382578000000004,
          2.8091345999999997,
          2.8837818,
          2.9604861000000002,
          2.9404860999999998,
          2.9451007000000002,
          2.9251006999999998,
          2.9151007,
          3.0424485000000003,
          3.0713014,
          3.0898603000000002,
          3.1187132,
          3.1448897,
          3.1737426,
          3.065285,
          3.0828522,
          3.0980497000000002,
          3.1248731999999997,
          3.018169
         ]
        },
        {
         "marker": {
          "color": "rgba(128, 128, 128, 0.6)",
          "line": {
           "color": "rgba(128, 128, 128, 1.0)",
           "width": 1
          }
         },
         "name": "Cotton",
         "orientation": "v",
         "text": "",
         "type": "bar",
         "uid": "fba702c0-a003-4522-995c-dde3568b6d24",
         "x": [
          2015,
          2016,
          2017,
          2018,
          2019,
          2020,
          2021,
          2022,
          2023,
          2024,
          2025,
          2026,
          2027,
          2028,
          2029,
          2030,
          2031,
          2032,
          2033,
          2034,
          2035,
          2036,
          2037,
          2038,
          2039,
          2040
         ],
         "y": [
          0.2484,
          0.29380367,
          0.31987179,
          0.31987179,
          0.31987179,
          0.31987179,
          0.31987179,
          0.32333333000000003,
          0.32679487,
          0.3524359,
          0.3524359,
          0.35525641,
          0.35525641,
          0.35525641,
          0.35525641,
          0.35551282,
          0.35551282,
          0.35551282,
          0.35551282,
          0.35551282,
          0.35897436,
          0.35897436,
          0.35897436,
          0.35897436,
          0.35897436,
          0.35897436
         ]
        },
        {
         "marker": {
          "color": "rgba(255, 153, 51, 0.6)",
          "line": {
           "color": "rgba(255, 153, 51, 1.0)",
           "width": 1
          }
         },
         "name": "Peanuts",
         "orientation": "v",
         "text": "",
         "type": "bar",
         "uid": "7c73044d-ff88-439e-8b93-db257305ad32",
         "x": [
          2015,
          2016,
          2017,
          2018,
          2019,
          2020,
          2021,
          2022,
          2023,
          2024,
          2025,
          2026,
          2027,
          2028,
          2029,
          2030,
          2031,
          2032,
          2033,
          2034,
          2035,
          2036,
          2037,
          2038,
          2039,
          2040
         ],
         "y": [
          1.8886733,
          1.9062897,
          1.9291494,
          1.9627021,
          2.0000227,
          2.0399220000000002,
          2.0517583999999998,
          2.0671684999999997,
          2.0991172000000002,
          2.1378865,
          2.1450313,
          2.1597336,
          2.1796548000000002,
          2.1989753,
          2.2138261,
          2.2337772,
          2.2440772,
          2.2536174,
          2.2600219,
          2.2734943999999997,
          2.2887856,
          2.2991307,
          2.3080589000000002,
          2.3105249,
          2.3248089999999997,
          2.3314313
         ]
        },
        {
         "marker": {
          "color": "rgba(255, 215, 0, 0.6)",
          "line": {
           "color": "rgba(255, 215, 0, 1.0)",
           "width": 1
          }
         },
         "name": "Maize",
         "orientation": "v",
         "text": "",
         "type": "bar",
         "uid": "7dd3a229-4f16-48d9-a0bc-851550b0e7b5",
         "x": [
          2015,
          2016,
          2017,
          2018,
          2019,
          2020,
          2021,
          2022,
          2023,
          2024,
          2025,
          2026,
          2027,
          2028,
          2029,
          2030,
          2031,
          2032,
          2033,
          2034,
          2035,
          2036,
          2037,
          2038,
          2039,
          2040
         ],
         "y": [
          0.24,
          0.235,
          0.22,
          0.21000000000000002,
          0.20500000000000002,
          0.19,
          0.185,
          0.17500000000000002,
          0.165,
          0.155,
          0.14500000000000002,
          0.135,
          0.125,
          0.115,
          0.10500000000000001,
          0.1,
          0.085,
          0.08,
          0.07,
          0.055,
          0.05,
          0.034999999999999996,
          0.030000000000000002,
          0.02,
          0.01,
          0
         ]
        },
        {
         "marker": {
          "color": "rgba(0, 128, 0, 0.6)",
          "line": {
           "color": "rgba(0, 128, 0, 1.0)",
           "width": 1
          }
         },
         "name": "Rice",
         "orientation": "v",
         "text": "",
         "type": "bar",
         "uid": "7a517768-1fb3-4b61-86e6-d5f4d515d6a2",
         "x": [
          2015,
          2016,
          2017,
          2018,
          2019,
          2020,
          2021,
          2022,
          2023,
          2024,
          2025,
          2026,
          2027,
          2028,
          2029,
          2030,
          2031,
          2032,
          2033,
          2034,
          2035,
          2036,
          2037,
          2038,
          2039,
          2040
         ],
         "y": [
          40.407927,
          40.569686999999995,
          40.655283000000004,
          40.640440999999996,
          40.614558,
          40.61898600000001,
          40.589055,
          40.588528,
          40.592276,
          40.601327,
          40.650266,
          40.684937000000005,
          40.649822,
          40.618412,
          40.589614,
          40.553894,
          40.526039999999995,
          40.492198,
          40.459776999999995,
          40.428609,
          40.383975,
          40.347675,
          40.286210999999994,
          40.249659,
          40.214771,
          40.186057
         ]
        },
        {
         "marker": {
          "color": "rgba(178, 34, 34, 0.6)",
          "line": {
           "color": "rgba(178, 34, 34, 1.0)",
           "width": 1
          }
         },
         "name": "Soybean",
         "orientation": "v",
         "text": "",
         "type": "bar",
         "uid": "662d165c-d88d-42fa-a4f9-0a1fba58dd92",
         "x": [
          2015,
          2016,
          2017,
          2018,
          2019,
          2020,
          2021,
          2022,
          2023,
          2024,
          2025,
          2026,
          2027,
          2028,
          2029,
          2030,
          2031,
          2032,
          2033,
          2034,
          2035,
          2036,
          2037,
          2038,
          2039,
          2040
         ],
         "y": [
          0.03,
          0.03,
          0.03,
          0.03,
          0.025,
          0.025,
          0.025,
          0.025,
          0.02,
          0.02,
          0.02,
          0.02,
          0.015,
          0.015,
          0.015,
          0.015,
          0.01,
          0.01,
          0.01,
          0.01,
          0.005,
          0.005,
          0.005,
          0.005,
          0,
          0
         ]
        },
        {
         "marker": {
          "color": "rgba(128, 0, 128, 0.6)",
          "line": {
           "color": "rgba(128, 0, 128, 1.0)",
           "width": 1
          }
         },
         "name": "Sugarcane",
         "orientation": "v",
         "text": "",
         "type": "bar",
         "uid": "54082b04-5ba9-4f90-8e9d-af6cd0b2e6f5",
         "x": [
          2015,
          2016,
          2017,
          2018,
          2019,
          2020,
          2021,
          2022,
          2023,
          2024,
          2025,
          2026,
          2027,
          2028,
          2029,
          2030,
          2031,
          2032,
          2033,
          2034,
          2035,
          2036,
          2037,
          2038,
          2039,
          2040
         ],
         "y": [
          1.9849999999999999,
          2.019,
          2.05722,
          2.0896756,
          2.1213821,
          2.1523544,
          2.1876074,
          2.2171551999999997,
          2.2460120999999997,
          2.2741919,
          2.306708,
          2.3335739,
          2.3598024,
          2.3854063,
          2.4103982,
          2.4397902,
          2.4635944000000003,
          2.4868226,
          2.5094860999999997,
          2.5365964,
          2.5581645,
          2.5792012,
          2.5997171,
          2.6247228,
          2.6442283,
          2.6632438
         ]
        },
        {
         "marker": {
          "color": "rgba(255, 0, 136, 0.6)",
          "line": {
           "color": "rgba(255, 0, 136, 1.0)",
           "width": 1
          }
         },
         "name": "Tea",
         "orientation": "v",
         "text": "",
         "type": "bar",
         "uid": "81923f7a-4e4e-49ad-b287-70cb70cd16d8",
         "x": [
          2015,
          2016,
          2017,
          2018,
          2019,
          2020,
          2021,
          2022,
          2023,
          2024,
          2025,
          2026,
          2027,
          2028,
          2029,
          2030,
          2031,
          2032,
          2033,
          2034,
          2035,
          2036,
          2037,
          2038,
          2039,
          2040
         ],
         "y": [
          0.09,
          0.09,
          0.08,
          0.08,
          0.07,
          0.07,
          0.07,
          0.06,
          0.06,
          0.06,
          0.05,
          0.05,
          0.05,
          0.04,
          0.04,
          0.050573675,
          0.03,
          0.03,
          0.02,
          0.02,
          0.02,
          0.01,
          0.01,
          0.01,
          0,
          0
         ]
        }
       ],
       "layout": {
        "barmode": "stack",
        "legend": {
         "bgcolor": "#FFFFFF",
         "font": {
          "color": "#4D5663"
         },
         "traceorder": "normal"
        },
        "paper_bgcolor": "#FFFFFF",
        "plot_bgcolor": "#FFFFFF",
        "title": {
         "font": {
          "color": "#4D5663"
         },
         "text": "Area by crop (South region)"
        },
        "xaxis": {
         "gridcolor": "#E1E5ED",
         "showgrid": true,
         "tickfont": {
          "color": "#4D5663"
         },
         "title": {
          "font": {
           "color": "#4D5663"
          },
          "text": "Year"
         },
         "zerolinecolor": "#E1E5ED"
        },
        "yaxis": {
         "gridcolor": "#E1E5ED",
         "showgrid": true,
         "tickfont": {
          "color": "#4D5663"
         },
         "title": {
          "font": {
           "color": "#4D5663"
          },
          "text": "Land area (1000 sq.km.)"
         },
         "zerolinecolor": "#E1E5ED"
        }
       }
      },
      "text/html": [
       "<div id=\"79c189ed-f581-4d3b-b4ee-44945eb538b3\" style=\"height: 525px; width: 100%;\" class=\"plotly-graph-div\"></div><script type=\"text/javascript\">require([\"plotly\"], function(Plotly) { window.PLOTLYENV=window.PLOTLYENV || {};window.PLOTLYENV.BASE_URL=\"https://plot.ly\";\n",
       "if (document.getElementById(\"79c189ed-f581-4d3b-b4ee-44945eb538b3\")) {\n",
       "    Plotly.newPlot(\"79c189ed-f581-4d3b-b4ee-44945eb538b3\", [{\"marker\": {\"color\": \"rgba(165, 42, 42, 0.6)\", \"line\": {\"color\": \"rgba(165, 42, 42, 1.0)\", \"width\": 1}}, \"name\": \"Coffee\", \"orientation\": \"v\", \"text\": \"\", \"x\": [2015, 2016, 2017, 2018, 2019, 2020, 2021, 2022, 2023, 2024, 2025, 2026, 2027, 2028, 2029, 2030, 2031, 2032, 2033, 2034, 2035, 2036, 2037, 2038, 2039, 2040], \"y\": [2.00000001, 2.1240197, 2.2429140999999997, 2.3625207, 2.4733538, 2.5942718, 2.6727294, 2.7382578000000004, 2.8091345999999997, 2.8837818, 2.9604861000000002, 2.9404860999999998, 2.9451007000000002, 2.9251006999999998, 2.9151007, 3.0424485000000003, 3.0713014, 3.0898603000000002, 3.1187132, 3.1448897, 3.1737426, 3.065285, 3.0828522, 3.0980497000000002, 3.1248731999999997, 3.018169], \"type\": \"bar\", \"uid\": \"2422ad1f-67c9-44cd-ba5c-0792789568b5\"}, {\"marker\": {\"color\": \"rgba(128, 128, 128, 0.6)\", \"line\": {\"color\": \"rgba(128, 128, 128, 1.0)\", \"width\": 1}}, \"name\": \"Cotton\", \"orientation\": \"v\", \"text\": \"\", \"x\": [2015, 2016, 2017, 2018, 2019, 2020, 2021, 2022, 2023, 2024, 2025, 2026, 2027, 2028, 2029, 2030, 2031, 2032, 2033, 2034, 2035, 2036, 2037, 2038, 2039, 2040], \"y\": [0.2484, 0.29380367, 0.31987179, 0.31987179, 0.31987179, 0.31987179, 0.31987179, 0.32333333000000003, 0.32679487, 0.3524359, 0.3524359, 0.35525641, 0.35525641, 0.35525641, 0.35525641, 0.35551282, 0.35551282, 0.35551282, 0.35551282, 0.35551282, 0.35897436, 0.35897436, 0.35897436, 0.35897436, 0.35897436, 0.35897436], \"type\": \"bar\", \"uid\": \"1a711814-5826-4eed-9555-52b6e426f3d9\"}, {\"marker\": {\"color\": \"rgba(255, 153, 51, 0.6)\", \"line\": {\"color\": \"rgba(255, 153, 51, 1.0)\", \"width\": 1}}, \"name\": \"Peanuts\", \"orientation\": \"v\", \"text\": \"\", \"x\": [2015, 2016, 2017, 2018, 2019, 2020, 2021, 2022, 2023, 2024, 2025, 2026, 2027, 2028, 2029, 2030, 2031, 2032, 2033, 2034, 2035, 2036, 2037, 2038, 2039, 2040], \"y\": [1.8886733, 1.9062897, 1.9291494, 1.9627021, 2.0000227, 2.0399220000000002, 2.0517583999999998, 2.0671684999999997, 2.0991172000000002, 2.1378865, 2.1450313, 2.1597336, 2.1796548000000002, 2.1989753, 2.2138261, 2.2337772, 2.2440772, 2.2536174, 2.2600219, 2.2734943999999997, 2.2887856, 2.2991307, 2.3080589000000002, 2.3105249, 2.3248089999999997, 2.3314313], \"type\": \"bar\", \"uid\": \"64f82839-4bd9-4517-bf5c-c2c2da74a071\"}, {\"marker\": {\"color\": \"rgba(255, 215, 0, 0.6)\", \"line\": {\"color\": \"rgba(255, 215, 0, 1.0)\", \"width\": 1}}, \"name\": \"Maize\", \"orientation\": \"v\", \"text\": \"\", \"x\": [2015, 2016, 2017, 2018, 2019, 2020, 2021, 2022, 2023, 2024, 2025, 2026, 2027, 2028, 2029, 2030, 2031, 2032, 2033, 2034, 2035, 2036, 2037, 2038, 2039, 2040], \"y\": [0.24, 0.235, 0.22, 0.21000000000000002, 0.20500000000000002, 0.19, 0.185, 0.17500000000000002, 0.165, 0.155, 0.14500000000000002, 0.135, 0.125, 0.115, 0.10500000000000001, 0.1, 0.085, 0.08, 0.07, 0.055, 0.05, 0.034999999999999996, 0.030000000000000002, 0.02, 0.01, 0.0], \"type\": \"bar\", \"uid\": \"5cc61c6d-0be9-403f-b5d0-99137aac74a0\"}, {\"marker\": {\"color\": \"rgba(0, 128, 0, 0.6)\", \"line\": {\"color\": \"rgba(0, 128, 0, 1.0)\", \"width\": 1}}, \"name\": \"Rice\", \"orientation\": \"v\", \"text\": \"\", \"x\": [2015, 2016, 2017, 2018, 2019, 2020, 2021, 2022, 2023, 2024, 2025, 2026, 2027, 2028, 2029, 2030, 2031, 2032, 2033, 2034, 2035, 2036, 2037, 2038, 2039, 2040], \"y\": [40.407927, 40.569686999999995, 40.655283000000004, 40.640440999999996, 40.614558, 40.61898600000001, 40.589055, 40.588528, 40.592276, 40.601327, 40.650266, 40.684937000000005, 40.649822, 40.618412, 40.589614, 40.553894, 40.526039999999995, 40.492198, 40.459776999999995, 40.428609, 40.383975, 40.347675, 40.286210999999994, 40.249659, 40.214771, 40.186057], \"type\": \"bar\", \"uid\": \"3438d181-81e4-4496-9343-1ec679c56d50\"}, {\"marker\": {\"color\": \"rgba(178, 34, 34, 0.6)\", \"line\": {\"color\": \"rgba(178, 34, 34, 1.0)\", \"width\": 1}}, \"name\": \"Soybean\", \"orientation\": \"v\", \"text\": \"\", \"x\": [2015, 2016, 2017, 2018, 2019, 2020, 2021, 2022, 2023, 2024, 2025, 2026, 2027, 2028, 2029, 2030, 2031, 2032, 2033, 2034, 2035, 2036, 2037, 2038, 2039, 2040], \"y\": [0.03, 0.03, 0.03, 0.03, 0.025, 0.025, 0.025, 0.025, 0.02, 0.02, 0.02, 0.02, 0.015, 0.015, 0.015, 0.015, 0.01, 0.01, 0.01, 0.01, 0.005, 0.005, 0.005, 0.005, 0.0, 0.0], \"type\": \"bar\", \"uid\": \"eddfb33a-d689-403f-891a-1737f85f262a\"}, {\"marker\": {\"color\": \"rgba(128, 0, 128, 0.6)\", \"line\": {\"color\": \"rgba(128, 0, 128, 1.0)\", \"width\": 1}}, \"name\": \"Sugarcane\", \"orientation\": \"v\", \"text\": \"\", \"x\": [2015, 2016, 2017, 2018, 2019, 2020, 2021, 2022, 2023, 2024, 2025, 2026, 2027, 2028, 2029, 2030, 2031, 2032, 2033, 2034, 2035, 2036, 2037, 2038, 2039, 2040], \"y\": [1.9849999999999999, 2.019, 2.05722, 2.0896756, 2.1213821, 2.1523544, 2.1876074, 2.2171551999999997, 2.2460120999999997, 2.2741919, 2.306708, 2.3335739, 2.3598024, 2.3854063, 2.4103982, 2.4397902, 2.4635944000000003, 2.4868226, 2.5094860999999997, 2.5365964, 2.5581645, 2.5792012, 2.5997171, 2.6247228, 2.6442283, 2.6632438], \"type\": \"bar\", \"uid\": \"5cddf057-f81b-4472-b485-9b15cb99da73\"}, {\"marker\": {\"color\": \"rgba(255, 0, 136, 0.6)\", \"line\": {\"color\": \"rgba(255, 0, 136, 1.0)\", \"width\": 1}}, \"name\": \"Tea\", \"orientation\": \"v\", \"text\": \"\", \"x\": [2015, 2016, 2017, 2018, 2019, 2020, 2021, 2022, 2023, 2024, 2025, 2026, 2027, 2028, 2029, 2030, 2031, 2032, 2033, 2034, 2035, 2036, 2037, 2038, 2039, 2040], \"y\": [0.09, 0.09, 0.08, 0.08, 0.07, 0.07, 0.07, 0.06, 0.06, 0.06, 0.05, 0.05, 0.05, 0.04, 0.04, 0.050573675, 0.03, 0.03, 0.02, 0.02, 0.02, 0.01, 0.01, 0.01, 0.0, 0.0], \"type\": \"bar\", \"uid\": \"2e921641-1abb-4f34-b504-19cc84e8125a\"}], {\"barmode\": \"stack\", \"legend\": {\"bgcolor\": \"#FFFFFF\", \"font\": {\"color\": \"#4D5663\"}, \"traceorder\": \"normal\"}, \"paper_bgcolor\": \"#FFFFFF\", \"plot_bgcolor\": \"#FFFFFF\", \"title\": {\"text\": \"Area by crop (South region)\", \"font\": {\"color\": \"#4D5663\"}}, \"xaxis\": {\"gridcolor\": \"#E1E5ED\", \"showgrid\": true, \"tickfont\": {\"color\": \"#4D5663\"}, \"title\": {\"text\": \"Year\", \"font\": {\"color\": \"#4D5663\"}}, \"zerolinecolor\": \"#E1E5ED\"}, \"yaxis\": {\"gridcolor\": \"#E1E5ED\", \"showgrid\": true, \"tickfont\": {\"color\": \"#4D5663\"}, \"title\": {\"text\": \"Land area (1000 sq.km.)\", \"font\": {\"color\": \"#4D5663\"}}, \"zerolinecolor\": \"#E1E5ED\"}}, {\"showLink\": true, \"linkText\": \"Export to plot.ly\", \"plotlyServerURL\": \"https://plot.ly\"}); \n",
       "}\n",
       "});</script><script type=\"text/javascript\">window.addEventListener(\"resize\", function(){if (document.getElementById(\"79c189ed-f581-4d3b-b4ee-44945eb538b3\")) {window._Plotly.Plots.resize(document.getElementById(\"79c189ed-f581-4d3b-b4ee-44945eb538b3\"));};})</script>"
      ],
      "text/vnd.plotly.v1+html": [
       "<div id=\"79c189ed-f581-4d3b-b4ee-44945eb538b3\" style=\"height: 525px; width: 100%;\" class=\"plotly-graph-div\"></div><script type=\"text/javascript\">require([\"plotly\"], function(Plotly) { window.PLOTLYENV=window.PLOTLYENV || {};window.PLOTLYENV.BASE_URL=\"https://plot.ly\";\n",
       "if (document.getElementById(\"79c189ed-f581-4d3b-b4ee-44945eb538b3\")) {\n",
       "    Plotly.newPlot(\"79c189ed-f581-4d3b-b4ee-44945eb538b3\", [{\"marker\": {\"color\": \"rgba(165, 42, 42, 0.6)\", \"line\": {\"color\": \"rgba(165, 42, 42, 1.0)\", \"width\": 1}}, \"name\": \"Coffee\", \"orientation\": \"v\", \"text\": \"\", \"x\": [2015, 2016, 2017, 2018, 2019, 2020, 2021, 2022, 2023, 2024, 2025, 2026, 2027, 2028, 2029, 2030, 2031, 2032, 2033, 2034, 2035, 2036, 2037, 2038, 2039, 2040], \"y\": [2.00000001, 2.1240197, 2.2429140999999997, 2.3625207, 2.4733538, 2.5942718, 2.6727294, 2.7382578000000004, 2.8091345999999997, 2.8837818, 2.9604861000000002, 2.9404860999999998, 2.9451007000000002, 2.9251006999999998, 2.9151007, 3.0424485000000003, 3.0713014, 3.0898603000000002, 3.1187132, 3.1448897, 3.1737426, 3.065285, 3.0828522, 3.0980497000000002, 3.1248731999999997, 3.018169], \"type\": \"bar\", \"uid\": \"2422ad1f-67c9-44cd-ba5c-0792789568b5\"}, {\"marker\": {\"color\": \"rgba(128, 128, 128, 0.6)\", \"line\": {\"color\": \"rgba(128, 128, 128, 1.0)\", \"width\": 1}}, \"name\": \"Cotton\", \"orientation\": \"v\", \"text\": \"\", \"x\": [2015, 2016, 2017, 2018, 2019, 2020, 2021, 2022, 2023, 2024, 2025, 2026, 2027, 2028, 2029, 2030, 2031, 2032, 2033, 2034, 2035, 2036, 2037, 2038, 2039, 2040], \"y\": [0.2484, 0.29380367, 0.31987179, 0.31987179, 0.31987179, 0.31987179, 0.31987179, 0.32333333000000003, 0.32679487, 0.3524359, 0.3524359, 0.35525641, 0.35525641, 0.35525641, 0.35525641, 0.35551282, 0.35551282, 0.35551282, 0.35551282, 0.35551282, 0.35897436, 0.35897436, 0.35897436, 0.35897436, 0.35897436, 0.35897436], \"type\": \"bar\", \"uid\": \"1a711814-5826-4eed-9555-52b6e426f3d9\"}, {\"marker\": {\"color\": \"rgba(255, 153, 51, 0.6)\", \"line\": {\"color\": \"rgba(255, 153, 51, 1.0)\", \"width\": 1}}, \"name\": \"Peanuts\", \"orientation\": \"v\", \"text\": \"\", \"x\": [2015, 2016, 2017, 2018, 2019, 2020, 2021, 2022, 2023, 2024, 2025, 2026, 2027, 2028, 2029, 2030, 2031, 2032, 2033, 2034, 2035, 2036, 2037, 2038, 2039, 2040], \"y\": [1.8886733, 1.9062897, 1.9291494, 1.9627021, 2.0000227, 2.0399220000000002, 2.0517583999999998, 2.0671684999999997, 2.0991172000000002, 2.1378865, 2.1450313, 2.1597336, 2.1796548000000002, 2.1989753, 2.2138261, 2.2337772, 2.2440772, 2.2536174, 2.2600219, 2.2734943999999997, 2.2887856, 2.2991307, 2.3080589000000002, 2.3105249, 2.3248089999999997, 2.3314313], \"type\": \"bar\", \"uid\": \"64f82839-4bd9-4517-bf5c-c2c2da74a071\"}, {\"marker\": {\"color\": \"rgba(255, 215, 0, 0.6)\", \"line\": {\"color\": \"rgba(255, 215, 0, 1.0)\", \"width\": 1}}, \"name\": \"Maize\", \"orientation\": \"v\", \"text\": \"\", \"x\": [2015, 2016, 2017, 2018, 2019, 2020, 2021, 2022, 2023, 2024, 2025, 2026, 2027, 2028, 2029, 2030, 2031, 2032, 2033, 2034, 2035, 2036, 2037, 2038, 2039, 2040], \"y\": [0.24, 0.235, 0.22, 0.21000000000000002, 0.20500000000000002, 0.19, 0.185, 0.17500000000000002, 0.165, 0.155, 0.14500000000000002, 0.135, 0.125, 0.115, 0.10500000000000001, 0.1, 0.085, 0.08, 0.07, 0.055, 0.05, 0.034999999999999996, 0.030000000000000002, 0.02, 0.01, 0.0], \"type\": \"bar\", \"uid\": \"5cc61c6d-0be9-403f-b5d0-99137aac74a0\"}, {\"marker\": {\"color\": \"rgba(0, 128, 0, 0.6)\", \"line\": {\"color\": \"rgba(0, 128, 0, 1.0)\", \"width\": 1}}, \"name\": \"Rice\", \"orientation\": \"v\", \"text\": \"\", \"x\": [2015, 2016, 2017, 2018, 2019, 2020, 2021, 2022, 2023, 2024, 2025, 2026, 2027, 2028, 2029, 2030, 2031, 2032, 2033, 2034, 2035, 2036, 2037, 2038, 2039, 2040], \"y\": [40.407927, 40.569686999999995, 40.655283000000004, 40.640440999999996, 40.614558, 40.61898600000001, 40.589055, 40.588528, 40.592276, 40.601327, 40.650266, 40.684937000000005, 40.649822, 40.618412, 40.589614, 40.553894, 40.526039999999995, 40.492198, 40.459776999999995, 40.428609, 40.383975, 40.347675, 40.286210999999994, 40.249659, 40.214771, 40.186057], \"type\": \"bar\", \"uid\": \"3438d181-81e4-4496-9343-1ec679c56d50\"}, {\"marker\": {\"color\": \"rgba(178, 34, 34, 0.6)\", \"line\": {\"color\": \"rgba(178, 34, 34, 1.0)\", \"width\": 1}}, \"name\": \"Soybean\", \"orientation\": \"v\", \"text\": \"\", \"x\": [2015, 2016, 2017, 2018, 2019, 2020, 2021, 2022, 2023, 2024, 2025, 2026, 2027, 2028, 2029, 2030, 2031, 2032, 2033, 2034, 2035, 2036, 2037, 2038, 2039, 2040], \"y\": [0.03, 0.03, 0.03, 0.03, 0.025, 0.025, 0.025, 0.025, 0.02, 0.02, 0.02, 0.02, 0.015, 0.015, 0.015, 0.015, 0.01, 0.01, 0.01, 0.01, 0.005, 0.005, 0.005, 0.005, 0.0, 0.0], \"type\": \"bar\", \"uid\": \"eddfb33a-d689-403f-891a-1737f85f262a\"}, {\"marker\": {\"color\": \"rgba(128, 0, 128, 0.6)\", \"line\": {\"color\": \"rgba(128, 0, 128, 1.0)\", \"width\": 1}}, \"name\": \"Sugarcane\", \"orientation\": \"v\", \"text\": \"\", \"x\": [2015, 2016, 2017, 2018, 2019, 2020, 2021, 2022, 2023, 2024, 2025, 2026, 2027, 2028, 2029, 2030, 2031, 2032, 2033, 2034, 2035, 2036, 2037, 2038, 2039, 2040], \"y\": [1.9849999999999999, 2.019, 2.05722, 2.0896756, 2.1213821, 2.1523544, 2.1876074, 2.2171551999999997, 2.2460120999999997, 2.2741919, 2.306708, 2.3335739, 2.3598024, 2.3854063, 2.4103982, 2.4397902, 2.4635944000000003, 2.4868226, 2.5094860999999997, 2.5365964, 2.5581645, 2.5792012, 2.5997171, 2.6247228, 2.6442283, 2.6632438], \"type\": \"bar\", \"uid\": \"5cddf057-f81b-4472-b485-9b15cb99da73\"}, {\"marker\": {\"color\": \"rgba(255, 0, 136, 0.6)\", \"line\": {\"color\": \"rgba(255, 0, 136, 1.0)\", \"width\": 1}}, \"name\": \"Tea\", \"orientation\": \"v\", \"text\": \"\", \"x\": [2015, 2016, 2017, 2018, 2019, 2020, 2021, 2022, 2023, 2024, 2025, 2026, 2027, 2028, 2029, 2030, 2031, 2032, 2033, 2034, 2035, 2036, 2037, 2038, 2039, 2040], \"y\": [0.09, 0.09, 0.08, 0.08, 0.07, 0.07, 0.07, 0.06, 0.06, 0.06, 0.05, 0.05, 0.05, 0.04, 0.04, 0.050573675, 0.03, 0.03, 0.02, 0.02, 0.02, 0.01, 0.01, 0.01, 0.0, 0.0], \"type\": \"bar\", \"uid\": \"2e921641-1abb-4f34-b504-19cc84e8125a\"}], {\"barmode\": \"stack\", \"legend\": {\"bgcolor\": \"#FFFFFF\", \"font\": {\"color\": \"#4D5663\"}, \"traceorder\": \"normal\"}, \"paper_bgcolor\": \"#FFFFFF\", \"plot_bgcolor\": \"#FFFFFF\", \"title\": {\"text\": \"Area by crop (South region)\", \"font\": {\"color\": \"#4D5663\"}}, \"xaxis\": {\"gridcolor\": \"#E1E5ED\", \"showgrid\": true, \"tickfont\": {\"color\": \"#4D5663\"}, \"title\": {\"text\": \"Year\", \"font\": {\"color\": \"#4D5663\"}}, \"zerolinecolor\": \"#E1E5ED\"}, \"yaxis\": {\"gridcolor\": \"#E1E5ED\", \"showgrid\": true, \"tickfont\": {\"color\": \"#4D5663\"}, \"title\": {\"text\": \"Land area (1000 sq.km.)\", \"font\": {\"color\": \"#4D5663\"}}, \"zerolinecolor\": \"#E1E5ED\"}}, {\"showLink\": true, \"linkText\": \"Export to plot.ly\", \"plotlyServerURL\": \"https://plot.ly\"}); \n",
       "}\n",
       "});</script><script type=\"text/javascript\">window.addEventListener(\"resize\", function(){if (document.getElementById(\"79c189ed-f581-4d3b-b4ee-44945eb538b3\")) {window._Plotly.Plots.resize(document.getElementById(\"79c189ed-f581-4d3b-b4ee-44945eb538b3\"));};})</script>"
      ]
     },
     "metadata": {},
     "output_type": "display_data"
    }
   ],
   "source": [
    "for each in regions.keys():\n",
    "    crops_region_df = all_params['TotalTechnologyAnnualActivity'][all_params['TotalTechnologyAnnualActivity'].t.str.startswith('LNDCP')].drop('r', axis=1)\n",
    "    crops_region_df = crops_region_df[crops_region_df.t.str[6:7] == each]\n",
    "    crops_region_df = df_filter(crops_region_df,3,6,[])\n",
    "    df_plot(crops_region_df,'Land area (1000 sq.km.)','Area by crop (' + regions[each] + ' region)')"
   ]
  },
  {
   "cell_type": "code",
   "execution_count": 254,
   "metadata": {},
   "outputs": [
    {
     "data": {
      "application/vnd.plotly.v1+json": {
       "config": {
        "linkText": "Export to plot.ly",
        "plotlyServerURL": "https://plot.ly",
        "showLink": true
       },
       "data": [
        {
         "marker": {
          "color": "rgba(34, 139, 34, 0.6)",
          "line": {
           "color": "rgba(34, 139, 34, 1.0)",
           "width": 1
          }
         },
         "name": "Forests",
         "orientation": "v",
         "text": "",
         "type": "bar",
         "uid": "a7177bbf-7072-4305-aa2a-d769f3f03f05",
         "x": [
          2015,
          2016,
          2017,
          2018,
          2019,
          2020,
          2021,
          2022,
          2023,
          2024,
          2025,
          2026,
          2027,
          2028,
          2029,
          2030,
          2031,
          2032,
          2033,
          2034,
          2035,
          2036,
          2037,
          2038,
          2039,
          2040
         ],
         "y": [
          61.45,
          60.221,
          59.01658,
          57.836248,
          56.679523,
          55.545933,
          54.435014,
          53.346314,
          52.279388,
          51.2338,
          50.209124,
          49.204942,
          48.220843,
          47.256426,
          46.311297,
          45.385071,
          45.385071,
          45.385071,
          45.385071,
          45.385071,
          45.385071,
          45.385071,
          45.385071,
          45.385071,
          45.385071,
          45.385071
         ]
        },
        {
         "marker": {
          "color": "rgba(0, 100, 0, 0.6)",
          "line": {
           "color": "rgba(0, 100, 0, 1.0)",
           "width": 1
          }
         },
         "name": "Grassland & woodland",
         "orientation": "v",
         "text": "",
         "type": "bar",
         "uid": "cab8190c-699e-4c82-9813-39fdc8fe91d2",
         "x": [
          2015,
          2016,
          2017,
          2018,
          2019,
          2020,
          2021,
          2022,
          2023,
          2024,
          2025,
          2026,
          2027,
          2028,
          2029,
          2030,
          2031,
          2032,
          2033,
          2034,
          2035,
          2036,
          2037,
          2038,
          2039,
          2040
         ],
         "y": [
          16.24,
          16.9848,
          17.724704,
          18.453419,
          19.15101,
          19.83799,
          20.51123,
          21.212317,
          21.90619,
          22.583051,
          23.235571,
          23.909384,
          24.645547,
          25.323741,
          26.031275,
          26.524499,
          26.316761,
          26.136969,
          26.038699,
          25.931476,
          25.803205,
          25.561771,
          25.462872,
          25.351593,
          25.237031,
          25.004482
         ]
        },
        {
         "marker": {
          "color": "rgba(255, 215, 0, 0.6)",
          "line": {
           "color": "rgba(255, 215, 0, 1.0)",
           "width": 1
          }
         },
         "name": "Other agricultural land",
         "orientation": "v",
         "text": "",
         "type": "bar",
         "uid": "5fc40215-88d4-4f24-a9be-3a219b793aec",
         "x": [
          2015,
          2016,
          2017,
          2018,
          2019,
          2020,
          2021,
          2022,
          2023,
          2024,
          2025,
          2026,
          2027,
          2028,
          2029,
          2030,
          2031,
          2032,
          2033,
          2034,
          2035,
          2036,
          2037,
          2038,
          2039,
          2040
         ],
         "y": [
          5.68,
          5.68,
          5.68,
          5.68,
          5.68,
          5.68,
          5.68,
          5.68,
          5.68,
          5.68,
          5.68,
          5.68,
          5.68,
          5.68,
          5.68,
          5.68,
          5.68,
          5.68,
          5.68,
          5.68,
          5.68,
          5.68,
          5.68,
          5.68,
          5.68,
          5.68
         ]
        },
        {
         "marker": {
          "color": "rgba(0, 0, 0, 0.6)",
          "line": {
           "color": "rgba(0, 0, 0, 1.0)",
           "width": 1
          }
         },
         "name": "Built-up land",
         "orientation": "v",
         "text": "",
         "type": "bar",
         "uid": "b28ba728-fa81-4b09-9cfb-3ed826186b69",
         "x": [
          2015,
          2016,
          2017,
          2018,
          2019,
          2020,
          2021,
          2022,
          2023,
          2024,
          2025,
          2026,
          2027,
          2028,
          2029,
          2030,
          2031,
          2032,
          2033,
          2034,
          2035,
          2036,
          2037,
          2038,
          2039,
          2040
         ],
         "y": [
          4.62,
          4.62,
          4.62,
          4.62,
          4.62,
          4.62,
          4.62,
          4.62,
          4.62,
          4.62,
          4.62,
          4.62,
          4.62,
          4.62,
          4.62,
          4.62,
          4.62,
          4.62,
          4.62,
          4.62,
          4.62,
          4.62,
          4.62,
          4.62,
          4.62,
          4.62
         ]
        },
        {
         "marker": {
          "color": "rgba(55, 128, 191, 0.6)",
          "line": {
           "color": "rgba(55, 128, 191, 1.0)",
           "width": 1
          }
         },
         "name": "Water",
         "orientation": "v",
         "text": "",
         "type": "bar",
         "uid": "9c33152c-db0d-418b-ab96-a9ad6dd31dc8",
         "x": [
          2015,
          2016,
          2017,
          2018,
          2019,
          2020,
          2021,
          2022,
          2023,
          2024,
          2025,
          2026,
          2027,
          2028,
          2029,
          2030,
          2031,
          2032,
          2033,
          2034,
          2035,
          2036,
          2037,
          2038,
          2039,
          2040
         ],
         "y": [
          1.62,
          1.62,
          1.62,
          1.62,
          1.62,
          1.62,
          1.62,
          1.62,
          1.62,
          1.62,
          1.62,
          1.62,
          1.62,
          1.62,
          1.62,
          1.62,
          1.62,
          1.62,
          1.62,
          1.62,
          1.62,
          1.62,
          1.62,
          1.62,
          1.62,
          1.62
         ]
        },
        {
         "marker": {
          "color": "rgba(165, 42, 42, 0.6)",
          "line": {
           "color": "rgba(165, 42, 42, 1.0)",
           "width": 1
          }
         },
         "name": "Agriculture",
         "orientation": "v",
         "text": "",
         "type": "bar",
         "uid": "4950a9bb-fb78-4c7c-9d0e-56a13037d48e",
         "x": [
          2015,
          2016,
          2017,
          2018,
          2019,
          2020,
          2021,
          2022,
          2023,
          2024,
          2025,
          2026,
          2027,
          2028,
          2029,
          2030,
          2031,
          2032,
          2033,
          2034,
          2035,
          2036,
          2037,
          2038,
          2039,
          2040
         ],
         "y": [
          40.18000034,
          40.66419971,
          41.12871629,
          41.580332459999994,
          42.0394675,
          42.48607687999999,
          42.92375663,
          43.31136952,
          43.6844224,
          44.05314865,
          44.42530434,
          44.755675499999995,
          45.00361007,
          45.28983353000001,
          45.52742821999999,
          45.96042957,
          46.16816824,
          46.34796025,
          46.44622991999999,
          46.55345256,
          46.68172346,
          46.923157700000004,
          47.022056740000004,
          47.13333547999999,
          47.24789749999999,
          47.480447
         ]
        }
       ],
       "layout": {
        "barmode": "stack",
        "legend": {
         "bgcolor": "#FFFFFF",
         "font": {
          "color": "#4D5663"
         },
         "traceorder": "normal"
        },
        "paper_bgcolor": "#FFFFFF",
        "plot_bgcolor": "#FFFFFF",
        "title": {
         "font": {
          "color": "#4D5663"
         },
         "text": "Area by land cover type (Center region)"
        },
        "xaxis": {
         "gridcolor": "#E1E5ED",
         "showgrid": true,
         "tickfont": {
          "color": "#4D5663"
         },
         "title": {
          "font": {
           "color": "#4D5663"
          },
          "text": "Year"
         },
         "zerolinecolor": "#E1E5ED"
        },
        "yaxis": {
         "gridcolor": "#E1E5ED",
         "showgrid": true,
         "tickfont": {
          "color": "#4D5663"
         },
         "title": {
          "font": {
           "color": "#4D5663"
          },
          "text": "Land area (1000 sq.km.)"
         },
         "zerolinecolor": "#E1E5ED"
        }
       }
      },
      "text/html": [
       "<div id=\"84397a39-51a1-4e0a-a1d1-cbbbd967a24d\" style=\"height: 525px; width: 100%;\" class=\"plotly-graph-div\"></div><script type=\"text/javascript\">require([\"plotly\"], function(Plotly) { window.PLOTLYENV=window.PLOTLYENV || {};window.PLOTLYENV.BASE_URL=\"https://plot.ly\";\n",
       "if (document.getElementById(\"84397a39-51a1-4e0a-a1d1-cbbbd967a24d\")) {\n",
       "    Plotly.newPlot(\"84397a39-51a1-4e0a-a1d1-cbbbd967a24d\", [{\"marker\": {\"color\": \"rgba(34, 139, 34, 0.6)\", \"line\": {\"color\": \"rgba(34, 139, 34, 1.0)\", \"width\": 1}}, \"name\": \"Forests\", \"orientation\": \"v\", \"text\": \"\", \"x\": [2015, 2016, 2017, 2018, 2019, 2020, 2021, 2022, 2023, 2024, 2025, 2026, 2027, 2028, 2029, 2030, 2031, 2032, 2033, 2034, 2035, 2036, 2037, 2038, 2039, 2040], \"y\": [61.45, 60.221, 59.01658, 57.836248, 56.679523, 55.545933, 54.435014, 53.346314, 52.279388, 51.2338, 50.209124, 49.204942, 48.220843, 47.256426, 46.311297, 45.385071, 45.385071, 45.385071, 45.385071, 45.385071, 45.385071, 45.385071, 45.385071, 45.385071, 45.385071, 45.385071], \"type\": \"bar\", \"uid\": \"d6a606e9-c429-4c58-aa5b-4e987ab71fee\"}, {\"marker\": {\"color\": \"rgba(0, 100, 0, 0.6)\", \"line\": {\"color\": \"rgba(0, 100, 0, 1.0)\", \"width\": 1}}, \"name\": \"Grassland & woodland\", \"orientation\": \"v\", \"text\": \"\", \"x\": [2015, 2016, 2017, 2018, 2019, 2020, 2021, 2022, 2023, 2024, 2025, 2026, 2027, 2028, 2029, 2030, 2031, 2032, 2033, 2034, 2035, 2036, 2037, 2038, 2039, 2040], \"y\": [16.24, 16.9848, 17.724704, 18.453419, 19.15101, 19.83799, 20.51123, 21.212317, 21.90619, 22.583051, 23.235571, 23.909384, 24.645547, 25.323741, 26.031275, 26.524499, 26.316761, 26.136969, 26.038699, 25.931476, 25.803205, 25.561771, 25.462872, 25.351593, 25.237031, 25.004482], \"type\": \"bar\", \"uid\": \"208ac963-bef4-4650-815f-4ef50afe3c54\"}, {\"marker\": {\"color\": \"rgba(255, 215, 0, 0.6)\", \"line\": {\"color\": \"rgba(255, 215, 0, 1.0)\", \"width\": 1}}, \"name\": \"Other agricultural land\", \"orientation\": \"v\", \"text\": \"\", \"x\": [2015, 2016, 2017, 2018, 2019, 2020, 2021, 2022, 2023, 2024, 2025, 2026, 2027, 2028, 2029, 2030, 2031, 2032, 2033, 2034, 2035, 2036, 2037, 2038, 2039, 2040], \"y\": [5.68, 5.68, 5.68, 5.68, 5.68, 5.68, 5.68, 5.68, 5.68, 5.68, 5.68, 5.68, 5.68, 5.68, 5.68, 5.68, 5.68, 5.68, 5.68, 5.68, 5.68, 5.68, 5.68, 5.68, 5.68, 5.68], \"type\": \"bar\", \"uid\": \"82b1631c-f1e9-4769-b0a3-396ade554692\"}, {\"marker\": {\"color\": \"rgba(0, 0, 0, 0.6)\", \"line\": {\"color\": \"rgba(0, 0, 0, 1.0)\", \"width\": 1}}, \"name\": \"Built-up land\", \"orientation\": \"v\", \"text\": \"\", \"x\": [2015, 2016, 2017, 2018, 2019, 2020, 2021, 2022, 2023, 2024, 2025, 2026, 2027, 2028, 2029, 2030, 2031, 2032, 2033, 2034, 2035, 2036, 2037, 2038, 2039, 2040], \"y\": [4.62, 4.62, 4.62, 4.62, 4.62, 4.62, 4.62, 4.62, 4.62, 4.62, 4.62, 4.62, 4.62, 4.62, 4.62, 4.62, 4.62, 4.62, 4.62, 4.62, 4.62, 4.62, 4.62, 4.62, 4.62, 4.62], \"type\": \"bar\", \"uid\": \"63a4a734-8a80-47ad-83a8-1c894589b710\"}, {\"marker\": {\"color\": \"rgba(55, 128, 191, 0.6)\", \"line\": {\"color\": \"rgba(55, 128, 191, 1.0)\", \"width\": 1}}, \"name\": \"Water\", \"orientation\": \"v\", \"text\": \"\", \"x\": [2015, 2016, 2017, 2018, 2019, 2020, 2021, 2022, 2023, 2024, 2025, 2026, 2027, 2028, 2029, 2030, 2031, 2032, 2033, 2034, 2035, 2036, 2037, 2038, 2039, 2040], \"y\": [1.62, 1.62, 1.62, 1.62, 1.62, 1.62, 1.62, 1.62, 1.62, 1.62, 1.62, 1.62, 1.62, 1.62, 1.62, 1.62, 1.62, 1.62, 1.62, 1.62, 1.62, 1.62, 1.62, 1.62, 1.62, 1.62], \"type\": \"bar\", \"uid\": \"ddc61d4e-4ccd-4aa9-b45c-833fae81eb17\"}, {\"marker\": {\"color\": \"rgba(165, 42, 42, 0.6)\", \"line\": {\"color\": \"rgba(165, 42, 42, 1.0)\", \"width\": 1}}, \"name\": \"Agriculture\", \"orientation\": \"v\", \"text\": \"\", \"x\": [2015, 2016, 2017, 2018, 2019, 2020, 2021, 2022, 2023, 2024, 2025, 2026, 2027, 2028, 2029, 2030, 2031, 2032, 2033, 2034, 2035, 2036, 2037, 2038, 2039, 2040], \"y\": [40.18000034, 40.66419971, 41.12871629, 41.580332459999994, 42.0394675, 42.48607687999999, 42.92375663, 43.31136952, 43.6844224, 44.05314865, 44.42530434, 44.755675499999995, 45.00361007, 45.28983353000001, 45.52742821999999, 45.96042957, 46.16816824, 46.34796025, 46.44622991999999, 46.55345256, 46.68172346, 46.923157700000004, 47.022056740000004, 47.13333547999999, 47.24789749999999, 47.480447], \"type\": \"bar\", \"uid\": \"dcff6b95-3eb9-4a2d-bf77-385e1c05a6a1\"}], {\"barmode\": \"stack\", \"legend\": {\"bgcolor\": \"#FFFFFF\", \"font\": {\"color\": \"#4D5663\"}, \"traceorder\": \"normal\"}, \"paper_bgcolor\": \"#FFFFFF\", \"plot_bgcolor\": \"#FFFFFF\", \"title\": {\"text\": \"Area by land cover type (Center region)\", \"font\": {\"color\": \"#4D5663\"}}, \"xaxis\": {\"gridcolor\": \"#E1E5ED\", \"showgrid\": true, \"tickfont\": {\"color\": \"#4D5663\"}, \"title\": {\"text\": \"Year\", \"font\": {\"color\": \"#4D5663\"}}, \"zerolinecolor\": \"#E1E5ED\"}, \"yaxis\": {\"gridcolor\": \"#E1E5ED\", \"showgrid\": true, \"tickfont\": {\"color\": \"#4D5663\"}, \"title\": {\"text\": \"Land area (1000 sq.km.)\", \"font\": {\"color\": \"#4D5663\"}}, \"zerolinecolor\": \"#E1E5ED\"}}, {\"showLink\": true, \"linkText\": \"Export to plot.ly\", \"plotlyServerURL\": \"https://plot.ly\"}); \n",
       "}\n",
       "});</script><script type=\"text/javascript\">window.addEventListener(\"resize\", function(){if (document.getElementById(\"84397a39-51a1-4e0a-a1d1-cbbbd967a24d\")) {window._Plotly.Plots.resize(document.getElementById(\"84397a39-51a1-4e0a-a1d1-cbbbd967a24d\"));};})</script>"
      ],
      "text/vnd.plotly.v1+html": [
       "<div id=\"84397a39-51a1-4e0a-a1d1-cbbbd967a24d\" style=\"height: 525px; width: 100%;\" class=\"plotly-graph-div\"></div><script type=\"text/javascript\">require([\"plotly\"], function(Plotly) { window.PLOTLYENV=window.PLOTLYENV || {};window.PLOTLYENV.BASE_URL=\"https://plot.ly\";\n",
       "if (document.getElementById(\"84397a39-51a1-4e0a-a1d1-cbbbd967a24d\")) {\n",
       "    Plotly.newPlot(\"84397a39-51a1-4e0a-a1d1-cbbbd967a24d\", [{\"marker\": {\"color\": \"rgba(34, 139, 34, 0.6)\", \"line\": {\"color\": \"rgba(34, 139, 34, 1.0)\", \"width\": 1}}, \"name\": \"Forests\", \"orientation\": \"v\", \"text\": \"\", \"x\": [2015, 2016, 2017, 2018, 2019, 2020, 2021, 2022, 2023, 2024, 2025, 2026, 2027, 2028, 2029, 2030, 2031, 2032, 2033, 2034, 2035, 2036, 2037, 2038, 2039, 2040], \"y\": [61.45, 60.221, 59.01658, 57.836248, 56.679523, 55.545933, 54.435014, 53.346314, 52.279388, 51.2338, 50.209124, 49.204942, 48.220843, 47.256426, 46.311297, 45.385071, 45.385071, 45.385071, 45.385071, 45.385071, 45.385071, 45.385071, 45.385071, 45.385071, 45.385071, 45.385071], \"type\": \"bar\", \"uid\": \"d6a606e9-c429-4c58-aa5b-4e987ab71fee\"}, {\"marker\": {\"color\": \"rgba(0, 100, 0, 0.6)\", \"line\": {\"color\": \"rgba(0, 100, 0, 1.0)\", \"width\": 1}}, \"name\": \"Grassland & woodland\", \"orientation\": \"v\", \"text\": \"\", \"x\": [2015, 2016, 2017, 2018, 2019, 2020, 2021, 2022, 2023, 2024, 2025, 2026, 2027, 2028, 2029, 2030, 2031, 2032, 2033, 2034, 2035, 2036, 2037, 2038, 2039, 2040], \"y\": [16.24, 16.9848, 17.724704, 18.453419, 19.15101, 19.83799, 20.51123, 21.212317, 21.90619, 22.583051, 23.235571, 23.909384, 24.645547, 25.323741, 26.031275, 26.524499, 26.316761, 26.136969, 26.038699, 25.931476, 25.803205, 25.561771, 25.462872, 25.351593, 25.237031, 25.004482], \"type\": \"bar\", \"uid\": \"208ac963-bef4-4650-815f-4ef50afe3c54\"}, {\"marker\": {\"color\": \"rgba(255, 215, 0, 0.6)\", \"line\": {\"color\": \"rgba(255, 215, 0, 1.0)\", \"width\": 1}}, \"name\": \"Other agricultural land\", \"orientation\": \"v\", \"text\": \"\", \"x\": [2015, 2016, 2017, 2018, 2019, 2020, 2021, 2022, 2023, 2024, 2025, 2026, 2027, 2028, 2029, 2030, 2031, 2032, 2033, 2034, 2035, 2036, 2037, 2038, 2039, 2040], \"y\": [5.68, 5.68, 5.68, 5.68, 5.68, 5.68, 5.68, 5.68, 5.68, 5.68, 5.68, 5.68, 5.68, 5.68, 5.68, 5.68, 5.68, 5.68, 5.68, 5.68, 5.68, 5.68, 5.68, 5.68, 5.68, 5.68], \"type\": \"bar\", \"uid\": \"82b1631c-f1e9-4769-b0a3-396ade554692\"}, {\"marker\": {\"color\": \"rgba(0, 0, 0, 0.6)\", \"line\": {\"color\": \"rgba(0, 0, 0, 1.0)\", \"width\": 1}}, \"name\": \"Built-up land\", \"orientation\": \"v\", \"text\": \"\", \"x\": [2015, 2016, 2017, 2018, 2019, 2020, 2021, 2022, 2023, 2024, 2025, 2026, 2027, 2028, 2029, 2030, 2031, 2032, 2033, 2034, 2035, 2036, 2037, 2038, 2039, 2040], \"y\": [4.62, 4.62, 4.62, 4.62, 4.62, 4.62, 4.62, 4.62, 4.62, 4.62, 4.62, 4.62, 4.62, 4.62, 4.62, 4.62, 4.62, 4.62, 4.62, 4.62, 4.62, 4.62, 4.62, 4.62, 4.62, 4.62], \"type\": \"bar\", \"uid\": \"63a4a734-8a80-47ad-83a8-1c894589b710\"}, {\"marker\": {\"color\": \"rgba(55, 128, 191, 0.6)\", \"line\": {\"color\": \"rgba(55, 128, 191, 1.0)\", \"width\": 1}}, \"name\": \"Water\", \"orientation\": \"v\", \"text\": \"\", \"x\": [2015, 2016, 2017, 2018, 2019, 2020, 2021, 2022, 2023, 2024, 2025, 2026, 2027, 2028, 2029, 2030, 2031, 2032, 2033, 2034, 2035, 2036, 2037, 2038, 2039, 2040], \"y\": [1.62, 1.62, 1.62, 1.62, 1.62, 1.62, 1.62, 1.62, 1.62, 1.62, 1.62, 1.62, 1.62, 1.62, 1.62, 1.62, 1.62, 1.62, 1.62, 1.62, 1.62, 1.62, 1.62, 1.62, 1.62, 1.62], \"type\": \"bar\", \"uid\": \"ddc61d4e-4ccd-4aa9-b45c-833fae81eb17\"}, {\"marker\": {\"color\": \"rgba(165, 42, 42, 0.6)\", \"line\": {\"color\": \"rgba(165, 42, 42, 1.0)\", \"width\": 1}}, \"name\": \"Agriculture\", \"orientation\": \"v\", \"text\": \"\", \"x\": [2015, 2016, 2017, 2018, 2019, 2020, 2021, 2022, 2023, 2024, 2025, 2026, 2027, 2028, 2029, 2030, 2031, 2032, 2033, 2034, 2035, 2036, 2037, 2038, 2039, 2040], \"y\": [40.18000034, 40.66419971, 41.12871629, 41.580332459999994, 42.0394675, 42.48607687999999, 42.92375663, 43.31136952, 43.6844224, 44.05314865, 44.42530434, 44.755675499999995, 45.00361007, 45.28983353000001, 45.52742821999999, 45.96042957, 46.16816824, 46.34796025, 46.44622991999999, 46.55345256, 46.68172346, 46.923157700000004, 47.022056740000004, 47.13333547999999, 47.24789749999999, 47.480447], \"type\": \"bar\", \"uid\": \"dcff6b95-3eb9-4a2d-bf77-385e1c05a6a1\"}], {\"barmode\": \"stack\", \"legend\": {\"bgcolor\": \"#FFFFFF\", \"font\": {\"color\": \"#4D5663\"}, \"traceorder\": \"normal\"}, \"paper_bgcolor\": \"#FFFFFF\", \"plot_bgcolor\": \"#FFFFFF\", \"title\": {\"text\": \"Area by land cover type (Center region)\", \"font\": {\"color\": \"#4D5663\"}}, \"xaxis\": {\"gridcolor\": \"#E1E5ED\", \"showgrid\": true, \"tickfont\": {\"color\": \"#4D5663\"}, \"title\": {\"text\": \"Year\", \"font\": {\"color\": \"#4D5663\"}}, \"zerolinecolor\": \"#E1E5ED\"}, \"yaxis\": {\"gridcolor\": \"#E1E5ED\", \"showgrid\": true, \"tickfont\": {\"color\": \"#4D5663\"}, \"title\": {\"text\": \"Land area (1000 sq.km.)\", \"font\": {\"color\": \"#4D5663\"}}, \"zerolinecolor\": \"#E1E5ED\"}}, {\"showLink\": true, \"linkText\": \"Export to plot.ly\", \"plotlyServerURL\": \"https://plot.ly\"}); \n",
       "}\n",
       "});</script><script type=\"text/javascript\">window.addEventListener(\"resize\", function(){if (document.getElementById(\"84397a39-51a1-4e0a-a1d1-cbbbd967a24d\")) {window._Plotly.Plots.resize(document.getElementById(\"84397a39-51a1-4e0a-a1d1-cbbbd967a24d\"));};})</script>"
      ]
     },
     "metadata": {},
     "output_type": "display_data"
    },
    {
     "data": {
      "application/vnd.plotly.v1+json": {
       "config": {
        "linkText": "Export to plot.ly",
        "plotlyServerURL": "https://plot.ly",
        "showLink": true
       },
       "data": [
        {
         "marker": {
          "color": "rgba(34, 139, 34, 0.6)",
          "line": {
           "color": "rgba(34, 139, 34, 1.0)",
           "width": 1
          }
         },
         "name": "Forests",
         "orientation": "v",
         "text": "",
         "type": "bar",
         "uid": "05ab76f4-c7ae-4674-adf7-95ee3144a03c",
         "x": [
          2015,
          2016,
          2017,
          2018,
          2019,
          2020,
          2021,
          2022,
          2023,
          2024,
          2025,
          2026,
          2027,
          2028,
          2029,
          2030,
          2031,
          2032,
          2033,
          2034,
          2035,
          2036,
          2037,
          2038,
          2039,
          2040
         ],
         "y": [
          36.92,
          36.1816,
          35.457968,
          34.748809,
          34.053832,
          33.372756,
          32.705301,
          32.051195,
          31.410171,
          30.781967,
          30.166328,
          29.563001,
          28.971741,
          28.392307,
          27.82446,
          27.267971,
          27.267971,
          27.267971,
          27.267971,
          27.267971,
          27.267971,
          27.267971,
          27.267971,
          27.267971,
          27.267971,
          27.267971
         ]
        },
        {
         "marker": {
          "color": "rgba(0, 100, 0, 0.6)",
          "line": {
           "color": "rgba(0, 100, 0, 1.0)",
           "width": 1
          }
         },
         "name": "Grassland & woodland",
         "orientation": "v",
         "text": "",
         "type": "bar",
         "uid": "ab4035dd-3381-4373-961e-2f253cde55ac",
         "x": [
          2015,
          2016,
          2017,
          2018,
          2019,
          2020,
          2021,
          2022,
          2023,
          2024,
          2025,
          2026,
          2027,
          2028,
          2029,
          2030,
          2031,
          2032,
          2033,
          2034,
          2035,
          2036,
          2037,
          2038,
          2039,
          2040
         ],
         "y": [
          48.64279,
          48.949084,
          49.123375,
          49.15009,
          49.15009,
          49.15009,
          49.838871,
          50.44748,
          51.050905,
          51.655287,
          52.247581,
          52.681555,
          52.947643,
          53.212642,
          53.447225,
          53.970165,
          54.212511,
          54.462656,
          54.671606,
          54.861821,
          55.069209,
          55.240533,
          55.386396,
          55.519127,
          55.690358,
          55.852122
         ]
        },
        {
         "marker": {
          "color": "rgba(255, 215, 0, 0.6)",
          "line": {
           "color": "rgba(255, 215, 0, 1.0)",
           "width": 1
          }
         },
         "name": "Other agricultural land",
         "orientation": "v",
         "text": "",
         "type": "bar",
         "uid": "ef406deb-c592-42d3-9907-2d6ee4fa7e88",
         "x": [
          2015,
          2016,
          2017,
          2018,
          2019,
          2020,
          2021,
          2022,
          2023,
          2024,
          2025,
          2026,
          2027,
          2028,
          2029,
          2030,
          2031,
          2032,
          2033,
          2034,
          2035,
          2036,
          2037,
          2038,
          2039,
          2040
         ],
         "y": [
          8.69,
          8.69,
          8.69,
          8.69,
          8.69,
          8.69,
          8.69,
          8.69,
          8.69,
          8.69,
          8.69,
          8.69,
          8.69,
          8.69,
          8.69,
          8.69,
          8.69,
          8.69,
          8.69,
          8.69,
          8.69,
          8.69,
          8.69,
          8.69,
          8.69,
          8.69
         ]
        },
        {
         "marker": {
          "color": "rgba(0, 0, 0, 0.6)",
          "line": {
           "color": "rgba(0, 0, 0, 1.0)",
           "width": 1
          }
         },
         "name": "Built-up land",
         "orientation": "v",
         "text": "",
         "type": "bar",
         "uid": "65601c45-ce8b-432f-9cc1-f180950938c7",
         "x": [
          2015,
          2016,
          2017,
          2018,
          2019,
          2020,
          2021,
          2022,
          2023,
          2024,
          2025,
          2026,
          2027,
          2028,
          2029,
          2030,
          2031,
          2032,
          2033,
          2034,
          2035,
          2036,
          2037,
          2038,
          2039,
          2040
         ],
         "y": [
          5.96,
          5.96,
          5.96,
          5.96,
          5.96,
          5.96,
          5.96,
          5.96,
          5.96,
          5.96,
          5.96,
          5.96,
          5.96,
          5.96,
          5.96,
          5.96,
          5.96,
          5.96,
          5.96,
          5.96,
          5.96,
          5.96,
          5.96,
          5.96,
          5.96,
          5.96
         ]
        },
        {
         "marker": {
          "color": "rgba(55, 128, 191, 0.6)",
          "line": {
           "color": "rgba(55, 128, 191, 1.0)",
           "width": 1
          }
         },
         "name": "Water",
         "orientation": "v",
         "text": "",
         "type": "bar",
         "uid": "6589bbdd-ee5c-4ea8-8bc5-cadf6409693f",
         "x": [
          2015,
          2016,
          2017,
          2018,
          2019,
          2020,
          2021,
          2022,
          2023,
          2024,
          2025,
          2026,
          2027,
          2028,
          2029,
          2030,
          2031,
          2032,
          2033,
          2034,
          2035,
          2036,
          2037,
          2038,
          2039,
          2040
         ],
         "y": [
          0.58,
          0.58,
          0.58,
          0.58,
          0.58,
          0.58,
          0.58,
          0.58,
          0.58,
          0.58,
          0.58,
          0.58,
          0.58,
          0.58,
          0.58,
          0.58,
          0.58,
          0.58,
          0.58,
          0.58,
          0.58,
          0.58,
          0.58,
          0.58,
          0.58,
          0.58
         ]
        },
        {
         "marker": {
          "color": "rgba(165, 42, 42, 0.6)",
          "line": {
           "color": "rgba(165, 42, 42, 1.0)",
           "width": 1
          }
         },
         "name": "Agriculture",
         "orientation": "v",
         "text": "",
         "type": "bar",
         "uid": "81701961-e256-4236-9db8-b2b119836c93",
         "x": [
          2015,
          2016,
          2017,
          2018,
          2019,
          2020,
          2021,
          2022,
          2023,
          2024,
          2025,
          2026,
          2027,
          2028,
          2029,
          2030,
          2031,
          2032,
          2033,
          2034,
          2035,
          2036,
          2037,
          2038,
          2039,
          2040
         ],
         "y": [
          17.7272099,
          18.159316299999997,
          18.7086571,
          19.39110114,
          20.08607732,
          20.767154020000003,
          20.74582875,
          20.79132503,
          20.8289246,
          20.85274601,
          20.87609085,
          21.04544379,
          21.370615649999998,
          21.68505145,
          22.01831505,
          22.051863409999996,
          21.80951722,
          21.5593729,
          21.350422599999998,
          21.1602078,
          20.952819400000003,
          20.781495500000002,
          20.63563276811,
          20.502902000000002,
          20.331670600000002,
          20.169906500000003
         ]
        }
       ],
       "layout": {
        "barmode": "stack",
        "legend": {
         "bgcolor": "#FFFFFF",
         "font": {
          "color": "#4D5663"
         },
         "traceorder": "normal"
        },
        "paper_bgcolor": "#FFFFFF",
        "plot_bgcolor": "#FFFFFF",
        "title": {
         "font": {
          "color": "#4D5663"
         },
         "text": "Area by land cover type (North region)"
        },
        "xaxis": {
         "gridcolor": "#E1E5ED",
         "showgrid": true,
         "tickfont": {
          "color": "#4D5663"
         },
         "title": {
          "font": {
           "color": "#4D5663"
          },
          "text": "Year"
         },
         "zerolinecolor": "#E1E5ED"
        },
        "yaxis": {
         "gridcolor": "#E1E5ED",
         "showgrid": true,
         "tickfont": {
          "color": "#4D5663"
         },
         "title": {
          "font": {
           "color": "#4D5663"
          },
          "text": "Land area (1000 sq.km.)"
         },
         "zerolinecolor": "#E1E5ED"
        }
       }
      },
      "text/html": [
       "<div id=\"91f5fc0b-4f0a-4e3e-a74c-765489215a17\" style=\"height: 525px; width: 100%;\" class=\"plotly-graph-div\"></div><script type=\"text/javascript\">require([\"plotly\"], function(Plotly) { window.PLOTLYENV=window.PLOTLYENV || {};window.PLOTLYENV.BASE_URL=\"https://plot.ly\";\n",
       "if (document.getElementById(\"91f5fc0b-4f0a-4e3e-a74c-765489215a17\")) {\n",
       "    Plotly.newPlot(\"91f5fc0b-4f0a-4e3e-a74c-765489215a17\", [{\"marker\": {\"color\": \"rgba(34, 139, 34, 0.6)\", \"line\": {\"color\": \"rgba(34, 139, 34, 1.0)\", \"width\": 1}}, \"name\": \"Forests\", \"orientation\": \"v\", \"text\": \"\", \"x\": [2015, 2016, 2017, 2018, 2019, 2020, 2021, 2022, 2023, 2024, 2025, 2026, 2027, 2028, 2029, 2030, 2031, 2032, 2033, 2034, 2035, 2036, 2037, 2038, 2039, 2040], \"y\": [36.92, 36.1816, 35.457968, 34.748809, 34.053832, 33.372756, 32.705301, 32.051195, 31.410171, 30.781967, 30.166328, 29.563001, 28.971741, 28.392307, 27.82446, 27.267971, 27.267971, 27.267971, 27.267971, 27.267971, 27.267971, 27.267971, 27.267971, 27.267971, 27.267971, 27.267971], \"type\": \"bar\", \"uid\": \"68e162c3-a034-4c98-ae0b-c9aab5a3ce14\"}, {\"marker\": {\"color\": \"rgba(0, 100, 0, 0.6)\", \"line\": {\"color\": \"rgba(0, 100, 0, 1.0)\", \"width\": 1}}, \"name\": \"Grassland & woodland\", \"orientation\": \"v\", \"text\": \"\", \"x\": [2015, 2016, 2017, 2018, 2019, 2020, 2021, 2022, 2023, 2024, 2025, 2026, 2027, 2028, 2029, 2030, 2031, 2032, 2033, 2034, 2035, 2036, 2037, 2038, 2039, 2040], \"y\": [48.64279, 48.949084, 49.123375, 49.15009, 49.15009, 49.15009, 49.838871, 50.44748, 51.050905, 51.655287, 52.247581, 52.681555, 52.947643, 53.212642, 53.447225, 53.970165, 54.212511, 54.462656, 54.671606, 54.861821, 55.069209, 55.240533, 55.386396, 55.519127, 55.690358, 55.852122], \"type\": \"bar\", \"uid\": \"be060442-707d-4bb3-bd40-d665c938c7ad\"}, {\"marker\": {\"color\": \"rgba(255, 215, 0, 0.6)\", \"line\": {\"color\": \"rgba(255, 215, 0, 1.0)\", \"width\": 1}}, \"name\": \"Other agricultural land\", \"orientation\": \"v\", \"text\": \"\", \"x\": [2015, 2016, 2017, 2018, 2019, 2020, 2021, 2022, 2023, 2024, 2025, 2026, 2027, 2028, 2029, 2030, 2031, 2032, 2033, 2034, 2035, 2036, 2037, 2038, 2039, 2040], \"y\": [8.69, 8.69, 8.69, 8.69, 8.69, 8.69, 8.69, 8.69, 8.69, 8.69, 8.69, 8.69, 8.69, 8.69, 8.69, 8.69, 8.69, 8.69, 8.69, 8.69, 8.69, 8.69, 8.69, 8.69, 8.69, 8.69], \"type\": \"bar\", \"uid\": \"f7000bd7-b26d-4ab9-a4d6-57ecab9e315a\"}, {\"marker\": {\"color\": \"rgba(0, 0, 0, 0.6)\", \"line\": {\"color\": \"rgba(0, 0, 0, 1.0)\", \"width\": 1}}, \"name\": \"Built-up land\", \"orientation\": \"v\", \"text\": \"\", \"x\": [2015, 2016, 2017, 2018, 2019, 2020, 2021, 2022, 2023, 2024, 2025, 2026, 2027, 2028, 2029, 2030, 2031, 2032, 2033, 2034, 2035, 2036, 2037, 2038, 2039, 2040], \"y\": [5.96, 5.96, 5.96, 5.96, 5.96, 5.96, 5.96, 5.96, 5.96, 5.96, 5.96, 5.96, 5.96, 5.96, 5.96, 5.96, 5.96, 5.96, 5.96, 5.96, 5.96, 5.96, 5.96, 5.96, 5.96, 5.96], \"type\": \"bar\", \"uid\": \"fc021a24-af24-412b-9e94-5ae8f2ab1bb2\"}, {\"marker\": {\"color\": \"rgba(55, 128, 191, 0.6)\", \"line\": {\"color\": \"rgba(55, 128, 191, 1.0)\", \"width\": 1}}, \"name\": \"Water\", \"orientation\": \"v\", \"text\": \"\", \"x\": [2015, 2016, 2017, 2018, 2019, 2020, 2021, 2022, 2023, 2024, 2025, 2026, 2027, 2028, 2029, 2030, 2031, 2032, 2033, 2034, 2035, 2036, 2037, 2038, 2039, 2040], \"y\": [0.58, 0.58, 0.58, 0.58, 0.58, 0.58, 0.58, 0.58, 0.58, 0.58, 0.58, 0.58, 0.58, 0.58, 0.58, 0.58, 0.58, 0.58, 0.58, 0.58, 0.58, 0.58, 0.58, 0.58, 0.58, 0.58], \"type\": \"bar\", \"uid\": \"1e3deba1-8c28-43ce-a9ae-1f4daf20ff75\"}, {\"marker\": {\"color\": \"rgba(165, 42, 42, 0.6)\", \"line\": {\"color\": \"rgba(165, 42, 42, 1.0)\", \"width\": 1}}, \"name\": \"Agriculture\", \"orientation\": \"v\", \"text\": \"\", \"x\": [2015, 2016, 2017, 2018, 2019, 2020, 2021, 2022, 2023, 2024, 2025, 2026, 2027, 2028, 2029, 2030, 2031, 2032, 2033, 2034, 2035, 2036, 2037, 2038, 2039, 2040], \"y\": [17.7272099, 18.159316299999997, 18.7086571, 19.39110114, 20.08607732, 20.767154020000003, 20.74582875, 20.79132503, 20.8289246, 20.85274601, 20.87609085, 21.04544379, 21.370615649999998, 21.68505145, 22.01831505, 22.051863409999996, 21.80951722, 21.5593729, 21.350422599999998, 21.1602078, 20.952819400000003, 20.781495500000002, 20.63563276811, 20.502902000000002, 20.331670600000002, 20.169906500000003], \"type\": \"bar\", \"uid\": \"8597cb0f-a057-4f7d-b533-4a5b933fe873\"}], {\"barmode\": \"stack\", \"legend\": {\"bgcolor\": \"#FFFFFF\", \"font\": {\"color\": \"#4D5663\"}, \"traceorder\": \"normal\"}, \"paper_bgcolor\": \"#FFFFFF\", \"plot_bgcolor\": \"#FFFFFF\", \"title\": {\"text\": \"Area by land cover type (North region)\", \"font\": {\"color\": \"#4D5663\"}}, \"xaxis\": {\"gridcolor\": \"#E1E5ED\", \"showgrid\": true, \"tickfont\": {\"color\": \"#4D5663\"}, \"title\": {\"text\": \"Year\", \"font\": {\"color\": \"#4D5663\"}}, \"zerolinecolor\": \"#E1E5ED\"}, \"yaxis\": {\"gridcolor\": \"#E1E5ED\", \"showgrid\": true, \"tickfont\": {\"color\": \"#4D5663\"}, \"title\": {\"text\": \"Land area (1000 sq.km.)\", \"font\": {\"color\": \"#4D5663\"}}, \"zerolinecolor\": \"#E1E5ED\"}}, {\"showLink\": true, \"linkText\": \"Export to plot.ly\", \"plotlyServerURL\": \"https://plot.ly\"}); \n",
       "}\n",
       "});</script><script type=\"text/javascript\">window.addEventListener(\"resize\", function(){if (document.getElementById(\"91f5fc0b-4f0a-4e3e-a74c-765489215a17\")) {window._Plotly.Plots.resize(document.getElementById(\"91f5fc0b-4f0a-4e3e-a74c-765489215a17\"));};})</script>"
      ],
      "text/vnd.plotly.v1+html": [
       "<div id=\"91f5fc0b-4f0a-4e3e-a74c-765489215a17\" style=\"height: 525px; width: 100%;\" class=\"plotly-graph-div\"></div><script type=\"text/javascript\">require([\"plotly\"], function(Plotly) { window.PLOTLYENV=window.PLOTLYENV || {};window.PLOTLYENV.BASE_URL=\"https://plot.ly\";\n",
       "if (document.getElementById(\"91f5fc0b-4f0a-4e3e-a74c-765489215a17\")) {\n",
       "    Plotly.newPlot(\"91f5fc0b-4f0a-4e3e-a74c-765489215a17\", [{\"marker\": {\"color\": \"rgba(34, 139, 34, 0.6)\", \"line\": {\"color\": \"rgba(34, 139, 34, 1.0)\", \"width\": 1}}, \"name\": \"Forests\", \"orientation\": \"v\", \"text\": \"\", \"x\": [2015, 2016, 2017, 2018, 2019, 2020, 2021, 2022, 2023, 2024, 2025, 2026, 2027, 2028, 2029, 2030, 2031, 2032, 2033, 2034, 2035, 2036, 2037, 2038, 2039, 2040], \"y\": [36.92, 36.1816, 35.457968, 34.748809, 34.053832, 33.372756, 32.705301, 32.051195, 31.410171, 30.781967, 30.166328, 29.563001, 28.971741, 28.392307, 27.82446, 27.267971, 27.267971, 27.267971, 27.267971, 27.267971, 27.267971, 27.267971, 27.267971, 27.267971, 27.267971, 27.267971], \"type\": \"bar\", \"uid\": \"68e162c3-a034-4c98-ae0b-c9aab5a3ce14\"}, {\"marker\": {\"color\": \"rgba(0, 100, 0, 0.6)\", \"line\": {\"color\": \"rgba(0, 100, 0, 1.0)\", \"width\": 1}}, \"name\": \"Grassland & woodland\", \"orientation\": \"v\", \"text\": \"\", \"x\": [2015, 2016, 2017, 2018, 2019, 2020, 2021, 2022, 2023, 2024, 2025, 2026, 2027, 2028, 2029, 2030, 2031, 2032, 2033, 2034, 2035, 2036, 2037, 2038, 2039, 2040], \"y\": [48.64279, 48.949084, 49.123375, 49.15009, 49.15009, 49.15009, 49.838871, 50.44748, 51.050905, 51.655287, 52.247581, 52.681555, 52.947643, 53.212642, 53.447225, 53.970165, 54.212511, 54.462656, 54.671606, 54.861821, 55.069209, 55.240533, 55.386396, 55.519127, 55.690358, 55.852122], \"type\": \"bar\", \"uid\": \"be060442-707d-4bb3-bd40-d665c938c7ad\"}, {\"marker\": {\"color\": \"rgba(255, 215, 0, 0.6)\", \"line\": {\"color\": \"rgba(255, 215, 0, 1.0)\", \"width\": 1}}, \"name\": \"Other agricultural land\", \"orientation\": \"v\", \"text\": \"\", \"x\": [2015, 2016, 2017, 2018, 2019, 2020, 2021, 2022, 2023, 2024, 2025, 2026, 2027, 2028, 2029, 2030, 2031, 2032, 2033, 2034, 2035, 2036, 2037, 2038, 2039, 2040], \"y\": [8.69, 8.69, 8.69, 8.69, 8.69, 8.69, 8.69, 8.69, 8.69, 8.69, 8.69, 8.69, 8.69, 8.69, 8.69, 8.69, 8.69, 8.69, 8.69, 8.69, 8.69, 8.69, 8.69, 8.69, 8.69, 8.69], \"type\": \"bar\", \"uid\": \"f7000bd7-b26d-4ab9-a4d6-57ecab9e315a\"}, {\"marker\": {\"color\": \"rgba(0, 0, 0, 0.6)\", \"line\": {\"color\": \"rgba(0, 0, 0, 1.0)\", \"width\": 1}}, \"name\": \"Built-up land\", \"orientation\": \"v\", \"text\": \"\", \"x\": [2015, 2016, 2017, 2018, 2019, 2020, 2021, 2022, 2023, 2024, 2025, 2026, 2027, 2028, 2029, 2030, 2031, 2032, 2033, 2034, 2035, 2036, 2037, 2038, 2039, 2040], \"y\": [5.96, 5.96, 5.96, 5.96, 5.96, 5.96, 5.96, 5.96, 5.96, 5.96, 5.96, 5.96, 5.96, 5.96, 5.96, 5.96, 5.96, 5.96, 5.96, 5.96, 5.96, 5.96, 5.96, 5.96, 5.96, 5.96], \"type\": \"bar\", \"uid\": \"fc021a24-af24-412b-9e94-5ae8f2ab1bb2\"}, {\"marker\": {\"color\": \"rgba(55, 128, 191, 0.6)\", \"line\": {\"color\": \"rgba(55, 128, 191, 1.0)\", \"width\": 1}}, \"name\": \"Water\", \"orientation\": \"v\", \"text\": \"\", \"x\": [2015, 2016, 2017, 2018, 2019, 2020, 2021, 2022, 2023, 2024, 2025, 2026, 2027, 2028, 2029, 2030, 2031, 2032, 2033, 2034, 2035, 2036, 2037, 2038, 2039, 2040], \"y\": [0.58, 0.58, 0.58, 0.58, 0.58, 0.58, 0.58, 0.58, 0.58, 0.58, 0.58, 0.58, 0.58, 0.58, 0.58, 0.58, 0.58, 0.58, 0.58, 0.58, 0.58, 0.58, 0.58, 0.58, 0.58, 0.58], \"type\": \"bar\", \"uid\": \"1e3deba1-8c28-43ce-a9ae-1f4daf20ff75\"}, {\"marker\": {\"color\": \"rgba(165, 42, 42, 0.6)\", \"line\": {\"color\": \"rgba(165, 42, 42, 1.0)\", \"width\": 1}}, \"name\": \"Agriculture\", \"orientation\": \"v\", \"text\": \"\", \"x\": [2015, 2016, 2017, 2018, 2019, 2020, 2021, 2022, 2023, 2024, 2025, 2026, 2027, 2028, 2029, 2030, 2031, 2032, 2033, 2034, 2035, 2036, 2037, 2038, 2039, 2040], \"y\": [17.7272099, 18.159316299999997, 18.7086571, 19.39110114, 20.08607732, 20.767154020000003, 20.74582875, 20.79132503, 20.8289246, 20.85274601, 20.87609085, 21.04544379, 21.370615649999998, 21.68505145, 22.01831505, 22.051863409999996, 21.80951722, 21.5593729, 21.350422599999998, 21.1602078, 20.952819400000003, 20.781495500000002, 20.63563276811, 20.502902000000002, 20.331670600000002, 20.169906500000003], \"type\": \"bar\", \"uid\": \"8597cb0f-a057-4f7d-b533-4a5b933fe873\"}], {\"barmode\": \"stack\", \"legend\": {\"bgcolor\": \"#FFFFFF\", \"font\": {\"color\": \"#4D5663\"}, \"traceorder\": \"normal\"}, \"paper_bgcolor\": \"#FFFFFF\", \"plot_bgcolor\": \"#FFFFFF\", \"title\": {\"text\": \"Area by land cover type (North region)\", \"font\": {\"color\": \"#4D5663\"}}, \"xaxis\": {\"gridcolor\": \"#E1E5ED\", \"showgrid\": true, \"tickfont\": {\"color\": \"#4D5663\"}, \"title\": {\"text\": \"Year\", \"font\": {\"color\": \"#4D5663\"}}, \"zerolinecolor\": \"#E1E5ED\"}, \"yaxis\": {\"gridcolor\": \"#E1E5ED\", \"showgrid\": true, \"tickfont\": {\"color\": \"#4D5663\"}, \"title\": {\"text\": \"Land area (1000 sq.km.)\", \"font\": {\"color\": \"#4D5663\"}}, \"zerolinecolor\": \"#E1E5ED\"}}, {\"showLink\": true, \"linkText\": \"Export to plot.ly\", \"plotlyServerURL\": \"https://plot.ly\"}); \n",
       "}\n",
       "});</script><script type=\"text/javascript\">window.addEventListener(\"resize\", function(){if (document.getElementById(\"91f5fc0b-4f0a-4e3e-a74c-765489215a17\")) {window._Plotly.Plots.resize(document.getElementById(\"91f5fc0b-4f0a-4e3e-a74c-765489215a17\"));};})</script>"
      ]
     },
     "metadata": {},
     "output_type": "display_data"
    },
    {
     "data": {
      "application/vnd.plotly.v1+json": {
       "config": {
        "linkText": "Export to plot.ly",
        "plotlyServerURL": "https://plot.ly",
        "showLink": true
       },
       "data": [
        {
         "marker": {
          "color": "rgba(128, 128, 128, 0.6)",
          "line": {
           "color": "rgba(128, 128, 128, 1.0)",
           "width": 1
          }
         },
         "name": "Barren land",
         "orientation": "v",
         "text": "",
         "type": "bar",
         "uid": "411cc52a-cfea-45bc-8eba-7393036b7bd8",
         "x": [
          2015,
          2016,
          2017,
          2018,
          2019,
          2020,
          2021,
          2022,
          2023,
          2024,
          2025,
          2026,
          2027,
          2028,
          2029,
          2030,
          2031,
          2032,
          2033,
          2034,
          2035,
          2036,
          2037,
          2038,
          2039,
          2040
         ],
         "y": [
          0.09,
          0.09,
          0.09,
          0.09,
          0.09,
          0.09,
          0.09,
          0.09,
          0.09,
          0.09,
          0.09,
          0.09,
          0.09,
          0.09,
          0.09,
          0.09,
          0.09,
          0.09,
          0.09,
          0.09,
          0.09,
          0.09,
          0.09,
          0.09,
          0.09,
          0.09
         ]
        },
        {
         "marker": {
          "color": "rgba(34, 139, 34, 0.6)",
          "line": {
           "color": "rgba(34, 139, 34, 1.0)",
           "width": 1
          }
         },
         "name": "Forests",
         "orientation": "v",
         "text": "",
         "type": "bar",
         "uid": "7b1dc199-114d-4632-823d-7bc8008f871a",
         "x": [
          2015,
          2016,
          2017,
          2018,
          2019,
          2020,
          2021,
          2022,
          2023,
          2024,
          2025,
          2026,
          2027,
          2028,
          2029,
          2030,
          2031,
          2032,
          2033,
          2034,
          2035,
          2036,
          2037,
          2038,
          2039,
          2040
         ],
         "y": [
          18.89,
          18.5122,
          18.141956,
          17.779117,
          17.423535,
          17.075064,
          16.733563,
          16.398891,
          16.070913,
          15.749495,
          15.434505,
          15.125815,
          14.823299,
          14.526833,
          14.236296,
          13.95157,
          13.95157,
          13.95157,
          13.95157,
          13.95157,
          13.95157,
          13.95157,
          13.95157,
          13.95157,
          13.95157,
          13.95157
         ]
        },
        {
         "marker": {
          "color": "rgba(0, 100, 0, 0.6)",
          "line": {
           "color": "rgba(0, 100, 0, 1.0)",
           "width": 1
          }
         },
         "name": "Grassland & woodland",
         "orientation": "v",
         "text": "",
         "type": "bar",
         "uid": "5de56024-3794-4326-a850-7c02e069c2bc",
         "x": [
          2015,
          2016,
          2017,
          2018,
          2019,
          2020,
          2021,
          2022,
          2023,
          2024,
          2025,
          2026,
          2027,
          2028,
          2029,
          2030,
          2031,
          2032,
          2033,
          2034,
          2035,
          2036,
          2037,
          2038,
          2039,
          2040
         ],
         "y": [
          0,
          0,
          0.10360609,
          0.30567166,
          0.5272773,
          0.69453042,
          0.94541579,
          1.1866654,
          1.3907512,
          1.5458819,
          1.7155675,
          1.975198,
          2.2770646,
          2.6000162,
          2.8995087,
          3.0374335,
          3.0429035,
          3.0304189,
          3.0249187,
          3.0043279,
          2.9897874,
          3.1281635,
          3.1476165,
          3.1514987,
          3.1507733,
          3.2705538
         ]
        },
        {
         "marker": {
          "color": "rgba(255, 215, 0, 0.6)",
          "line": {
           "color": "rgba(255, 215, 0, 1.0)",
           "width": 1
          }
         },
         "name": "Other agricultural land",
         "orientation": "v",
         "text": "",
         "type": "bar",
         "uid": "7c130db6-4218-4923-812f-99a6048cbb7b",
         "x": [
          2015,
          2016,
          2017,
          2018,
          2019,
          2020,
          2021,
          2022,
          2023,
          2024,
          2025,
          2026,
          2027,
          2028,
          2029,
          2030,
          2031,
          2032,
          2033,
          2034,
          2035,
          2036,
          2037,
          2038,
          2039,
          2040
         ],
         "y": [
          11.06,
          11.06,
          11.06,
          11.06,
          11.06,
          11.06,
          11.06,
          11.06,
          11.06,
          11.06,
          11.06,
          11.06,
          11.06,
          11.06,
          11.06,
          11.06,
          11.06,
          11.06,
          11.06,
          11.06,
          11.06,
          11.06,
          11.06,
          11.06,
          11.06,
          11.06
         ]
        },
        {
         "marker": {
          "color": "rgba(0, 0, 0, 0.6)",
          "line": {
           "color": "rgba(0, 0, 0, 1.0)",
           "width": 1
          }
         },
         "name": "Built-up land",
         "orientation": "v",
         "text": "",
         "type": "bar",
         "uid": "46339c4b-9d77-4c35-986f-1b85c5189d03",
         "x": [
          2015,
          2016,
          2017,
          2018,
          2019,
          2020,
          2021,
          2022,
          2023,
          2024,
          2025,
          2026,
          2027,
          2028,
          2029,
          2030,
          2031,
          2032,
          2033,
          2034,
          2035,
          2036,
          2037,
          2038,
          2039,
          2040
         ],
         "y": [
          5.69,
          5.69,
          5.69,
          5.69,
          5.69,
          5.69,
          5.69,
          5.69,
          5.69,
          5.69,
          5.69,
          5.69,
          5.69,
          5.69,
          5.69,
          5.69,
          5.69,
          5.69,
          5.69,
          5.69,
          5.69,
          5.69,
          5.69,
          5.69,
          5.69,
          5.69
         ]
        },
        {
         "marker": {
          "color": "rgba(55, 128, 191, 0.6)",
          "line": {
           "color": "rgba(55, 128, 191, 1.0)",
           "width": 1
          }
         },
         "name": "Water",
         "orientation": "v",
         "text": "",
         "type": "bar",
         "uid": "807bce27-4d47-4b4c-a2b9-c2859c2b98de",
         "x": [
          2015,
          2016,
          2017,
          2018,
          2019,
          2020,
          2021,
          2022,
          2023,
          2024,
          2025,
          2026,
          2027,
          2028,
          2029,
          2030,
          2031,
          2032,
          2033,
          2034,
          2035,
          2036,
          2037,
          2038,
          2039,
          2040
         ],
         "y": [
          1,
          1,
          1,
          1,
          1,
          1,
          1,
          1,
          1,
          1,
          1,
          1,
          1,
          1,
          1,
          1,
          1,
          1,
          1,
          1,
          1,
          1,
          1,
          1,
          1,
          1
         ]
        },
        {
         "marker": {
          "color": "rgba(165, 42, 42, 0.6)",
          "line": {
           "color": "rgba(165, 42, 42, 1.0)",
           "width": 1
          }
         },
         "name": "Agriculture",
         "orientation": "v",
         "text": "",
         "type": "bar",
         "uid": "0ff73b6b-7650-4298-a729-4d94817f9f4d",
         "x": [
          2015,
          2016,
          2017,
          2018,
          2019,
          2020,
          2021,
          2022,
          2023,
          2024,
          2025,
          2026,
          2027,
          2028,
          2029,
          2030,
          2031,
          2032,
          2033,
          2034,
          2035,
          2036,
          2037,
          2038,
          2039,
          2040
         ],
         "y": [
          46.890000310000005,
          47.26780007,
          47.534438290000004,
          47.695211189999995,
          47.82918839,
          48.01040599000001,
          48.10102199,
          48.19444283,
          48.31833477000001,
          48.4846231,
          48.6299273,
          48.67898701,
          48.67963631,
          48.65315071,
          48.64419541,
          48.790996395,
          48.78552581999999,
          48.79801112,
          48.803511019999995,
          48.82410232,
          48.838642060000005,
          48.70026626000001,
          48.68081356,
          48.676930760000005,
          48.67765586,
          48.557875460000005
         ]
        }
       ],
       "layout": {
        "barmode": "stack",
        "legend": {
         "bgcolor": "#FFFFFF",
         "font": {
          "color": "#4D5663"
         },
         "traceorder": "normal"
        },
        "paper_bgcolor": "#FFFFFF",
        "plot_bgcolor": "#FFFFFF",
        "title": {
         "font": {
          "color": "#4D5663"
         },
         "text": "Area by land cover type (South region)"
        },
        "xaxis": {
         "gridcolor": "#E1E5ED",
         "showgrid": true,
         "tickfont": {
          "color": "#4D5663"
         },
         "title": {
          "font": {
           "color": "#4D5663"
          },
          "text": "Year"
         },
         "zerolinecolor": "#E1E5ED"
        },
        "yaxis": {
         "gridcolor": "#E1E5ED",
         "showgrid": true,
         "tickfont": {
          "color": "#4D5663"
         },
         "title": {
          "font": {
           "color": "#4D5663"
          },
          "text": "Land area (1000 sq.km.)"
         },
         "zerolinecolor": "#E1E5ED"
        }
       }
      },
      "text/html": [
       "<div id=\"3e2d1b6d-f282-4064-8a25-cd5ebf0c7b0a\" style=\"height: 525px; width: 100%;\" class=\"plotly-graph-div\"></div><script type=\"text/javascript\">require([\"plotly\"], function(Plotly) { window.PLOTLYENV=window.PLOTLYENV || {};window.PLOTLYENV.BASE_URL=\"https://plot.ly\";\n",
       "if (document.getElementById(\"3e2d1b6d-f282-4064-8a25-cd5ebf0c7b0a\")) {\n",
       "    Plotly.newPlot(\"3e2d1b6d-f282-4064-8a25-cd5ebf0c7b0a\", [{\"marker\": {\"color\": \"rgba(128, 128, 128, 0.6)\", \"line\": {\"color\": \"rgba(128, 128, 128, 1.0)\", \"width\": 1}}, \"name\": \"Barren land\", \"orientation\": \"v\", \"text\": \"\", \"x\": [2015, 2016, 2017, 2018, 2019, 2020, 2021, 2022, 2023, 2024, 2025, 2026, 2027, 2028, 2029, 2030, 2031, 2032, 2033, 2034, 2035, 2036, 2037, 2038, 2039, 2040], \"y\": [0.09, 0.09, 0.09, 0.09, 0.09, 0.09, 0.09, 0.09, 0.09, 0.09, 0.09, 0.09, 0.09, 0.09, 0.09, 0.09, 0.09, 0.09, 0.09, 0.09, 0.09, 0.09, 0.09, 0.09, 0.09, 0.09], \"type\": \"bar\", \"uid\": \"c0f03dbb-26e0-4b6e-8bb2-2f261ae6d505\"}, {\"marker\": {\"color\": \"rgba(34, 139, 34, 0.6)\", \"line\": {\"color\": \"rgba(34, 139, 34, 1.0)\", \"width\": 1}}, \"name\": \"Forests\", \"orientation\": \"v\", \"text\": \"\", \"x\": [2015, 2016, 2017, 2018, 2019, 2020, 2021, 2022, 2023, 2024, 2025, 2026, 2027, 2028, 2029, 2030, 2031, 2032, 2033, 2034, 2035, 2036, 2037, 2038, 2039, 2040], \"y\": [18.89, 18.5122, 18.141956, 17.779117, 17.423535, 17.075064, 16.733563, 16.398891, 16.070913, 15.749495, 15.434505, 15.125815, 14.823299, 14.526833, 14.236296, 13.95157, 13.95157, 13.95157, 13.95157, 13.95157, 13.95157, 13.95157, 13.95157, 13.95157, 13.95157, 13.95157], \"type\": \"bar\", \"uid\": \"38bb4e33-6bf5-4cc6-b1a3-b6daea1ea31e\"}, {\"marker\": {\"color\": \"rgba(0, 100, 0, 0.6)\", \"line\": {\"color\": \"rgba(0, 100, 0, 1.0)\", \"width\": 1}}, \"name\": \"Grassland & woodland\", \"orientation\": \"v\", \"text\": \"\", \"x\": [2015, 2016, 2017, 2018, 2019, 2020, 2021, 2022, 2023, 2024, 2025, 2026, 2027, 2028, 2029, 2030, 2031, 2032, 2033, 2034, 2035, 2036, 2037, 2038, 2039, 2040], \"y\": [0.0, 0.0, 0.10360609, 0.30567166, 0.5272773, 0.69453042, 0.94541579, 1.1866654, 1.3907512, 1.5458819, 1.7155675, 1.975198, 2.2770646, 2.6000162, 2.8995087, 3.0374335, 3.0429035, 3.0304189, 3.0249187, 3.0043279, 2.9897874, 3.1281635, 3.1476165, 3.1514987, 3.1507733, 3.2705538], \"type\": \"bar\", \"uid\": \"e2c70253-6353-4b23-8847-cb18da6df2b6\"}, {\"marker\": {\"color\": \"rgba(255, 215, 0, 0.6)\", \"line\": {\"color\": \"rgba(255, 215, 0, 1.0)\", \"width\": 1}}, \"name\": \"Other agricultural land\", \"orientation\": \"v\", \"text\": \"\", \"x\": [2015, 2016, 2017, 2018, 2019, 2020, 2021, 2022, 2023, 2024, 2025, 2026, 2027, 2028, 2029, 2030, 2031, 2032, 2033, 2034, 2035, 2036, 2037, 2038, 2039, 2040], \"y\": [11.06, 11.06, 11.06, 11.06, 11.06, 11.06, 11.06, 11.06, 11.06, 11.06, 11.06, 11.06, 11.06, 11.06, 11.06, 11.06, 11.06, 11.06, 11.06, 11.06, 11.06, 11.06, 11.06, 11.06, 11.06, 11.06], \"type\": \"bar\", \"uid\": \"d4eb2791-d9d2-422e-861e-5ca723a086e9\"}, {\"marker\": {\"color\": \"rgba(0, 0, 0, 0.6)\", \"line\": {\"color\": \"rgba(0, 0, 0, 1.0)\", \"width\": 1}}, \"name\": \"Built-up land\", \"orientation\": \"v\", \"text\": \"\", \"x\": [2015, 2016, 2017, 2018, 2019, 2020, 2021, 2022, 2023, 2024, 2025, 2026, 2027, 2028, 2029, 2030, 2031, 2032, 2033, 2034, 2035, 2036, 2037, 2038, 2039, 2040], \"y\": [5.69, 5.69, 5.69, 5.69, 5.69, 5.69, 5.69, 5.69, 5.69, 5.69, 5.69, 5.69, 5.69, 5.69, 5.69, 5.69, 5.69, 5.69, 5.69, 5.69, 5.69, 5.69, 5.69, 5.69, 5.69, 5.69], \"type\": \"bar\", \"uid\": \"be5e769a-a479-41e8-b675-b8e24613c84a\"}, {\"marker\": {\"color\": \"rgba(55, 128, 191, 0.6)\", \"line\": {\"color\": \"rgba(55, 128, 191, 1.0)\", \"width\": 1}}, \"name\": \"Water\", \"orientation\": \"v\", \"text\": \"\", \"x\": [2015, 2016, 2017, 2018, 2019, 2020, 2021, 2022, 2023, 2024, 2025, 2026, 2027, 2028, 2029, 2030, 2031, 2032, 2033, 2034, 2035, 2036, 2037, 2038, 2039, 2040], \"y\": [1.0, 1.0, 1.0, 1.0, 1.0, 1.0, 1.0, 1.0, 1.0, 1.0, 1.0, 1.0, 1.0, 1.0, 1.0, 1.0, 1.0, 1.0, 1.0, 1.0, 1.0, 1.0, 1.0, 1.0, 1.0, 1.0], \"type\": \"bar\", \"uid\": \"9c5376b8-5788-4ea7-a162-266fc5c33a38\"}, {\"marker\": {\"color\": \"rgba(165, 42, 42, 0.6)\", \"line\": {\"color\": \"rgba(165, 42, 42, 1.0)\", \"width\": 1}}, \"name\": \"Agriculture\", \"orientation\": \"v\", \"text\": \"\", \"x\": [2015, 2016, 2017, 2018, 2019, 2020, 2021, 2022, 2023, 2024, 2025, 2026, 2027, 2028, 2029, 2030, 2031, 2032, 2033, 2034, 2035, 2036, 2037, 2038, 2039, 2040], \"y\": [46.890000310000005, 47.26780007, 47.534438290000004, 47.695211189999995, 47.82918839, 48.01040599000001, 48.10102199, 48.19444283, 48.31833477000001, 48.4846231, 48.6299273, 48.67898701, 48.67963631, 48.65315071, 48.64419541, 48.790996395, 48.78552581999999, 48.79801112, 48.803511019999995, 48.82410232, 48.838642060000005, 48.70026626000001, 48.68081356, 48.676930760000005, 48.67765586, 48.557875460000005], \"type\": \"bar\", \"uid\": \"44cea649-9bbf-456d-a5f0-8f13ff708d6c\"}], {\"barmode\": \"stack\", \"legend\": {\"bgcolor\": \"#FFFFFF\", \"font\": {\"color\": \"#4D5663\"}, \"traceorder\": \"normal\"}, \"paper_bgcolor\": \"#FFFFFF\", \"plot_bgcolor\": \"#FFFFFF\", \"title\": {\"text\": \"Area by land cover type (South region)\", \"font\": {\"color\": \"#4D5663\"}}, \"xaxis\": {\"gridcolor\": \"#E1E5ED\", \"showgrid\": true, \"tickfont\": {\"color\": \"#4D5663\"}, \"title\": {\"text\": \"Year\", \"font\": {\"color\": \"#4D5663\"}}, \"zerolinecolor\": \"#E1E5ED\"}, \"yaxis\": {\"gridcolor\": \"#E1E5ED\", \"showgrid\": true, \"tickfont\": {\"color\": \"#4D5663\"}, \"title\": {\"text\": \"Land area (1000 sq.km.)\", \"font\": {\"color\": \"#4D5663\"}}, \"zerolinecolor\": \"#E1E5ED\"}}, {\"showLink\": true, \"linkText\": \"Export to plot.ly\", \"plotlyServerURL\": \"https://plot.ly\"}); \n",
       "}\n",
       "});</script><script type=\"text/javascript\">window.addEventListener(\"resize\", function(){if (document.getElementById(\"3e2d1b6d-f282-4064-8a25-cd5ebf0c7b0a\")) {window._Plotly.Plots.resize(document.getElementById(\"3e2d1b6d-f282-4064-8a25-cd5ebf0c7b0a\"));};})</script>"
      ],
      "text/vnd.plotly.v1+html": [
       "<div id=\"3e2d1b6d-f282-4064-8a25-cd5ebf0c7b0a\" style=\"height: 525px; width: 100%;\" class=\"plotly-graph-div\"></div><script type=\"text/javascript\">require([\"plotly\"], function(Plotly) { window.PLOTLYENV=window.PLOTLYENV || {};window.PLOTLYENV.BASE_URL=\"https://plot.ly\";\n",
       "if (document.getElementById(\"3e2d1b6d-f282-4064-8a25-cd5ebf0c7b0a\")) {\n",
       "    Plotly.newPlot(\"3e2d1b6d-f282-4064-8a25-cd5ebf0c7b0a\", [{\"marker\": {\"color\": \"rgba(128, 128, 128, 0.6)\", \"line\": {\"color\": \"rgba(128, 128, 128, 1.0)\", \"width\": 1}}, \"name\": \"Barren land\", \"orientation\": \"v\", \"text\": \"\", \"x\": [2015, 2016, 2017, 2018, 2019, 2020, 2021, 2022, 2023, 2024, 2025, 2026, 2027, 2028, 2029, 2030, 2031, 2032, 2033, 2034, 2035, 2036, 2037, 2038, 2039, 2040], \"y\": [0.09, 0.09, 0.09, 0.09, 0.09, 0.09, 0.09, 0.09, 0.09, 0.09, 0.09, 0.09, 0.09, 0.09, 0.09, 0.09, 0.09, 0.09, 0.09, 0.09, 0.09, 0.09, 0.09, 0.09, 0.09, 0.09], \"type\": \"bar\", \"uid\": \"c0f03dbb-26e0-4b6e-8bb2-2f261ae6d505\"}, {\"marker\": {\"color\": \"rgba(34, 139, 34, 0.6)\", \"line\": {\"color\": \"rgba(34, 139, 34, 1.0)\", \"width\": 1}}, \"name\": \"Forests\", \"orientation\": \"v\", \"text\": \"\", \"x\": [2015, 2016, 2017, 2018, 2019, 2020, 2021, 2022, 2023, 2024, 2025, 2026, 2027, 2028, 2029, 2030, 2031, 2032, 2033, 2034, 2035, 2036, 2037, 2038, 2039, 2040], \"y\": [18.89, 18.5122, 18.141956, 17.779117, 17.423535, 17.075064, 16.733563, 16.398891, 16.070913, 15.749495, 15.434505, 15.125815, 14.823299, 14.526833, 14.236296, 13.95157, 13.95157, 13.95157, 13.95157, 13.95157, 13.95157, 13.95157, 13.95157, 13.95157, 13.95157, 13.95157], \"type\": \"bar\", \"uid\": \"38bb4e33-6bf5-4cc6-b1a3-b6daea1ea31e\"}, {\"marker\": {\"color\": \"rgba(0, 100, 0, 0.6)\", \"line\": {\"color\": \"rgba(0, 100, 0, 1.0)\", \"width\": 1}}, \"name\": \"Grassland & woodland\", \"orientation\": \"v\", \"text\": \"\", \"x\": [2015, 2016, 2017, 2018, 2019, 2020, 2021, 2022, 2023, 2024, 2025, 2026, 2027, 2028, 2029, 2030, 2031, 2032, 2033, 2034, 2035, 2036, 2037, 2038, 2039, 2040], \"y\": [0.0, 0.0, 0.10360609, 0.30567166, 0.5272773, 0.69453042, 0.94541579, 1.1866654, 1.3907512, 1.5458819, 1.7155675, 1.975198, 2.2770646, 2.6000162, 2.8995087, 3.0374335, 3.0429035, 3.0304189, 3.0249187, 3.0043279, 2.9897874, 3.1281635, 3.1476165, 3.1514987, 3.1507733, 3.2705538], \"type\": \"bar\", \"uid\": \"e2c70253-6353-4b23-8847-cb18da6df2b6\"}, {\"marker\": {\"color\": \"rgba(255, 215, 0, 0.6)\", \"line\": {\"color\": \"rgba(255, 215, 0, 1.0)\", \"width\": 1}}, \"name\": \"Other agricultural land\", \"orientation\": \"v\", \"text\": \"\", \"x\": [2015, 2016, 2017, 2018, 2019, 2020, 2021, 2022, 2023, 2024, 2025, 2026, 2027, 2028, 2029, 2030, 2031, 2032, 2033, 2034, 2035, 2036, 2037, 2038, 2039, 2040], \"y\": [11.06, 11.06, 11.06, 11.06, 11.06, 11.06, 11.06, 11.06, 11.06, 11.06, 11.06, 11.06, 11.06, 11.06, 11.06, 11.06, 11.06, 11.06, 11.06, 11.06, 11.06, 11.06, 11.06, 11.06, 11.06, 11.06], \"type\": \"bar\", \"uid\": \"d4eb2791-d9d2-422e-861e-5ca723a086e9\"}, {\"marker\": {\"color\": \"rgba(0, 0, 0, 0.6)\", \"line\": {\"color\": \"rgba(0, 0, 0, 1.0)\", \"width\": 1}}, \"name\": \"Built-up land\", \"orientation\": \"v\", \"text\": \"\", \"x\": [2015, 2016, 2017, 2018, 2019, 2020, 2021, 2022, 2023, 2024, 2025, 2026, 2027, 2028, 2029, 2030, 2031, 2032, 2033, 2034, 2035, 2036, 2037, 2038, 2039, 2040], \"y\": [5.69, 5.69, 5.69, 5.69, 5.69, 5.69, 5.69, 5.69, 5.69, 5.69, 5.69, 5.69, 5.69, 5.69, 5.69, 5.69, 5.69, 5.69, 5.69, 5.69, 5.69, 5.69, 5.69, 5.69, 5.69, 5.69], \"type\": \"bar\", \"uid\": \"be5e769a-a479-41e8-b675-b8e24613c84a\"}, {\"marker\": {\"color\": \"rgba(55, 128, 191, 0.6)\", \"line\": {\"color\": \"rgba(55, 128, 191, 1.0)\", \"width\": 1}}, \"name\": \"Water\", \"orientation\": \"v\", \"text\": \"\", \"x\": [2015, 2016, 2017, 2018, 2019, 2020, 2021, 2022, 2023, 2024, 2025, 2026, 2027, 2028, 2029, 2030, 2031, 2032, 2033, 2034, 2035, 2036, 2037, 2038, 2039, 2040], \"y\": [1.0, 1.0, 1.0, 1.0, 1.0, 1.0, 1.0, 1.0, 1.0, 1.0, 1.0, 1.0, 1.0, 1.0, 1.0, 1.0, 1.0, 1.0, 1.0, 1.0, 1.0, 1.0, 1.0, 1.0, 1.0, 1.0], \"type\": \"bar\", \"uid\": \"9c5376b8-5788-4ea7-a162-266fc5c33a38\"}, {\"marker\": {\"color\": \"rgba(165, 42, 42, 0.6)\", \"line\": {\"color\": \"rgba(165, 42, 42, 1.0)\", \"width\": 1}}, \"name\": \"Agriculture\", \"orientation\": \"v\", \"text\": \"\", \"x\": [2015, 2016, 2017, 2018, 2019, 2020, 2021, 2022, 2023, 2024, 2025, 2026, 2027, 2028, 2029, 2030, 2031, 2032, 2033, 2034, 2035, 2036, 2037, 2038, 2039, 2040], \"y\": [46.890000310000005, 47.26780007, 47.534438290000004, 47.695211189999995, 47.82918839, 48.01040599000001, 48.10102199, 48.19444283, 48.31833477000001, 48.4846231, 48.6299273, 48.67898701, 48.67963631, 48.65315071, 48.64419541, 48.790996395, 48.78552581999999, 48.79801112, 48.803511019999995, 48.82410232, 48.838642060000005, 48.70026626000001, 48.68081356, 48.676930760000005, 48.67765586, 48.557875460000005], \"type\": \"bar\", \"uid\": \"44cea649-9bbf-456d-a5f0-8f13ff708d6c\"}], {\"barmode\": \"stack\", \"legend\": {\"bgcolor\": \"#FFFFFF\", \"font\": {\"color\": \"#4D5663\"}, \"traceorder\": \"normal\"}, \"paper_bgcolor\": \"#FFFFFF\", \"plot_bgcolor\": \"#FFFFFF\", \"title\": {\"text\": \"Area by land cover type (South region)\", \"font\": {\"color\": \"#4D5663\"}}, \"xaxis\": {\"gridcolor\": \"#E1E5ED\", \"showgrid\": true, \"tickfont\": {\"color\": \"#4D5663\"}, \"title\": {\"text\": \"Year\", \"font\": {\"color\": \"#4D5663\"}}, \"zerolinecolor\": \"#E1E5ED\"}, \"yaxis\": {\"gridcolor\": \"#E1E5ED\", \"showgrid\": true, \"tickfont\": {\"color\": \"#4D5663\"}, \"title\": {\"text\": \"Land area (1000 sq.km.)\", \"font\": {\"color\": \"#4D5663\"}}, \"zerolinecolor\": \"#E1E5ED\"}}, {\"showLink\": true, \"linkText\": \"Export to plot.ly\", \"plotlyServerURL\": \"https://plot.ly\"}); \n",
       "}\n",
       "});</script><script type=\"text/javascript\">window.addEventListener(\"resize\", function(){if (document.getElementById(\"3e2d1b6d-f282-4064-8a25-cd5ebf0c7b0a\")) {window._Plotly.Plots.resize(document.getElementById(\"3e2d1b6d-f282-4064-8a25-cd5ebf0c7b0a\"));};})</script>"
      ]
     },
     "metadata": {},
     "output_type": "display_data"
    }
   ],
   "source": [
    "for each in regions.keys():\n",
    "    land_region_df = all_params['TotalTechnologyAnnualActivity'][all_params['TotalTechnologyAnnualActivity'].t.str.startswith('LND')].drop('r', axis=1)\n",
    "    land_region_df = land_region_df[land_region_df.t.str[6:7] == each]\n",
    "    land_region_df = df_filter(land_region_df,3,6,['AGR'])\n",
    "    land_region_df['Agriculture'] = 0\n",
    "    for crop in ['Coffee','Cotton','Peanuts','Maize','Rice','Soybean','Sugarcane','Tea']:\n",
    "        if crop in land_region_df:\n",
    "            land_region_df['Agriculture'] = land_region_df['Agriculture'] + land_region_df[crop]\n",
    "            land_region_df = land_region_df.drop(crop,axis=1)\n",
    "    df_plot(land_region_df,'Land area (1000 sq.km.)','Area by land cover type (' + regions[each] + ' region)')"
   ]
  },
  {
   "cell_type": "code",
   "execution_count": 255,
   "metadata": {},
   "outputs": [
    {
     "data": {
      "application/vnd.plotly.v1+json": {
       "config": {
        "linkText": "Export to plot.ly",
        "plotlyServerURL": "https://plot.ly",
        "showLink": true
       },
       "data": [
        {
         "marker": {
          "color": "rgba(128, 128, 128, 0.6)",
          "line": {
           "color": "rgba(128, 128, 128, 1.0)",
           "width": 1
          }
         },
         "name": "Cotton",
         "orientation": "v",
         "text": "",
         "type": "bar",
         "uid": "c4243556-d18d-4433-8cd3-009ece0f2712",
         "x": [
          2015,
          2016,
          2017,
          2018,
          2019,
          2020,
          2021,
          2022,
          2023,
          2024,
          2025,
          2026,
          2027,
          2028,
          2029,
          2030,
          2031,
          2032,
          2033,
          2034,
          2035,
          2036,
          2037,
          2038,
          2039,
          2040
         ],
         "y": [
          0.01,
          0.01,
          0.01,
          0.01,
          0.01,
          0.01,
          0.01,
          0.005,
          0.005,
          0.005,
          0.005,
          0.005,
          0.005,
          0.005,
          0.005,
          0,
          0,
          0,
          0,
          0,
          0,
          0,
          0,
          0,
          0,
          0
         ]
        },
        {
         "marker": {
          "color": "rgba(255, 153, 51, 0.6)",
          "line": {
           "color": "rgba(255, 153, 51, 1.0)",
           "width": 1
          }
         },
         "name": "Peanuts",
         "orientation": "v",
         "text": "",
         "type": "bar",
         "uid": "aeb928e9-fdac-4f51-ae82-ba9e0917c2b6",
         "x": [
          2015,
          2016,
          2017,
          2018,
          2019,
          2020,
          2021,
          2022,
          2023,
          2024,
          2025,
          2026,
          2027,
          2028,
          2029,
          2030,
          2031,
          2032,
          2033,
          2034,
          2035,
          2036,
          2037,
          2038,
          2039,
          2040
         ],
         "y": [
          1.7986733,
          1.8212897000000001,
          1.8491494,
          1.8877021,
          1.9300227,
          1.974922,
          1.9917584,
          2.0071684999999997,
          2.0391172,
          2.0778865,
          2.0900312999999997,
          2.1097335999999998,
          2.1346548,
          2.1589753,
          2.1738261,
          2.1987772,
          2.2140771999999997,
          2.2286173999999996,
          2.2400219,
          2.2584943999999996,
          2.2687856,
          2.2841307,
          2.2930589,
          2.3005249,
          2.319809,
          2.3314313
         ]
        },
        {
         "marker": {
          "color": "rgba(255, 215, 0, 0.6)",
          "line": {
           "color": "rgba(255, 215, 0, 1.0)",
           "width": 1
          }
         },
         "name": "Maize",
         "orientation": "v",
         "text": "",
         "type": "bar",
         "uid": "09dab655-c668-491a-8320-36b45b28b258",
         "x": [
          2015,
          2016,
          2017,
          2018,
          2019,
          2020,
          2021,
          2022,
          2023,
          2024,
          2025,
          2026,
          2027,
          2028,
          2029,
          2030,
          2031,
          2032,
          2033,
          2034,
          2035,
          2036,
          2037,
          2038,
          2039,
          2040
         ],
         "y": [
          0.27,
          0.26,
          0.25,
          0.24000000000000002,
          0.23,
          0.22,
          0.205,
          0.195,
          0.185,
          0.175,
          0.165,
          0.155,
          0.145,
          0.13,
          0.115,
          0.11,
          0.095,
          0.085,
          0.08,
          0.065,
          0.055,
          0.045,
          0.030000000000000002,
          0.02,
          0.01,
          0
         ]
        },
        {
         "marker": {
          "color": "rgba(0, 128, 0, 0.6)",
          "line": {
           "color": "rgba(0, 128, 0, 1.0)",
           "width": 1
          }
         },
         "name": "Rice",
         "orientation": "v",
         "text": "",
         "type": "bar",
         "uid": "5a305bd0-be9e-4baf-8fa8-f54dbd40c92c",
         "x": [
          2015,
          2016,
          2017,
          2018,
          2019,
          2020,
          2021,
          2022,
          2023,
          2024,
          2025,
          2026,
          2027,
          2028,
          2029,
          2030,
          2031,
          2032,
          2033,
          2034,
          2035,
          2036,
          2037,
          2038,
          2039,
          2040
         ],
         "y": [
          58.3112938,
          59.232849099999996,
          60.166402100000006,
          61.1172153,
          62.0758385,
          63.034049,
          63.496454400000005,
          63.9592361,
          64.41861660000001,
          64.8761104,
          65.3432018,
          65.8280404,
          66.3212592,
          66.81374919999999,
          67.3113891,
          67.8816482,
          68.0065911,
          68.1507036,
          68.3446798,
          68.5485791,
          68.7525273,
          68.9603344,
          69.1707351,
          69.37668120000001,
          69.58168069999999,
          69.7881489
         ]
        },
        {
         "marker": {
          "color": "rgba(128, 0, 128, 0.6)",
          "line": {
           "color": "rgba(128, 0, 128, 1.0)",
           "width": 1
          }
         },
         "name": "Sugarcane",
         "orientation": "v",
         "text": "",
         "type": "bar",
         "uid": "922135ff-7cc0-491e-89c2-7ae3d4c3ab86",
         "x": [
          2015,
          2016,
          2017,
          2018,
          2019,
          2020,
          2021,
          2022,
          2023,
          2024,
          2025,
          2026,
          2027,
          2028,
          2029,
          2030,
          2031,
          2032,
          2033,
          2034,
          2035,
          2036,
          2037,
          2038,
          2039,
          2040
         ],
         "y": [
          16.9537208,
          17.1614105,
          17.3778602,
          17.589966,
          17.8083175,
          18.0173978,
          18.124481799999998,
          18.2240056,
          18.3295165,
          18.4257693,
          18.528549399999996,
          18.642397300000003,
          18.7746428,
          18.8963387,
          19.0296446,
          19.0935913,
          19.100728800000002,
          19.1047123,
          19.126980599999996,
          19.125768900000004,
          19.127483,
          19.1297547,
          19.1412416,
          19.1571423,
          19.1775838,
          19.1971943
         ]
        },
        {
         "marker": {
          "color": "rgba(255, 0, 136, 0.6)",
          "line": {
           "color": "rgba(255, 0, 136, 1.0)",
           "width": 1
          }
         },
         "name": "Tea",
         "orientation": "v",
         "text": "",
         "type": "bar",
         "uid": "3ec79bb2-e661-450c-b0e4-d7628b46705a",
         "x": [
          2015,
          2016,
          2017,
          2018,
          2019,
          2020,
          2021,
          2022,
          2023,
          2024,
          2025,
          2026,
          2027,
          2028,
          2029,
          2030,
          2031,
          2032,
          2033,
          2034,
          2035,
          2036,
          2037,
          2038,
          2039,
          2040
         ],
         "y": [
          8.4176344,
          8.521372,
          8.631621,
          8.7299408,
          8.8461877,
          8.9448267,
          9.0140461,
          9.074153299999999,
          9.116450400000002,
          9.1710363,
          9.2255343,
          9.2678652,
          9.3224841,
          9.380282000000001,
          9.4250209,
          9.4382227,
          9.451873899999999,
          9.4681714,
          9.4794844,
          9.4945692,
          9.507287,
          9.51239,
          9.5307692,
          9.540246100000001,
          9.554286000000001,
          9.563779700000001
         ]
        }
       ],
       "layout": {
        "barmode": "stack",
        "legend": {
         "bgcolor": "#FFFFFF",
         "font": {
          "color": "#4D5663"
         },
         "traceorder": "normal"
        },
        "paper_bgcolor": "#FFFFFF",
        "plot_bgcolor": "#FFFFFF",
        "title": {
         "font": {
          "color": "#4D5663"
         },
         "text": "Area by crop (Irrigated)"
        },
        "xaxis": {
         "gridcolor": "#E1E5ED",
         "showgrid": true,
         "tickfont": {
          "color": "#4D5663"
         },
         "title": {
          "font": {
           "color": "#4D5663"
          },
          "text": "Year"
         },
         "zerolinecolor": "#E1E5ED"
        },
        "yaxis": {
         "gridcolor": "#E1E5ED",
         "showgrid": true,
         "tickfont": {
          "color": "#4D5663"
         },
         "title": {
          "font": {
           "color": "#4D5663"
          },
          "text": "Land area (1000 sq.km.)"
         },
         "zerolinecolor": "#E1E5ED"
        }
       }
      },
      "text/html": [
       "<div id=\"1acb60d7-97e4-4b21-b9ad-33519bf75e59\" style=\"height: 525px; width: 100%;\" class=\"plotly-graph-div\"></div><script type=\"text/javascript\">require([\"plotly\"], function(Plotly) { window.PLOTLYENV=window.PLOTLYENV || {};window.PLOTLYENV.BASE_URL=\"https://plot.ly\";\n",
       "if (document.getElementById(\"1acb60d7-97e4-4b21-b9ad-33519bf75e59\")) {\n",
       "    Plotly.newPlot(\"1acb60d7-97e4-4b21-b9ad-33519bf75e59\", [{\"marker\": {\"color\": \"rgba(128, 128, 128, 0.6)\", \"line\": {\"color\": \"rgba(128, 128, 128, 1.0)\", \"width\": 1}}, \"name\": \"Cotton\", \"orientation\": \"v\", \"text\": \"\", \"x\": [2015, 2016, 2017, 2018, 2019, 2020, 2021, 2022, 2023, 2024, 2025, 2026, 2027, 2028, 2029, 2030, 2031, 2032, 2033, 2034, 2035, 2036, 2037, 2038, 2039, 2040], \"y\": [0.01, 0.01, 0.01, 0.01, 0.01, 0.01, 0.01, 0.005, 0.005, 0.005, 0.005, 0.005, 0.005, 0.005, 0.005, 0.0, 0.0, 0.0, 0.0, 0.0, 0.0, 0.0, 0.0, 0.0, 0.0, 0.0], \"type\": \"bar\", \"uid\": \"e49879c4-9966-4f3e-8c60-bdef8a3d0ff2\"}, {\"marker\": {\"color\": \"rgba(255, 153, 51, 0.6)\", \"line\": {\"color\": \"rgba(255, 153, 51, 1.0)\", \"width\": 1}}, \"name\": \"Peanuts\", \"orientation\": \"v\", \"text\": \"\", \"x\": [2015, 2016, 2017, 2018, 2019, 2020, 2021, 2022, 2023, 2024, 2025, 2026, 2027, 2028, 2029, 2030, 2031, 2032, 2033, 2034, 2035, 2036, 2037, 2038, 2039, 2040], \"y\": [1.7986733, 1.8212897000000001, 1.8491494, 1.8877021, 1.9300227, 1.974922, 1.9917584, 2.0071684999999997, 2.0391172, 2.0778865, 2.0900312999999997, 2.1097335999999998, 2.1346548, 2.1589753, 2.1738261, 2.1987772, 2.2140771999999997, 2.2286173999999996, 2.2400219, 2.2584943999999996, 2.2687856, 2.2841307, 2.2930589, 2.3005249, 2.319809, 2.3314313], \"type\": \"bar\", \"uid\": \"8d1f9c0e-1aaf-4fae-b2b2-e6962fc54852\"}, {\"marker\": {\"color\": \"rgba(255, 215, 0, 0.6)\", \"line\": {\"color\": \"rgba(255, 215, 0, 1.0)\", \"width\": 1}}, \"name\": \"Maize\", \"orientation\": \"v\", \"text\": \"\", \"x\": [2015, 2016, 2017, 2018, 2019, 2020, 2021, 2022, 2023, 2024, 2025, 2026, 2027, 2028, 2029, 2030, 2031, 2032, 2033, 2034, 2035, 2036, 2037, 2038, 2039, 2040], \"y\": [0.27, 0.26, 0.25, 0.24000000000000002, 0.23, 0.22, 0.205, 0.195, 0.185, 0.175, 0.165, 0.155, 0.145, 0.13, 0.115, 0.11, 0.095, 0.085, 0.08, 0.065, 0.055, 0.045, 0.030000000000000002, 0.02, 0.01, 0.0], \"type\": \"bar\", \"uid\": \"15a9c36d-2dd1-4627-9e5a-5c2aab5ebb41\"}, {\"marker\": {\"color\": \"rgba(0, 128, 0, 0.6)\", \"line\": {\"color\": \"rgba(0, 128, 0, 1.0)\", \"width\": 1}}, \"name\": \"Rice\", \"orientation\": \"v\", \"text\": \"\", \"x\": [2015, 2016, 2017, 2018, 2019, 2020, 2021, 2022, 2023, 2024, 2025, 2026, 2027, 2028, 2029, 2030, 2031, 2032, 2033, 2034, 2035, 2036, 2037, 2038, 2039, 2040], \"y\": [58.3112938, 59.232849099999996, 60.166402100000006, 61.1172153, 62.0758385, 63.034049, 63.496454400000005, 63.9592361, 64.41861660000001, 64.8761104, 65.3432018, 65.8280404, 66.3212592, 66.81374919999999, 67.3113891, 67.8816482, 68.0065911, 68.1507036, 68.3446798, 68.5485791, 68.7525273, 68.9603344, 69.1707351, 69.37668120000001, 69.58168069999999, 69.7881489], \"type\": \"bar\", \"uid\": \"829ee5b1-59bc-4bf2-9f2b-7dfaa05a6aa5\"}, {\"marker\": {\"color\": \"rgba(128, 0, 128, 0.6)\", \"line\": {\"color\": \"rgba(128, 0, 128, 1.0)\", \"width\": 1}}, \"name\": \"Sugarcane\", \"orientation\": \"v\", \"text\": \"\", \"x\": [2015, 2016, 2017, 2018, 2019, 2020, 2021, 2022, 2023, 2024, 2025, 2026, 2027, 2028, 2029, 2030, 2031, 2032, 2033, 2034, 2035, 2036, 2037, 2038, 2039, 2040], \"y\": [16.9537208, 17.1614105, 17.3778602, 17.589966, 17.8083175, 18.0173978, 18.124481799999998, 18.2240056, 18.3295165, 18.4257693, 18.528549399999996, 18.642397300000003, 18.7746428, 18.8963387, 19.0296446, 19.0935913, 19.100728800000002, 19.1047123, 19.126980599999996, 19.125768900000004, 19.127483, 19.1297547, 19.1412416, 19.1571423, 19.1775838, 19.1971943], \"type\": \"bar\", \"uid\": \"80dced33-4c1f-4e40-9ea9-42ce1f061781\"}, {\"marker\": {\"color\": \"rgba(255, 0, 136, 0.6)\", \"line\": {\"color\": \"rgba(255, 0, 136, 1.0)\", \"width\": 1}}, \"name\": \"Tea\", \"orientation\": \"v\", \"text\": \"\", \"x\": [2015, 2016, 2017, 2018, 2019, 2020, 2021, 2022, 2023, 2024, 2025, 2026, 2027, 2028, 2029, 2030, 2031, 2032, 2033, 2034, 2035, 2036, 2037, 2038, 2039, 2040], \"y\": [8.4176344, 8.521372, 8.631621, 8.7299408, 8.8461877, 8.9448267, 9.0140461, 9.074153299999999, 9.116450400000002, 9.1710363, 9.2255343, 9.2678652, 9.3224841, 9.380282000000001, 9.4250209, 9.4382227, 9.451873899999999, 9.4681714, 9.4794844, 9.4945692, 9.507287, 9.51239, 9.5307692, 9.540246100000001, 9.554286000000001, 9.563779700000001], \"type\": \"bar\", \"uid\": \"4ac3ccd1-e90b-4ca8-a0ed-2417f8cfb48e\"}], {\"barmode\": \"stack\", \"legend\": {\"bgcolor\": \"#FFFFFF\", \"font\": {\"color\": \"#4D5663\"}, \"traceorder\": \"normal\"}, \"paper_bgcolor\": \"#FFFFFF\", \"plot_bgcolor\": \"#FFFFFF\", \"title\": {\"text\": \"Area by crop (Irrigated)\", \"font\": {\"color\": \"#4D5663\"}}, \"xaxis\": {\"gridcolor\": \"#E1E5ED\", \"showgrid\": true, \"tickfont\": {\"color\": \"#4D5663\"}, \"title\": {\"text\": \"Year\", \"font\": {\"color\": \"#4D5663\"}}, \"zerolinecolor\": \"#E1E5ED\"}, \"yaxis\": {\"gridcolor\": \"#E1E5ED\", \"showgrid\": true, \"tickfont\": {\"color\": \"#4D5663\"}, \"title\": {\"text\": \"Land area (1000 sq.km.)\", \"font\": {\"color\": \"#4D5663\"}}, \"zerolinecolor\": \"#E1E5ED\"}}, {\"showLink\": true, \"linkText\": \"Export to plot.ly\", \"plotlyServerURL\": \"https://plot.ly\"}); \n",
       "}\n",
       "});</script><script type=\"text/javascript\">window.addEventListener(\"resize\", function(){if (document.getElementById(\"1acb60d7-97e4-4b21-b9ad-33519bf75e59\")) {window._Plotly.Plots.resize(document.getElementById(\"1acb60d7-97e4-4b21-b9ad-33519bf75e59\"));};})</script>"
      ],
      "text/vnd.plotly.v1+html": [
       "<div id=\"1acb60d7-97e4-4b21-b9ad-33519bf75e59\" style=\"height: 525px; width: 100%;\" class=\"plotly-graph-div\"></div><script type=\"text/javascript\">require([\"plotly\"], function(Plotly) { window.PLOTLYENV=window.PLOTLYENV || {};window.PLOTLYENV.BASE_URL=\"https://plot.ly\";\n",
       "if (document.getElementById(\"1acb60d7-97e4-4b21-b9ad-33519bf75e59\")) {\n",
       "    Plotly.newPlot(\"1acb60d7-97e4-4b21-b9ad-33519bf75e59\", [{\"marker\": {\"color\": \"rgba(128, 128, 128, 0.6)\", \"line\": {\"color\": \"rgba(128, 128, 128, 1.0)\", \"width\": 1}}, \"name\": \"Cotton\", \"orientation\": \"v\", \"text\": \"\", \"x\": [2015, 2016, 2017, 2018, 2019, 2020, 2021, 2022, 2023, 2024, 2025, 2026, 2027, 2028, 2029, 2030, 2031, 2032, 2033, 2034, 2035, 2036, 2037, 2038, 2039, 2040], \"y\": [0.01, 0.01, 0.01, 0.01, 0.01, 0.01, 0.01, 0.005, 0.005, 0.005, 0.005, 0.005, 0.005, 0.005, 0.005, 0.0, 0.0, 0.0, 0.0, 0.0, 0.0, 0.0, 0.0, 0.0, 0.0, 0.0], \"type\": \"bar\", \"uid\": \"e49879c4-9966-4f3e-8c60-bdef8a3d0ff2\"}, {\"marker\": {\"color\": \"rgba(255, 153, 51, 0.6)\", \"line\": {\"color\": \"rgba(255, 153, 51, 1.0)\", \"width\": 1}}, \"name\": \"Peanuts\", \"orientation\": \"v\", \"text\": \"\", \"x\": [2015, 2016, 2017, 2018, 2019, 2020, 2021, 2022, 2023, 2024, 2025, 2026, 2027, 2028, 2029, 2030, 2031, 2032, 2033, 2034, 2035, 2036, 2037, 2038, 2039, 2040], \"y\": [1.7986733, 1.8212897000000001, 1.8491494, 1.8877021, 1.9300227, 1.974922, 1.9917584, 2.0071684999999997, 2.0391172, 2.0778865, 2.0900312999999997, 2.1097335999999998, 2.1346548, 2.1589753, 2.1738261, 2.1987772, 2.2140771999999997, 2.2286173999999996, 2.2400219, 2.2584943999999996, 2.2687856, 2.2841307, 2.2930589, 2.3005249, 2.319809, 2.3314313], \"type\": \"bar\", \"uid\": \"8d1f9c0e-1aaf-4fae-b2b2-e6962fc54852\"}, {\"marker\": {\"color\": \"rgba(255, 215, 0, 0.6)\", \"line\": {\"color\": \"rgba(255, 215, 0, 1.0)\", \"width\": 1}}, \"name\": \"Maize\", \"orientation\": \"v\", \"text\": \"\", \"x\": [2015, 2016, 2017, 2018, 2019, 2020, 2021, 2022, 2023, 2024, 2025, 2026, 2027, 2028, 2029, 2030, 2031, 2032, 2033, 2034, 2035, 2036, 2037, 2038, 2039, 2040], \"y\": [0.27, 0.26, 0.25, 0.24000000000000002, 0.23, 0.22, 0.205, 0.195, 0.185, 0.175, 0.165, 0.155, 0.145, 0.13, 0.115, 0.11, 0.095, 0.085, 0.08, 0.065, 0.055, 0.045, 0.030000000000000002, 0.02, 0.01, 0.0], \"type\": \"bar\", \"uid\": \"15a9c36d-2dd1-4627-9e5a-5c2aab5ebb41\"}, {\"marker\": {\"color\": \"rgba(0, 128, 0, 0.6)\", \"line\": {\"color\": \"rgba(0, 128, 0, 1.0)\", \"width\": 1}}, \"name\": \"Rice\", \"orientation\": \"v\", \"text\": \"\", \"x\": [2015, 2016, 2017, 2018, 2019, 2020, 2021, 2022, 2023, 2024, 2025, 2026, 2027, 2028, 2029, 2030, 2031, 2032, 2033, 2034, 2035, 2036, 2037, 2038, 2039, 2040], \"y\": [58.3112938, 59.232849099999996, 60.166402100000006, 61.1172153, 62.0758385, 63.034049, 63.496454400000005, 63.9592361, 64.41861660000001, 64.8761104, 65.3432018, 65.8280404, 66.3212592, 66.81374919999999, 67.3113891, 67.8816482, 68.0065911, 68.1507036, 68.3446798, 68.5485791, 68.7525273, 68.9603344, 69.1707351, 69.37668120000001, 69.58168069999999, 69.7881489], \"type\": \"bar\", \"uid\": \"829ee5b1-59bc-4bf2-9f2b-7dfaa05a6aa5\"}, {\"marker\": {\"color\": \"rgba(128, 0, 128, 0.6)\", \"line\": {\"color\": \"rgba(128, 0, 128, 1.0)\", \"width\": 1}}, \"name\": \"Sugarcane\", \"orientation\": \"v\", \"text\": \"\", \"x\": [2015, 2016, 2017, 2018, 2019, 2020, 2021, 2022, 2023, 2024, 2025, 2026, 2027, 2028, 2029, 2030, 2031, 2032, 2033, 2034, 2035, 2036, 2037, 2038, 2039, 2040], \"y\": [16.9537208, 17.1614105, 17.3778602, 17.589966, 17.8083175, 18.0173978, 18.124481799999998, 18.2240056, 18.3295165, 18.4257693, 18.528549399999996, 18.642397300000003, 18.7746428, 18.8963387, 19.0296446, 19.0935913, 19.100728800000002, 19.1047123, 19.126980599999996, 19.125768900000004, 19.127483, 19.1297547, 19.1412416, 19.1571423, 19.1775838, 19.1971943], \"type\": \"bar\", \"uid\": \"80dced33-4c1f-4e40-9ea9-42ce1f061781\"}, {\"marker\": {\"color\": \"rgba(255, 0, 136, 0.6)\", \"line\": {\"color\": \"rgba(255, 0, 136, 1.0)\", \"width\": 1}}, \"name\": \"Tea\", \"orientation\": \"v\", \"text\": \"\", \"x\": [2015, 2016, 2017, 2018, 2019, 2020, 2021, 2022, 2023, 2024, 2025, 2026, 2027, 2028, 2029, 2030, 2031, 2032, 2033, 2034, 2035, 2036, 2037, 2038, 2039, 2040], \"y\": [8.4176344, 8.521372, 8.631621, 8.7299408, 8.8461877, 8.9448267, 9.0140461, 9.074153299999999, 9.116450400000002, 9.1710363, 9.2255343, 9.2678652, 9.3224841, 9.380282000000001, 9.4250209, 9.4382227, 9.451873899999999, 9.4681714, 9.4794844, 9.4945692, 9.507287, 9.51239, 9.5307692, 9.540246100000001, 9.554286000000001, 9.563779700000001], \"type\": \"bar\", \"uid\": \"4ac3ccd1-e90b-4ca8-a0ed-2417f8cfb48e\"}], {\"barmode\": \"stack\", \"legend\": {\"bgcolor\": \"#FFFFFF\", \"font\": {\"color\": \"#4D5663\"}, \"traceorder\": \"normal\"}, \"paper_bgcolor\": \"#FFFFFF\", \"plot_bgcolor\": \"#FFFFFF\", \"title\": {\"text\": \"Area by crop (Irrigated)\", \"font\": {\"color\": \"#4D5663\"}}, \"xaxis\": {\"gridcolor\": \"#E1E5ED\", \"showgrid\": true, \"tickfont\": {\"color\": \"#4D5663\"}, \"title\": {\"text\": \"Year\", \"font\": {\"color\": \"#4D5663\"}}, \"zerolinecolor\": \"#E1E5ED\"}, \"yaxis\": {\"gridcolor\": \"#E1E5ED\", \"showgrid\": true, \"tickfont\": {\"color\": \"#4D5663\"}, \"title\": {\"text\": \"Land area (1000 sq.km.)\", \"font\": {\"color\": \"#4D5663\"}}, \"zerolinecolor\": \"#E1E5ED\"}}, {\"showLink\": true, \"linkText\": \"Export to plot.ly\", \"plotlyServerURL\": \"https://plot.ly\"}); \n",
       "}\n",
       "});</script><script type=\"text/javascript\">window.addEventListener(\"resize\", function(){if (document.getElementById(\"1acb60d7-97e4-4b21-b9ad-33519bf75e59\")) {window._Plotly.Plots.resize(document.getElementById(\"1acb60d7-97e4-4b21-b9ad-33519bf75e59\"));};})</script>"
      ]
     },
     "metadata": {},
     "output_type": "display_data"
    },
    {
     "data": {
      "application/vnd.plotly.v1+json": {
       "config": {
        "linkText": "Export to plot.ly",
        "plotlyServerURL": "https://plot.ly",
        "showLink": true
       },
       "data": [
        {
         "marker": {
          "color": "rgba(165, 42, 42, 0.6)",
          "line": {
           "color": "rgba(165, 42, 42, 1.0)",
           "width": 1
          }
         },
         "name": "Coffee",
         "orientation": "v",
         "text": "",
         "type": "bar",
         "uid": "73043dae-c756-4bf3-815c-d94dbebfe8e5",
         "x": [
          2015,
          2016,
          2017,
          2018,
          2019,
          2020,
          2021,
          2022,
          2023,
          2024,
          2025,
          2026,
          2027,
          2028,
          2029,
          2030,
          2031,
          2032,
          2033,
          2034,
          2035,
          2036,
          2037,
          2038,
          2039,
          2040
         ],
         "y": [
          6.45542101,
          6.5644407,
          6.6533351000000005,
          6.7429417,
          6.8337748000000005,
          6.9246928,
          6.9731504,
          7.0186788,
          7.064555599999999,
          7.109202800000001,
          7.1559071,
          7.190783000000001,
          7.224529500000001,
          7.2501177,
          7.280764799999999,
          7.3061471,
          7.305000000000001,
          7.3035589000000005,
          7.3024118,
          7.298588299999999,
          7.297441200000001,
          7.296,
          7.288920668110001,
          7.293764699999999,
          7.290588199999999,
          7.2823530000000005
         ]
        },
        {
         "marker": {
          "color": "rgba(128, 128, 128, 0.6)",
          "line": {
           "color": "rgba(128, 128, 128, 1.0)",
           "width": 1
          }
         },
         "name": "Cotton",
         "orientation": "v",
         "text": "",
         "type": "bar",
         "uid": "d7486d46-9e04-4f6d-b2ff-82142c1a1cde",
         "x": [
          2015,
          2016,
          2017,
          2018,
          2019,
          2020,
          2021,
          2022,
          2023,
          2024,
          2025,
          2026,
          2027,
          2028,
          2029,
          2030,
          2031,
          2032,
          2033,
          2034,
          2035,
          2036,
          2037,
          2038,
          2039,
          2040
         ],
         "y": [
          0.2634,
          0.30880367000000003,
          0.32987179,
          0.32987179,
          0.32987179,
          0.32987179,
          0.32987179,
          0.33333333000000004,
          0.33179487,
          0.35743590000000003,
          0.35743590000000003,
          0.35525641,
          0.35525641,
          0.35525641,
          0.35525641,
          0.36051282,
          0.36051282,
          0.36051282,
          0.36051282,
          0.36051282,
          0.35897436,
          0.35897436,
          0.35897436,
          0.35897436,
          0.35897436,
          0.35897436
         ]
        },
        {
         "marker": {
          "color": "rgba(255, 153, 51, 0.6)",
          "line": {
           "color": "rgba(255, 153, 51, 1.0)",
           "width": 1
          }
         },
         "name": "Peanuts",
         "orientation": "v",
         "text": "",
         "type": "bar",
         "uid": "69c0b3dd-59ee-445e-8d7b-1e674e8cd1a2",
         "x": [
          2015,
          2016,
          2017,
          2018,
          2019,
          2020,
          2021,
          2022,
          2023,
          2024,
          2025,
          2026,
          2027,
          2028,
          2029,
          2030,
          2031,
          2032,
          2033,
          2034,
          2035,
          2036,
          2037,
          2038,
          2039,
          2040
         ],
         "y": [
          0.39499999999999996,
          0.375,
          0.36,
          0.345,
          0.32499999999999996,
          0.31000000000000005,
          0.29500000000000004,
          0.28500000000000003,
          0.27,
          0.25,
          0.235,
          0.215,
          0.19999999999999998,
          0.185,
          0.175,
          0.16,
          0.14500000000000002,
          0.125,
          0.11,
          0.09,
          0.07500000000000001,
          0.06,
          0.05,
          0.035,
          0.015,
          0
         ]
        },
        {
         "marker": {
          "color": "rgba(255, 215, 0, 0.6)",
          "line": {
           "color": "rgba(255, 215, 0, 1.0)",
           "width": 1
          }
         },
         "name": "Maize",
         "orientation": "v",
         "text": "",
         "type": "bar",
         "uid": "4e9197c8-1767-4100-83f2-ab4f203e4a8c",
         "x": [
          2015,
          2016,
          2017,
          2018,
          2019,
          2020,
          2021,
          2022,
          2023,
          2024,
          2025,
          2026,
          2027,
          2028,
          2029,
          2030,
          2031,
          2032,
          2033,
          2034,
          2035,
          2036,
          2037,
          2038,
          2039,
          2040
         ],
         "y": [
          5.9182349,
          5.9899037,
          6.062009,
          6.1352118,
          6.208164300000001,
          6.2802696,
          6.317252900000001,
          6.3492426,
          6.3867073,
          6.417413399999999,
          6.4625116,
          6.509300400000001,
          6.5390051,
          6.5778562,
          6.6113864,
          6.6408729,
          6.6464698,
          6.6502439,
          6.6518806,
          6.6574775,
          6.6599679,
          6.663035900000001,
          6.664923000000001,
          6.671373599999999,
          6.6778946999999995,
          6.6803594
         ]
        },
        {
         "marker": {
          "color": "rgba(0, 128, 0, 0.6)",
          "line": {
           "color": "rgba(0, 128, 0, 1.0)",
           "width": 1
          }
         },
         "name": "Rice",
         "orientation": "v",
         "text": "",
         "type": "bar",
         "uid": "8ef7c200-cf23-4a9f-9e9d-b7f1f839b021",
         "x": [
          2015,
          2016,
          2017,
          2018,
          2019,
          2020,
          2021,
          2022,
          2023,
          2024,
          2025,
          2026,
          2027,
          2028,
          2029,
          2030,
          2031,
          2032,
          2033,
          2034,
          2035,
          2036,
          2037,
          2038,
          2039,
          2040
         ],
         "y": [
          4.525,
          4.374599999999999,
          4.229108,
          4.08852584,
          3.9428553199999996,
          3.79709822,
          3.6512562500000003,
          3.51033113,
          3.3643245000000004,
          3.2182380100000003,
          3.07207325,
          2.9208317900000003,
          2.77451515,
          2.6331248499999997,
          2.48666235,
          2.33512911,
          2.18852652,
          2.02,
          1.77,
          1.52,
          1.2650000000000001,
          1.01,
          0.7550000000000001,
          0.51,
          0.255,
          0
         ]
        },
        {
         "marker": {
          "color": "rgba(178, 34, 34, 0.6)",
          "line": {
           "color": "rgba(178, 34, 34, 1.0)",
           "width": 1
          }
         },
         "name": "Soybean",
         "orientation": "v",
         "text": "",
         "type": "bar",
         "uid": "dc20ace7-1fea-40fc-b2fa-11e438f4ba93",
         "x": [
          2015,
          2016,
          2017,
          2018,
          2019,
          2020,
          2021,
          2022,
          2023,
          2024,
          2025,
          2026,
          2027,
          2028,
          2029,
          2030,
          2031,
          2032,
          2033,
          2034,
          2035,
          2036,
          2037,
          2038,
          2039,
          2040
         ],
         "y": [
          0.93383234,
          0.94164671,
          0.9524550900000001,
          0.96026946,
          0.9697006,
          0.98050898,
          0.9823353300000001,
          0.98598802,
          0.9905988,
          0.99242515,
          0.99607784,
          1.0008982,
          1.00251497,
          1.0073353299999999,
          1.0109880199999999,
          1.0128143699999999,
          1.01443114,
          1.00882395,
          1.00419162,
          1.00377246,
          1.0057185599999998,
          1.0052994,
          1.0048802399999999,
          1.00446108,
          1.0064072,
          1.005988
         ]
        },
        {
         "marker": {
          "color": "rgba(128, 0, 128, 0.6)",
          "line": {
           "color": "rgba(128, 0, 128, 1.0)",
           "width": 1
          }
         },
         "name": "Sugarcane",
         "orientation": "v",
         "text": "",
         "type": "bar",
         "uid": "f9ba88a1-a4ef-4f2b-88c1-249d214a4e97",
         "x": [
          2015,
          2016,
          2017,
          2018,
          2019,
          2020,
          2021,
          2022,
          2023,
          2024,
          2025,
          2026,
          2027,
          2028,
          2029,
          2030,
          2031,
          2032,
          2033,
          2034,
          2035,
          2036,
          2037,
          2038,
          2039,
          2040
         ],
         "y": [
          0.245,
          0.24,
          0.23,
          0.22000000000000003,
          0.20500000000000002,
          0.2,
          0.19,
          0.18,
          0.165,
          0.16,
          0.15,
          0.14,
          0.125,
          0.12,
          0.10500000000000001,
          0.135,
          0.125,
          0.11,
          0.065,
          0.060000000000000005,
          0.05,
          0.04,
          0.025,
          0.02,
          0.01,
          0
         ]
        },
        {
         "marker": {
          "color": "rgba(255, 0, 136, 0.6)",
          "line": {
           "color": "rgba(255, 0, 136, 1.0)",
           "width": 1
          }
         },
         "name": "Tea",
         "orientation": "v",
         "text": "",
         "type": "bar",
         "uid": "346fc58d-e0c8-45f7-a4c2-05525fd58fa1",
         "x": [
          2015,
          2016,
          2017,
          2018,
          2019,
          2020,
          2021,
          2022,
          2023,
          2024,
          2025,
          2026,
          2027,
          2028,
          2029,
          2030,
          2031,
          2032,
          2033,
          2034,
          2035,
          2036,
          2037,
          2038,
          2039,
          2040
         ],
         "y": [
          0.3,
          0.29,
          0.27,
          0.27,
          0.24,
          0.24,
          0.19,
          0.17,
          0.165,
          0.155,
          0.145,
          0.13999999999999999,
          0.13,
          0.11500000000000002,
          0.10500000000000001,
          0.130573675,
          0.11,
          0.09,
          0.065,
          0.05500000000000001,
          0.05,
          0.039999999999999994,
          0.025,
          0.025,
          0,
          0
         ]
        }
       ],
       "layout": {
        "barmode": "stack",
        "legend": {
         "bgcolor": "#FFFFFF",
         "font": {
          "color": "#4D5663"
         },
         "traceorder": "normal"
        },
        "paper_bgcolor": "#FFFFFF",
        "plot_bgcolor": "#FFFFFF",
        "title": {
         "font": {
          "color": "#4D5663"
         },
         "text": "Area by crop (Rain-fed)"
        },
        "xaxis": {
         "gridcolor": "#E1E5ED",
         "showgrid": true,
         "tickfont": {
          "color": "#4D5663"
         },
         "title": {
          "font": {
           "color": "#4D5663"
          },
          "text": "Year"
         },
         "zerolinecolor": "#E1E5ED"
        },
        "yaxis": {
         "gridcolor": "#E1E5ED",
         "showgrid": true,
         "tickfont": {
          "color": "#4D5663"
         },
         "title": {
          "font": {
           "color": "#4D5663"
          },
          "text": "Land area (1000 sq.km.)"
         },
         "zerolinecolor": "#E1E5ED"
        }
       }
      },
      "text/html": [
       "<div id=\"60e5317e-99c5-4fc6-87a9-127b673acbca\" style=\"height: 525px; width: 100%;\" class=\"plotly-graph-div\"></div><script type=\"text/javascript\">require([\"plotly\"], function(Plotly) { window.PLOTLYENV=window.PLOTLYENV || {};window.PLOTLYENV.BASE_URL=\"https://plot.ly\";\n",
       "if (document.getElementById(\"60e5317e-99c5-4fc6-87a9-127b673acbca\")) {\n",
       "    Plotly.newPlot(\"60e5317e-99c5-4fc6-87a9-127b673acbca\", [{\"marker\": {\"color\": \"rgba(165, 42, 42, 0.6)\", \"line\": {\"color\": \"rgba(165, 42, 42, 1.0)\", \"width\": 1}}, \"name\": \"Coffee\", \"orientation\": \"v\", \"text\": \"\", \"x\": [2015, 2016, 2017, 2018, 2019, 2020, 2021, 2022, 2023, 2024, 2025, 2026, 2027, 2028, 2029, 2030, 2031, 2032, 2033, 2034, 2035, 2036, 2037, 2038, 2039, 2040], \"y\": [6.45542101, 6.5644407, 6.6533351000000005, 6.7429417, 6.8337748000000005, 6.9246928, 6.9731504, 7.0186788, 7.064555599999999, 7.109202800000001, 7.1559071, 7.190783000000001, 7.224529500000001, 7.2501177, 7.280764799999999, 7.3061471, 7.305000000000001, 7.3035589000000005, 7.3024118, 7.298588299999999, 7.297441200000001, 7.296, 7.288920668110001, 7.293764699999999, 7.290588199999999, 7.2823530000000005], \"type\": \"bar\", \"uid\": \"6b8edc85-bb8f-4d4c-b88d-2d10bc6e0f69\"}, {\"marker\": {\"color\": \"rgba(128, 128, 128, 0.6)\", \"line\": {\"color\": \"rgba(128, 128, 128, 1.0)\", \"width\": 1}}, \"name\": \"Cotton\", \"orientation\": \"v\", \"text\": \"\", \"x\": [2015, 2016, 2017, 2018, 2019, 2020, 2021, 2022, 2023, 2024, 2025, 2026, 2027, 2028, 2029, 2030, 2031, 2032, 2033, 2034, 2035, 2036, 2037, 2038, 2039, 2040], \"y\": [0.2634, 0.30880367000000003, 0.32987179, 0.32987179, 0.32987179, 0.32987179, 0.32987179, 0.33333333000000004, 0.33179487, 0.35743590000000003, 0.35743590000000003, 0.35525641, 0.35525641, 0.35525641, 0.35525641, 0.36051282, 0.36051282, 0.36051282, 0.36051282, 0.36051282, 0.35897436, 0.35897436, 0.35897436, 0.35897436, 0.35897436, 0.35897436], \"type\": \"bar\", \"uid\": \"48624e6c-63af-49d0-82cc-f8bc22e7e5bc\"}, {\"marker\": {\"color\": \"rgba(255, 153, 51, 0.6)\", \"line\": {\"color\": \"rgba(255, 153, 51, 1.0)\", \"width\": 1}}, \"name\": \"Peanuts\", \"orientation\": \"v\", \"text\": \"\", \"x\": [2015, 2016, 2017, 2018, 2019, 2020, 2021, 2022, 2023, 2024, 2025, 2026, 2027, 2028, 2029, 2030, 2031, 2032, 2033, 2034, 2035, 2036, 2037, 2038, 2039, 2040], \"y\": [0.39499999999999996, 0.375, 0.36, 0.345, 0.32499999999999996, 0.31000000000000005, 0.29500000000000004, 0.28500000000000003, 0.27, 0.25, 0.235, 0.215, 0.19999999999999998, 0.185, 0.175, 0.16, 0.14500000000000002, 0.125, 0.11, 0.09, 0.07500000000000001, 0.06, 0.05, 0.035, 0.015, 0.0], \"type\": \"bar\", \"uid\": \"0dd14787-bc79-4701-9628-c498faeee95c\"}, {\"marker\": {\"color\": \"rgba(255, 215, 0, 0.6)\", \"line\": {\"color\": \"rgba(255, 215, 0, 1.0)\", \"width\": 1}}, \"name\": \"Maize\", \"orientation\": \"v\", \"text\": \"\", \"x\": [2015, 2016, 2017, 2018, 2019, 2020, 2021, 2022, 2023, 2024, 2025, 2026, 2027, 2028, 2029, 2030, 2031, 2032, 2033, 2034, 2035, 2036, 2037, 2038, 2039, 2040], \"y\": [5.9182349, 5.9899037, 6.062009, 6.1352118, 6.208164300000001, 6.2802696, 6.317252900000001, 6.3492426, 6.3867073, 6.417413399999999, 6.4625116, 6.509300400000001, 6.5390051, 6.5778562, 6.6113864, 6.6408729, 6.6464698, 6.6502439, 6.6518806, 6.6574775, 6.6599679, 6.663035900000001, 6.664923000000001, 6.671373599999999, 6.6778946999999995, 6.6803594], \"type\": \"bar\", \"uid\": \"a907c164-1802-421b-9446-94a84283f4b6\"}, {\"marker\": {\"color\": \"rgba(0, 128, 0, 0.6)\", \"line\": {\"color\": \"rgba(0, 128, 0, 1.0)\", \"width\": 1}}, \"name\": \"Rice\", \"orientation\": \"v\", \"text\": \"\", \"x\": [2015, 2016, 2017, 2018, 2019, 2020, 2021, 2022, 2023, 2024, 2025, 2026, 2027, 2028, 2029, 2030, 2031, 2032, 2033, 2034, 2035, 2036, 2037, 2038, 2039, 2040], \"y\": [4.525, 4.374599999999999, 4.229108, 4.08852584, 3.9428553199999996, 3.79709822, 3.6512562500000003, 3.51033113, 3.3643245000000004, 3.2182380100000003, 3.07207325, 2.9208317900000003, 2.77451515, 2.6331248499999997, 2.48666235, 2.33512911, 2.18852652, 2.02, 1.77, 1.52, 1.2650000000000001, 1.01, 0.7550000000000001, 0.51, 0.255, 0.0], \"type\": \"bar\", \"uid\": \"e4590fab-8126-4971-b0d1-c1dbfbc4d42a\"}, {\"marker\": {\"color\": \"rgba(178, 34, 34, 0.6)\", \"line\": {\"color\": \"rgba(178, 34, 34, 1.0)\", \"width\": 1}}, \"name\": \"Soybean\", \"orientation\": \"v\", \"text\": \"\", \"x\": [2015, 2016, 2017, 2018, 2019, 2020, 2021, 2022, 2023, 2024, 2025, 2026, 2027, 2028, 2029, 2030, 2031, 2032, 2033, 2034, 2035, 2036, 2037, 2038, 2039, 2040], \"y\": [0.93383234, 0.94164671, 0.9524550900000001, 0.96026946, 0.9697006, 0.98050898, 0.9823353300000001, 0.98598802, 0.9905988, 0.99242515, 0.99607784, 1.0008982, 1.00251497, 1.0073353299999999, 1.0109880199999999, 1.0128143699999999, 1.01443114, 1.00882395, 1.00419162, 1.00377246, 1.0057185599999998, 1.0052994, 1.0048802399999999, 1.00446108, 1.0064072, 1.005988], \"type\": \"bar\", \"uid\": \"801d1cda-3dd6-48ab-a4c1-c2fe43fcec9b\"}, {\"marker\": {\"color\": \"rgba(128, 0, 128, 0.6)\", \"line\": {\"color\": \"rgba(128, 0, 128, 1.0)\", \"width\": 1}}, \"name\": \"Sugarcane\", \"orientation\": \"v\", \"text\": \"\", \"x\": [2015, 2016, 2017, 2018, 2019, 2020, 2021, 2022, 2023, 2024, 2025, 2026, 2027, 2028, 2029, 2030, 2031, 2032, 2033, 2034, 2035, 2036, 2037, 2038, 2039, 2040], \"y\": [0.245, 0.24, 0.23, 0.22000000000000003, 0.20500000000000002, 0.2, 0.19, 0.18, 0.165, 0.16, 0.15, 0.14, 0.125, 0.12, 0.10500000000000001, 0.135, 0.125, 0.11, 0.065, 0.060000000000000005, 0.05, 0.04, 0.025, 0.02, 0.01, 0.0], \"type\": \"bar\", \"uid\": \"981a9f88-e404-4de5-82f8-e2024fe216ef\"}, {\"marker\": {\"color\": \"rgba(255, 0, 136, 0.6)\", \"line\": {\"color\": \"rgba(255, 0, 136, 1.0)\", \"width\": 1}}, \"name\": \"Tea\", \"orientation\": \"v\", \"text\": \"\", \"x\": [2015, 2016, 2017, 2018, 2019, 2020, 2021, 2022, 2023, 2024, 2025, 2026, 2027, 2028, 2029, 2030, 2031, 2032, 2033, 2034, 2035, 2036, 2037, 2038, 2039, 2040], \"y\": [0.3, 0.29, 0.27, 0.27, 0.24, 0.24, 0.19, 0.17, 0.165, 0.155, 0.145, 0.13999999999999999, 0.13, 0.11500000000000002, 0.10500000000000001, 0.130573675, 0.11, 0.09, 0.065, 0.05500000000000001, 0.05, 0.039999999999999994, 0.025, 0.025, 0.0, 0.0], \"type\": \"bar\", \"uid\": \"34c5b012-e1a1-4ade-9d0b-91575091c61b\"}], {\"barmode\": \"stack\", \"legend\": {\"bgcolor\": \"#FFFFFF\", \"font\": {\"color\": \"#4D5663\"}, \"traceorder\": \"normal\"}, \"paper_bgcolor\": \"#FFFFFF\", \"plot_bgcolor\": \"#FFFFFF\", \"title\": {\"text\": \"Area by crop (Rain-fed)\", \"font\": {\"color\": \"#4D5663\"}}, \"xaxis\": {\"gridcolor\": \"#E1E5ED\", \"showgrid\": true, \"tickfont\": {\"color\": \"#4D5663\"}, \"title\": {\"text\": \"Year\", \"font\": {\"color\": \"#4D5663\"}}, \"zerolinecolor\": \"#E1E5ED\"}, \"yaxis\": {\"gridcolor\": \"#E1E5ED\", \"showgrid\": true, \"tickfont\": {\"color\": \"#4D5663\"}, \"title\": {\"text\": \"Land area (1000 sq.km.)\", \"font\": {\"color\": \"#4D5663\"}}, \"zerolinecolor\": \"#E1E5ED\"}}, {\"showLink\": true, \"linkText\": \"Export to plot.ly\", \"plotlyServerURL\": \"https://plot.ly\"}); \n",
       "}\n",
       "});</script><script type=\"text/javascript\">window.addEventListener(\"resize\", function(){if (document.getElementById(\"60e5317e-99c5-4fc6-87a9-127b673acbca\")) {window._Plotly.Plots.resize(document.getElementById(\"60e5317e-99c5-4fc6-87a9-127b673acbca\"));};})</script>"
      ],
      "text/vnd.plotly.v1+html": [
       "<div id=\"60e5317e-99c5-4fc6-87a9-127b673acbca\" style=\"height: 525px; width: 100%;\" class=\"plotly-graph-div\"></div><script type=\"text/javascript\">require([\"plotly\"], function(Plotly) { window.PLOTLYENV=window.PLOTLYENV || {};window.PLOTLYENV.BASE_URL=\"https://plot.ly\";\n",
       "if (document.getElementById(\"60e5317e-99c5-4fc6-87a9-127b673acbca\")) {\n",
       "    Plotly.newPlot(\"60e5317e-99c5-4fc6-87a9-127b673acbca\", [{\"marker\": {\"color\": \"rgba(165, 42, 42, 0.6)\", \"line\": {\"color\": \"rgba(165, 42, 42, 1.0)\", \"width\": 1}}, \"name\": \"Coffee\", \"orientation\": \"v\", \"text\": \"\", \"x\": [2015, 2016, 2017, 2018, 2019, 2020, 2021, 2022, 2023, 2024, 2025, 2026, 2027, 2028, 2029, 2030, 2031, 2032, 2033, 2034, 2035, 2036, 2037, 2038, 2039, 2040], \"y\": [6.45542101, 6.5644407, 6.6533351000000005, 6.7429417, 6.8337748000000005, 6.9246928, 6.9731504, 7.0186788, 7.064555599999999, 7.109202800000001, 7.1559071, 7.190783000000001, 7.224529500000001, 7.2501177, 7.280764799999999, 7.3061471, 7.305000000000001, 7.3035589000000005, 7.3024118, 7.298588299999999, 7.297441200000001, 7.296, 7.288920668110001, 7.293764699999999, 7.290588199999999, 7.2823530000000005], \"type\": \"bar\", \"uid\": \"6b8edc85-bb8f-4d4c-b88d-2d10bc6e0f69\"}, {\"marker\": {\"color\": \"rgba(128, 128, 128, 0.6)\", \"line\": {\"color\": \"rgba(128, 128, 128, 1.0)\", \"width\": 1}}, \"name\": \"Cotton\", \"orientation\": \"v\", \"text\": \"\", \"x\": [2015, 2016, 2017, 2018, 2019, 2020, 2021, 2022, 2023, 2024, 2025, 2026, 2027, 2028, 2029, 2030, 2031, 2032, 2033, 2034, 2035, 2036, 2037, 2038, 2039, 2040], \"y\": [0.2634, 0.30880367000000003, 0.32987179, 0.32987179, 0.32987179, 0.32987179, 0.32987179, 0.33333333000000004, 0.33179487, 0.35743590000000003, 0.35743590000000003, 0.35525641, 0.35525641, 0.35525641, 0.35525641, 0.36051282, 0.36051282, 0.36051282, 0.36051282, 0.36051282, 0.35897436, 0.35897436, 0.35897436, 0.35897436, 0.35897436, 0.35897436], \"type\": \"bar\", \"uid\": \"48624e6c-63af-49d0-82cc-f8bc22e7e5bc\"}, {\"marker\": {\"color\": \"rgba(255, 153, 51, 0.6)\", \"line\": {\"color\": \"rgba(255, 153, 51, 1.0)\", \"width\": 1}}, \"name\": \"Peanuts\", \"orientation\": \"v\", \"text\": \"\", \"x\": [2015, 2016, 2017, 2018, 2019, 2020, 2021, 2022, 2023, 2024, 2025, 2026, 2027, 2028, 2029, 2030, 2031, 2032, 2033, 2034, 2035, 2036, 2037, 2038, 2039, 2040], \"y\": [0.39499999999999996, 0.375, 0.36, 0.345, 0.32499999999999996, 0.31000000000000005, 0.29500000000000004, 0.28500000000000003, 0.27, 0.25, 0.235, 0.215, 0.19999999999999998, 0.185, 0.175, 0.16, 0.14500000000000002, 0.125, 0.11, 0.09, 0.07500000000000001, 0.06, 0.05, 0.035, 0.015, 0.0], \"type\": \"bar\", \"uid\": \"0dd14787-bc79-4701-9628-c498faeee95c\"}, {\"marker\": {\"color\": \"rgba(255, 215, 0, 0.6)\", \"line\": {\"color\": \"rgba(255, 215, 0, 1.0)\", \"width\": 1}}, \"name\": \"Maize\", \"orientation\": \"v\", \"text\": \"\", \"x\": [2015, 2016, 2017, 2018, 2019, 2020, 2021, 2022, 2023, 2024, 2025, 2026, 2027, 2028, 2029, 2030, 2031, 2032, 2033, 2034, 2035, 2036, 2037, 2038, 2039, 2040], \"y\": [5.9182349, 5.9899037, 6.062009, 6.1352118, 6.208164300000001, 6.2802696, 6.317252900000001, 6.3492426, 6.3867073, 6.417413399999999, 6.4625116, 6.509300400000001, 6.5390051, 6.5778562, 6.6113864, 6.6408729, 6.6464698, 6.6502439, 6.6518806, 6.6574775, 6.6599679, 6.663035900000001, 6.664923000000001, 6.671373599999999, 6.6778946999999995, 6.6803594], \"type\": \"bar\", \"uid\": \"a907c164-1802-421b-9446-94a84283f4b6\"}, {\"marker\": {\"color\": \"rgba(0, 128, 0, 0.6)\", \"line\": {\"color\": \"rgba(0, 128, 0, 1.0)\", \"width\": 1}}, \"name\": \"Rice\", \"orientation\": \"v\", \"text\": \"\", \"x\": [2015, 2016, 2017, 2018, 2019, 2020, 2021, 2022, 2023, 2024, 2025, 2026, 2027, 2028, 2029, 2030, 2031, 2032, 2033, 2034, 2035, 2036, 2037, 2038, 2039, 2040], \"y\": [4.525, 4.374599999999999, 4.229108, 4.08852584, 3.9428553199999996, 3.79709822, 3.6512562500000003, 3.51033113, 3.3643245000000004, 3.2182380100000003, 3.07207325, 2.9208317900000003, 2.77451515, 2.6331248499999997, 2.48666235, 2.33512911, 2.18852652, 2.02, 1.77, 1.52, 1.2650000000000001, 1.01, 0.7550000000000001, 0.51, 0.255, 0.0], \"type\": \"bar\", \"uid\": \"e4590fab-8126-4971-b0d1-c1dbfbc4d42a\"}, {\"marker\": {\"color\": \"rgba(178, 34, 34, 0.6)\", \"line\": {\"color\": \"rgba(178, 34, 34, 1.0)\", \"width\": 1}}, \"name\": \"Soybean\", \"orientation\": \"v\", \"text\": \"\", \"x\": [2015, 2016, 2017, 2018, 2019, 2020, 2021, 2022, 2023, 2024, 2025, 2026, 2027, 2028, 2029, 2030, 2031, 2032, 2033, 2034, 2035, 2036, 2037, 2038, 2039, 2040], \"y\": [0.93383234, 0.94164671, 0.9524550900000001, 0.96026946, 0.9697006, 0.98050898, 0.9823353300000001, 0.98598802, 0.9905988, 0.99242515, 0.99607784, 1.0008982, 1.00251497, 1.0073353299999999, 1.0109880199999999, 1.0128143699999999, 1.01443114, 1.00882395, 1.00419162, 1.00377246, 1.0057185599999998, 1.0052994, 1.0048802399999999, 1.00446108, 1.0064072, 1.005988], \"type\": \"bar\", \"uid\": \"801d1cda-3dd6-48ab-a4c1-c2fe43fcec9b\"}, {\"marker\": {\"color\": \"rgba(128, 0, 128, 0.6)\", \"line\": {\"color\": \"rgba(128, 0, 128, 1.0)\", \"width\": 1}}, \"name\": \"Sugarcane\", \"orientation\": \"v\", \"text\": \"\", \"x\": [2015, 2016, 2017, 2018, 2019, 2020, 2021, 2022, 2023, 2024, 2025, 2026, 2027, 2028, 2029, 2030, 2031, 2032, 2033, 2034, 2035, 2036, 2037, 2038, 2039, 2040], \"y\": [0.245, 0.24, 0.23, 0.22000000000000003, 0.20500000000000002, 0.2, 0.19, 0.18, 0.165, 0.16, 0.15, 0.14, 0.125, 0.12, 0.10500000000000001, 0.135, 0.125, 0.11, 0.065, 0.060000000000000005, 0.05, 0.04, 0.025, 0.02, 0.01, 0.0], \"type\": \"bar\", \"uid\": \"981a9f88-e404-4de5-82f8-e2024fe216ef\"}, {\"marker\": {\"color\": \"rgba(255, 0, 136, 0.6)\", \"line\": {\"color\": \"rgba(255, 0, 136, 1.0)\", \"width\": 1}}, \"name\": \"Tea\", \"orientation\": \"v\", \"text\": \"\", \"x\": [2015, 2016, 2017, 2018, 2019, 2020, 2021, 2022, 2023, 2024, 2025, 2026, 2027, 2028, 2029, 2030, 2031, 2032, 2033, 2034, 2035, 2036, 2037, 2038, 2039, 2040], \"y\": [0.3, 0.29, 0.27, 0.27, 0.24, 0.24, 0.19, 0.17, 0.165, 0.155, 0.145, 0.13999999999999999, 0.13, 0.11500000000000002, 0.10500000000000001, 0.130573675, 0.11, 0.09, 0.065, 0.05500000000000001, 0.05, 0.039999999999999994, 0.025, 0.025, 0.0, 0.0], \"type\": \"bar\", \"uid\": \"34c5b012-e1a1-4ade-9d0b-91575091c61b\"}], {\"barmode\": \"stack\", \"legend\": {\"bgcolor\": \"#FFFFFF\", \"font\": {\"color\": \"#4D5663\"}, \"traceorder\": \"normal\"}, \"paper_bgcolor\": \"#FFFFFF\", \"plot_bgcolor\": \"#FFFFFF\", \"title\": {\"text\": \"Area by crop (Rain-fed)\", \"font\": {\"color\": \"#4D5663\"}}, \"xaxis\": {\"gridcolor\": \"#E1E5ED\", \"showgrid\": true, \"tickfont\": {\"color\": \"#4D5663\"}, \"title\": {\"text\": \"Year\", \"font\": {\"color\": \"#4D5663\"}}, \"zerolinecolor\": \"#E1E5ED\"}, \"yaxis\": {\"gridcolor\": \"#E1E5ED\", \"showgrid\": true, \"tickfont\": {\"color\": \"#4D5663\"}, \"title\": {\"text\": \"Land area (1000 sq.km.)\", \"font\": {\"color\": \"#4D5663\"}}, \"zerolinecolor\": \"#E1E5ED\"}}, {\"showLink\": true, \"linkText\": \"Export to plot.ly\", \"plotlyServerURL\": \"https://plot.ly\"}); \n",
       "}\n",
       "});</script><script type=\"text/javascript\">window.addEventListener(\"resize\", function(){if (document.getElementById(\"60e5317e-99c5-4fc6-87a9-127b673acbca\")) {window._Plotly.Plots.resize(document.getElementById(\"60e5317e-99c5-4fc6-87a9-127b673acbca\"));};})</script>"
      ]
     },
     "metadata": {},
     "output_type": "display_data"
    }
   ],
   "source": [
    "for each in water_supply.keys():\n",
    "    crops_ws_df = all_params['TotalTechnologyAnnualActivity'][all_params['TotalTechnologyAnnualActivity'].t.str.startswith('LNDCP')].drop('r', axis=1)\n",
    "    crops_ws_df = crops_ws_df[crops_ws_df.t.str[8:9] == each]\n",
    "    crops_ws_df = df_filter(crops_ws_df,3,6,[])\n",
    "    df_plot(crops_ws_df,'Land area (1000 sq.km.)','Area by crop (' + water_supply[each] + ')')"
   ]
  },
  {
   "cell_type": "code",
   "execution_count": 256,
   "metadata": {},
   "outputs": [
    {
     "data": {
      "application/vnd.plotly.v1+json": {
       "config": {
        "linkText": "Export to plot.ly",
        "plotlyServerURL": "https://plot.ly",
        "showLink": true
       },
       "data": [
        {
         "marker": {
          "color": "rgba(165, 42, 42, 0.6)",
          "line": {
           "color": "rgba(165, 42, 42, 1.0)",
           "width": 1
          }
         },
         "name": "Coffee",
         "orientation": "v",
         "text": "",
         "type": "bar",
         "uid": "9d8a8d6e-4445-41f4-a8c6-45c292041924",
         "x": [
          2015,
          2016,
          2017,
          2018,
          2019,
          2020,
          2021,
          2022,
          2023,
          2024,
          2025,
          2026,
          2027,
          2028,
          2029,
          2030,
          2031,
          2032,
          2033,
          2034,
          2035,
          2036,
          2037,
          2038,
          2039,
          2040
         ],
         "y": [
          1.101,
          1.1139999999999999,
          1.1269999899999998,
          1.141,
          1.154,
          1.16799999,
          1.17399999,
          1.1800000000000002,
          1.186000005,
          1.192000005,
          1.1980000034999998,
          1.2040000057,
          1.2109999999999999,
          1.217,
          1.223,
          1.2289999999999999,
          1.23,
          1.231,
          1.2319999999999998,
          1.233,
          1.234,
          1.2349999999999999,
          1.2349999994999998,
          1.236,
          1.237,
          1.238
         ]
        },
        {
         "marker": {
          "color": "rgba(128, 128, 128, 0.6)",
          "line": {
           "color": "rgba(128, 128, 128, 1.0)",
           "width": 1
          }
         },
         "name": "Cotton",
         "orientation": "v",
         "text": "",
         "type": "bar",
         "uid": "4a11b608-9485-4d0b-b88a-b0260efb58ee",
         "x": [
          2015,
          2016,
          2017,
          2018,
          2019,
          2020,
          2021,
          2022,
          2023,
          2024,
          2025,
          2026,
          2027,
          2028,
          2029,
          2030,
          2031,
          2032,
          2033,
          2034,
          2035,
          2036,
          2037,
          2038,
          2039,
          2040
         ],
         "y": [
          0.013000000000000001,
          0.013000000000000001,
          0.013000000000000001,
          0.013000000000000001,
          0.013000000000000001,
          0.013000000000000001,
          0.013000000000000001,
          0.013,
          0.013000000000000001,
          0.014000000000000002,
          0.014000000000000002,
          0.014,
          0.014,
          0.014,
          0.014,
          0.013999999999999999,
          0.013999999999999999,
          0.013999999999999999,
          0.013999999999999999,
          0.013999999999999999,
          0.014000000000000002,
          0.014000000000000002,
          0.014000000000000002,
          0.014000000000000002,
          0.014000000000000002,
          0.014000000000000002
         ]
        },
        {
         "marker": {
          "color": "rgba(255, 153, 51, 0.6)",
          "line": {
           "color": "rgba(255, 153, 51, 1.0)",
           "width": 1
          }
         },
         "name": "Peanuts",
         "orientation": "v",
         "text": "",
         "type": "bar",
         "uid": "fcdf1027-2871-4fe4-ae94-92fe101374ab",
         "x": [
          2015,
          2016,
          2017,
          2018,
          2019,
          2020,
          2021,
          2022,
          2023,
          2024,
          2025,
          2026,
          2027,
          2028,
          2029,
          2030,
          2031,
          2032,
          2033,
          2034,
          2035,
          2036,
          2037,
          2038,
          2039,
          2040
         ],
         "y": [
          0.487,
          0.493,
          0.499,
          0.505,
          0.511,
          0.5170000024,
          0.52,
          0.522,
          0.5250000047000001,
          0.528,
          0.53,
          0.533,
          0.536,
          0.539,
          0.541,
          0.544,
          0.5449999999999999,
          0.5449999999999999,
          0.5449999999999999,
          0.546,
          0.546,
          0.547,
          0.5469999999999999,
          0.5469999999999999,
          0.548,
          0.548
         ]
        },
        {
         "marker": {
          "color": "rgba(255, 215, 0, 0.6)",
          "line": {
           "color": "rgba(255, 215, 0, 1.0)",
           "width": 1
          }
         },
         "name": "Maize",
         "orientation": "v",
         "text": "",
         "type": "bar",
         "uid": "b87da05d-82c5-4d84-82f0-7f7047e4fb83",
         "x": [
          2015,
          2016,
          2017,
          2018,
          2019,
          2020,
          2021,
          2022,
          2023,
          2024,
          2025,
          2026,
          2027,
          2028,
          2029,
          2030,
          2031,
          2032,
          2033,
          2034,
          2035,
          2036,
          2037,
          2038,
          2039,
          2040
         ],
         "y": [
          4.626,
          4.682,
          4.738,
          4.794,
          4.851,
          4.907,
          4.933000000000001,
          4.959,
          4.985,
          5.01,
          5.035999958,
          5.062,
          5.088,
          5.114,
          5.14,
          5.1659999999999995,
          5.170000000000001,
          5.1739999999999995,
          5.178,
          5.1819999999999995,
          5.185,
          5.189,
          5.193,
          5.197,
          5.2010000000000005,
          5.204
         ]
        },
        {
         "marker": {
          "color": "rgba(0, 128, 0, 0.6)",
          "line": {
           "color": "rgba(0, 128, 0, 1.0)",
           "width": 1
          }
         },
         "name": "Rice",
         "orientation": "v",
         "text": "",
         "type": "bar",
         "uid": "9bed9e90-713b-4843-9171-27c0abfadf97",
         "x": [
          2015,
          2016,
          2017,
          2018,
          2019,
          2020,
          2021,
          2022,
          2023,
          2024,
          2025,
          2026,
          2027,
          2028,
          2029,
          2030,
          2031,
          2032,
          2033,
          2034,
          2035,
          2036,
          2037,
          2038,
          2039,
          2040
         ],
         "y": [
          40.005999970000005,
          40.4890001,
          40.97499996999999,
          41.46199999,
          41.95099987,
          42.44299992,
          42.66499992000001,
          42.887000098,
          43.110000075,
          43.33300005999999,
          43.55699982,
          43.78099994000001,
          44.005000009999996,
          44.22999994,
          44.454999889999996,
          44.68100003,
          44.713999949999994,
          44.74700000000001,
          44.77999996,
          44.812999987,
          44.84600007,
          44.87899993,
          44.91200001,
          44.94499998,
          44.97799988,
          45.01100015
         ]
        },
        {
         "marker": {
          "color": "rgba(178, 34, 34, 0.6)",
          "line": {
           "color": "rgba(178, 34, 34, 1.0)",
           "width": 1
          }
         },
         "name": "Soybean",
         "orientation": "v",
         "text": "",
         "type": "bar",
         "uid": "07ac0dc5-3a18-44d1-8b60-a9b44ef68770",
         "x": [
          2015,
          2016,
          2017,
          2018,
          2019,
          2020,
          2021,
          2022,
          2023,
          2024,
          2025,
          2026,
          2027,
          2028,
          2029,
          2030,
          2031,
          2032,
          2033,
          2034,
          2035,
          2036,
          2037,
          2038,
          2039,
          2040
         ],
         "y": [
          0.299,
          0.302,
          0.306,
          0.30899999999999994,
          0.313,
          0.317,
          0.31799999999999995,
          0.32000000000000006,
          0.32200000000000006,
          0.32300000000000006,
          0.325,
          0.327,
          0.32800000000000007,
          0.33,
          0.332,
          0.333,
          0.33399999999999996,
          0.3339999997,
          0.334,
          0.33399999999999996,
          0.335,
          0.33499999999999996,
          0.335,
          0.33499999999999996,
          0.33599999999999997,
          0.33599999999999997
         ]
        },
        {
         "marker": {
          "color": "rgba(128, 0, 128, 0.6)",
          "line": {
           "color": "rgba(128, 0, 128, 1.0)",
           "width": 1
          }
         },
         "name": "Sugarcane",
         "orientation": "v",
         "text": "",
         "type": "bar",
         "uid": "051d8c96-b4a8-4424-92d9-8e74f87f2215",
         "x": [
          2015,
          2016,
          2017,
          2018,
          2019,
          2020,
          2021,
          2022,
          2023,
          2024,
          2025,
          2026,
          2027,
          2028,
          2029,
          2030,
          2031,
          2032,
          2033,
          2034,
          2035,
          2036,
          2037,
          2038,
          2039,
          2040
         ],
         "y": [
          16.162,
          16.357,
          16.552999999999997,
          16.750000124,
          16.948000006,
          17.146000046,
          17.236,
          17.3260001,
          17.416,
          17.5060001,
          17.596000099999998,
          17.68699996,
          17.77799994,
          17.867999979999997,
          17.95899995,
          18.0499999,
          18.06399995,
          18.07699997,
          18.08999995,
          18.10400004,
          18.11700001,
          18.12999998,
          18.1439999,
          18.156999900000002,
          18.17,
          18.184
         ]
        },
        {
         "marker": {
          "color": "rgba(255, 0, 136, 0.6)",
          "line": {
           "color": "rgba(255, 0, 136, 1.0)",
           "width": 1
          }
         },
         "name": "Tea",
         "orientation": "v",
         "text": "",
         "type": "bar",
         "uid": "51dc855d-353b-4736-96d2-79882486a51a",
         "x": [
          2015,
          2016,
          2017,
          2018,
          2019,
          2020,
          2021,
          2022,
          2023,
          2024,
          2025,
          2026,
          2027,
          2028,
          2029,
          2030,
          2031,
          2032,
          2033,
          2034,
          2035,
          2036,
          2037,
          2038,
          2039,
          2040
         ],
         "y": [
          0.8350000000000001,
          0.8450000000000001,
          0.8550000012400001,
          0.86500000521,
          0.8750000012,
          0.8850000072,
          0.89,
          0.8949999975999999,
          0.899,
          0.9039999999999999,
          0.908999996,
          0.912999995,
          0.9180000030000001,
          0.923000006,
          0.9270000090000001,
          0.9320000015999998,
          0.9329999983,
          0.934,
          0.934000005,
          0.9349999950000001,
          0.936,
          0.936000007,
          0.9369999970000001,
          0.937999993,
          0.938,
          0.9390000039999999
         ]
        }
       ],
       "layout": {
        "barmode": "stack",
        "legend": {
         "bgcolor": "#FFFFFF",
         "font": {
          "color": "#4D5663"
         },
         "traceorder": "normal"
        },
        "paper_bgcolor": "#FFFFFF",
        "plot_bgcolor": "#FFFFFF",
        "title": {
         "font": {
          "color": "#4D5663"
         },
         "text": "Crop production"
        },
        "xaxis": {
         "gridcolor": "#E1E5ED",
         "showgrid": true,
         "tickfont": {
          "color": "#4D5663"
         },
         "title": {
          "font": {
           "color": "#4D5663"
          },
          "text": "Year"
         },
         "zerolinecolor": "#E1E5ED"
        },
        "yaxis": {
         "gridcolor": "#E1E5ED",
         "showgrid": true,
         "tickfont": {
          "color": "#4D5663"
         },
         "title": {
          "font": {
           "color": "#4D5663"
          },
          "text": "Production (Million tonnes)"
         },
         "zerolinecolor": "#E1E5ED"
        }
       }
      },
      "text/html": [
       "<div id=\"7c6fc174-ebea-4da9-8ff6-cad0189574df\" style=\"height: 525px; width: 100%;\" class=\"plotly-graph-div\"></div><script type=\"text/javascript\">require([\"plotly\"], function(Plotly) { window.PLOTLYENV=window.PLOTLYENV || {};window.PLOTLYENV.BASE_URL=\"https://plot.ly\";\n",
       "if (document.getElementById(\"7c6fc174-ebea-4da9-8ff6-cad0189574df\")) {\n",
       "    Plotly.newPlot(\"7c6fc174-ebea-4da9-8ff6-cad0189574df\", [{\"marker\": {\"color\": \"rgba(165, 42, 42, 0.6)\", \"line\": {\"color\": \"rgba(165, 42, 42, 1.0)\", \"width\": 1}}, \"name\": \"Coffee\", \"orientation\": \"v\", \"text\": \"\", \"x\": [2015, 2016, 2017, 2018, 2019, 2020, 2021, 2022, 2023, 2024, 2025, 2026, 2027, 2028, 2029, 2030, 2031, 2032, 2033, 2034, 2035, 2036, 2037, 2038, 2039, 2040], \"y\": [1.101, 1.1139999999999999, 1.1269999899999998, 1.141, 1.154, 1.16799999, 1.17399999, 1.1800000000000002, 1.186000005, 1.192000005, 1.1980000034999998, 1.2040000057, 1.2109999999999999, 1.217, 1.223, 1.2289999999999999, 1.23, 1.231, 1.2319999999999998, 1.233, 1.234, 1.2349999999999999, 1.2349999994999998, 1.236, 1.237, 1.238], \"type\": \"bar\", \"uid\": \"a9564a11-6fac-439f-9f33-1fcbe32dc3c7\"}, {\"marker\": {\"color\": \"rgba(128, 128, 128, 0.6)\", \"line\": {\"color\": \"rgba(128, 128, 128, 1.0)\", \"width\": 1}}, \"name\": \"Cotton\", \"orientation\": \"v\", \"text\": \"\", \"x\": [2015, 2016, 2017, 2018, 2019, 2020, 2021, 2022, 2023, 2024, 2025, 2026, 2027, 2028, 2029, 2030, 2031, 2032, 2033, 2034, 2035, 2036, 2037, 2038, 2039, 2040], \"y\": [0.013000000000000001, 0.013000000000000001, 0.013000000000000001, 0.013000000000000001, 0.013000000000000001, 0.013000000000000001, 0.013000000000000001, 0.013, 0.013000000000000001, 0.014000000000000002, 0.014000000000000002, 0.014, 0.014, 0.014, 0.014, 0.013999999999999999, 0.013999999999999999, 0.013999999999999999, 0.013999999999999999, 0.013999999999999999, 0.014000000000000002, 0.014000000000000002, 0.014000000000000002, 0.014000000000000002, 0.014000000000000002, 0.014000000000000002], \"type\": \"bar\", \"uid\": \"8521d03e-6c34-45f2-bf86-5c5d13ab34d4\"}, {\"marker\": {\"color\": \"rgba(255, 153, 51, 0.6)\", \"line\": {\"color\": \"rgba(255, 153, 51, 1.0)\", \"width\": 1}}, \"name\": \"Peanuts\", \"orientation\": \"v\", \"text\": \"\", \"x\": [2015, 2016, 2017, 2018, 2019, 2020, 2021, 2022, 2023, 2024, 2025, 2026, 2027, 2028, 2029, 2030, 2031, 2032, 2033, 2034, 2035, 2036, 2037, 2038, 2039, 2040], \"y\": [0.487, 0.493, 0.499, 0.505, 0.511, 0.5170000024, 0.52, 0.522, 0.5250000047000001, 0.528, 0.53, 0.533, 0.536, 0.539, 0.541, 0.544, 0.5449999999999999, 0.5449999999999999, 0.5449999999999999, 0.546, 0.546, 0.547, 0.5469999999999999, 0.5469999999999999, 0.548, 0.548], \"type\": \"bar\", \"uid\": \"8c5e9d75-f5cf-47b1-997b-02c9d63f92dd\"}, {\"marker\": {\"color\": \"rgba(255, 215, 0, 0.6)\", \"line\": {\"color\": \"rgba(255, 215, 0, 1.0)\", \"width\": 1}}, \"name\": \"Maize\", \"orientation\": \"v\", \"text\": \"\", \"x\": [2015, 2016, 2017, 2018, 2019, 2020, 2021, 2022, 2023, 2024, 2025, 2026, 2027, 2028, 2029, 2030, 2031, 2032, 2033, 2034, 2035, 2036, 2037, 2038, 2039, 2040], \"y\": [4.626, 4.682, 4.738, 4.794, 4.851, 4.907, 4.933000000000001, 4.959, 4.985, 5.01, 5.035999958, 5.062, 5.088, 5.114, 5.14, 5.1659999999999995, 5.170000000000001, 5.1739999999999995, 5.178, 5.1819999999999995, 5.185, 5.189, 5.193, 5.197, 5.2010000000000005, 5.204], \"type\": \"bar\", \"uid\": \"127ec3c0-a607-4d2a-a2f1-a10bd239cd97\"}, {\"marker\": {\"color\": \"rgba(0, 128, 0, 0.6)\", \"line\": {\"color\": \"rgba(0, 128, 0, 1.0)\", \"width\": 1}}, \"name\": \"Rice\", \"orientation\": \"v\", \"text\": \"\", \"x\": [2015, 2016, 2017, 2018, 2019, 2020, 2021, 2022, 2023, 2024, 2025, 2026, 2027, 2028, 2029, 2030, 2031, 2032, 2033, 2034, 2035, 2036, 2037, 2038, 2039, 2040], \"y\": [40.005999970000005, 40.4890001, 40.97499996999999, 41.46199999, 41.95099987, 42.44299992, 42.66499992000001, 42.887000098, 43.110000075, 43.33300005999999, 43.55699982, 43.78099994000001, 44.005000009999996, 44.22999994, 44.454999889999996, 44.68100003, 44.713999949999994, 44.74700000000001, 44.77999996, 44.812999987, 44.84600007, 44.87899993, 44.91200001, 44.94499998, 44.97799988, 45.01100015], \"type\": \"bar\", \"uid\": \"7fd23eac-7476-4181-99fa-a24d8dda6f22\"}, {\"marker\": {\"color\": \"rgba(178, 34, 34, 0.6)\", \"line\": {\"color\": \"rgba(178, 34, 34, 1.0)\", \"width\": 1}}, \"name\": \"Soybean\", \"orientation\": \"v\", \"text\": \"\", \"x\": [2015, 2016, 2017, 2018, 2019, 2020, 2021, 2022, 2023, 2024, 2025, 2026, 2027, 2028, 2029, 2030, 2031, 2032, 2033, 2034, 2035, 2036, 2037, 2038, 2039, 2040], \"y\": [0.299, 0.302, 0.306, 0.30899999999999994, 0.313, 0.317, 0.31799999999999995, 0.32000000000000006, 0.32200000000000006, 0.32300000000000006, 0.325, 0.327, 0.32800000000000007, 0.33, 0.332, 0.333, 0.33399999999999996, 0.3339999997, 0.334, 0.33399999999999996, 0.335, 0.33499999999999996, 0.335, 0.33499999999999996, 0.33599999999999997, 0.33599999999999997], \"type\": \"bar\", \"uid\": \"20b2f5e6-c1fe-4b4f-b4a6-067f9be1f112\"}, {\"marker\": {\"color\": \"rgba(128, 0, 128, 0.6)\", \"line\": {\"color\": \"rgba(128, 0, 128, 1.0)\", \"width\": 1}}, \"name\": \"Sugarcane\", \"orientation\": \"v\", \"text\": \"\", \"x\": [2015, 2016, 2017, 2018, 2019, 2020, 2021, 2022, 2023, 2024, 2025, 2026, 2027, 2028, 2029, 2030, 2031, 2032, 2033, 2034, 2035, 2036, 2037, 2038, 2039, 2040], \"y\": [16.162, 16.357, 16.552999999999997, 16.750000124, 16.948000006, 17.146000046, 17.236, 17.3260001, 17.416, 17.5060001, 17.596000099999998, 17.68699996, 17.77799994, 17.867999979999997, 17.95899995, 18.0499999, 18.06399995, 18.07699997, 18.08999995, 18.10400004, 18.11700001, 18.12999998, 18.1439999, 18.156999900000002, 18.17, 18.184], \"type\": \"bar\", \"uid\": \"2c1777ec-9a33-4abb-813f-21b8e223c345\"}, {\"marker\": {\"color\": \"rgba(255, 0, 136, 0.6)\", \"line\": {\"color\": \"rgba(255, 0, 136, 1.0)\", \"width\": 1}}, \"name\": \"Tea\", \"orientation\": \"v\", \"text\": \"\", \"x\": [2015, 2016, 2017, 2018, 2019, 2020, 2021, 2022, 2023, 2024, 2025, 2026, 2027, 2028, 2029, 2030, 2031, 2032, 2033, 2034, 2035, 2036, 2037, 2038, 2039, 2040], \"y\": [0.8350000000000001, 0.8450000000000001, 0.8550000012400001, 0.86500000521, 0.8750000012, 0.8850000072, 0.89, 0.8949999975999999, 0.899, 0.9039999999999999, 0.908999996, 0.912999995, 0.9180000030000001, 0.923000006, 0.9270000090000001, 0.9320000015999998, 0.9329999983, 0.934, 0.934000005, 0.9349999950000001, 0.936, 0.936000007, 0.9369999970000001, 0.937999993, 0.938, 0.9390000039999999], \"type\": \"bar\", \"uid\": \"57d6a8da-59f9-482a-8513-ff97c1be6f9e\"}], {\"barmode\": \"stack\", \"legend\": {\"bgcolor\": \"#FFFFFF\", \"font\": {\"color\": \"#4D5663\"}, \"traceorder\": \"normal\"}, \"paper_bgcolor\": \"#FFFFFF\", \"plot_bgcolor\": \"#FFFFFF\", \"title\": {\"text\": \"Crop production\", \"font\": {\"color\": \"#4D5663\"}}, \"xaxis\": {\"gridcolor\": \"#E1E5ED\", \"showgrid\": true, \"tickfont\": {\"color\": \"#4D5663\"}, \"title\": {\"text\": \"Year\", \"font\": {\"color\": \"#4D5663\"}}, \"zerolinecolor\": \"#E1E5ED\"}, \"yaxis\": {\"gridcolor\": \"#E1E5ED\", \"showgrid\": true, \"tickfont\": {\"color\": \"#4D5663\"}, \"title\": {\"text\": \"Production (Million tonnes)\", \"font\": {\"color\": \"#4D5663\"}}, \"zerolinecolor\": \"#E1E5ED\"}}, {\"showLink\": true, \"linkText\": \"Export to plot.ly\", \"plotlyServerURL\": \"https://plot.ly\"}); \n",
       "}\n",
       "});</script><script type=\"text/javascript\">window.addEventListener(\"resize\", function(){if (document.getElementById(\"7c6fc174-ebea-4da9-8ff6-cad0189574df\")) {window._Plotly.Plots.resize(document.getElementById(\"7c6fc174-ebea-4da9-8ff6-cad0189574df\"));};})</script>"
      ],
      "text/vnd.plotly.v1+html": [
       "<div id=\"7c6fc174-ebea-4da9-8ff6-cad0189574df\" style=\"height: 525px; width: 100%;\" class=\"plotly-graph-div\"></div><script type=\"text/javascript\">require([\"plotly\"], function(Plotly) { window.PLOTLYENV=window.PLOTLYENV || {};window.PLOTLYENV.BASE_URL=\"https://plot.ly\";\n",
       "if (document.getElementById(\"7c6fc174-ebea-4da9-8ff6-cad0189574df\")) {\n",
       "    Plotly.newPlot(\"7c6fc174-ebea-4da9-8ff6-cad0189574df\", [{\"marker\": {\"color\": \"rgba(165, 42, 42, 0.6)\", \"line\": {\"color\": \"rgba(165, 42, 42, 1.0)\", \"width\": 1}}, \"name\": \"Coffee\", \"orientation\": \"v\", \"text\": \"\", \"x\": [2015, 2016, 2017, 2018, 2019, 2020, 2021, 2022, 2023, 2024, 2025, 2026, 2027, 2028, 2029, 2030, 2031, 2032, 2033, 2034, 2035, 2036, 2037, 2038, 2039, 2040], \"y\": [1.101, 1.1139999999999999, 1.1269999899999998, 1.141, 1.154, 1.16799999, 1.17399999, 1.1800000000000002, 1.186000005, 1.192000005, 1.1980000034999998, 1.2040000057, 1.2109999999999999, 1.217, 1.223, 1.2289999999999999, 1.23, 1.231, 1.2319999999999998, 1.233, 1.234, 1.2349999999999999, 1.2349999994999998, 1.236, 1.237, 1.238], \"type\": \"bar\", \"uid\": \"a9564a11-6fac-439f-9f33-1fcbe32dc3c7\"}, {\"marker\": {\"color\": \"rgba(128, 128, 128, 0.6)\", \"line\": {\"color\": \"rgba(128, 128, 128, 1.0)\", \"width\": 1}}, \"name\": \"Cotton\", \"orientation\": \"v\", \"text\": \"\", \"x\": [2015, 2016, 2017, 2018, 2019, 2020, 2021, 2022, 2023, 2024, 2025, 2026, 2027, 2028, 2029, 2030, 2031, 2032, 2033, 2034, 2035, 2036, 2037, 2038, 2039, 2040], \"y\": [0.013000000000000001, 0.013000000000000001, 0.013000000000000001, 0.013000000000000001, 0.013000000000000001, 0.013000000000000001, 0.013000000000000001, 0.013, 0.013000000000000001, 0.014000000000000002, 0.014000000000000002, 0.014, 0.014, 0.014, 0.014, 0.013999999999999999, 0.013999999999999999, 0.013999999999999999, 0.013999999999999999, 0.013999999999999999, 0.014000000000000002, 0.014000000000000002, 0.014000000000000002, 0.014000000000000002, 0.014000000000000002, 0.014000000000000002], \"type\": \"bar\", \"uid\": \"8521d03e-6c34-45f2-bf86-5c5d13ab34d4\"}, {\"marker\": {\"color\": \"rgba(255, 153, 51, 0.6)\", \"line\": {\"color\": \"rgba(255, 153, 51, 1.0)\", \"width\": 1}}, \"name\": \"Peanuts\", \"orientation\": \"v\", \"text\": \"\", \"x\": [2015, 2016, 2017, 2018, 2019, 2020, 2021, 2022, 2023, 2024, 2025, 2026, 2027, 2028, 2029, 2030, 2031, 2032, 2033, 2034, 2035, 2036, 2037, 2038, 2039, 2040], \"y\": [0.487, 0.493, 0.499, 0.505, 0.511, 0.5170000024, 0.52, 0.522, 0.5250000047000001, 0.528, 0.53, 0.533, 0.536, 0.539, 0.541, 0.544, 0.5449999999999999, 0.5449999999999999, 0.5449999999999999, 0.546, 0.546, 0.547, 0.5469999999999999, 0.5469999999999999, 0.548, 0.548], \"type\": \"bar\", \"uid\": \"8c5e9d75-f5cf-47b1-997b-02c9d63f92dd\"}, {\"marker\": {\"color\": \"rgba(255, 215, 0, 0.6)\", \"line\": {\"color\": \"rgba(255, 215, 0, 1.0)\", \"width\": 1}}, \"name\": \"Maize\", \"orientation\": \"v\", \"text\": \"\", \"x\": [2015, 2016, 2017, 2018, 2019, 2020, 2021, 2022, 2023, 2024, 2025, 2026, 2027, 2028, 2029, 2030, 2031, 2032, 2033, 2034, 2035, 2036, 2037, 2038, 2039, 2040], \"y\": [4.626, 4.682, 4.738, 4.794, 4.851, 4.907, 4.933000000000001, 4.959, 4.985, 5.01, 5.035999958, 5.062, 5.088, 5.114, 5.14, 5.1659999999999995, 5.170000000000001, 5.1739999999999995, 5.178, 5.1819999999999995, 5.185, 5.189, 5.193, 5.197, 5.2010000000000005, 5.204], \"type\": \"bar\", \"uid\": \"127ec3c0-a607-4d2a-a2f1-a10bd239cd97\"}, {\"marker\": {\"color\": \"rgba(0, 128, 0, 0.6)\", \"line\": {\"color\": \"rgba(0, 128, 0, 1.0)\", \"width\": 1}}, \"name\": \"Rice\", \"orientation\": \"v\", \"text\": \"\", \"x\": [2015, 2016, 2017, 2018, 2019, 2020, 2021, 2022, 2023, 2024, 2025, 2026, 2027, 2028, 2029, 2030, 2031, 2032, 2033, 2034, 2035, 2036, 2037, 2038, 2039, 2040], \"y\": [40.005999970000005, 40.4890001, 40.97499996999999, 41.46199999, 41.95099987, 42.44299992, 42.66499992000001, 42.887000098, 43.110000075, 43.33300005999999, 43.55699982, 43.78099994000001, 44.005000009999996, 44.22999994, 44.454999889999996, 44.68100003, 44.713999949999994, 44.74700000000001, 44.77999996, 44.812999987, 44.84600007, 44.87899993, 44.91200001, 44.94499998, 44.97799988, 45.01100015], \"type\": \"bar\", \"uid\": \"7fd23eac-7476-4181-99fa-a24d8dda6f22\"}, {\"marker\": {\"color\": \"rgba(178, 34, 34, 0.6)\", \"line\": {\"color\": \"rgba(178, 34, 34, 1.0)\", \"width\": 1}}, \"name\": \"Soybean\", \"orientation\": \"v\", \"text\": \"\", \"x\": [2015, 2016, 2017, 2018, 2019, 2020, 2021, 2022, 2023, 2024, 2025, 2026, 2027, 2028, 2029, 2030, 2031, 2032, 2033, 2034, 2035, 2036, 2037, 2038, 2039, 2040], \"y\": [0.299, 0.302, 0.306, 0.30899999999999994, 0.313, 0.317, 0.31799999999999995, 0.32000000000000006, 0.32200000000000006, 0.32300000000000006, 0.325, 0.327, 0.32800000000000007, 0.33, 0.332, 0.333, 0.33399999999999996, 0.3339999997, 0.334, 0.33399999999999996, 0.335, 0.33499999999999996, 0.335, 0.33499999999999996, 0.33599999999999997, 0.33599999999999997], \"type\": \"bar\", \"uid\": \"20b2f5e6-c1fe-4b4f-b4a6-067f9be1f112\"}, {\"marker\": {\"color\": \"rgba(128, 0, 128, 0.6)\", \"line\": {\"color\": \"rgba(128, 0, 128, 1.0)\", \"width\": 1}}, \"name\": \"Sugarcane\", \"orientation\": \"v\", \"text\": \"\", \"x\": [2015, 2016, 2017, 2018, 2019, 2020, 2021, 2022, 2023, 2024, 2025, 2026, 2027, 2028, 2029, 2030, 2031, 2032, 2033, 2034, 2035, 2036, 2037, 2038, 2039, 2040], \"y\": [16.162, 16.357, 16.552999999999997, 16.750000124, 16.948000006, 17.146000046, 17.236, 17.3260001, 17.416, 17.5060001, 17.596000099999998, 17.68699996, 17.77799994, 17.867999979999997, 17.95899995, 18.0499999, 18.06399995, 18.07699997, 18.08999995, 18.10400004, 18.11700001, 18.12999998, 18.1439999, 18.156999900000002, 18.17, 18.184], \"type\": \"bar\", \"uid\": \"2c1777ec-9a33-4abb-813f-21b8e223c345\"}, {\"marker\": {\"color\": \"rgba(255, 0, 136, 0.6)\", \"line\": {\"color\": \"rgba(255, 0, 136, 1.0)\", \"width\": 1}}, \"name\": \"Tea\", \"orientation\": \"v\", \"text\": \"\", \"x\": [2015, 2016, 2017, 2018, 2019, 2020, 2021, 2022, 2023, 2024, 2025, 2026, 2027, 2028, 2029, 2030, 2031, 2032, 2033, 2034, 2035, 2036, 2037, 2038, 2039, 2040], \"y\": [0.8350000000000001, 0.8450000000000001, 0.8550000012400001, 0.86500000521, 0.8750000012, 0.8850000072, 0.89, 0.8949999975999999, 0.899, 0.9039999999999999, 0.908999996, 0.912999995, 0.9180000030000001, 0.923000006, 0.9270000090000001, 0.9320000015999998, 0.9329999983, 0.934, 0.934000005, 0.9349999950000001, 0.936, 0.936000007, 0.9369999970000001, 0.937999993, 0.938, 0.9390000039999999], \"type\": \"bar\", \"uid\": \"57d6a8da-59f9-482a-8513-ff97c1be6f9e\"}], {\"barmode\": \"stack\", \"legend\": {\"bgcolor\": \"#FFFFFF\", \"font\": {\"color\": \"#4D5663\"}, \"traceorder\": \"normal\"}, \"paper_bgcolor\": \"#FFFFFF\", \"plot_bgcolor\": \"#FFFFFF\", \"title\": {\"text\": \"Crop production\", \"font\": {\"color\": \"#4D5663\"}}, \"xaxis\": {\"gridcolor\": \"#E1E5ED\", \"showgrid\": true, \"tickfont\": {\"color\": \"#4D5663\"}, \"title\": {\"text\": \"Year\", \"font\": {\"color\": \"#4D5663\"}}, \"zerolinecolor\": \"#E1E5ED\"}, \"yaxis\": {\"gridcolor\": \"#E1E5ED\", \"showgrid\": true, \"tickfont\": {\"color\": \"#4D5663\"}, \"title\": {\"text\": \"Production (Million tonnes)\", \"font\": {\"color\": \"#4D5663\"}}, \"zerolinecolor\": \"#E1E5ED\"}}, {\"showLink\": true, \"linkText\": \"Export to plot.ly\", \"plotlyServerURL\": \"https://plot.ly\"}); \n",
       "}\n",
       "});</script><script type=\"text/javascript\">window.addEventListener(\"resize\", function(){if (document.getElementById(\"7c6fc174-ebea-4da9-8ff6-cad0189574df\")) {window._Plotly.Plots.resize(document.getElementById(\"7c6fc174-ebea-4da9-8ff6-cad0189574df\"));};})</script>"
      ]
     },
     "metadata": {},
     "output_type": "display_data"
    }
   ],
   "source": [
    "crops_prod_df = all_params['ProductionByTechnologyAnnual'][all_params['ProductionByTechnologyAnnual'].f.str.startswith('CRP')].drop('r', axis=1)\n",
    "crops_prod_df['f'] = crops_prod_df['f'].str[3:6]\n",
    "crops_prod_df['value'] = df['value'].astype('float64').div(10)\n",
    "\n",
    "crops_prod_df = crops_prod_df.pivot_table(index='y', \n",
    "                                          columns='f',\n",
    "                                          values='value',\n",
    "                                          aggfunc='sum').reset_index().fillna(0)\n",
    "crops_prod_df = crops_prod_df.reindex(sorted(crops_prod_df.columns), axis=1).set_index('y').reset_index().rename(columns=det_col)\n",
    "crops_prod_df['y'] = years\n",
    "df_plot(crops_prod_df,'Production (Million tonnes)','Crop production')"
   ]
  },
  {
   "cell_type": "code",
   "execution_count": 257,
   "metadata": {},
   "outputs": [
    {
     "data": {
      "application/vnd.plotly.v1+json": {
       "config": {
        "linkText": "Export to plot.ly",
        "plotlyServerURL": "https://plot.ly",
        "showLink": true
       },
       "data": [
        {
         "line": {
          "color": "rgba(165, 42, 42, 1.0)",
          "dash": "solid",
          "shape": "linear",
          "width": 1.3
         },
         "marker": {
          "size": 12,
          "symbol": "circle"
         },
         "mode": "lines+markers",
         "name": "Coffee",
         "text": "",
         "type": "scatter",
         "uid": "397f9259-d723-427e-8a18-6aafbcd513c5",
         "x": [
          2015,
          2016,
          2017,
          2018,
          2019,
          2020,
          2021,
          2022,
          2023,
          2024,
          2025,
          2026,
          2027,
          2028,
          2029,
          2030,
          2031,
          2032,
          2033,
          2034,
          2035,
          2036,
          2037,
          2038,
          2039,
          2040
         ],
         "y": [
          1.705543291900647,
          1.697021956493567,
          1.693887310741345,
          1.692139797085892,
          1.6886713913955722,
          1.686717409326808,
          1.6836005573607018,
          1.6812280966611552,
          1.678803412630796,
          1.6766999599448755,
          1.6741413586825349,
          1.6743656507225986,
          1.676233725670301,
          1.6785934385589356,
          1.6797685869484482,
          1.6821451623934591,
          1.6837782340862422,
          1.6854796638937217,
          1.6871138381979496,
          1.689367791850926,
          1.6910036904442614,
          1.692708333333333,
          1.6943523681130037,
          1.6945981270824382,
          1.6967080927708964,
          1.6999999862681743
         ]
        },
        {
         "line": {
          "color": "rgba(128, 128, 128, 1.0)",
          "dash": "solid",
          "shape": "linear",
          "width": 1.3
         },
         "marker": {
          "size": 12,
          "symbol": "circle"
         },
         "mode": "lines+markers",
         "name": "Cotton",
         "text": "",
         "type": "scatter",
         "uid": "4cf73b76-b56b-4687-ac7a-b2be352d47d1",
         "x": [
          2015,
          2016,
          2017,
          2018,
          2019,
          2020,
          2021,
          2022,
          2023,
          2024,
          2025,
          2026,
          2027,
          2028,
          2029,
          2030,
          2031,
          2032,
          2033,
          2034,
          2035,
          2036,
          2037,
          2038,
          2039,
          2040
         ],
         "y": [
          0.47549378200438913,
          0.407774477627563,
          0.3824971763617098,
          0.3824971763617098,
          0.3824971763617098,
          0.3824971763617098,
          0.3824971763617098,
          0.38423645698755127,
          0.38599162748529986,
          0.386275200663069,
          0.386275200663069,
          0.3886120999207204,
          0.3886120999207204,
          0.3886120999207204,
          0.3886120999207204,
          0.3883357046775756,
          0.3883357046775756,
          0.3883357046775756,
          0.3883357046775756,
          0.3883357046775756,
          0.38999999888571435,
          0.38999999888571435,
          0.38999999888571435,
          0.38999999888571435,
          0.38999999888571435,
          0.38999999888571435
         ]
        },
        {
         "line": {
          "color": "rgba(255, 153, 51, 1.0)",
          "dash": "solid",
          "shape": "linear",
          "width": 1.3
         },
         "marker": {
          "size": 12,
          "symbol": "circle"
         },
         "mode": "lines+markers",
         "name": "Peanuts",
         "text": "",
         "type": "scatter",
         "uid": "eef182cd-fef5-49eb-8a1b-cfb606b74027",
         "x": [
          2015,
          2016,
          2017,
          2018,
          2019,
          2020,
          2021,
          2022,
          2023,
          2024,
          2025,
          2026,
          2027,
          2028,
          2029,
          2030,
          2031,
          2032,
          2033,
          2034,
          2035,
          2036,
          2037,
          2038,
          2039,
          2040
         ],
         "y": [
          2.220020638442379,
          2.2446947686363963,
          2.258787929870203,
          2.261833318470923,
          2.2660525767656354,
          2.26265930478152,
          2.273961254498945,
          2.2773194902556253,
          2.2735961808261616,
          2.268151819257511,
          2.279539204482968,
          2.2927358214291735,
          2.295842623072156,
          2.2995122858163226,
          2.3032782205545144,
          2.3062797113690943,
          2.310225371174796,
          2.315584512589004,
          2.3191273238772796,
          2.3248937702384986,
          2.329564615466534,
          2.3334876336033656,
          2.3345550553594694,
          2.342085926808145,
          2.347087063652745,
          2.3504874452015807
         ]
        },
        {
         "line": {
          "color": "rgba(255, 215, 0, 1.0)",
          "dash": "solid",
          "shape": "linear",
          "width": 1.3
         },
         "marker": {
          "size": 12,
          "symbol": "circle"
         },
         "mode": "lines+markers",
         "name": "Maize",
         "text": "",
         "type": "scatter",
         "uid": "6b03db90-ead4-41e4-b72c-ece5b9134b1d",
         "x": [
          2015,
          2016,
          2017,
          2018,
          2019,
          2020,
          2021,
          2022,
          2023,
          2024,
          2025,
          2026,
          2027,
          2028,
          2029,
          2030,
          2031,
          2032,
          2033,
          2034,
          2035,
          2036,
          2037,
          2038,
          2039,
          2040
         ],
         "y": [
          7.475475761270795,
          7.491315426188088,
          7.506326432677774,
          7.5197501673591445,
          7.534756452239033,
          7.548917663353532,
          7.56333750873107,
          7.577653065612206,
          7.585547822557466,
          7.5996447674231105,
          7.598628658756325,
          7.595696016344041,
          7.61220245029436,
          7.623896290442244,
          7.6415473247269885,
          7.6523437435772195,
          7.668950767976445,
          7.681978673407803,
          7.691758525841948,
          7.7084675999287455,
          7.721555899023731,
          7.735498255159904,
          7.756623937273064,
          7.766716238949803,
          7.7767372742875285,
          7.790000041015757
         ]
        },
        {
         "line": {
          "color": "rgba(0, 128, 0, 1.0)",
          "dash": "solid",
          "shape": "linear",
          "width": 1.3
         },
         "marker": {
          "size": 12,
          "symbol": "circle"
         },
         "mode": "lines+markers",
         "name": "Rice",
         "text": "",
         "type": "scatter",
         "uid": "07151260-ddfb-451f-8426-0aa3e426bf9e",
         "x": [
          2015,
          2016,
          2017,
          2018,
          2019,
          2020,
          2021,
          2022,
          2023,
          2024,
          2025,
          2026,
          2027,
          2028,
          2029,
          2030,
          2031,
          2032,
          2033,
          2034,
          2035,
          2036,
          2037,
          2038,
          2039,
          2040
         ],
         "y": [
          6.366702673033846,
          6.365449436015821,
          6.3630212582165715,
          6.3586425466707,
          6.354412279706627,
          6.350781287695512,
          6.3539023902671214,
          6.356495507344904,
          6.36000730794492,
          6.363670564712581,
          6.366560653036504,
          6.368249913831788,
          6.368696266011237,
          6.368897167085666,
          6.369088959717657,
          6.363294036229815,
          6.369958690297868,
          6.3768777715376945,
          6.386679663621597,
          6.395591370997275,
          6.404967698709348,
          6.414003922496617,
          6.422814139282463,
          6.4311252456498105,
          6.440454991441195,
          6.449662422554956
         ]
        },
        {
         "line": {
          "color": "rgba(178, 34, 34, 1.0)",
          "dash": "solid",
          "shape": "linear",
          "width": 1.3
         },
         "marker": {
          "size": 12,
          "symbol": "circle"
         },
         "mode": "lines+markers",
         "name": "Soybean",
         "text": "",
         "type": "scatter",
         "uid": "13d909b4-611c-40e5-be19-70be7b4f3bad",
         "x": [
          2015,
          2016,
          2017,
          2018,
          2019,
          2020,
          2021,
          2022,
          2023,
          2024,
          2025,
          2026,
          2027,
          2028,
          2029,
          2030,
          2031,
          2032,
          2033,
          2034,
          2035,
          2036,
          2037,
          2038,
          2039,
          2040
         ],
         "y": [
          3.201859554360689,
          3.2071476148416638,
          3.2127499050900132,
          3.2178467906289545,
          3.227800415922193,
          3.23301475525497,
          3.2371837832606505,
          3.2454755383336207,
          3.250559156744386,
          3.2546535121565596,
          3.2627972127158253,
          3.267065521748366,
          3.2717715925977653,
          3.275969681317542,
          3.2839162624300937,
          3.2878680423935935,
          3.292485678229476,
          3.3107857887394525,
          3.3260584269763176,
          3.327447338015231,
          3.3309517525459613,
          3.3323405942548057,
          3.3337305946029954,
          3.3351217550410213,
          3.338608865278388,
          3.3400000795238105
         ]
        },
        {
         "line": {
          "color": "rgba(128, 0, 128, 1.0)",
          "dash": "solid",
          "shape": "linear",
          "width": 1.3
         },
         "marker": {
          "size": 12,
          "symbol": "circle"
         },
         "mode": "lines+markers",
         "name": "Sugarcane",
         "text": "",
         "type": "scatter",
         "uid": "5e0cf8b9-78f6-4660-8b05-71c5dd9401ef",
         "x": [
          2015,
          2016,
          2017,
          2018,
          2019,
          2020,
          2021,
          2022,
          2023,
          2024,
          2025,
          2026,
          2027,
          2028,
          2029,
          2030,
          2031,
          2032,
          2033,
          2034,
          2035,
          2036,
          2037,
          2038,
          2039,
          2040
         ],
         "y": [
          9.39721051812179,
          9.399812733571224,
          9.400915166284655,
          9.404846771745662,
          9.408594505703906,
          9.411882110846808,
          9.411131687056525,
          9.414254959800708,
          9.416845257890358,
          9.419034432973405,
          9.420431813618245,
          9.416795778247117,
          9.406526952985587,
          9.396130486464248,
          9.385593683825201,
          9.38706305541998,
          9.395742620690664,
          9.407895204342976,
          9.425811919588954,
          9.436160799372498,
          9.447016592323402,
          9.457606664106141,
          9.466644675918099,
          9.46804253520088,
          9.469665482320918,
          9.472217510451514
         ]
        },
        {
         "line": {
          "color": "rgba(255, 0, 136, 1.0)",
          "dash": "solid",
          "shape": "linear",
          "width": 1.3
         },
         "marker": {
          "size": 12,
          "symbol": "circle"
         },
         "mode": "lines+markers",
         "name": "Tea",
         "text": "",
         "type": "scatter",
         "uid": "536d5dd7-5335-4f2e-bf2d-976d87ac8901",
         "x": [
          2015,
          2016,
          2017,
          2018,
          2019,
          2020,
          2021,
          2022,
          2023,
          2024,
          2025,
          2026,
          2027,
          2028,
          2029,
          2030,
          2031,
          2032,
          2033,
          2034,
          2035,
          2036,
          2037,
          2038,
          2039,
          2040
         ],
         "y": [
          0.9578286513139395,
          0.9589879986907827,
          0.9604992183333801,
          0.9611174389169316,
          0.9630001383308424,
          0.9635456782216697,
          0.9669660389901785,
          0.9681795277021209,
          0.9685986147165102,
          0.969329274431411,
          0.9700620763962198,
          0.9704645799984463,
          0.9711732844914279,
          0.9720617102261944,
          0.9727156096793034,
          0.9739992001867633,
          0.9757501594954104,
          0.9771743578484058,
          0.9785756525517504,
          0.9791017536162784,
          0.9793574264328363,
          0.9798594979895083,
          0.9805594687238783,
          0.980633413080715,
          0.9817583438469393,
          0.9818293953383304
         ]
        }
       ],
       "layout": {
        "legend": {
         "bgcolor": "#FFFFFF",
         "font": {
          "color": "#4D5663"
         }
        },
        "paper_bgcolor": "#FFFFFF",
        "plot_bgcolor": "#FFFFFF",
        "title": {
         "font": {
          "color": "#4D5663"
         },
         "text": "Yield (tonnes/hectare)"
        },
        "xaxis": {
         "gridcolor": "#E1E5ED",
         "showgrid": true,
         "tickfont": {
          "color": "#4D5663"
         },
         "title": {
          "font": {
           "color": "#4D5663"
          },
          "text": "Year"
         },
         "zerolinecolor": "#E1E5ED"
        },
        "yaxis": {
         "gridcolor": "#E1E5ED",
         "showgrid": true,
         "tickfont": {
          "color": "#4D5663"
         },
         "title": {
          "font": {
           "color": "#4D5663"
          },
          "text": "Yield (t/ha)"
         },
         "zerolinecolor": "#E1E5ED"
        }
       }
      },
      "text/html": [
       "<div id=\"5c759c34-2513-4376-9d14-df709bdc5fe4\" style=\"height: 525px; width: 100%;\" class=\"plotly-graph-div\"></div><script type=\"text/javascript\">require([\"plotly\"], function(Plotly) { window.PLOTLYENV=window.PLOTLYENV || {};window.PLOTLYENV.BASE_URL=\"https://plot.ly\";\n",
       "if (document.getElementById(\"5c759c34-2513-4376-9d14-df709bdc5fe4\")) {\n",
       "    Plotly.newPlot(\"5c759c34-2513-4376-9d14-df709bdc5fe4\", [{\"line\": {\"color\": \"rgba(165, 42, 42, 1.0)\", \"dash\": \"solid\", \"shape\": \"linear\", \"width\": 1.3}, \"marker\": {\"size\": 12, \"symbol\": \"circle\"}, \"mode\": \"lines+markers\", \"name\": \"Coffee\", \"text\": \"\", \"x\": [2015, 2016, 2017, 2018, 2019, 2020, 2021, 2022, 2023, 2024, 2025, 2026, 2027, 2028, 2029, 2030, 2031, 2032, 2033, 2034, 2035, 2036, 2037, 2038, 2039, 2040], \"y\": [1.705543291900647, 1.697021956493567, 1.693887310741345, 1.692139797085892, 1.6886713913955722, 1.686717409326808, 1.6836005573607018, 1.6812280966611552, 1.678803412630796, 1.6766999599448755, 1.6741413586825349, 1.6743656507225986, 1.676233725670301, 1.6785934385589356, 1.6797685869484482, 1.6821451623934591, 1.6837782340862422, 1.6854796638937217, 1.6871138381979496, 1.689367791850926, 1.6910036904442614, 1.692708333333333, 1.6943523681130037, 1.6945981270824382, 1.6967080927708964, 1.6999999862681743], \"type\": \"scatter\", \"uid\": \"b8769203-79d8-4c32-a25a-6160926356f3\"}, {\"line\": {\"color\": \"rgba(128, 128, 128, 1.0)\", \"dash\": \"solid\", \"shape\": \"linear\", \"width\": 1.3}, \"marker\": {\"size\": 12, \"symbol\": \"circle\"}, \"mode\": \"lines+markers\", \"name\": \"Cotton\", \"text\": \"\", \"x\": [2015, 2016, 2017, 2018, 2019, 2020, 2021, 2022, 2023, 2024, 2025, 2026, 2027, 2028, 2029, 2030, 2031, 2032, 2033, 2034, 2035, 2036, 2037, 2038, 2039, 2040], \"y\": [0.47549378200438913, 0.407774477627563, 0.3824971763617098, 0.3824971763617098, 0.3824971763617098, 0.3824971763617098, 0.3824971763617098, 0.38423645698755127, 0.38599162748529986, 0.386275200663069, 0.386275200663069, 0.3886120999207204, 0.3886120999207204, 0.3886120999207204, 0.3886120999207204, 0.3883357046775756, 0.3883357046775756, 0.3883357046775756, 0.3883357046775756, 0.3883357046775756, 0.38999999888571435, 0.38999999888571435, 0.38999999888571435, 0.38999999888571435, 0.38999999888571435, 0.38999999888571435], \"type\": \"scatter\", \"uid\": \"efe10595-a9dc-4bf4-a3f0-97189c195cbc\"}, {\"line\": {\"color\": \"rgba(255, 153, 51, 1.0)\", \"dash\": \"solid\", \"shape\": \"linear\", \"width\": 1.3}, \"marker\": {\"size\": 12, \"symbol\": \"circle\"}, \"mode\": \"lines+markers\", \"name\": \"Peanuts\", \"text\": \"\", \"x\": [2015, 2016, 2017, 2018, 2019, 2020, 2021, 2022, 2023, 2024, 2025, 2026, 2027, 2028, 2029, 2030, 2031, 2032, 2033, 2034, 2035, 2036, 2037, 2038, 2039, 2040], \"y\": [2.220020638442379, 2.2446947686363963, 2.258787929870203, 2.261833318470923, 2.2660525767656354, 2.26265930478152, 2.273961254498945, 2.2773194902556253, 2.2735961808261616, 2.268151819257511, 2.279539204482968, 2.2927358214291735, 2.295842623072156, 2.2995122858163226, 2.3032782205545144, 2.3062797113690943, 2.310225371174796, 2.315584512589004, 2.3191273238772796, 2.3248937702384986, 2.329564615466534, 2.3334876336033656, 2.3345550553594694, 2.342085926808145, 2.347087063652745, 2.3504874452015807], \"type\": \"scatter\", \"uid\": \"299c1144-d542-436f-8cfd-0c9fe2fa3e54\"}, {\"line\": {\"color\": \"rgba(255, 215, 0, 1.0)\", \"dash\": \"solid\", \"shape\": \"linear\", \"width\": 1.3}, \"marker\": {\"size\": 12, \"symbol\": \"circle\"}, \"mode\": \"lines+markers\", \"name\": \"Maize\", \"text\": \"\", \"x\": [2015, 2016, 2017, 2018, 2019, 2020, 2021, 2022, 2023, 2024, 2025, 2026, 2027, 2028, 2029, 2030, 2031, 2032, 2033, 2034, 2035, 2036, 2037, 2038, 2039, 2040], \"y\": [7.475475761270795, 7.491315426188088, 7.506326432677774, 7.5197501673591445, 7.534756452239033, 7.548917663353532, 7.56333750873107, 7.577653065612206, 7.585547822557466, 7.5996447674231105, 7.598628658756325, 7.595696016344041, 7.61220245029436, 7.623896290442244, 7.6415473247269885, 7.6523437435772195, 7.668950767976445, 7.681978673407803, 7.691758525841948, 7.7084675999287455, 7.721555899023731, 7.735498255159904, 7.756623937273064, 7.766716238949803, 7.7767372742875285, 7.790000041015757], \"type\": \"scatter\", \"uid\": \"f8ba1c12-db2e-409c-a460-19ac7fc35516\"}, {\"line\": {\"color\": \"rgba(0, 128, 0, 1.0)\", \"dash\": \"solid\", \"shape\": \"linear\", \"width\": 1.3}, \"marker\": {\"size\": 12, \"symbol\": \"circle\"}, \"mode\": \"lines+markers\", \"name\": \"Rice\", \"text\": \"\", \"x\": [2015, 2016, 2017, 2018, 2019, 2020, 2021, 2022, 2023, 2024, 2025, 2026, 2027, 2028, 2029, 2030, 2031, 2032, 2033, 2034, 2035, 2036, 2037, 2038, 2039, 2040], \"y\": [6.366702673033846, 6.365449436015821, 6.3630212582165715, 6.3586425466707, 6.354412279706627, 6.350781287695512, 6.3539023902671214, 6.356495507344904, 6.36000730794492, 6.363670564712581, 6.366560653036504, 6.368249913831788, 6.368696266011237, 6.368897167085666, 6.369088959717657, 6.363294036229815, 6.369958690297868, 6.3768777715376945, 6.386679663621597, 6.395591370997275, 6.404967698709348, 6.414003922496617, 6.422814139282463, 6.4311252456498105, 6.440454991441195, 6.449662422554956], \"type\": \"scatter\", \"uid\": \"3a8e741d-43ab-4777-a5db-895a36085ddd\"}, {\"line\": {\"color\": \"rgba(178, 34, 34, 1.0)\", \"dash\": \"solid\", \"shape\": \"linear\", \"width\": 1.3}, \"marker\": {\"size\": 12, \"symbol\": \"circle\"}, \"mode\": \"lines+markers\", \"name\": \"Soybean\", \"text\": \"\", \"x\": [2015, 2016, 2017, 2018, 2019, 2020, 2021, 2022, 2023, 2024, 2025, 2026, 2027, 2028, 2029, 2030, 2031, 2032, 2033, 2034, 2035, 2036, 2037, 2038, 2039, 2040], \"y\": [3.201859554360689, 3.2071476148416638, 3.2127499050900132, 3.2178467906289545, 3.227800415922193, 3.23301475525497, 3.2371837832606505, 3.2454755383336207, 3.250559156744386, 3.2546535121565596, 3.2627972127158253, 3.267065521748366, 3.2717715925977653, 3.275969681317542, 3.2839162624300937, 3.2878680423935935, 3.292485678229476, 3.3107857887394525, 3.3260584269763176, 3.327447338015231, 3.3309517525459613, 3.3323405942548057, 3.3337305946029954, 3.3351217550410213, 3.338608865278388, 3.3400000795238105], \"type\": \"scatter\", \"uid\": \"102969c2-cdf5-4313-95b8-a8fc67f003a0\"}, {\"line\": {\"color\": \"rgba(128, 0, 128, 1.0)\", \"dash\": \"solid\", \"shape\": \"linear\", \"width\": 1.3}, \"marker\": {\"size\": 12, \"symbol\": \"circle\"}, \"mode\": \"lines+markers\", \"name\": \"Sugarcane\", \"text\": \"\", \"x\": [2015, 2016, 2017, 2018, 2019, 2020, 2021, 2022, 2023, 2024, 2025, 2026, 2027, 2028, 2029, 2030, 2031, 2032, 2033, 2034, 2035, 2036, 2037, 2038, 2039, 2040], \"y\": [9.39721051812179, 9.399812733571224, 9.400915166284655, 9.404846771745662, 9.408594505703906, 9.411882110846808, 9.411131687056525, 9.414254959800708, 9.416845257890358, 9.419034432973405, 9.420431813618245, 9.416795778247117, 9.406526952985587, 9.396130486464248, 9.385593683825201, 9.38706305541998, 9.395742620690664, 9.407895204342976, 9.425811919588954, 9.436160799372498, 9.447016592323402, 9.457606664106141, 9.466644675918099, 9.46804253520088, 9.469665482320918, 9.472217510451514], \"type\": \"scatter\", \"uid\": \"5c8b1584-2080-464a-9aaf-9f4344714d27\"}, {\"line\": {\"color\": \"rgba(255, 0, 136, 1.0)\", \"dash\": \"solid\", \"shape\": \"linear\", \"width\": 1.3}, \"marker\": {\"size\": 12, \"symbol\": \"circle\"}, \"mode\": \"lines+markers\", \"name\": \"Tea\", \"text\": \"\", \"x\": [2015, 2016, 2017, 2018, 2019, 2020, 2021, 2022, 2023, 2024, 2025, 2026, 2027, 2028, 2029, 2030, 2031, 2032, 2033, 2034, 2035, 2036, 2037, 2038, 2039, 2040], \"y\": [0.9578286513139395, 0.9589879986907827, 0.9604992183333801, 0.9611174389169316, 0.9630001383308424, 0.9635456782216697, 0.9669660389901785, 0.9681795277021209, 0.9685986147165102, 0.969329274431411, 0.9700620763962198, 0.9704645799984463, 0.9711732844914279, 0.9720617102261944, 0.9727156096793034, 0.9739992001867633, 0.9757501594954104, 0.9771743578484058, 0.9785756525517504, 0.9791017536162784, 0.9793574264328363, 0.9798594979895083, 0.9805594687238783, 0.980633413080715, 0.9817583438469393, 0.9818293953383304], \"type\": \"scatter\", \"uid\": \"7e7966ba-02a0-4365-bd11-b67b95623396\"}], {\"legend\": {\"bgcolor\": \"#FFFFFF\", \"font\": {\"color\": \"#4D5663\"}}, \"paper_bgcolor\": \"#FFFFFF\", \"plot_bgcolor\": \"#FFFFFF\", \"title\": {\"text\": \"Yield (tonnes/hectare)\", \"font\": {\"color\": \"#4D5663\"}}, \"xaxis\": {\"gridcolor\": \"#E1E5ED\", \"showgrid\": true, \"tickfont\": {\"color\": \"#4D5663\"}, \"title\": {\"text\": \"Year\", \"font\": {\"color\": \"#4D5663\"}}, \"zerolinecolor\": \"#E1E5ED\"}, \"yaxis\": {\"gridcolor\": \"#E1E5ED\", \"showgrid\": true, \"tickfont\": {\"color\": \"#4D5663\"}, \"title\": {\"text\": \"Yield (t/ha)\", \"font\": {\"color\": \"#4D5663\"}}, \"zerolinecolor\": \"#E1E5ED\"}}, {\"showLink\": true, \"linkText\": \"Export to plot.ly\", \"plotlyServerURL\": \"https://plot.ly\"}); \n",
       "}\n",
       "});</script><script type=\"text/javascript\">window.addEventListener(\"resize\", function(){if (document.getElementById(\"5c759c34-2513-4376-9d14-df709bdc5fe4\")) {window._Plotly.Plots.resize(document.getElementById(\"5c759c34-2513-4376-9d14-df709bdc5fe4\"));};})</script>"
      ],
      "text/vnd.plotly.v1+html": [
       "<div id=\"5c759c34-2513-4376-9d14-df709bdc5fe4\" style=\"height: 525px; width: 100%;\" class=\"plotly-graph-div\"></div><script type=\"text/javascript\">require([\"plotly\"], function(Plotly) { window.PLOTLYENV=window.PLOTLYENV || {};window.PLOTLYENV.BASE_URL=\"https://plot.ly\";\n",
       "if (document.getElementById(\"5c759c34-2513-4376-9d14-df709bdc5fe4\")) {\n",
       "    Plotly.newPlot(\"5c759c34-2513-4376-9d14-df709bdc5fe4\", [{\"line\": {\"color\": \"rgba(165, 42, 42, 1.0)\", \"dash\": \"solid\", \"shape\": \"linear\", \"width\": 1.3}, \"marker\": {\"size\": 12, \"symbol\": \"circle\"}, \"mode\": \"lines+markers\", \"name\": \"Coffee\", \"text\": \"\", \"x\": [2015, 2016, 2017, 2018, 2019, 2020, 2021, 2022, 2023, 2024, 2025, 2026, 2027, 2028, 2029, 2030, 2031, 2032, 2033, 2034, 2035, 2036, 2037, 2038, 2039, 2040], \"y\": [1.705543291900647, 1.697021956493567, 1.693887310741345, 1.692139797085892, 1.6886713913955722, 1.686717409326808, 1.6836005573607018, 1.6812280966611552, 1.678803412630796, 1.6766999599448755, 1.6741413586825349, 1.6743656507225986, 1.676233725670301, 1.6785934385589356, 1.6797685869484482, 1.6821451623934591, 1.6837782340862422, 1.6854796638937217, 1.6871138381979496, 1.689367791850926, 1.6910036904442614, 1.692708333333333, 1.6943523681130037, 1.6945981270824382, 1.6967080927708964, 1.6999999862681743], \"type\": \"scatter\", \"uid\": \"b8769203-79d8-4c32-a25a-6160926356f3\"}, {\"line\": {\"color\": \"rgba(128, 128, 128, 1.0)\", \"dash\": \"solid\", \"shape\": \"linear\", \"width\": 1.3}, \"marker\": {\"size\": 12, \"symbol\": \"circle\"}, \"mode\": \"lines+markers\", \"name\": \"Cotton\", \"text\": \"\", \"x\": [2015, 2016, 2017, 2018, 2019, 2020, 2021, 2022, 2023, 2024, 2025, 2026, 2027, 2028, 2029, 2030, 2031, 2032, 2033, 2034, 2035, 2036, 2037, 2038, 2039, 2040], \"y\": [0.47549378200438913, 0.407774477627563, 0.3824971763617098, 0.3824971763617098, 0.3824971763617098, 0.3824971763617098, 0.3824971763617098, 0.38423645698755127, 0.38599162748529986, 0.386275200663069, 0.386275200663069, 0.3886120999207204, 0.3886120999207204, 0.3886120999207204, 0.3886120999207204, 0.3883357046775756, 0.3883357046775756, 0.3883357046775756, 0.3883357046775756, 0.3883357046775756, 0.38999999888571435, 0.38999999888571435, 0.38999999888571435, 0.38999999888571435, 0.38999999888571435, 0.38999999888571435], \"type\": \"scatter\", \"uid\": \"efe10595-a9dc-4bf4-a3f0-97189c195cbc\"}, {\"line\": {\"color\": \"rgba(255, 153, 51, 1.0)\", \"dash\": \"solid\", \"shape\": \"linear\", \"width\": 1.3}, \"marker\": {\"size\": 12, \"symbol\": \"circle\"}, \"mode\": \"lines+markers\", \"name\": \"Peanuts\", \"text\": \"\", \"x\": [2015, 2016, 2017, 2018, 2019, 2020, 2021, 2022, 2023, 2024, 2025, 2026, 2027, 2028, 2029, 2030, 2031, 2032, 2033, 2034, 2035, 2036, 2037, 2038, 2039, 2040], \"y\": [2.220020638442379, 2.2446947686363963, 2.258787929870203, 2.261833318470923, 2.2660525767656354, 2.26265930478152, 2.273961254498945, 2.2773194902556253, 2.2735961808261616, 2.268151819257511, 2.279539204482968, 2.2927358214291735, 2.295842623072156, 2.2995122858163226, 2.3032782205545144, 2.3062797113690943, 2.310225371174796, 2.315584512589004, 2.3191273238772796, 2.3248937702384986, 2.329564615466534, 2.3334876336033656, 2.3345550553594694, 2.342085926808145, 2.347087063652745, 2.3504874452015807], \"type\": \"scatter\", \"uid\": \"299c1144-d542-436f-8cfd-0c9fe2fa3e54\"}, {\"line\": {\"color\": \"rgba(255, 215, 0, 1.0)\", \"dash\": \"solid\", \"shape\": \"linear\", \"width\": 1.3}, \"marker\": {\"size\": 12, \"symbol\": \"circle\"}, \"mode\": \"lines+markers\", \"name\": \"Maize\", \"text\": \"\", \"x\": [2015, 2016, 2017, 2018, 2019, 2020, 2021, 2022, 2023, 2024, 2025, 2026, 2027, 2028, 2029, 2030, 2031, 2032, 2033, 2034, 2035, 2036, 2037, 2038, 2039, 2040], \"y\": [7.475475761270795, 7.491315426188088, 7.506326432677774, 7.5197501673591445, 7.534756452239033, 7.548917663353532, 7.56333750873107, 7.577653065612206, 7.585547822557466, 7.5996447674231105, 7.598628658756325, 7.595696016344041, 7.61220245029436, 7.623896290442244, 7.6415473247269885, 7.6523437435772195, 7.668950767976445, 7.681978673407803, 7.691758525841948, 7.7084675999287455, 7.721555899023731, 7.735498255159904, 7.756623937273064, 7.766716238949803, 7.7767372742875285, 7.790000041015757], \"type\": \"scatter\", \"uid\": \"f8ba1c12-db2e-409c-a460-19ac7fc35516\"}, {\"line\": {\"color\": \"rgba(0, 128, 0, 1.0)\", \"dash\": \"solid\", \"shape\": \"linear\", \"width\": 1.3}, \"marker\": {\"size\": 12, \"symbol\": \"circle\"}, \"mode\": \"lines+markers\", \"name\": \"Rice\", \"text\": \"\", \"x\": [2015, 2016, 2017, 2018, 2019, 2020, 2021, 2022, 2023, 2024, 2025, 2026, 2027, 2028, 2029, 2030, 2031, 2032, 2033, 2034, 2035, 2036, 2037, 2038, 2039, 2040], \"y\": [6.366702673033846, 6.365449436015821, 6.3630212582165715, 6.3586425466707, 6.354412279706627, 6.350781287695512, 6.3539023902671214, 6.356495507344904, 6.36000730794492, 6.363670564712581, 6.366560653036504, 6.368249913831788, 6.368696266011237, 6.368897167085666, 6.369088959717657, 6.363294036229815, 6.369958690297868, 6.3768777715376945, 6.386679663621597, 6.395591370997275, 6.404967698709348, 6.414003922496617, 6.422814139282463, 6.4311252456498105, 6.440454991441195, 6.449662422554956], \"type\": \"scatter\", \"uid\": \"3a8e741d-43ab-4777-a5db-895a36085ddd\"}, {\"line\": {\"color\": \"rgba(178, 34, 34, 1.0)\", \"dash\": \"solid\", \"shape\": \"linear\", \"width\": 1.3}, \"marker\": {\"size\": 12, \"symbol\": \"circle\"}, \"mode\": \"lines+markers\", \"name\": \"Soybean\", \"text\": \"\", \"x\": [2015, 2016, 2017, 2018, 2019, 2020, 2021, 2022, 2023, 2024, 2025, 2026, 2027, 2028, 2029, 2030, 2031, 2032, 2033, 2034, 2035, 2036, 2037, 2038, 2039, 2040], \"y\": [3.201859554360689, 3.2071476148416638, 3.2127499050900132, 3.2178467906289545, 3.227800415922193, 3.23301475525497, 3.2371837832606505, 3.2454755383336207, 3.250559156744386, 3.2546535121565596, 3.2627972127158253, 3.267065521748366, 3.2717715925977653, 3.275969681317542, 3.2839162624300937, 3.2878680423935935, 3.292485678229476, 3.3107857887394525, 3.3260584269763176, 3.327447338015231, 3.3309517525459613, 3.3323405942548057, 3.3337305946029954, 3.3351217550410213, 3.338608865278388, 3.3400000795238105], \"type\": \"scatter\", \"uid\": \"102969c2-cdf5-4313-95b8-a8fc67f003a0\"}, {\"line\": {\"color\": \"rgba(128, 0, 128, 1.0)\", \"dash\": \"solid\", \"shape\": \"linear\", \"width\": 1.3}, \"marker\": {\"size\": 12, \"symbol\": \"circle\"}, \"mode\": \"lines+markers\", \"name\": \"Sugarcane\", \"text\": \"\", \"x\": [2015, 2016, 2017, 2018, 2019, 2020, 2021, 2022, 2023, 2024, 2025, 2026, 2027, 2028, 2029, 2030, 2031, 2032, 2033, 2034, 2035, 2036, 2037, 2038, 2039, 2040], \"y\": [9.39721051812179, 9.399812733571224, 9.400915166284655, 9.404846771745662, 9.408594505703906, 9.411882110846808, 9.411131687056525, 9.414254959800708, 9.416845257890358, 9.419034432973405, 9.420431813618245, 9.416795778247117, 9.406526952985587, 9.396130486464248, 9.385593683825201, 9.38706305541998, 9.395742620690664, 9.407895204342976, 9.425811919588954, 9.436160799372498, 9.447016592323402, 9.457606664106141, 9.466644675918099, 9.46804253520088, 9.469665482320918, 9.472217510451514], \"type\": \"scatter\", \"uid\": \"5c8b1584-2080-464a-9aaf-9f4344714d27\"}, {\"line\": {\"color\": \"rgba(255, 0, 136, 1.0)\", \"dash\": \"solid\", \"shape\": \"linear\", \"width\": 1.3}, \"marker\": {\"size\": 12, \"symbol\": \"circle\"}, \"mode\": \"lines+markers\", \"name\": \"Tea\", \"text\": \"\", \"x\": [2015, 2016, 2017, 2018, 2019, 2020, 2021, 2022, 2023, 2024, 2025, 2026, 2027, 2028, 2029, 2030, 2031, 2032, 2033, 2034, 2035, 2036, 2037, 2038, 2039, 2040], \"y\": [0.9578286513139395, 0.9589879986907827, 0.9604992183333801, 0.9611174389169316, 0.9630001383308424, 0.9635456782216697, 0.9669660389901785, 0.9681795277021209, 0.9685986147165102, 0.969329274431411, 0.9700620763962198, 0.9704645799984463, 0.9711732844914279, 0.9720617102261944, 0.9727156096793034, 0.9739992001867633, 0.9757501594954104, 0.9771743578484058, 0.9785756525517504, 0.9791017536162784, 0.9793574264328363, 0.9798594979895083, 0.9805594687238783, 0.980633413080715, 0.9817583438469393, 0.9818293953383304], \"type\": \"scatter\", \"uid\": \"7e7966ba-02a0-4365-bd11-b67b95623396\"}], {\"legend\": {\"bgcolor\": \"#FFFFFF\", \"font\": {\"color\": \"#4D5663\"}}, \"paper_bgcolor\": \"#FFFFFF\", \"plot_bgcolor\": \"#FFFFFF\", \"title\": {\"text\": \"Yield (tonnes/hectare)\", \"font\": {\"color\": \"#4D5663\"}}, \"xaxis\": {\"gridcolor\": \"#E1E5ED\", \"showgrid\": true, \"tickfont\": {\"color\": \"#4D5663\"}, \"title\": {\"text\": \"Year\", \"font\": {\"color\": \"#4D5663\"}}, \"zerolinecolor\": \"#E1E5ED\"}, \"yaxis\": {\"gridcolor\": \"#E1E5ED\", \"showgrid\": true, \"tickfont\": {\"color\": \"#4D5663\"}, \"title\": {\"text\": \"Yield (t/ha)\", \"font\": {\"color\": \"#4D5663\"}}, \"zerolinecolor\": \"#E1E5ED\"}}, {\"showLink\": true, \"linkText\": \"Export to plot.ly\", \"plotlyServerURL\": \"https://plot.ly\"}); \n",
       "}\n",
       "});</script><script type=\"text/javascript\">window.addEventListener(\"resize\", function(){if (document.getElementById(\"5c759c34-2513-4376-9d14-df709bdc5fe4\")) {window._Plotly.Plots.resize(document.getElementById(\"5c759c34-2513-4376-9d14-df709bdc5fe4\"));};})</script>"
      ]
     },
     "metadata": {},
     "output_type": "display_data"
    }
   ],
   "source": [
    "crops_yield_df = crops_prod_df*10/crops_total_df\n",
    "crops_yield_df['y'] = years\n",
    "\n",
    "crops_yield_df.iplot(x='y',\n",
    "                     mode='lines+markers', \n",
    "                     xTitle='Year',\n",
    "                     yTitle='Yield (t/ha)',\n",
    "                     color=[color_dict[x] for x in crops_yield_df.columns if x != 'y'],\n",
    "                     title='Yield (tonnes/hectare)')"
   ]
  },
  {
   "cell_type": "code",
   "execution_count": null,
   "metadata": {},
   "outputs": [],
   "source": []
  }
 ],
 "metadata": {
  "kernelspec": {
   "display_name": "Python 3",
   "language": "python",
   "name": "python3"
  },
  "language_info": {
   "codemirror_mode": {
    "name": "ipython",
    "version": 3
   },
   "file_extension": ".py",
   "mimetype": "text/x-python",
   "name": "python",
   "nbconvert_exporter": "python",
   "pygments_lexer": "ipython3",
   "version": "3.7.0"
  }
 },
 "nbformat": 4,
 "nbformat_minor": 1
}
