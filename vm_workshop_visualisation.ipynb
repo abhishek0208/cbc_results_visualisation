{
 "cells": [
  {
   "cell_type": "code",
   "execution_count": null,
   "metadata": {},
   "outputs": [],
   "source": [
    "import pandas as pd\n",
    "#import numpy as np\n",
    "\n",
    "#importing plotly and cufflinks in offline mode\n",
    "import plotly.plotly as py\n",
    "import plotly.graph_objs as go\n",
    "import cufflinks\n",
    "import plotly.offline as pyo\n",
    "from plotly.offline import plot, iplot, init_notebook_mode\n",
    "pyo.init_notebook_mode()\n",
    "cufflinks.go_offline()\n",
    "cufflinks.set_config_file(world_readable=True, theme='white')"
   ]
  },
  {
   "cell_type": "code",
   "execution_count": null,
   "metadata": {},
   "outputs": [],
   "source": [
    "#Read CBC output file\n",
    "df = pd.read_csv('cbcoutput.txt', sep='\\t')"
   ]
  },
  {
   "cell_type": "code",
   "execution_count": null,
   "metadata": {},
   "outputs": [],
   "source": [
    "df.columns = ['temp']\n",
    "df[['temp','value']] = df['temp'].str.split(')', expand=True)\n",
    "df = df.applymap(lambda x: x.strip() if isinstance(x,str) else x)\n",
    "df[['temp','parameter']] = df['temp'].str.split(' ', expand=True)\n",
    "df[['parameter','id']] = df['parameter'].str.split('(', expand=True)\n",
    "df['value'] = df['value'].str.replace(' 0','')\n",
    "df = df.drop('temp', axis=1)\n",
    "df = df[~df['value'].str.contains('e-')]"
   ]
  },
  {
   "cell_type": "code",
   "execution_count": null,
   "metadata": {},
   "outputs": [],
   "source": [
    "params = df.parameter.unique()\n",
    "all_params = {}\n",
    "cols = {'NewCapacity':['r','t','y'],\n",
    "            'AccumulatedNewCapacity':['r','t','y'], \n",
    "            'TotalCapacityAnnual':['r','t','y'],\n",
    "            'CapitalInvestment':['r','t','y'],\n",
    "            'AnnualVariableOperatingCost':['r','t','y'],\n",
    "            'AnnualFixedOperatingCost':['r','t','y'],\n",
    "            'SalvageValue':['r','t','y'],\n",
    "            'DiscountedSalvageValue':['r','t','y'],\n",
    "            'TotalTechnologyAnnualActivity':['r','t','y'],\n",
    "            'RateOfActivity':['r','l','t','m','y'],\n",
    "            'RateOfTotalActivity':['r','t','l','y'],\n",
    "            'Demand':['r','l','f','y'],\n",
    "            'TotalAnnualTechnologyActivityByMode':['r','t','m','y'],\n",
    "            'TotalTechnologyModelPeriodActivity':['r','t'],\n",
    "            'ProductionByTechnologyAnnual':['r','t','f','y'],\n",
    "            'AnnualTechnologyEmissionByMode':['r','t','e','m','y'],\n",
    "            'AnnualTechnologyEmission':['r','t','e','y'],\n",
    "            'AnnualEmissions':['r','e','y']}\n",
    "\n",
    "for each in params:\n",
    "    df_p = df[df.parameter == each]\n",
    "    df_p[cols[each]] = df_p['id'].str.split(',',expand=True)\n",
    "    cols[each].append('value')\n",
    "    df_p = df_p[cols[each]] # Reorder dataframe to include 'value' as last column\n",
    "    all_params[each] = pd.DataFrame(df_p) # Create a dataframe for each parameter\n",
    "    df_p = df_p.rename(columns={'value':each})\n",
    "    #df_p.to_csv(str(each) + '.csv', index=None) # Print data for each paramter to a CSV file"
   ]
  },
  {
   "cell_type": "code",
   "execution_count": null,
   "metadata": {},
   "outputs": [],
   "source": [
    "# List of columns for detailed energy tables and figures\n",
    "years = pd.Series(range(2015,2031))\n",
    "\n",
    "det_col = {'BIO':'Biomass',\n",
    "           'COA':'Coal',\n",
    "           'CRU':'Crude oil',\n",
    "           'DSL':'Diesel',\n",
    "           'ELC':'Electricity',\n",
    "           'GEO':'Geothermal',\n",
    "           'GSL':'Gasoline',\n",
    "           'HFO':'HFO',\n",
    "           'HYD':'Hydro',\n",
    "           'JFL':'Jet fuel',\n",
    "           'LNG':'LNG',\n",
    "           'LPG':'LPG',\n",
    "           'PCK':'Petroleum coke',\n",
    "           'NGS':'Natural gas',\n",
    "           'OHC':'Other hydrocarbons',\n",
    "           'PET':'Petroleum products',\n",
    "           'SOL':'Solar',\n",
    "           'URN':'Nuclear',\n",
    "           'WAS':'MSW',\n",
    "           'WAT':'Water',\n",
    "           'LND':'Land',\n",
    "           'WND':'Wind',\n",
    "           'CP1':'Coffee',\n",
    "           'CP2':'Cotton',\n",
    "           'CP3':'Peanuts',\n",
    "           'CP4':'Maize',\n",
    "           'CP5':'Rice',\n",
    "           'CP6':'Soybean',\n",
    "           'CP7':'Sugarcane',\n",
    "           'CP8':'Tea',\n",
    "           'AGR':'Agriculture',\n",
    "           'BAR':'Barren land',\n",
    "           'FOR': 'Forests',\n",
    "           'GRS': 'Grassland & woodland',\n",
    "           'SET':'Built-up land',\n",
    "           'OTH':'Other agricultural land',\n",
    "           'PWR':'Power sector',\n",
    "           'PUB':'Public supply',\n",
    "           'EVT':'Evapotranspiration',\n",
    "           'PRC':'Precipitation',\n",
    "           'GRC':'Groundwater recharge',\n",
    "           'SUR':'Surface water'}\n",
    "\n",
    "# List of columns for aggregated energy tables and figures\n",
    "agg_col = {'Coal':['Coal'],\n",
    "           'Oil': ['Diesel','HFO','JFL','Crude oil','Petroleum coke'],\n",
    "           'Gas': ['Natural gas','LNG','LPG'],\n",
    "           'Hydro': ['Hydro'],\n",
    "           'Nuclear': ['Nuclear'],\n",
    "           'Other renewables': ['Biomass','Geothermal','Solar','MSW','Wind']}\n",
    "\n",
    "color_dict = {'Biomass':'forestgreen',\n",
    "              'Coal':'black',\n",
    "              'Crude oil':'red',\n",
    "              'Diesel':'firebrick',\n",
    "              'Electricity':'grey',\n",
    "              'Geothermal':'purple',\n",
    "              'Gasoline':'orange',\n",
    "              'HFO':'brown',\n",
    "              'Hydro':'blue',\n",
    "              'Jet fuel':'firebrick',\n",
    "              'LNG':'purple',\n",
    "              'LPG':'gold',\n",
    "              'Natural gas':'orange',\n",
    "              'Other hydrocarbons':'grey',\n",
    "              'Petroleum products':'red',\n",
    "              'Petroleum coke':'red',\n",
    "              'Solar':'gold',\n",
    "              'Nuclear':'grey',\n",
    "              'MSW':'green',\n",
    "              'Wind':'violet',\n",
    "              'Oil':'firebrick',\n",
    "              'Gas':'orange',\n",
    "              'Other renewables':'green',\n",
    "              'Coffee':'brown',\n",
    "              'Cotton':'grey',\n",
    "              'Peanuts':'orange',\n",
    "              'Maize':'gold',\n",
    "              'Rice':'green',\n",
    "              'Soybean':'firebrick',\n",
    "              'Sugarcane':'purple',\n",
    "              'Tea':'pink',\n",
    "              'Agriculture':'brown',\n",
    "              'Barren land':'grey',\n",
    "              'Forests':'forestgreen',\n",
    "              'Grassland & woodland':'darkgreen',\n",
    "              'Built-up land':'black',\n",
    "              'Other agricultural land':'gold',\n",
    "              'Water':'blue',\n",
    "              'Power sector':'red',\n",
    "              'Public supply':'grey',\n",
    "              'Irrigation':'brown',\n",
    "              'Evapotranspiration':'green',\n",
    "              'Precipitation':'blue',\n",
    "              'Groundwater recharge':'brown',\n",
    "              'Surface water':'red'}"
   ]
  },
  {
   "cell_type": "code",
   "execution_count": null,
   "metadata": {},
   "outputs": [],
   "source": [
    "def df_filter(df,lb,ub,t_exclude):\n",
    "    df['t'] = df['t'].str[lb:ub]\n",
    "    df['value'] = df['value'].astype('float64')\n",
    "    df = df[~df['t'].isin(t_exclude)].pivot_table(index='y', \n",
    "                                          columns='t',\n",
    "                                          values='value', \n",
    "                                          aggfunc='sum').reset_index().fillna(0)\n",
    "    df = df.reindex(sorted(df.columns), axis=1).set_index('y').reset_index().rename(columns=det_col)\n",
    "    df['y'] = years\n",
    "    return df\n",
    "\n",
    "def df_plot(df,y_title,p_title):\n",
    "    return df.iplot(x='y',\n",
    "             kind='bar', \n",
    "             barmode='stack',\n",
    "             xTitle='Year',\n",
    "             yTitle=y_title,\n",
    "             color=[color_dict[x] for x in df.columns if x != 'y'],\n",
    "             title=p_title)"
   ]
  },
  {
   "cell_type": "code",
   "execution_count": null,
   "metadata": {},
   "outputs": [],
   "source": [
    "# Power generation capacity (detailed)\n",
    "cap_df = all_params['TotalCapacityAnnual'][all_params['TotalCapacityAnnual'].t.str.startswith('PWR')].drop('r', axis=1)\n",
    "cap_df = df_filter(cap_df,3,6,['TRN'])\n",
    "df_plot(cap_df,'Gigawatts (GW)','Power Generation Capacity (Detail)')"
   ]
  },
  {
   "cell_type": "code",
   "execution_count": null,
   "metadata": {},
   "outputs": [],
   "source": [
    "# Power generation capacity (Aggregated)\n",
    "cap_agg_df = pd.DataFrame(columns=agg_col)\n",
    "cap_agg_df.insert(0,'y',cap_df['y'])\n",
    "cap_agg_df  = cap_agg_df.fillna(0.00)\n",
    "\n",
    "for each in agg_col:\n",
    "    for tech_exists in agg_col[each]:\n",
    "        if tech_exists in cap_df.columns:\n",
    "            cap_agg_df[each] = cap_agg_df[each] + cap_df[tech_exists]\n",
    "            cap_agg_df[each] = cap_agg_df[each].round(2)\n",
    "\n",
    "df_plot(cap_agg_df,'Gigawatts (GW)','Power Generation Capacity (Aggregate)')"
   ]
  },
  {
   "cell_type": "code",
   "execution_count": null,
   "metadata": {},
   "outputs": [],
   "source": [
    "#Power generation (Detailed)\n",
    "gen_df = all_params['ProductionByTechnologyAnnual'][all_params['ProductionByTechnologyAnnual'].t.str.startswith('PWR') & \n",
    "                                                   all_params['ProductionByTechnologyAnnual'].f.str.startswith('ELC001')].drop('r', axis=1)\n",
    "gen_df = df_filter(gen_df,3,6,['TRN'])\n",
    "df_plot(gen_df,'Petajoules (PJ)','Power Generation (Detail)')"
   ]
  },
  {
   "cell_type": "code",
   "execution_count": null,
   "metadata": {},
   "outputs": [],
   "source": [
    "# Power generation (Aggregated)\n",
    "gen_agg_df = pd.DataFrame(columns=agg_col)\n",
    "gen_agg_df.insert(0,'y',gen_df['y'])\n",
    "gen_agg_df  = gen_agg_df.fillna(0.00)\n",
    "\n",
    "for each in agg_col:\n",
    "    for tech_exists in agg_col[each]:\n",
    "        if tech_exists in gen_df.columns:\n",
    "            gen_agg_df[each] = gen_agg_df[each] + gen_df[tech_exists]\n",
    "            gen_agg_df[each] = gen_agg_df[each].round(2)\n",
    "\n",
    "df_plot(gen_agg_df,'Petajoules (PJ)','Power Generation (Aggregate)')"
   ]
  },
  {
   "cell_type": "code",
   "execution_count": null,
   "metadata": {},
   "outputs": [],
   "source": [
    "# Fuel use for power generation\n",
    "gen_use_df = all_params['ProductionByTechnologyAnnual'][all_params['ProductionByTechnologyAnnual'].t.str.startswith('DEMPWR')].drop('r', axis=1)\n",
    "gen_use_df = df_filter(gen_use_df,6,9,[])\n",
    "df_plot(gen_use_df,'Petajoules (PJ)','Power Generation (Fuel use)')"
   ]
  },
  {
   "cell_type": "code",
   "execution_count": null,
   "metadata": {},
   "outputs": [],
   "source": [
    "#Domestic fuel production\n",
    "fuels = ['OHC', 'GSL','DSL','LPG', 'JFL','HFO','NGS']\n",
    "\n",
    "dom_prd_df = all_params['ProductionByTechnologyAnnual'][all_params['ProductionByTechnologyAnnual'].t.str.startswith('MIN')|\n",
    "                                                       all_params['ProductionByTechnologyAnnual'].t.str.startswith('RNW')].drop('r', axis=1)\n",
    "dom_prd_df = df_filter(dom_prd_df,3,6,[])\n",
    "\n",
    "for each in dom_prd_df.columns:\n",
    "    if each in ['Land','Water','Geothermal','Hydro','Solar','Wind']:\n",
    "        dom_prd_df = dom_prd_df.drop(each, axis=1)\n",
    "df_plot(dom_prd_df,'Petajoules (PJ)','Domestic energy production')"
   ]
  },
  {
   "cell_type": "code",
   "execution_count": null,
   "metadata": {},
   "outputs": [],
   "source": [
    "#Energy imports\n",
    "ene_imp_df = all_params['ProductionByTechnologyAnnual'][all_params['ProductionByTechnologyAnnual'].t.str.startswith('IMP')].drop('r', axis=1)\n",
    "ene_imp_df = df_filter(ene_imp_df,3,6,[])\n",
    "#if len(ene_imp_df.columns) > 1:\n",
    "#    df_plot(ene_imp_df,'Petajoules (PJ)','Energy imports')"
   ]
  },
  {
   "cell_type": "code",
   "execution_count": null,
   "metadata": {},
   "outputs": [],
   "source": [
    "#Energy exports\n",
    "ene_exp_df = all_params['TotalTechnologyAnnualActivity'][all_params['TotalTechnologyAnnualActivity'].t.str.startswith('EXP')].drop('r', axis=1)\n",
    "ene_exp_df = df_filter(ene_exp_df,3,6,[])\n",
    "if len(ene_exp_df.columns) > 1:\n",
    "    df_plot(ene_exp_df,'Petajoules (PJ)','Energy exports')"
   ]
  },
  {
   "cell_type": "code",
   "execution_count": null,
   "metadata": {},
   "outputs": [],
   "source": [
    "cap_cos_df = all_params['CapitalInvestment'][all_params['CapitalInvestment'].t.str.startswith('PWR')].drop('r', axis=1)\n",
    "cap_cos_df = df_filter(cap_cos_df,3,6,['TRN'])\n",
    "df_plot(cap_cos_df,'Million $','Capital Investment')"
   ]
  },
  {
   "cell_type": "code",
   "execution_count": null,
   "metadata": {},
   "outputs": [],
   "source": [
    "ele_cos_df = pd.DataFrame(columns=['Total capital investment', 'Capital costs'])\n",
    "ele_cos_df.insert(0,'y',years)\n",
    "ele_cos_df['Total capital investment'] = cap_cos_df.iloc[:,1:].sum(axis=1)\n",
    "ele_cos_df['Capital costs'] = 0\n",
    "ele_cos_df = ele_cos_df.fillna(0)\n",
    "\n",
    "R = 0.1 # Discount rate\n",
    "n = 20 # Amortization period\n",
    "\n",
    "for i in ele_cos_df['y']:\n",
    "    for j in ele_cos_df['y']:\n",
    "        if i < j + n and i >= j:\n",
    "            ele_cos_df.loc[ele_cos_df['y']==i,'Capital costs'] = ele_cos_df.loc[ele_cos_df['y']==i,'Capital costs'] + (((ele_cos_df.loc[ele_cos_df['y']==j,'Total capital investment'].iloc[0])*R)/(1-(1+R)**(-n)))\n",
    "\n",
    "ele_cos_df.drop('Total capital investment', axis=1, inplace=True)"
   ]
  },
  {
   "cell_type": "code",
   "execution_count": null,
   "metadata": {},
   "outputs": [],
   "source": [
    "fix_cos_df = all_params['AnnualFixedOperatingCost'][all_params['AnnualFixedOperatingCost'].t.str.startswith('PWR')].drop('r', axis=1)\n",
    "fix_cos_df = df_filter(fix_cos_df,3,6,['TRN'])\n",
    "\n",
    "var_cos_df = all_params['AnnualVariableOperatingCost'][all_params['AnnualVariableOperatingCost'].t.str.startswith('PWR')].drop('r', axis=1)\n",
    "var_cos_df = df_filter(var_cos_df,3,6,['TRN'])\n",
    "\n",
    "dis_cos_df = all_params['AnnualVariableOperatingCost'][all_params['AnnualVariableOperatingCost'].t.str.startswith('DEMPWR')].drop('r', axis=1)\n",
    "dis_cos_df = df_filter(dis_cos_df,6,9,[])\n",
    "\n",
    "dom_val_df = all_params['AnnualVariableOperatingCost'][all_params['AnnualVariableOperatingCost'].t.str.startswith('MIN')|\n",
    "                                                       all_params['AnnualVariableOperatingCost'].t.str.startswith('RNW')].drop('r', axis=1)\n",
    "dom_val_df = df_filter(dom_val_df,3,6,[])\n",
    "for each in dom_val_df.columns:\n",
    "    if each in ['Land','Water','Geothermal','Hydro','Solar','Wind']:\n",
    "        dom_val_df = dom_val_df.drop(each, axis=1)\n",
    "        \n",
    "imp_val_df = all_params['AnnualVariableOperatingCost'][all_params['AnnualVariableOperatingCost'].t.str.startswith('IMP')].drop('r', axis=1)\n",
    "imp_val_df = df_filter(imp_val_df,3,6,[])\n",
    "\n",
    "exp_val_df = all_params['AnnualVariableOperatingCost'][all_params['AnnualVariableOperatingCost'].t.str.startswith('EXP')].drop('r', axis=1)\n",
    "exp_val_df = df_filter(exp_val_df,3,6,[])"
   ]
  },
  {
   "cell_type": "code",
   "execution_count": null,
   "metadata": {},
   "outputs": [],
   "source": [
    "temp_col_list = []\n",
    "temp_col_list = dom_val_df.columns\n",
    "\n",
    "if len(imp_val_df.columns) > 1:\n",
    "    temp_col_list = temp_col_list.append(imp_val_df.columns)\n",
    "\n",
    "if len(exp_val_df.columns) > 1:\n",
    "    temp_col_list = temp_col_list.append(exp_val_df.columns)\n",
    "\n",
    "fue_val_df = pd.DataFrame(columns=list(set(temp_col_list)))\n",
    "fue_val_df['y'] = years\n",
    "fue_val_df = fue_val_df.reindex(sorted(fue_val_df.columns),axis=1).set_index('y').reset_index()\n",
    "\n",
    "for each in dom_prd_df.columns:\n",
    "    if each != 'y':\n",
    "        fue_val_df[each] = dom_val_df[each]\n",
    "        fue_val_df = fue_val_df.fillna(0)\n",
    "for each in imp_val_df.columns :\n",
    "    if each != 'y' and len(imp_val_df.columns) > 1:\n",
    "        fue_val_df[each] = fue_val_df[each] + imp_val_df[each]\n",
    "        fue_val_df = fue_val_df.fillna(0)\n",
    "for each in exp_val_df.columns:\n",
    "    if each != 'y' and len(ene_exp_df.columns) > 1:\n",
    "        fue_val_df[each] = fue_val_df[each] - exp_val_df[each]"
   ]
  },
  {
   "cell_type": "code",
   "execution_count": null,
   "metadata": {},
   "outputs": [],
   "source": [
    "temp_col_list = []\n",
    "temp_col_list = dom_prd_df.columns\n",
    "if len(ene_imp_df.columns) > 1:\n",
    "    temp_col_list = temp_col_list.append(ene_imp_df.columns)\n",
    "if len(ene_exp_df.columns) > 1:\n",
    "    temp_col_list = temp_col_list.append(ene_exp_df.columns)\n",
    "\n",
    "fue_prd_df = pd.DataFrame(columns=list(set(temp_col_list)))\n",
    "fue_prd_df['y'] = years\n",
    "fue_prd_df = fue_prd_df.reindex(sorted(fue_prd_df.columns),axis=1).set_index('y').reset_index()\n",
    "\n",
    "for each in dom_prd_df.columns:\n",
    "    if each != 'y':\n",
    "        fue_prd_df[each] = dom_prd_df[each]\n",
    "        fue_prd_df = fue_prd_df.fillna(0)\n",
    "for each in ene_imp_df.columns:\n",
    "    if each != 'y' and len(ene_imp_df.columns) > 1:\n",
    "        fue_prd_df[each] = fue_prd_df[each] + ene_imp_df[each]\n",
    "        fue_prd_df = fue_prd_df.fillna(0)\n",
    "for each in ene_exp_df.columns:\n",
    "    if each != 'y' and len(ene_exp_df.columns) > 1:\n",
    "        fue_prd_df[each] = fue_prd_df[each] - ene_exp_df[each]"
   ]
  },
  {
   "cell_type": "code",
   "execution_count": null,
   "metadata": {},
   "outputs": [],
   "source": [
    "fue_cos_df = pd.DataFrame(columns=list(set(temp_col_list)))\n",
    "fue_cos_df['y'] = years\n",
    "\n",
    "fue_cos_df = (fue_val_df/fue_prd_df)*gen_use_df\n",
    "fue_cos_df = fue_cos_df.fillna(0)\n",
    "fue_cos_df = fue_cos_df.reindex(sorted(fue_cos_df.columns),axis=1).set_index('y').reset_index()\n",
    "fue_cos_df['y'] = years"
   ]
  },
  {
   "cell_type": "code",
   "execution_count": null,
   "metadata": {},
   "outputs": [],
   "source": [
    "ele_cos_df['Electricity generation'] = gen_df.iloc[:,1:].sum(axis=1)/3.6\n",
    "ele_cos_df['Capital costs'] = ele_cos_df['Capital costs']/ele_cos_df['Electricity generation']\n",
    "ele_cos_df['Fixed costs'] = fix_cos_df.iloc[:,1:].sum(axis=1)/ele_cos_df['Electricity generation']\n",
    "ele_cos_df['Variable costs'] = var_cos_df.iloc[:,1:].sum(axis=1)/ele_cos_df['Electricity generation']\n",
    "ele_cos_df['Fuel distribution costs'] = dis_cos_df.iloc[:,1:].sum(axis=1)/ele_cos_df['Electricity generation']\n",
    "ele_cos_df['Fuel costs'] = fue_cos_df.iloc[:,1:].sum(axis=1)/ele_cos_df['Electricity generation']"
   ]
  },
  {
   "cell_type": "code",
   "execution_count": null,
   "metadata": {},
   "outputs": [],
   "source": [
    "ele_cos_df.drop('Electricity generation',axis=1,inplace=True)"
   ]
  },
  {
   "cell_type": "code",
   "execution_count": null,
   "metadata": {},
   "outputs": [],
   "source": [
    "ele_cos_df.iplot(kind='bar',barmode='stack',x='y',title='Cost of electricity generation ($/MWh)')"
   ]
  },
  {
   "cell_type": "code",
   "execution_count": null,
   "metadata": {},
   "outputs": [],
   "source": [
    "# Land use\n",
    "\n",
    "regions = {'C':'Center',\n",
    "           'N':'North',\n",
    "           'S':'South'}\n",
    "\n",
    "crops = {'CP1':'Coffee',\n",
    "         'CP2':'Cotton',\n",
    "         'CP3':'Peanuts',\n",
    "         'CP4':'Maize',\n",
    "         'CP5':'Rice',\n",
    "         'CP6':'Soybean',\n",
    "         'CP7':'Sugarcane',\n",
    "         'CP8':'Tea'}\n",
    "\n",
    "water_supply = {'I':'Irrigated',\n",
    "                'R':'Rain-fed'}\n",
    "\n",
    "input_level = {'L':'Low',\n",
    "               'I':'Intermediate',\n",
    "               'H':'High'}"
   ]
  },
  {
   "cell_type": "code",
   "execution_count": null,
   "metadata": {},
   "outputs": [],
   "source": [
    "crops_total_df = all_params['TotalTechnologyAnnualActivity'][all_params['TotalTechnologyAnnualActivity'].t.str.startswith('LNDCP')].drop('r', axis=1)\n",
    "crops_total_df = df_filter(crops_total_df,3,6,[])\n",
    "df_plot(crops_total_df,'Land area (1000 sq.km.)','Area by crop')"
   ]
  },
  {
   "cell_type": "code",
   "execution_count": null,
   "metadata": {},
   "outputs": [],
   "source": [
    "land_total_df = all_params['TotalTechnologyAnnualActivity'][all_params['TotalTechnologyAnnualActivity'].t.str.startswith('LND')].drop('r', axis=1)\n",
    "land_total_df = df_filter(land_total_df,3,6,['AGR'])\n",
    "land_total_df['Agriculture'] = 0\n",
    "for each in ['Coffee','Cotton','Peanuts','Maize','Rice','Soybean','Sugarcane','Tea']:\n",
    "    if each in land_total_df:\n",
    "        land_total_df['Agriculture'] = land_total_df['Agriculture'] + land_total_df[each]\n",
    "        land_total_df = land_total_df.drop(each,axis=1)\n",
    "df_plot(land_total_df,'Land area (1000 sq.km.)','Area by land cover type')"
   ]
  },
  {
   "cell_type": "code",
   "execution_count": null,
   "metadata": {},
   "outputs": [],
   "source": [
    "for each in regions.keys():\n",
    "    crops_region_df = all_params['TotalTechnologyAnnualActivity'][all_params['TotalTechnologyAnnualActivity'].t.str.startswith('LNDCP')].drop('r', axis=1)\n",
    "    crops_region_df = crops_region_df[crops_region_df.t.str[6:7] == each]\n",
    "    crops_region_df = df_filter(crops_region_df,3,6,[])\n",
    "    df_plot(crops_region_df,'Land area (1000 sq.km.)','Area by crop (' + regions[each] + ' region)')"
   ]
  },
  {
   "cell_type": "code",
   "execution_count": null,
   "metadata": {},
   "outputs": [],
   "source": [
    "for each in regions.keys():\n",
    "    land_region_df = all_params['TotalTechnologyAnnualActivity'][all_params['TotalTechnologyAnnualActivity'].t.str.startswith('LND')].drop('r', axis=1)\n",
    "    land_region_df = land_region_df[land_region_df.t.str[6:7] == each]\n",
    "    land_region_df = df_filter(land_region_df,3,6,['AGR'])\n",
    "    land_region_df['Agriculture'] = 0\n",
    "    for crop in ['Coffee','Cotton','Peanuts','Maize','Rice','Soybean','Sugarcane','Tea']:\n",
    "        if crop in land_region_df:\n",
    "            land_region_df['Agriculture'] = land_region_df['Agriculture'] + land_region_df[crop]\n",
    "            land_region_df = land_region_df.drop(crop,axis=1)\n",
    "    df_plot(land_region_df,'Land area (1000 sq.km.)','Area by land cover type (' + regions[each] + ' region)')"
   ]
  },
  {
   "cell_type": "code",
   "execution_count": null,
   "metadata": {},
   "outputs": [],
   "source": [
    "for each in water_supply.keys():\n",
    "    crops_ws_df = all_params['TotalTechnologyAnnualActivity'][all_params['TotalTechnologyAnnualActivity'].t.str.startswith('LNDCP')].drop('r', axis=1)\n",
    "    crops_ws_df = crops_ws_df[crops_ws_df.t.str[8:9] == each]\n",
    "    crops_ws_df = df_filter(crops_ws_df,3,6,[])\n",
    "    df_plot(crops_ws_df,'Land area (1000 sq.km.)','Area by crop (' + water_supply[each] + ')')"
   ]
  },
  {
   "cell_type": "code",
   "execution_count": null,
   "metadata": {},
   "outputs": [],
   "source": [
    "crops_prod_df = all_params['ProductionByTechnologyAnnual'][all_params['ProductionByTechnologyAnnual'].f.str.startswith('CRP')].drop('r', axis=1)\n",
    "crops_prod_df['f'] = crops_prod_df['f'].str[3:6]\n",
    "crops_prod_df['value'] = crops_prod_df['value'].astype('float64').div(10)\n",
    "\n",
    "crops_prod_df = crops_prod_df.pivot_table(index='y', \n",
    "                                          columns='f',\n",
    "                                          values='value',\n",
    "                                          aggfunc='sum').reset_index().fillna(0)\n",
    "crops_prod_df = crops_prod_df.reindex(sorted(crops_prod_df.columns), axis=1).set_index('y').reset_index().rename(columns=det_col)\n",
    "crops_prod_df['y'] = years\n",
    "df_plot(crops_prod_df,'Production (Million tonnes)','Crop production')"
   ]
  },
  {
   "cell_type": "code",
   "execution_count": null,
   "metadata": {},
   "outputs": [],
   "source": [
    "crops_yield_df = crops_prod_df*10/crops_total_df\n",
    "crops_yield_df['y'] = years\n",
    "\n",
    "crops_yield_df.iplot(x='y',\n",
    "                     mode='lines+markers', \n",
    "                     xTitle='Year',\n",
    "                     yTitle='Yield (t/ha)',\n",
    "                     size=10,\n",
    "                     color=[color_dict[x] for x in crops_yield_df.columns if x != 'y'],\n",
    "                     title='Yield (tonnes/hectare)')"
   ]
  },
  {
   "cell_type": "code",
   "execution_count": null,
   "metadata": {},
   "outputs": [],
   "source": [
    "wat_dem_df = all_params['ProductionByTechnologyAnnual'][all_params['ProductionByTechnologyAnnual'].f.str[0:6].isin(['AGRWAT','PUBWAT','PWRWAT'])].drop('r', axis=1)\n",
    "wat_dem_df['f'] = wat_dem_df['f'].str[0:3]\n",
    "wat_dem_df['value'] = wat_dem_df['value'].astype('float64')\n",
    "wat_dem_df = wat_dem_df.pivot_table(index='y', \n",
    "                                          columns='f',\n",
    "                                          values='value',\n",
    "                                          aggfunc='sum').reset_index().fillna(0)"
   ]
  },
  {
   "cell_type": "code",
   "execution_count": null,
   "metadata": {},
   "outputs": [],
   "source": [
    "wat_bal_df = all_params['ProductionByTechnologyAnnual'][all_params['ProductionByTechnologyAnnual'].f.str.startswith('WTR')].drop('r', axis=1)\n",
    "wat_bal_df['f'] = wat_bal_df['f'].str[3:6]\n",
    "wat_bal_df['value'] = wat_bal_df['value'].astype('float64')\n",
    "wat_bal_df = wat_bal_df.pivot_table(index='y', \n",
    "                                          columns='f',\n",
    "                                          values='value',\n",
    "                                          aggfunc='sum').reset_index().fillna(0)\n",
    "wat_bal_df = wat_bal_df.reindex(sorted(wat_bal_df.columns), axis=1).set_index('y').reset_index().rename(columns=det_col)\n",
    "wat_bal_df['Irrigation'] = wat_dem_df['AGR']\n",
    "wat_bal_df['y'] = years\n",
    "df_plot(wat_bal_df,'Billion m3', 'Water balance')"
   ]
  }
 ],
 "metadata": {
  "kernelspec": {
   "display_name": "Python 3",
   "language": "python",
   "name": "python3"
  },
  "language_info": {
   "codemirror_mode": {
    "name": "ipython",
    "version": 3
   },
   "file_extension": ".py",
   "mimetype": "text/x-python",
   "name": "python",
   "nbconvert_exporter": "python",
   "pygments_lexer": "ipython3",
   "version": "3.7.0"
  }
 },
 "nbformat": 4,
 "nbformat_minor": 1
}
